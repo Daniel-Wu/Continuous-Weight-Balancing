{
 "cells": [
  {
   "cell_type": "markdown",
   "metadata": {},
   "source": [
    "### Imports\n"
   ]
  },
  {
   "cell_type": "code",
   "execution_count": 1,
   "metadata": {},
   "outputs": [
    {
     "data": {
      "text/plain": [
       "'/home/ad9697/anaconda3/envs/cwb/bin/python'"
      ]
     },
     "execution_count": 1,
     "metadata": {},
     "output_type": "execute_result"
    }
   ],
   "source": [
    "import sys\n",
    "sys.executable"
   ]
  },
  {
   "cell_type": "code",
   "execution_count": 2,
   "metadata": {},
   "outputs": [],
   "source": [
    "# python -m ipykernel install --user"
   ]
  },
  {
   "cell_type": "code",
   "execution_count": 5,
   "metadata": {},
   "outputs": [],
   "source": [
    "import sys\n",
    "sys.path.insert(0, '../Continuous-Weight-Balancing')\n",
    "from weight_balancing import continuous_weight\n",
    "from util import plot_cont_var\n",
    "\n",
    "import numpy as np\n",
    "import sklearn\n",
    "import pandas as pd\n",
    "from sklearn.metrics import roc_auc_score\n",
    "from pathlib import *\n",
    "from matplotlib import pyplot as plt\n",
    "from scipy import stats\n",
    "from math import pi\n",
    "\n",
    "## Sklearn models\n",
    "from sklearn.ensemble import RandomForestClassifier\n",
    "from sklearn.linear_model import LogisticRegression\n",
    "\n",
    "## Keras imports\n",
    "from keras.models import Sequential\n",
    "from keras.layers import Dense, Dropout\n",
    "from keras.callbacks import EarlyStopping, ReduceLROnPlateau\n",
    "\n",
    "\n",
    "## Bokeh plotting\n",
    "from bokeh.io import output_notebook\n",
    "from bokeh.io import show\n",
    "from bokeh.plotting import figure\n",
    "from bokeh.transform import cumsum\n",
    "from bokeh.palettes import Spectral6\n",
    "from bokeh.models import ColumnDataSource\n",
    "from bokeh.layouts import gridplot\n"
   ]
  },
  {
   "cell_type": "code",
   "execution_count": 6,
   "metadata": {},
   "outputs": [],
   "source": [
    "#### Constants ####\n",
    "\n",
    "SEED = 42\n",
    "N_ESTIMATORS = 200 # Random Forest"
   ]
  },
  {
   "cell_type": "code",
   "execution_count": 7,
   "metadata": {},
   "outputs": [
    {
     "data": {
      "text/html": [
       "\n",
       "    <div class=\"bk-root\">\n",
       "        <a href=\"https://bokeh.org\" target=\"_blank\" class=\"bk-logo bk-logo-small bk-logo-notebook\"></a>\n",
       "        <span id=\"1001\">Loading BokehJS ...</span>\n",
       "    </div>"
      ]
     },
     "metadata": {},
     "output_type": "display_data"
    },
    {
     "data": {
      "application/javascript": [
       "\n",
       "(function(root) {\n",
       "  function now() {\n",
       "    return new Date();\n",
       "  }\n",
       "\n",
       "  var force = true;\n",
       "\n",
       "  if (typeof root._bokeh_onload_callbacks === \"undefined\" || force === true) {\n",
       "    root._bokeh_onload_callbacks = [];\n",
       "    root._bokeh_is_loading = undefined;\n",
       "  }\n",
       "\n",
       "  var JS_MIME_TYPE = 'application/javascript';\n",
       "  var HTML_MIME_TYPE = 'text/html';\n",
       "  var EXEC_MIME_TYPE = 'application/vnd.bokehjs_exec.v0+json';\n",
       "  var CLASS_NAME = 'output_bokeh rendered_html';\n",
       "\n",
       "  /**\n",
       "   * Render data to the DOM node\n",
       "   */\n",
       "  function render(props, node) {\n",
       "    var script = document.createElement(\"script\");\n",
       "    node.appendChild(script);\n",
       "  }\n",
       "\n",
       "  /**\n",
       "   * Handle when an output is cleared or removed\n",
       "   */\n",
       "  function handleClearOutput(event, handle) {\n",
       "    var cell = handle.cell;\n",
       "\n",
       "    var id = cell.output_area._bokeh_element_id;\n",
       "    var server_id = cell.output_area._bokeh_server_id;\n",
       "    // Clean up Bokeh references\n",
       "    if (id != null && id in Bokeh.index) {\n",
       "      Bokeh.index[id].model.document.clear();\n",
       "      delete Bokeh.index[id];\n",
       "    }\n",
       "\n",
       "    if (server_id !== undefined) {\n",
       "      // Clean up Bokeh references\n",
       "      var cmd = \"from bokeh.io.state import curstate; print(curstate().uuid_to_server['\" + server_id + \"'].get_sessions()[0].document.roots[0]._id)\";\n",
       "      cell.notebook.kernel.execute(cmd, {\n",
       "        iopub: {\n",
       "          output: function(msg) {\n",
       "            var id = msg.content.text.trim();\n",
       "            if (id in Bokeh.index) {\n",
       "              Bokeh.index[id].model.document.clear();\n",
       "              delete Bokeh.index[id];\n",
       "            }\n",
       "          }\n",
       "        }\n",
       "      });\n",
       "      // Destroy server and session\n",
       "      var cmd = \"import bokeh.io.notebook as ion; ion.destroy_server('\" + server_id + \"')\";\n",
       "      cell.notebook.kernel.execute(cmd);\n",
       "    }\n",
       "  }\n",
       "\n",
       "  /**\n",
       "   * Handle when a new output is added\n",
       "   */\n",
       "  function handleAddOutput(event, handle) {\n",
       "    var output_area = handle.output_area;\n",
       "    var output = handle.output;\n",
       "\n",
       "    // limit handleAddOutput to display_data with EXEC_MIME_TYPE content only\n",
       "    if ((output.output_type != \"display_data\") || (!output.data.hasOwnProperty(EXEC_MIME_TYPE))) {\n",
       "      return\n",
       "    }\n",
       "\n",
       "    var toinsert = output_area.element.find(\".\" + CLASS_NAME.split(' ')[0]);\n",
       "\n",
       "    if (output.metadata[EXEC_MIME_TYPE][\"id\"] !== undefined) {\n",
       "      toinsert[toinsert.length - 1].firstChild.textContent = output.data[JS_MIME_TYPE];\n",
       "      // store reference to embed id on output_area\n",
       "      output_area._bokeh_element_id = output.metadata[EXEC_MIME_TYPE][\"id\"];\n",
       "    }\n",
       "    if (output.metadata[EXEC_MIME_TYPE][\"server_id\"] !== undefined) {\n",
       "      var bk_div = document.createElement(\"div\");\n",
       "      bk_div.innerHTML = output.data[HTML_MIME_TYPE];\n",
       "      var script_attrs = bk_div.children[0].attributes;\n",
       "      for (var i = 0; i < script_attrs.length; i++) {\n",
       "        toinsert[toinsert.length - 1].firstChild.setAttribute(script_attrs[i].name, script_attrs[i].value);\n",
       "        toinsert[toinsert.length - 1].firstChild.textContent = bk_div.children[0].textContent\n",
       "      }\n",
       "      // store reference to server id on output_area\n",
       "      output_area._bokeh_server_id = output.metadata[EXEC_MIME_TYPE][\"server_id\"];\n",
       "    }\n",
       "  }\n",
       "\n",
       "  function register_renderer(events, OutputArea) {\n",
       "\n",
       "    function append_mime(data, metadata, element) {\n",
       "      // create a DOM node to render to\n",
       "      var toinsert = this.create_output_subarea(\n",
       "        metadata,\n",
       "        CLASS_NAME,\n",
       "        EXEC_MIME_TYPE\n",
       "      );\n",
       "      this.keyboard_manager.register_events(toinsert);\n",
       "      // Render to node\n",
       "      var props = {data: data, metadata: metadata[EXEC_MIME_TYPE]};\n",
       "      render(props, toinsert[toinsert.length - 1]);\n",
       "      element.append(toinsert);\n",
       "      return toinsert\n",
       "    }\n",
       "\n",
       "    /* Handle when an output is cleared or removed */\n",
       "    events.on('clear_output.CodeCell', handleClearOutput);\n",
       "    events.on('delete.Cell', handleClearOutput);\n",
       "\n",
       "    /* Handle when a new output is added */\n",
       "    events.on('output_added.OutputArea', handleAddOutput);\n",
       "\n",
       "    /**\n",
       "     * Register the mime type and append_mime function with output_area\n",
       "     */\n",
       "    OutputArea.prototype.register_mime_type(EXEC_MIME_TYPE, append_mime, {\n",
       "      /* Is output safe? */\n",
       "      safe: true,\n",
       "      /* Index of renderer in `output_area.display_order` */\n",
       "      index: 0\n",
       "    });\n",
       "  }\n",
       "\n",
       "  // register the mime type if in Jupyter Notebook environment and previously unregistered\n",
       "  if (root.Jupyter !== undefined) {\n",
       "    var events = require('base/js/events');\n",
       "    var OutputArea = require('notebook/js/outputarea').OutputArea;\n",
       "\n",
       "    if (OutputArea.prototype.mime_types().indexOf(EXEC_MIME_TYPE) == -1) {\n",
       "      register_renderer(events, OutputArea);\n",
       "    }\n",
       "  }\n",
       "\n",
       "  \n",
       "  if (typeof (root._bokeh_timeout) === \"undefined\" || force === true) {\n",
       "    root._bokeh_timeout = Date.now() + 5000;\n",
       "    root._bokeh_failed_load = false;\n",
       "  }\n",
       "\n",
       "  var NB_LOAD_WARNING = {'data': {'text/html':\n",
       "     \"<div style='background-color: #fdd'>\\n\"+\n",
       "     \"<p>\\n\"+\n",
       "     \"BokehJS does not appear to have successfully loaded. If loading BokehJS from CDN, this \\n\"+\n",
       "     \"may be due to a slow or bad network connection. Possible fixes:\\n\"+\n",
       "     \"</p>\\n\"+\n",
       "     \"<ul>\\n\"+\n",
       "     \"<li>re-rerun `output_notebook()` to attempt to load from CDN again, or</li>\\n\"+\n",
       "     \"<li>use INLINE resources instead, as so:</li>\\n\"+\n",
       "     \"</ul>\\n\"+\n",
       "     \"<code>\\n\"+\n",
       "     \"from bokeh.resources import INLINE\\n\"+\n",
       "     \"output_notebook(resources=INLINE)\\n\"+\n",
       "     \"</code>\\n\"+\n",
       "     \"</div>\"}};\n",
       "\n",
       "  function display_loaded() {\n",
       "    var el = document.getElementById(\"1001\");\n",
       "    if (el != null) {\n",
       "      el.textContent = \"BokehJS is loading...\";\n",
       "    }\n",
       "    if (root.Bokeh !== undefined) {\n",
       "      if (el != null) {\n",
       "        el.textContent = \"BokehJS \" + root.Bokeh.version + \" successfully loaded.\";\n",
       "      }\n",
       "    } else if (Date.now() < root._bokeh_timeout) {\n",
       "      setTimeout(display_loaded, 100)\n",
       "    }\n",
       "  }\n",
       "\n",
       "\n",
       "  function run_callbacks() {\n",
       "    try {\n",
       "      root._bokeh_onload_callbacks.forEach(function(callback) {\n",
       "        if (callback != null)\n",
       "          callback();\n",
       "      });\n",
       "    } finally {\n",
       "      delete root._bokeh_onload_callbacks\n",
       "    }\n",
       "    console.debug(\"Bokeh: all callbacks have finished\");\n",
       "  }\n",
       "\n",
       "  function load_libs(css_urls, js_urls, callback) {\n",
       "    if (css_urls == null) css_urls = [];\n",
       "    if (js_urls == null) js_urls = [];\n",
       "\n",
       "    root._bokeh_onload_callbacks.push(callback);\n",
       "    if (root._bokeh_is_loading > 0) {\n",
       "      console.debug(\"Bokeh: BokehJS is being loaded, scheduling callback at\", now());\n",
       "      return null;\n",
       "    }\n",
       "    if (js_urls == null || js_urls.length === 0) {\n",
       "      run_callbacks();\n",
       "      return null;\n",
       "    }\n",
       "    console.debug(\"Bokeh: BokehJS not loaded, scheduling load and callback at\", now());\n",
       "    root._bokeh_is_loading = css_urls.length + js_urls.length;\n",
       "\n",
       "    function on_load() {\n",
       "      root._bokeh_is_loading--;\n",
       "      if (root._bokeh_is_loading === 0) {\n",
       "        console.debug(\"Bokeh: all BokehJS libraries/stylesheets loaded\");\n",
       "        run_callbacks()\n",
       "      }\n",
       "    }\n",
       "\n",
       "    function on_error() {\n",
       "      console.error(\"failed to load \" + url);\n",
       "    }\n",
       "\n",
       "    for (var i = 0; i < css_urls.length; i++) {\n",
       "      var url = css_urls[i];\n",
       "      const element = document.createElement(\"link\");\n",
       "      element.onload = on_load;\n",
       "      element.onerror = on_error;\n",
       "      element.rel = \"stylesheet\";\n",
       "      element.type = \"text/css\";\n",
       "      element.href = url;\n",
       "      console.debug(\"Bokeh: injecting link tag for BokehJS stylesheet: \", url);\n",
       "      document.body.appendChild(element);\n",
       "    }\n",
       "\n",
       "    const hashes = {\"https://cdn.bokeh.org/bokeh/release/bokeh-2.2.3.min.js\": \"T2yuo9Oe71Cz/I4X9Ac5+gpEa5a8PpJCDlqKYO0CfAuEszu1JrXLl8YugMqYe3sM\", \"https://cdn.bokeh.org/bokeh/release/bokeh-widgets-2.2.3.min.js\": \"98GDGJ0kOMCUMUePhksaQ/GYgB3+NH9h996V88sh3aOiUNX3N+fLXAtry6xctSZ6\", \"https://cdn.bokeh.org/bokeh/release/bokeh-tables-2.2.3.min.js\": \"89bArO+nlbP3sgakeHjCo1JYxYR5wufVgA3IbUvDY+K7w4zyxJqssu7wVnfeKCq8\"};\n",
       "\n",
       "    for (var i = 0; i < js_urls.length; i++) {\n",
       "      var url = js_urls[i];\n",
       "      var element = document.createElement('script');\n",
       "      element.onload = on_load;\n",
       "      element.onerror = on_error;\n",
       "      element.async = false;\n",
       "      element.src = url;\n",
       "      if (url in hashes) {\n",
       "        element.crossOrigin = \"anonymous\";\n",
       "        element.integrity = \"sha384-\" + hashes[url];\n",
       "      }\n",
       "      console.debug(\"Bokeh: injecting script tag for BokehJS library: \", url);\n",
       "      document.head.appendChild(element);\n",
       "    }\n",
       "  };\n",
       "\n",
       "  function inject_raw_css(css) {\n",
       "    const element = document.createElement(\"style\");\n",
       "    element.appendChild(document.createTextNode(css));\n",
       "    document.body.appendChild(element);\n",
       "  }\n",
       "\n",
       "  \n",
       "  var js_urls = [\"https://cdn.bokeh.org/bokeh/release/bokeh-2.2.3.min.js\", \"https://cdn.bokeh.org/bokeh/release/bokeh-widgets-2.2.3.min.js\", \"https://cdn.bokeh.org/bokeh/release/bokeh-tables-2.2.3.min.js\"];\n",
       "  var css_urls = [];\n",
       "  \n",
       "\n",
       "  var inline_js = [\n",
       "    function(Bokeh) {\n",
       "      Bokeh.set_log_level(\"info\");\n",
       "    },\n",
       "    function(Bokeh) {\n",
       "    \n",
       "    \n",
       "    }\n",
       "  ];\n",
       "\n",
       "  function run_inline_js() {\n",
       "    \n",
       "    if (root.Bokeh !== undefined || force === true) {\n",
       "      \n",
       "    for (var i = 0; i < inline_js.length; i++) {\n",
       "      inline_js[i].call(root, root.Bokeh);\n",
       "    }\n",
       "    if (force === true) {\n",
       "        display_loaded();\n",
       "      }} else if (Date.now() < root._bokeh_timeout) {\n",
       "      setTimeout(run_inline_js, 100);\n",
       "    } else if (!root._bokeh_failed_load) {\n",
       "      console.log(\"Bokeh: BokehJS failed to load within specified timeout.\");\n",
       "      root._bokeh_failed_load = true;\n",
       "    } else if (force !== true) {\n",
       "      var cell = $(document.getElementById(\"1001\")).parents('.cell').data().cell;\n",
       "      cell.output_area.append_execute_result(NB_LOAD_WARNING)\n",
       "    }\n",
       "\n",
       "  }\n",
       "\n",
       "  if (root._bokeh_is_loading === 0) {\n",
       "    console.debug(\"Bokeh: BokehJS loaded, going straight to plotting\");\n",
       "    run_inline_js();\n",
       "  } else {\n",
       "    load_libs(css_urls, js_urls, function() {\n",
       "      console.debug(\"Bokeh: BokehJS plotting callback run at\", now());\n",
       "      run_inline_js();\n",
       "    });\n",
       "  }\n",
       "}(window));"
      ],
      "application/vnd.bokehjs_load.v0+json": "\n(function(root) {\n  function now() {\n    return new Date();\n  }\n\n  var force = true;\n\n  if (typeof root._bokeh_onload_callbacks === \"undefined\" || force === true) {\n    root._bokeh_onload_callbacks = [];\n    root._bokeh_is_loading = undefined;\n  }\n\n  \n\n  \n  if (typeof (root._bokeh_timeout) === \"undefined\" || force === true) {\n    root._bokeh_timeout = Date.now() + 5000;\n    root._bokeh_failed_load = false;\n  }\n\n  var NB_LOAD_WARNING = {'data': {'text/html':\n     \"<div style='background-color: #fdd'>\\n\"+\n     \"<p>\\n\"+\n     \"BokehJS does not appear to have successfully loaded. If loading BokehJS from CDN, this \\n\"+\n     \"may be due to a slow or bad network connection. Possible fixes:\\n\"+\n     \"</p>\\n\"+\n     \"<ul>\\n\"+\n     \"<li>re-rerun `output_notebook()` to attempt to load from CDN again, or</li>\\n\"+\n     \"<li>use INLINE resources instead, as so:</li>\\n\"+\n     \"</ul>\\n\"+\n     \"<code>\\n\"+\n     \"from bokeh.resources import INLINE\\n\"+\n     \"output_notebook(resources=INLINE)\\n\"+\n     \"</code>\\n\"+\n     \"</div>\"}};\n\n  function display_loaded() {\n    var el = document.getElementById(\"1001\");\n    if (el != null) {\n      el.textContent = \"BokehJS is loading...\";\n    }\n    if (root.Bokeh !== undefined) {\n      if (el != null) {\n        el.textContent = \"BokehJS \" + root.Bokeh.version + \" successfully loaded.\";\n      }\n    } else if (Date.now() < root._bokeh_timeout) {\n      setTimeout(display_loaded, 100)\n    }\n  }\n\n\n  function run_callbacks() {\n    try {\n      root._bokeh_onload_callbacks.forEach(function(callback) {\n        if (callback != null)\n          callback();\n      });\n    } finally {\n      delete root._bokeh_onload_callbacks\n    }\n    console.debug(\"Bokeh: all callbacks have finished\");\n  }\n\n  function load_libs(css_urls, js_urls, callback) {\n    if (css_urls == null) css_urls = [];\n    if (js_urls == null) js_urls = [];\n\n    root._bokeh_onload_callbacks.push(callback);\n    if (root._bokeh_is_loading > 0) {\n      console.debug(\"Bokeh: BokehJS is being loaded, scheduling callback at\", now());\n      return null;\n    }\n    if (js_urls == null || js_urls.length === 0) {\n      run_callbacks();\n      return null;\n    }\n    console.debug(\"Bokeh: BokehJS not loaded, scheduling load and callback at\", now());\n    root._bokeh_is_loading = css_urls.length + js_urls.length;\n\n    function on_load() {\n      root._bokeh_is_loading--;\n      if (root._bokeh_is_loading === 0) {\n        console.debug(\"Bokeh: all BokehJS libraries/stylesheets loaded\");\n        run_callbacks()\n      }\n    }\n\n    function on_error() {\n      console.error(\"failed to load \" + url);\n    }\n\n    for (var i = 0; i < css_urls.length; i++) {\n      var url = css_urls[i];\n      const element = document.createElement(\"link\");\n      element.onload = on_load;\n      element.onerror = on_error;\n      element.rel = \"stylesheet\";\n      element.type = \"text/css\";\n      element.href = url;\n      console.debug(\"Bokeh: injecting link tag for BokehJS stylesheet: \", url);\n      document.body.appendChild(element);\n    }\n\n    const hashes = {\"https://cdn.bokeh.org/bokeh/release/bokeh-2.2.3.min.js\": \"T2yuo9Oe71Cz/I4X9Ac5+gpEa5a8PpJCDlqKYO0CfAuEszu1JrXLl8YugMqYe3sM\", \"https://cdn.bokeh.org/bokeh/release/bokeh-widgets-2.2.3.min.js\": \"98GDGJ0kOMCUMUePhksaQ/GYgB3+NH9h996V88sh3aOiUNX3N+fLXAtry6xctSZ6\", \"https://cdn.bokeh.org/bokeh/release/bokeh-tables-2.2.3.min.js\": \"89bArO+nlbP3sgakeHjCo1JYxYR5wufVgA3IbUvDY+K7w4zyxJqssu7wVnfeKCq8\"};\n\n    for (var i = 0; i < js_urls.length; i++) {\n      var url = js_urls[i];\n      var element = document.createElement('script');\n      element.onload = on_load;\n      element.onerror = on_error;\n      element.async = false;\n      element.src = url;\n      if (url in hashes) {\n        element.crossOrigin = \"anonymous\";\n        element.integrity = \"sha384-\" + hashes[url];\n      }\n      console.debug(\"Bokeh: injecting script tag for BokehJS library: \", url);\n      document.head.appendChild(element);\n    }\n  };\n\n  function inject_raw_css(css) {\n    const element = document.createElement(\"style\");\n    element.appendChild(document.createTextNode(css));\n    document.body.appendChild(element);\n  }\n\n  \n  var js_urls = [\"https://cdn.bokeh.org/bokeh/release/bokeh-2.2.3.min.js\", \"https://cdn.bokeh.org/bokeh/release/bokeh-widgets-2.2.3.min.js\", \"https://cdn.bokeh.org/bokeh/release/bokeh-tables-2.2.3.min.js\"];\n  var css_urls = [];\n  \n\n  var inline_js = [\n    function(Bokeh) {\n      Bokeh.set_log_level(\"info\");\n    },\n    function(Bokeh) {\n    \n    \n    }\n  ];\n\n  function run_inline_js() {\n    \n    if (root.Bokeh !== undefined || force === true) {\n      \n    for (var i = 0; i < inline_js.length; i++) {\n      inline_js[i].call(root, root.Bokeh);\n    }\n    if (force === true) {\n        display_loaded();\n      }} else if (Date.now() < root._bokeh_timeout) {\n      setTimeout(run_inline_js, 100);\n    } else if (!root._bokeh_failed_load) {\n      console.log(\"Bokeh: BokehJS failed to load within specified timeout.\");\n      root._bokeh_failed_load = true;\n    } else if (force !== true) {\n      var cell = $(document.getElementById(\"1001\")).parents('.cell').data().cell;\n      cell.output_area.append_execute_result(NB_LOAD_WARNING)\n    }\n\n  }\n\n  if (root._bokeh_is_loading === 0) {\n    console.debug(\"Bokeh: BokehJS loaded, going straight to plotting\");\n    run_inline_js();\n  } else {\n    load_libs(css_urls, js_urls, function() {\n      console.debug(\"Bokeh: BokehJS plotting callback run at\", now());\n      run_inline_js();\n    });\n  }\n}(window));"
     },
     "metadata": {},
     "output_type": "display_data"
    }
   ],
   "source": [
    "output_notebook()"
   ]
  },
  {
   "cell_type": "code",
   "execution_count": 8,
   "metadata": {},
   "outputs": [
    {
     "name": "stdout",
     "output_type": "stream",
     "text": [
      "/home/ad9697/anaconda3/envs/cwb/bin/python\r\n"
     ]
    }
   ],
   "source": [
    "!which python"
   ]
  },
  {
   "cell_type": "markdown",
   "metadata": {},
   "source": [
    "## Understand the Heart Disease data "
   ]
  },
  {
   "cell_type": "code",
   "execution_count": 7,
   "metadata": {},
   "outputs": [
    {
     "data": {
      "text/html": [
       "<div>\n",
       "<style scoped>\n",
       "    .dataframe tbody tr th:only-of-type {\n",
       "        vertical-align: middle;\n",
       "    }\n",
       "\n",
       "    .dataframe tbody tr th {\n",
       "        vertical-align: top;\n",
       "    }\n",
       "\n",
       "    .dataframe thead th {\n",
       "        text-align: right;\n",
       "    }\n",
       "</style>\n",
       "<table border=\"1\" class=\"dataframe\">\n",
       "  <thead>\n",
       "    <tr style=\"text-align: right;\">\n",
       "      <th></th>\n",
       "      <th>age</th>\n",
       "      <th>sex</th>\n",
       "      <th>cp</th>\n",
       "      <th>trestbps</th>\n",
       "      <th>chol</th>\n",
       "      <th>fbs</th>\n",
       "      <th>restecg</th>\n",
       "      <th>thalach</th>\n",
       "      <th>exang</th>\n",
       "      <th>oldpeak</th>\n",
       "      <th>slope</th>\n",
       "      <th>ca</th>\n",
       "      <th>thal</th>\n",
       "      <th>target</th>\n",
       "    </tr>\n",
       "  </thead>\n",
       "  <tbody>\n",
       "    <tr>\n",
       "      <th>0</th>\n",
       "      <td>63</td>\n",
       "      <td>1</td>\n",
       "      <td>3</td>\n",
       "      <td>145</td>\n",
       "      <td>233</td>\n",
       "      <td>1</td>\n",
       "      <td>0</td>\n",
       "      <td>150</td>\n",
       "      <td>0</td>\n",
       "      <td>2.3</td>\n",
       "      <td>0</td>\n",
       "      <td>0</td>\n",
       "      <td>1</td>\n",
       "      <td>1</td>\n",
       "    </tr>\n",
       "    <tr>\n",
       "      <th>1</th>\n",
       "      <td>37</td>\n",
       "      <td>1</td>\n",
       "      <td>2</td>\n",
       "      <td>130</td>\n",
       "      <td>250</td>\n",
       "      <td>0</td>\n",
       "      <td>1</td>\n",
       "      <td>187</td>\n",
       "      <td>0</td>\n",
       "      <td>3.5</td>\n",
       "      <td>0</td>\n",
       "      <td>0</td>\n",
       "      <td>2</td>\n",
       "      <td>1</td>\n",
       "    </tr>\n",
       "    <tr>\n",
       "      <th>2</th>\n",
       "      <td>41</td>\n",
       "      <td>0</td>\n",
       "      <td>1</td>\n",
       "      <td>130</td>\n",
       "      <td>204</td>\n",
       "      <td>0</td>\n",
       "      <td>0</td>\n",
       "      <td>172</td>\n",
       "      <td>0</td>\n",
       "      <td>1.4</td>\n",
       "      <td>2</td>\n",
       "      <td>0</td>\n",
       "      <td>2</td>\n",
       "      <td>1</td>\n",
       "    </tr>\n",
       "    <tr>\n",
       "      <th>3</th>\n",
       "      <td>56</td>\n",
       "      <td>1</td>\n",
       "      <td>1</td>\n",
       "      <td>120</td>\n",
       "      <td>236</td>\n",
       "      <td>0</td>\n",
       "      <td>1</td>\n",
       "      <td>178</td>\n",
       "      <td>0</td>\n",
       "      <td>0.8</td>\n",
       "      <td>2</td>\n",
       "      <td>0</td>\n",
       "      <td>2</td>\n",
       "      <td>1</td>\n",
       "    </tr>\n",
       "    <tr>\n",
       "      <th>4</th>\n",
       "      <td>57</td>\n",
       "      <td>0</td>\n",
       "      <td>0</td>\n",
       "      <td>120</td>\n",
       "      <td>354</td>\n",
       "      <td>0</td>\n",
       "      <td>1</td>\n",
       "      <td>163</td>\n",
       "      <td>1</td>\n",
       "      <td>0.6</td>\n",
       "      <td>2</td>\n",
       "      <td>0</td>\n",
       "      <td>2</td>\n",
       "      <td>1</td>\n",
       "    </tr>\n",
       "    <tr>\n",
       "      <th>5</th>\n",
       "      <td>57</td>\n",
       "      <td>1</td>\n",
       "      <td>0</td>\n",
       "      <td>140</td>\n",
       "      <td>192</td>\n",
       "      <td>0</td>\n",
       "      <td>1</td>\n",
       "      <td>148</td>\n",
       "      <td>0</td>\n",
       "      <td>0.4</td>\n",
       "      <td>1</td>\n",
       "      <td>0</td>\n",
       "      <td>1</td>\n",
       "      <td>1</td>\n",
       "    </tr>\n",
       "    <tr>\n",
       "      <th>6</th>\n",
       "      <td>56</td>\n",
       "      <td>0</td>\n",
       "      <td>1</td>\n",
       "      <td>140</td>\n",
       "      <td>294</td>\n",
       "      <td>0</td>\n",
       "      <td>0</td>\n",
       "      <td>153</td>\n",
       "      <td>0</td>\n",
       "      <td>1.3</td>\n",
       "      <td>1</td>\n",
       "      <td>0</td>\n",
       "      <td>2</td>\n",
       "      <td>1</td>\n",
       "    </tr>\n",
       "    <tr>\n",
       "      <th>7</th>\n",
       "      <td>44</td>\n",
       "      <td>1</td>\n",
       "      <td>1</td>\n",
       "      <td>120</td>\n",
       "      <td>263</td>\n",
       "      <td>0</td>\n",
       "      <td>1</td>\n",
       "      <td>173</td>\n",
       "      <td>0</td>\n",
       "      <td>0.0</td>\n",
       "      <td>2</td>\n",
       "      <td>0</td>\n",
       "      <td>3</td>\n",
       "      <td>1</td>\n",
       "    </tr>\n",
       "    <tr>\n",
       "      <th>8</th>\n",
       "      <td>52</td>\n",
       "      <td>1</td>\n",
       "      <td>2</td>\n",
       "      <td>172</td>\n",
       "      <td>199</td>\n",
       "      <td>1</td>\n",
       "      <td>1</td>\n",
       "      <td>162</td>\n",
       "      <td>0</td>\n",
       "      <td>0.5</td>\n",
       "      <td>2</td>\n",
       "      <td>0</td>\n",
       "      <td>3</td>\n",
       "      <td>1</td>\n",
       "    </tr>\n",
       "    <tr>\n",
       "      <th>9</th>\n",
       "      <td>57</td>\n",
       "      <td>1</td>\n",
       "      <td>2</td>\n",
       "      <td>150</td>\n",
       "      <td>168</td>\n",
       "      <td>0</td>\n",
       "      <td>1</td>\n",
       "      <td>174</td>\n",
       "      <td>0</td>\n",
       "      <td>1.6</td>\n",
       "      <td>2</td>\n",
       "      <td>0</td>\n",
       "      <td>2</td>\n",
       "      <td>1</td>\n",
       "    </tr>\n",
       "  </tbody>\n",
       "</table>\n",
       "</div>"
      ],
      "text/plain": [
       "   age  sex  cp  trestbps  chol  fbs  restecg  thalach  exang  oldpeak  slope  \\\n",
       "0   63    1   3       145   233    1        0      150      0      2.3      0   \n",
       "1   37    1   2       130   250    0        1      187      0      3.5      0   \n",
       "2   41    0   1       130   204    0        0      172      0      1.4      2   \n",
       "3   56    1   1       120   236    0        1      178      0      0.8      2   \n",
       "4   57    0   0       120   354    0        1      163      1      0.6      2   \n",
       "5   57    1   0       140   192    0        1      148      0      0.4      1   \n",
       "6   56    0   1       140   294    0        0      153      0      1.3      1   \n",
       "7   44    1   1       120   263    0        1      173      0      0.0      2   \n",
       "8   52    1   2       172   199    1        1      162      0      0.5      2   \n",
       "9   57    1   2       150   168    0        1      174      0      1.6      2   \n",
       "\n",
       "   ca  thal  target  \n",
       "0   0     1       1  \n",
       "1   0     2       1  \n",
       "2   0     2       1  \n",
       "3   0     2       1  \n",
       "4   0     2       1  \n",
       "5   0     1       1  \n",
       "6   0     2       1  \n",
       "7   0     3       1  \n",
       "8   0     3       1  \n",
       "9   0     2       1  "
      ]
     },
     "execution_count": 7,
     "metadata": {},
     "output_type": "execute_result"
    }
   ],
   "source": [
    "df = pd.read_csv('../data/hd/data.csv')\n",
    "df.head(10)"
   ]
  },
  {
   "cell_type": "markdown",
   "metadata": {},
   "source": [
    "Let's have a look at what each of these columns means:\n",
    "\n",
    "1. **age** -> Age of the person.\n",
    "2. **sex** -> Sex of the person.  (1 = male; 0 = female)\n",
    "3. **cp** -> Chest Pain Type. It can take values of 0, 1, 2, 3.\n",
    "4. **trestbps** -> Resting Blood Presssure (Measured in mm Hg on admission to the hospital). It can take continuous values from 94 to 200.  \n",
    "5. **chol** -> Serum Cholestrol in mg/dl. It also takes continuous values.\n",
    "6. **fbs** -> Fasting Blood Sugar. It can take value of either 1 or 0.\n",
    "7. **restecg** -> Resting Electrocardiographic Results. It can take value of 0, 1 or 2.\n",
    "8. **thalach** -> Maximum Heart Rate achieved. It can take continuous value from 71 to 202.\n",
    "9. **exang** -> Exercise Induced Angina. It can take value either of 0 or 1.\n",
    "10. **oldpeak** -> ST depression induced by exercise relative to rest. It takes continuous decimal values.\n",
    "11. **slope** -> the slope of the peak exercise ST segment. It can take value of either 0, 1 or 2.\n",
    "12. **ca** -> Number of major vessels colored by flourosopy. It can take value of either 0, 1, 2, 3 or 4. \n",
    "13. **thal** -> 3 = normal; 6 = fixed defect; 7 = reversable defect\n",
    "14. **target** -> Indicates the presence or absence of heart disease. (= the predicted attribute)"
   ]
  },
  {
   "cell_type": "code",
   "execution_count": 24,
   "metadata": {},
   "outputs": [
    {
     "name": "stderr",
     "output_type": "stream",
     "text": [
      "BokehUserWarning: ColumnDataSource's columns must be of the same length. Current lengths: ('Target', 2), ('color', 6), ('counts', 2)\n"
     ]
    },
    {
     "data": {
      "text/html": [
       "<div style=\"display: table;\"><div style=\"display: table-row;\"><div style=\"display: table-cell;\"><b title=\"bokeh.models.renderers.GlyphRenderer\">GlyphRenderer</b>(</div><div style=\"display: table-cell;\">id&nbsp;=&nbsp;'2173', <span id=\"2176\" style=\"cursor: pointer;\">&hellip;)</span></div></div><div class=\"2175\" style=\"display: none;\"><div style=\"display: table-cell;\"></div><div style=\"display: table-cell;\">data_source&nbsp;=&nbsp;ColumnDataSource(id='2148', ...),</div></div><div class=\"2175\" style=\"display: none;\"><div style=\"display: table-cell;\"></div><div style=\"display: table-cell;\">glyph&nbsp;=&nbsp;VBar(id='2171', ...),</div></div><div class=\"2175\" style=\"display: none;\"><div style=\"display: table-cell;\"></div><div style=\"display: table-cell;\">hover_glyph&nbsp;=&nbsp;None,</div></div><div class=\"2175\" style=\"display: none;\"><div style=\"display: table-cell;\"></div><div style=\"display: table-cell;\">js_event_callbacks&nbsp;=&nbsp;{},</div></div><div class=\"2175\" style=\"display: none;\"><div style=\"display: table-cell;\"></div><div style=\"display: table-cell;\">js_property_callbacks&nbsp;=&nbsp;{},</div></div><div class=\"2175\" style=\"display: none;\"><div style=\"display: table-cell;\"></div><div style=\"display: table-cell;\">level&nbsp;=&nbsp;'glyph',</div></div><div class=\"2175\" style=\"display: none;\"><div style=\"display: table-cell;\"></div><div style=\"display: table-cell;\">muted&nbsp;=&nbsp;False,</div></div><div class=\"2175\" style=\"display: none;\"><div style=\"display: table-cell;\"></div><div style=\"display: table-cell;\">muted_glyph&nbsp;=&nbsp;None,</div></div><div class=\"2175\" style=\"display: none;\"><div style=\"display: table-cell;\"></div><div style=\"display: table-cell;\">name&nbsp;=&nbsp;None,</div></div><div class=\"2175\" style=\"display: none;\"><div style=\"display: table-cell;\"></div><div style=\"display: table-cell;\">nonselection_glyph&nbsp;=&nbsp;VBar(id='2172', ...),</div></div><div class=\"2175\" style=\"display: none;\"><div style=\"display: table-cell;\"></div><div style=\"display: table-cell;\">selection_glyph&nbsp;=&nbsp;None,</div></div><div class=\"2175\" style=\"display: none;\"><div style=\"display: table-cell;\"></div><div style=\"display: table-cell;\">subscribed_events&nbsp;=&nbsp;[],</div></div><div class=\"2175\" style=\"display: none;\"><div style=\"display: table-cell;\"></div><div style=\"display: table-cell;\">tags&nbsp;=&nbsp;[],</div></div><div class=\"2175\" style=\"display: none;\"><div style=\"display: table-cell;\"></div><div style=\"display: table-cell;\">view&nbsp;=&nbsp;CDSView(id='2174', ...),</div></div><div class=\"2175\" style=\"display: none;\"><div style=\"display: table-cell;\"></div><div style=\"display: table-cell;\">visible&nbsp;=&nbsp;True,</div></div><div class=\"2175\" style=\"display: none;\"><div style=\"display: table-cell;\"></div><div style=\"display: table-cell;\">x_range_name&nbsp;=&nbsp;'default',</div></div><div class=\"2175\" style=\"display: none;\"><div style=\"display: table-cell;\"></div><div style=\"display: table-cell;\">y_range_name&nbsp;=&nbsp;'default')</div></div></div>\n",
       "<script>\n",
       "(function() {\n",
       "  var expanded = false;\n",
       "  var ellipsis = document.getElementById(\"2176\");\n",
       "  ellipsis.addEventListener(\"click\", function() {\n",
       "    var rows = document.getElementsByClassName(\"2175\");\n",
       "    for (var i = 0; i < rows.length; i++) {\n",
       "      var el = rows[i];\n",
       "      el.style.display = expanded ? \"none\" : \"table-row\";\n",
       "    }\n",
       "    ellipsis.innerHTML = expanded ? \"&hellip;)\" : \"&lsaquo;&lsaquo;&lsaquo;\";\n",
       "    expanded = !expanded;\n",
       "  });\n",
       "})();\n",
       "</script>\n"
      ],
      "text/plain": [
       "GlyphRenderer(id='2173', ...)"
      ]
     },
     "execution_count": 24,
     "metadata": {},
     "output_type": "execute_result"
    }
   ],
   "source": [
    "# unique, counts = np.unique(df['target'].values)\n",
    "unique = [\"0\", '1']\n",
    "\n",
    "top = [df['target'].value_counts()[0], df['target'].value_counts()[1]]\n",
    "source = ColumnDataSource(data = dict(Target = unique, counts = top, color = Spectral6))\n",
    "\n",
    "p = figure(\n",
    "    x_range = unique,\n",
    "    plot_height = 500,\n",
    "    plot_width = 500,\n",
    "    x_axis_label = 'Target',\n",
    "    y_axis_label = 'Count(Target)',\n",
    "    title = 'Count of People Having Heart Disease and Not Having Heart Disease',\n",
    "    tools = \"hover\", tooltips=\"@Target: @counts\"\n",
    ")\n",
    "\n",
    "p.vbar(\n",
    "    x = 'Target',\n",
    "    top = 'counts',\n",
    "    bottom = 0,\n",
    "    width = 0.9,\n",
    "    source = source,\n",
    "    color = 'color'\n",
    ")"
   ]
  },
  {
   "cell_type": "code",
   "execution_count": 9,
   "metadata": {},
   "outputs": [
    {
     "name": "stdout",
     "output_type": "stream",
     "text": [
      "Percentage of people having Heart Disease 54.0\n",
      "Percentage of people not having Heart Disease 46.0\n"
     ]
    }
   ],
   "source": [
    "print(\"Percentage of people having Heart Disease\", round(df['target'].value_counts()[1] / (df['target'].value_counts()[0] + df['target'].value_counts()[1]), 2) * 100)\n",
    "print(\"Percentage of people not having Heart Disease\", round(df['target'].value_counts()[0] / (df['target'].value_counts()[0] + df['target'].value_counts()[1]), 2) * 100)"
   ]
  },
  {
   "cell_type": "code",
   "execution_count": 10,
   "metadata": {},
   "outputs": [],
   "source": [
    "target = {\n",
    "            'No Heart Disease' : df['target'].value_counts()[0], \n",
    "          'Have Heart Disease' : df['target'].value_counts()[1]\n",
    "         }\n",
    "\n",
    "data = pd.Series(target).reset_index(name = 'value').rename(columns = {'index':'target'})\n",
    "data['angle'] = data['value']/data['value'].sum() * 2 * pi\n",
    "data['color'] = ['skyblue', 'salmon']"
   ]
  },
  {
   "cell_type": "code",
   "execution_count": 25,
   "metadata": {},
   "outputs": [
    {
     "data": {
      "text/html": [
       "\n",
       "\n",
       "\n",
       "\n",
       "\n",
       "\n",
       "  <div class=\"bk-root\" id=\"c69be824-695f-417c-89a8-823b793bf1b4\" data-root-id=\"2235\"></div>\n"
      ]
     },
     "metadata": {},
     "output_type": "display_data"
    },
    {
     "data": {
      "application/javascript": [
       "(function(root) {\n",
       "  function embed_document(root) {\n",
       "    \n",
       "  var docs_json = {\"605b2bb5-0fdb-4838-aaea-a2f4f85e609a\":{\"roots\":{\"references\":[{\"attributes\":{\"children\":[{\"id\":\"2234\"},{\"id\":\"2232\"}]},\"id\":\"2235\",\"type\":\"Column\"},{\"attributes\":{\"fill_color\":{\"field\":\"color\"},\"line_color\":{\"field\":\"color\"},\"top\":{\"field\":\"counts\"},\"width\":{\"value\":0.9},\"x\":{\"field\":\"Target\"}},\"id\":\"2171\",\"type\":\"VBar\"},{\"attributes\":{},\"id\":\"2210\",\"type\":\"BasicTickFormatter\"},{\"attributes\":{\"data_source\":{\"id\":\"2148\"},\"glyph\":{\"id\":\"2171\"},\"hover_glyph\":null,\"muted_glyph\":null,\"nonselection_glyph\":{\"id\":\"2172\"},\"selection_glyph\":null,\"view\":{\"id\":\"2174\"}},\"id\":\"2173\",\"type\":\"GlyphRenderer\"},{\"attributes\":{\"active_drag\":\"auto\",\"active_inspect\":\"auto\",\"active_multi\":null,\"active_scroll\":\"auto\",\"active_tap\":\"auto\",\"tools\":[{\"id\":\"2196\"}]},\"id\":\"2197\",\"type\":\"Toolbar\"},{\"attributes\":{\"data\":{\"Target\":[\"0\",\"1\"],\"color\":[\"#3288bd\",\"#99d594\",\"#e6f598\",\"#fee08b\",\"#fc8d59\",\"#d53e4f\"],\"counts\":[138,165]},\"selected\":{\"id\":\"2221\"},\"selection_policy\":{\"id\":\"2222\"}},\"id\":\"2148\",\"type\":\"ColumnDataSource\"},{\"attributes\":{\"end_angle\":{\"expr\":{\"id\":\"2200\"},\"units\":\"rad\"},\"fill_color\":{\"field\":\"color\"},\"line_color\":{\"value\":\"white\"},\"radius\":{\"units\":\"data\",\"value\":0.4},\"start_angle\":{\"expr\":{\"id\":\"2199\"},\"units\":\"rad\"},\"x\":{\"value\":0},\"y\":{\"value\":1}},\"id\":\"2203\",\"type\":\"Wedge\"},{\"attributes\":{\"fill_alpha\":{\"value\":0.1},\"fill_color\":{\"field\":\"color\"},\"line_alpha\":{\"value\":0.1},\"line_color\":{\"field\":\"color\"},\"top\":{\"field\":\"counts\"},\"width\":{\"value\":0.9},\"x\":{\"field\":\"Target\"}},\"id\":\"2172\",\"type\":\"VBar\"},{\"attributes\":{\"text\":\"Count of People Having Heart Disease and Not Having Heart Disease\"},\"id\":\"2150\",\"type\":\"Title\"},{\"attributes\":{\"field\":\"angle\"},\"id\":\"2200\",\"type\":\"CumSum\"},{\"attributes\":{},\"id\":\"2212\",\"type\":\"Selection\"},{\"attributes\":{\"below\":[{\"id\":\"2160\"}],\"center\":[{\"id\":\"2162\"},{\"id\":\"2166\"}],\"left\":[{\"id\":\"2163\"}],\"plot_height\":500,\"plot_width\":500,\"renderers\":[{\"id\":\"2173\"}],\"title\":{\"id\":\"2150\"},\"toolbar\":{\"id\":\"2168\"},\"toolbar_location\":null,\"x_range\":{\"id\":\"2152\"},\"x_scale\":{\"id\":\"2156\"},\"y_range\":{\"id\":\"2154\"},\"y_scale\":{\"id\":\"2158\"}},\"id\":\"2149\",\"subtype\":\"Figure\",\"type\":\"Plot\"},{\"attributes\":{\"data_source\":{\"id\":\"2201\"},\"glyph\":{\"id\":\"2203\"},\"hover_glyph\":null,\"muted_glyph\":null,\"nonselection_glyph\":{\"id\":\"2204\"},\"selection_glyph\":null,\"view\":{\"id\":\"2206\"}},\"id\":\"2205\",\"type\":\"GlyphRenderer\"},{\"attributes\":{\"children\":[[{\"id\":\"2149\"},0,0],[{\"id\":\"2177\"},1,0]]},\"id\":\"2232\",\"type\":\"GridBox\"},{\"attributes\":{\"factors\":[\"0\",\"1\"]},\"id\":\"2152\",\"type\":\"FactorRange\"},{\"attributes\":{\"text\":\"Proportion of People Having Heart Disease and not Having Heart Disease\"},\"id\":\"2178\",\"type\":\"Title\"},{\"attributes\":{\"source\":{\"id\":\"2201\"}},\"id\":\"2206\",\"type\":\"CDSView\"},{\"attributes\":{},\"id\":\"2182\",\"type\":\"DataRange1d\"},{\"attributes\":{\"below\":[{\"id\":\"2188\"}],\"center\":[{\"id\":\"2191\"},{\"id\":\"2195\"},{\"id\":\"2214\"}],\"left\":[{\"id\":\"2192\"}],\"plot_height\":500,\"plot_width\":500,\"renderers\":[{\"id\":\"2205\"}],\"title\":{\"id\":\"2178\"},\"toolbar\":{\"id\":\"2197\"},\"toolbar_location\":null,\"x_range\":{\"id\":\"2180\"},\"x_scale\":{\"id\":\"2184\"},\"y_range\":{\"id\":\"2182\"},\"y_scale\":{\"id\":\"2186\"}},\"id\":\"2177\",\"subtype\":\"Figure\",\"type\":\"Plot\"},{\"attributes\":{},\"id\":\"2154\",\"type\":\"DataRange1d\"},{\"attributes\":{\"start\":-0.5},\"id\":\"2180\",\"type\":\"Range1d\"},{\"attributes\":{},\"id\":\"2156\",\"type\":\"CategoricalScale\"},{\"attributes\":{\"end_angle\":{\"expr\":{\"id\":\"2200\"},\"units\":\"rad\"},\"fill_alpha\":{\"value\":0.1},\"fill_color\":{\"field\":\"color\"},\"line_alpha\":{\"value\":0.1},\"line_color\":{\"value\":\"white\"},\"radius\":{\"units\":\"data\",\"value\":0.4},\"start_angle\":{\"expr\":{\"id\":\"2199\"},\"units\":\"rad\"},\"x\":{\"value\":0},\"y\":{\"value\":1}},\"id\":\"2204\",\"type\":\"Wedge\"},{\"attributes\":{},\"id\":\"2208\",\"type\":\"BasicTickFormatter\"},{\"attributes\":{},\"id\":\"2184\",\"type\":\"LinearScale\"},{\"attributes\":{},\"id\":\"2158\",\"type\":\"LinearScale\"},{\"attributes\":{},\"id\":\"2213\",\"type\":\"UnionRenderers\"},{\"attributes\":{},\"id\":\"2186\",\"type\":\"LinearScale\"},{\"attributes\":{\"axis_label\":\"Target\",\"formatter\":{\"id\":\"2217\"},\"ticker\":{\"id\":\"2161\"}},\"id\":\"2160\",\"type\":\"CategoricalAxis\"},{\"attributes\":{\"field\":\"angle\",\"include_zero\":true},\"id\":\"2199\",\"type\":\"CumSum\"},{\"attributes\":{\"items\":[{\"id\":\"2215\"}],\"label_text_font_size\":\"5pt\"},\"id\":\"2214\",\"type\":\"Legend\"},{\"attributes\":{\"formatter\":{\"id\":\"2208\"},\"ticker\":{\"id\":\"2189\"}},\"id\":\"2188\",\"type\":\"LinearAxis\"},{\"attributes\":{},\"id\":\"2161\",\"type\":\"CategoricalTicker\"},{\"attributes\":{\"label\":{\"field\":\"target\"},\"renderers\":[{\"id\":\"2205\"}]},\"id\":\"2215\",\"type\":\"LegendItem\"},{\"attributes\":{},\"id\":\"2189\",\"type\":\"BasicTicker\"},{\"attributes\":{\"axis\":{\"id\":\"2160\"},\"ticker\":null},\"id\":\"2162\",\"type\":\"Grid\"},{\"attributes\":{\"axis\":{\"id\":\"2188\"},\"ticker\":null},\"id\":\"2191\",\"type\":\"Grid\"},{\"attributes\":{\"toolbar\":{\"id\":\"2233\"},\"toolbar_location\":\"above\"},\"id\":\"2234\",\"type\":\"ToolbarBox\"},{\"attributes\":{\"axis_label\":\"Count(Target)\",\"formatter\":{\"id\":\"2219\"},\"ticker\":{\"id\":\"2164\"}},\"id\":\"2163\",\"type\":\"LinearAxis\"},{\"attributes\":{},\"id\":\"2217\",\"type\":\"CategoricalTickFormatter\"},{\"attributes\":{},\"id\":\"2219\",\"type\":\"BasicTickFormatter\"},{\"attributes\":{},\"id\":\"2164\",\"type\":\"BasicTicker\"},{\"attributes\":{\"formatter\":{\"id\":\"2210\"},\"ticker\":{\"id\":\"2193\"}},\"id\":\"2192\",\"type\":\"LinearAxis\"},{\"attributes\":{\"axis\":{\"id\":\"2163\"},\"dimension\":1,\"ticker\":null},\"id\":\"2166\",\"type\":\"Grid\"},{\"attributes\":{},\"id\":\"2221\",\"type\":\"Selection\"},{\"attributes\":{},\"id\":\"2193\",\"type\":\"BasicTicker\"},{\"attributes\":{},\"id\":\"2222\",\"type\":\"UnionRenderers\"},{\"attributes\":{\"callback\":null,\"tooltips\":\"@Target: @counts\"},\"id\":\"2167\",\"type\":\"HoverTool\"},{\"attributes\":{\"axis\":{\"id\":\"2192\"},\"dimension\":1,\"ticker\":null},\"id\":\"2195\",\"type\":\"Grid\"},{\"attributes\":{\"toolbars\":[{\"id\":\"2168\"},{\"id\":\"2197\"}],\"tools\":[{\"id\":\"2167\"},{\"id\":\"2196\"}]},\"id\":\"2233\",\"type\":\"ProxyToolbar\"},{\"attributes\":{\"data\":{\"angle\":{\"__ndarray__\":\"L3oQGqjkBkAB4HeOTl8LQA==\",\"dtype\":\"float64\",\"order\":\"little\",\"shape\":[2]},\"color\":[\"skyblue\",\"salmon\"],\"index\":[0,1],\"target\":[\"No Heart Disease\",\"Have Heart Disease\"],\"value\":[138,165]},\"selected\":{\"id\":\"2212\"},\"selection_policy\":{\"id\":\"2213\"}},\"id\":\"2201\",\"type\":\"ColumnDataSource\"},{\"attributes\":{\"active_drag\":\"auto\",\"active_inspect\":\"auto\",\"active_multi\":null,\"active_scroll\":\"auto\",\"active_tap\":\"auto\",\"tools\":[{\"id\":\"2167\"}]},\"id\":\"2168\",\"type\":\"Toolbar\"},{\"attributes\":{\"callback\":null,\"tooltips\":\"@target: @value\"},\"id\":\"2196\",\"type\":\"HoverTool\"},{\"attributes\":{\"source\":{\"id\":\"2148\"}},\"id\":\"2174\",\"type\":\"CDSView\"}],\"root_ids\":[\"2235\"]},\"title\":\"Bokeh Application\",\"version\":\"2.2.3\"}};\n",
       "  var render_items = [{\"docid\":\"605b2bb5-0fdb-4838-aaea-a2f4f85e609a\",\"root_ids\":[\"2235\"],\"roots\":{\"2235\":\"c69be824-695f-417c-89a8-823b793bf1b4\"}}];\n",
       "  root.Bokeh.embed.embed_items_notebook(docs_json, render_items);\n",
       "\n",
       "  }\n",
       "  if (root.Bokeh !== undefined) {\n",
       "    embed_document(root);\n",
       "  } else {\n",
       "    var attempts = 0;\n",
       "    var timer = setInterval(function(root) {\n",
       "      if (root.Bokeh !== undefined) {\n",
       "        clearInterval(timer);\n",
       "        embed_document(root);\n",
       "      } else {\n",
       "        attempts++;\n",
       "        if (attempts > 100) {\n",
       "          clearInterval(timer);\n",
       "          console.log(\"Bokeh: ERROR: Unable to run BokehJS code because BokehJS library is missing\");\n",
       "        }\n",
       "      }\n",
       "    }, 10, root)\n",
       "  }\n",
       "})(window);"
      ],
      "application/vnd.bokehjs_exec.v0+json": ""
     },
     "metadata": {
      "application/vnd.bokehjs_exec.v0+json": {
       "id": "2235"
      }
     },
     "output_type": "display_data"
    }
   ],
   "source": [
    "p1 = figure(\n",
    "            plot_height = 500, \n",
    "            plot_width = 500, \n",
    "            title = \"Proportion of People Having Heart Disease and not Having Heart Disease\", \n",
    "            toolbar_location = None,\n",
    "            tools = \"hover\", \n",
    "            tooltips = \"@target: @value\", \n",
    "            x_range = (-0.5, 1.0)\n",
    "            )\n",
    "\n",
    "p1.wedge(\n",
    "        x = 0, y = 1, radius = 0.4,\n",
    "        start_angle = cumsum('angle', include_zero=True), \n",
    "        end_angle = cumsum('angle'),\n",
    "        line_color = \"white\", \n",
    "        fill_color = 'color', \n",
    "        legend_field = 'target', \n",
    "        source = data\n",
    "        )\n",
    "\n",
    "p1.legend.location = \"top_right\"\n",
    "\n",
    "\n",
    "p1.legend.label_text_font_size = '5pt'\n",
    "\n",
    "show(gridplot([[p], [p1]]))"
   ]
  },
  {
   "cell_type": "code",
   "execution_count": 12,
   "metadata": {},
   "outputs": [
    {
     "name": "stdout",
     "output_type": "stream",
     "text": [
      "Categorical Variables are:  ['sex', 'cp', 'fbs', 'restecg', 'exang', 'slope', 'ca', 'thal', 'target']\n",
      "Continuous Variables are:  ['age', 'trestbps', 'chol', 'thalach', 'oldpeak']\n"
     ]
    }
   ],
   "source": [
    "## Categorical vs Cont\n",
    "\n",
    "categorical_var = []\n",
    "continuous_var = []\n",
    "\n",
    "for column in df.columns:\n",
    "    if len(df[column].unique()) <= 10:\n",
    "#         print(f\"{column} : {df[column].unique()}\")\n",
    "        categorical_var.append(column)\n",
    "#         print()\n",
    "    else:\n",
    "        continuous_var.append(column)\n",
    "        \n",
    "print(\"Categorical Variables are: \", categorical_var)\n",
    "print(\"Continuous Variables are: \", continuous_var)"
   ]
  },
  {
   "cell_type": "markdown",
   "metadata": {},
   "source": [
    "## Use-case\n",
    "\n",
    "We see from the plot below that the dataset is biased heavily in favor of people aged 50 and above. However, looking at the label distributions, we find peaks in the histogram (for +ve labels) below age 50. This is a bias we would ideally like to eliminate through weight balancing."
   ]
  },
  {
   "cell_type": "code",
   "execution_count": 29,
   "metadata": {},
   "outputs": [
    {
     "data": {
      "image/png": "[encoded data removed]",
      "text/plain": [
       "<Figure size 432x288 with 1 Axes>"
      ]
     },
     "metadata": {
      "needs_background": "light"
     },
     "output_type": "display_data"
    }
   ],
   "source": [
    "plt.hist(df['age'])\n",
    "plt.show()"
   ]
  },
  {
   "cell_type": "code",
   "execution_count": 30,
   "metadata": {
    "scrolled": true
   },
   "outputs": [
    {
     "data": {
      "text/html": [
       "\n",
       "\n",
       "\n",
       "\n",
       "\n",
       "\n",
       "  <div class=\"bk-root\" id=\"97aae974-2e45-499b-b71b-c1aa8be0f203\" data-root-id=\"2402\"></div>\n"
      ]
     },
     "metadata": {},
     "output_type": "display_data"
    },
    {
     "data": {
      "application/javascript": [
       "(function(root) {\n",
       "  function embed_document(root) {\n",
       "    \n",
       "  var docs_json = {\"e1dd62cc-da10-4827-b136-577f122cacb0\":{\"roots\":{\"references\":[{\"attributes\":{\"below\":[{\"id\":\"2413\"}],\"center\":[{\"id\":\"2416\"},{\"id\":\"2420\"}],\"left\":[{\"id\":\"2417\"}],\"plot_height\":500,\"plot_width\":500,\"renderers\":[{\"id\":\"2438\"},{\"id\":\"2443\"}],\"title\":{\"id\":\"2403\"},\"toolbar\":{\"id\":\"2428\"},\"x_range\":{\"id\":\"2405\"},\"x_scale\":{\"id\":\"2409\"},\"y_range\":{\"id\":\"2407\"},\"y_scale\":{\"id\":\"2411\"}},\"id\":\"2402\",\"subtype\":\"Figure\",\"type\":\"Plot\"},{\"attributes\":{\"bottom\":{\"value\":0},\"fill_alpha\":{\"value\":0.6},\"fill_color\":{\"value\":\"blue\"},\"left\":{\"field\":\"left\"},\"line_alpha\":{\"value\":0.6},\"line_color\":{\"value\":\"white\"},\"right\":{\"field\":\"right\"},\"top\":{\"field\":\"top\"}},\"id\":\"2436\",\"type\":\"Quad\"},{\"attributes\":{\"overlay\":{\"id\":\"2427\"}},\"id\":\"2423\",\"type\":\"BoxZoomTool\"},{\"attributes\":{},\"id\":\"2547\",\"type\":\"Selection\"},{\"attributes\":{},\"id\":\"2424\",\"type\":\"SaveTool\"},{\"attributes\":{\"bottom\":{\"value\":0},\"fill_alpha\":{\"value\":0.1},\"fill_color\":{\"value\":\"red\"},\"left\":{\"field\":\"left\"},\"line_alpha\":{\"value\":0.1},\"line_color\":{\"value\":\"white\"},\"right\":{\"field\":\"right\"},\"top\":{\"field\":\"top\"}},\"id\":\"2442\",\"type\":\"Quad\"},{\"attributes\":{\"axis\":{\"id\":\"2417\"},\"dimension\":1,\"ticker\":null},\"id\":\"2420\",\"type\":\"Grid\"},{\"attributes\":{},\"id\":\"2549\",\"type\":\"Selection\"},{\"attributes\":{},\"id\":\"2418\",\"type\":\"BasicTicker\"},{\"attributes\":{\"data\":{\"left\":{\"__ndarray__\":\"AAAAAACAQUBmZmZmZgZCQM3MzMzMjEJAMzMzMzMTQ0CamZmZmZlDQAAAAAAAIERAZmZmZmamREDNzMzMzCxFQDMzMzMzs0VAmpmZmZk5RkAAAAAAAMBGQGZmZmZmRkdAzczMzMzMR0AzMzMzM1NIQJqZmZmZ2UhAAAAAAABgSUBmZmZmZuZJQM3MzMzMbEpANDMzMzPzSkCamZmZmXlLQAAAAAAAAExAZmZmZmaGTEDNzMzMzAxNQDQzMzMzk01AmpmZmZkZTkAAAAAAAKBOQGZmZmZmJk9AzczMzMysT0CamZmZmRlQQM3MzMzMXFBAAAAAAACgUEA0MzMzM+NQQGZmZmZmJlFAmpmZmZlpUUDNzMzMzKxRQAAAAAAA8FFANDMzMzMzUkBmZmZmZnZSQJqZmZmZuVJAzczMzMz8UkA=\",\"dtype\":\"float64\",\"order\":\"little\",\"shape\":[40]},\"right\":{\"__ndarray__\":\"ZmZmZmYGQkDNzMzMzIxCQDMzMzMzE0NAmpmZmZmZQ0AAAAAAACBEQGZmZmZmpkRAzczMzMwsRUAzMzMzM7NFQJqZmZmZOUZAAAAAAADARkBmZmZmZkZHQM3MzMzMzEdAMzMzMzNTSECamZmZmdlIQAAAAAAAYElAZmZmZmbmSUDNzMzMzGxKQDQzMzMz80pAmpmZmZl5S0AAAAAAAABMQGZmZmZmhkxAzczMzMwMTUA0MzMzM5NNQJqZmZmZGU5AAAAAAACgTkBmZmZmZiZPQM3MzMzMrE9AmpmZmZkZUEDNzMzMzFxQQAAAAAAAoFBANDMzMzPjUEBmZmZmZiZRQJqZmZmZaVFAzczMzMysUUAAAAAAAPBRQDQzMzMzM1JAZmZmZmZ2UkCamZmZmblSQM3MzMzM/FJAAAAAAABAU0A=\",\"dtype\":\"float64\",\"order\":\"little\",\"shape\":[40]},\"top\":{\"__ndarray__\":\"zj7VoYxEjD8AAAAAAAAAAM4+1aGMRHw/mD7VoYxEfD/OPtWhjESMP84+1aGMRHw/mD7VoYxEfD8a7195aTOVP/LuX3lpM5U/zj7VoYxEjD8a7195aTOVP5g+1aGMRIw/Gu9feWkzlT+YPtWhjESMPxrvX3lpM5U/Gu9feWkzlT+YPtWhjEScP5g+1aGMRIw/Gu9feWkzpT9BRyXl16qhP84+1aGMRLw/8u5feWkztT9s5g82Hs2vP84+1aGMRKw/9JaaDfu7qD/0lpoN+7uoP/LuX3lpM6U/mD7VoYxEnD/OPtWhjEScPxrvX3lpM5U/ye5feWkzpT86P9WhjESMP2I+1aGMRHw/Gu9feWkzlT8AAAAAAAAAAAAAAAAAAAAAAAAAAAAAAAAAAAAAAAAAAAAAAAAAAAAAzj7VoYxEfD8=\",\"dtype\":\"float64\",\"order\":\"little\",\"shape\":[40]}},\"selected\":{\"id\":\"2547\"},\"selection_policy\":{\"id\":\"2548\"}},\"id\":\"2435\",\"type\":\"ColumnDataSource\"},{\"attributes\":{\"axis\":{\"id\":\"2413\"},\"ticker\":null},\"id\":\"2416\",\"type\":\"Grid\"},{\"attributes\":{\"data\":{\"left\":{\"__ndarray__\":\"AAAAAAAAPUDNzMzMzCw+QJqZmZmZWT9AMzMzMzNDQECamZmZmdlAQAAAAAAAcEFAZmZmZmYGQkDNzMzMzJxCQDMzMzMzM0NAmpmZmZnJQ0AAAAAAAGBEQGZmZmZm9kRAzczMzMyMRUAzMzMzMyNGQJqZmZmZuUZAAAAAAABQR0BmZmZmZuZHQM3MzMzMfEhANDMzMzMTSUCamZmZmalJQAAAAAAAQEpAZmZmZmbWSkDNzMzMzGxLQDQzMzMzA0xAmpmZmZmZTEAAAAAAADBNQGZmZmZmxk1AzczMzMxcTkAzMzMzM/NOQJqZmZmZiU9AAAAAAAAQUEA0MzMzM1tQQGZmZmZmplBAmpmZmZnxUEDNzMzMzDxRQAAAAAAAiFFANDMzMzPTUUBmZmZmZh5SQJqZmZmZaVJAzczMzMy0UkA=\",\"dtype\":\"float64\",\"order\":\"little\",\"shape\":[40]},\"right\":{\"__ndarray__\":\"zczMzMwsPkCamZmZmVk/QDMzMzMzQ0BAmpmZmZnZQEAAAAAAAHBBQGZmZmZmBkJAzczMzMycQkAzMzMzMzNDQJqZmZmZyUNAAAAAAABgREBmZmZmZvZEQM3MzMzMjEVAMzMzMzMjRkCamZmZmblGQAAAAAAAUEdAZmZmZmbmR0DNzMzMzHxIQDQzMzMzE0lAmpmZmZmpSUAAAAAAAEBKQGZmZmZm1kpAzczMzMxsS0A0MzMzMwNMQJqZmZmZmUxAAAAAAAAwTUBmZmZmZsZNQM3MzMzMXE5AMzMzMzPzTkCamZmZmYlPQAAAAAAAEFBANDMzMzNbUEBmZmZmZqZQQJqZmZmZ8VBAzczMzMw8UUAAAAAAAIhRQDQzMzMz01FAZmZmZmYeUkCamZmZmWlSQM3MzMzMtFJAAAAAAAAAU0A=\",\"dtype\":\"float64\",\"order\":\"little\",\"shape\":[40]},\"top\":{\"__ndarray__\":\"IkY5C4QgdT8AAAAAAAAAAAAAAAAAAAAAAAAAAAAAAAA0RjkLhCCFPzRGOQuEIIU/EEY5C4QghT80RjkLhCCFPxnp1RDGsI8/NEY5C4QgdT/7bqCMlMSnPxnp1RDGsK8/NEY5C4QgpT8Z6dUQxrCfPzRGOQuEIJU/T+nVEMawjz8QRjkLhCCVP04d0olzfKI/+26gjJTEpz/7bqCMlMSnP0/p1RDGsJ8/lZcHDqVoqj8QRjkLhCClP24d0olzfKI/bh3SiXN8oj/ClwcOpWiaPxnp1RDGsI8/NEY5C4QgdT9OHdKJc3yiP0/p1RDGsJ8/7UU5C4QglT98RjkLhCCVP+Po1RDGsI8/NEY5C4QghT9P6dUQxrCPP+Po1RDGsI8/AAAAAAAAAAAAAAAAAAAAADRGOQuEIHU/NEY5C4QgdT8=\",\"dtype\":\"float64\",\"order\":\"little\",\"shape\":[40]}},\"selected\":{\"id\":\"2549\"},\"selection_policy\":{\"id\":\"2550\"}},\"id\":\"2440\",\"type\":\"ColumnDataSource\"},{\"attributes\":{},\"id\":\"2426\",\"type\":\"HelpTool\"},{\"attributes\":{},\"id\":\"2422\",\"type\":\"WheelZoomTool\"},{\"attributes\":{\"bottom\":{\"value\":0},\"fill_alpha\":{\"value\":0.6},\"fill_color\":{\"value\":\"red\"},\"left\":{\"field\":\"left\"},\"line_alpha\":{\"value\":0.6},\"line_color\":{\"value\":\"white\"},\"right\":{\"field\":\"right\"},\"top\":{\"field\":\"top\"}},\"id\":\"2441\",\"type\":\"Quad\"},{\"attributes\":{},\"id\":\"2411\",\"type\":\"LinearScale\"},{\"attributes\":{\"bottom\":{\"value\":0},\"fill_alpha\":{\"value\":0.1},\"fill_color\":{\"value\":\"blue\"},\"left\":{\"field\":\"left\"},\"line_alpha\":{\"value\":0.1},\"line_color\":{\"value\":\"white\"},\"right\":{\"field\":\"right\"},\"top\":{\"field\":\"top\"}},\"id\":\"2437\",\"type\":\"Quad\"},{\"attributes\":{\"bottom_units\":\"screen\",\"fill_alpha\":0.5,\"fill_color\":\"lightgrey\",\"left_units\":\"screen\",\"level\":\"overlay\",\"line_alpha\":1.0,\"line_color\":\"black\",\"line_dash\":[4,4],\"line_width\":2,\"right_units\":\"screen\",\"top_units\":\"screen\"},\"id\":\"2427\",\"type\":\"BoxAnnotation\"},{\"attributes\":{\"source\":{\"id\":\"2435\"}},\"id\":\"2439\",\"type\":\"CDSView\"},{\"attributes\":{\"data_source\":{\"id\":\"2435\"},\"glyph\":{\"id\":\"2436\"},\"hover_glyph\":null,\"muted_glyph\":null,\"nonselection_glyph\":{\"id\":\"2437\"},\"selection_glyph\":null,\"view\":{\"id\":\"2439\"}},\"id\":\"2438\",\"type\":\"GlyphRenderer\"},{\"attributes\":{\"text\":\"Age vs Target\"},\"id\":\"2403\",\"type\":\"Title\"},{\"attributes\":{\"axis_label\":\"age\",\"formatter\":{\"id\":\"2542\"},\"ticker\":{\"id\":\"2414\"}},\"id\":\"2413\",\"type\":\"LinearAxis\"},{\"attributes\":{\"active_drag\":\"auto\",\"active_inspect\":\"auto\",\"active_multi\":null,\"active_scroll\":\"auto\",\"active_tap\":\"auto\",\"tools\":[{\"id\":\"2421\"},{\"id\":\"2422\"},{\"id\":\"2423\"},{\"id\":\"2424\"},{\"id\":\"2425\"},{\"id\":\"2426\"}]},\"id\":\"2428\",\"type\":\"Toolbar\"},{\"attributes\":{},\"id\":\"2544\",\"type\":\"BasicTickFormatter\"},{\"attributes\":{},\"id\":\"2550\",\"type\":\"UnionRenderers\"},{\"attributes\":{},\"id\":\"2421\",\"type\":\"PanTool\"},{\"attributes\":{\"data_source\":{\"id\":\"2440\"},\"glyph\":{\"id\":\"2441\"},\"hover_glyph\":null,\"muted_glyph\":null,\"nonselection_glyph\":{\"id\":\"2442\"},\"selection_glyph\":null,\"view\":{\"id\":\"2444\"}},\"id\":\"2443\",\"type\":\"GlyphRenderer\"},{\"attributes\":{},\"id\":\"2407\",\"type\":\"DataRange1d\"},{\"attributes\":{},\"id\":\"2414\",\"type\":\"BasicTicker\"},{\"attributes\":{},\"id\":\"2548\",\"type\":\"UnionRenderers\"},{\"attributes\":{},\"id\":\"2542\",\"type\":\"BasicTickFormatter\"},{\"attributes\":{\"formatter\":{\"id\":\"2544\"},\"ticker\":{\"id\":\"2418\"}},\"id\":\"2417\",\"type\":\"LinearAxis\"},{\"attributes\":{},\"id\":\"2409\",\"type\":\"LinearScale\"},{\"attributes\":{},\"id\":\"2405\",\"type\":\"DataRange1d\"},{\"attributes\":{\"source\":{\"id\":\"2440\"}},\"id\":\"2444\",\"type\":\"CDSView\"},{\"attributes\":{},\"id\":\"2425\",\"type\":\"ResetTool\"}],\"root_ids\":[\"2402\"]},\"title\":\"Bokeh Application\",\"version\":\"2.2.3\"}};\n",
       "  var render_items = [{\"docid\":\"e1dd62cc-da10-4827-b136-577f122cacb0\",\"root_ids\":[\"2402\"],\"roots\":{\"2402\":\"97aae974-2e45-499b-b71b-c1aa8be0f203\"}}];\n",
       "  root.Bokeh.embed.embed_items_notebook(docs_json, render_items);\n",
       "\n",
       "  }\n",
       "  if (root.Bokeh !== undefined) {\n",
       "    embed_document(root);\n",
       "  } else {\n",
       "    var attempts = 0;\n",
       "    var timer = setInterval(function(root) {\n",
       "      if (root.Bokeh !== undefined) {\n",
       "        clearInterval(timer);\n",
       "        embed_document(root);\n",
       "      } else {\n",
       "        attempts++;\n",
       "        if (attempts > 100) {\n",
       "          clearInterval(timer);\n",
       "          console.log(\"Bokeh: ERROR: Unable to run BokehJS code because BokehJS library is missing\");\n",
       "        }\n",
       "      }\n",
       "    }, 10, root)\n",
       "  }\n",
       "})(window);"
      ],
      "application/vnd.bokehjs_exec.v0+json": ""
     },
     "metadata": {
      "application/vnd.bokehjs_exec.v0+json": {
       "id": "2402"
      }
     },
     "output_type": "display_data"
    }
   ],
   "source": [
    "p16 = plot_cont_var('age')\n",
    "show(p16)"
   ]
  },
  {
   "cell_type": "code",
   "execution_count": 19,
   "metadata": {},
   "outputs": [],
   "source": [
    "# from matplotlib import pyplot as plt\n",
    "# plt.hist(df['thalach'])\n",
    "# plt.show()"
   ]
  },
  {
   "cell_type": "code",
   "execution_count": 20,
   "metadata": {},
   "outputs": [],
   "source": [
    "# plt.hist(df['chol'])\n",
    "# plt.show()"
   ]
  },
  {
   "cell_type": "markdown",
   "metadata": {},
   "source": [
    "### Loading dataset + weight traits\n",
    "\n",
    "We assume all data is mean-normalized beforehand. The weights for age as a trait have been saved beforehand. "
   ]
  },
  {
   "cell_type": "code",
   "execution_count": 137,
   "metadata": {},
   "outputs": [],
   "source": [
    "data_dir = Path('../data/hd')\n",
    "X_train = np.load(data_dir / 'X_train.npy')\n",
    "y_train = np.load(data_dir / 'y_train.npy')\n",
    "X_val = np.load(data_dir / 'X_val.npy')\n",
    "y_val = np.load(data_dir / 'y_val.npy')\n",
    "X_test = np.load(data_dir / 'X_test.npy')\n",
    "y_test = np.load(data_dir / 'y_test.npy')\n",
    "\n",
    "\n",
    "traits_train = np.load(data_dir / 'traits_train.npy')\n",
    "traits_val = np.load(data_dir / 'traits_val.npy')\n",
    "traits_test = np.load(data_dir / 'traits_test.npy')\n",
    "\n",
    "\n",
    "# Merge both val & test sets for more samples\n",
    "traits_oos = np.concatenate([traits_val, traits_test], 0)\n",
    "X_oos = np.concatenate([X_val, X_test], 0)\n",
    "y_oos = np.concatenate([y_val, y_test], 0)\n",
    "\n",
    "# Below 60 years of age\n",
    "CUTOFF = 60\n",
    "X_below = X_oos[traits_oos < CUTOFF]\n",
    "y_below = y_oos[traits_oos < CUTOFF]\n",
    "\n"
   ]
  },
  {
   "cell_type": "code",
   "execution_count": 138,
   "metadata": {},
   "outputs": [
    {
     "data": {
      "text/plain": [
       "(29, 35, 34, 77, 70, 71)"
      ]
     },
     "execution_count": 138,
     "metadata": {},
     "output_type": "execute_result"
    }
   ],
   "source": [
    "traits_train.min(), traits_val.min(), traits_test.min(), traits_train.max(), traits_val.max(), traits_test.max()"
   ]
  },
  {
   "cell_type": "markdown",
   "metadata": {},
   "source": [
    "### Generating weights on the fly"
   ]
  },
  {
   "cell_type": "code",
   "execution_count": 11,
   "metadata": {},
   "outputs": [],
   "source": [
    "## Load a scipy.stats.rv_continuous obj\n",
    "min_trait = traits_train.min()\n",
    "range_trait = traits_train.max() - traits_train.min()\n",
    "target = stats.uniform(loc = min_trait, scale = range_trait)"
   ]
  },
  {
   "cell_type": "code",
   "execution_count": 12,
   "metadata": {},
   "outputs": [
    {
     "data": {
      "image/png": "[encoded data removed]",
      "text/plain": [
       "<Figure size 576x432 with 1 Axes>"
      ]
     },
     "metadata": {
      "needs_background": "light"
     },
     "output_type": "display_data"
    },
    {
     "data": {
      "image/png": "[encoded data removed]",
      "text/plain": [
       "<Figure size 576x432 with 1 Axes>"
      ]
     },
     "metadata": {
      "needs_background": "light"
     },
     "output_type": "display_data"
    },
    {
     "data": {
      "image/png": "[encoded data removed]",
      "text/plain": [
       "<Figure size 576x432 with 1 Axes>"
      ]
     },
     "metadata": {
      "needs_background": "light"
     },
     "output_type": "display_data"
    },
    {
     "data": {
      "image/png": "[encoded data removed]",
      "text/plain": [
       "<Figure size 576x432 with 1 Axes>"
      ]
     },
     "metadata": {
      "needs_background": "light"
     },
     "output_type": "display_data"
    }
   ],
   "source": [
    "wts_tr = continuous_weight(traits_train, target, addl_trait = None, clipping = None, verbose = True)\n",
    "# wts_val = continuous_weight(traits_val, target, addl_trait = None, clipping = None, verbose = False)\n"
   ]
  },
  {
   "cell_type": "markdown",
   "metadata": {},
   "source": [
    "We notice weight trait (age in this example) isn't made exactly uniform, but we even out the peaks in the 40-60 age group."
   ]
  },
  {
   "cell_type": "markdown",
   "metadata": {},
   "source": [
    "# Random Forest"
   ]
  },
  {
   "cell_type": "markdown",
   "metadata": {},
   "source": [
    "#### Without sample balancing on the entire out-of-sample set"
   ]
  },
  {
   "cell_type": "code",
   "execution_count": 100,
   "metadata": {},
   "outputs": [
    {
     "name": "stdout",
     "output_type": "stream",
     "text": [
      "0.9401939655172413\n"
     ]
    }
   ],
   "source": [
    "clf_unbalanced = RandomForestClassifier(n_estimators=100, random_state=SEED)\n",
    "clf_unbalanced.fit(X_train, y_train, sample_weight=None)\n",
    "\n",
    "# # Actual class predictions\n",
    "# rf_predictions = clf_unbalanced.predict(X_val)\n",
    "\n",
    "# Probabilities for each class\n",
    "rf_probs = clf_unbalanced.predict_proba(X_oos)[:, 1]\n",
    "\n",
    "roc_value = roc_auc_score(y_oos, rf_probs)\n",
    "print(roc_value)"
   ]
  },
  {
   "cell_type": "markdown",
   "metadata": {},
   "source": [
    "#### Now training using continuous sample-weights as a function of age"
   ]
  },
  {
   "cell_type": "code",
   "execution_count": 101,
   "metadata": {},
   "outputs": [
    {
     "name": "stdout",
     "output_type": "stream",
     "text": [
      "0.943426724137931\n"
     ]
    }
   ],
   "source": [
    "clf_balanced = RandomForestClassifier(n_estimators=200, random_state=SEED)\n",
    "clf_balanced.fit(X_train, y_train, sample_weight=wts_tr)\n",
    "\n",
    "rf_probs_bal = clf_balanced.predict_proba(X_oos)[:, 1]\n",
    "\n",
    "roc_value_bal = roc_auc_score(y_oos, rf_probs_bal)\n",
    "print(roc_value_bal)\n"
   ]
  },
  {
   "cell_type": "markdown",
   "metadata": {},
   "source": [
    "### Evaluating on ages below 60"
   ]
  },
  {
   "cell_type": "code",
   "execution_count": 102,
   "metadata": {},
   "outputs": [
    {
     "name": "stdout",
     "output_type": "stream",
     "text": [
      "Unbalanced ROC_value:  0.9554924242424242\n",
      "Balanced ROC_value:  0.9659090909090908\n"
     ]
    }
   ],
   "source": [
    "## X_below & y_below defined at start of notebook\n",
    "\n",
    "rf_probs = clf_unbalanced.predict_proba(X_below)[:, 1]\n",
    "roc_value = roc_auc_score(y_below, rf_probs)\n",
    "print(\"Unbalanced ROC_value: \", roc_value)\n",
    "\n",
    "rf_probs_bal = clf_balanced.predict_proba(X_below)[:, 1]\n",
    "roc_value_bal = roc_auc_score(y_below, rf_probs_bal)\n",
    "print(\"Balanced ROC_value: \", roc_value_bal)\n"
   ]
  },
  {
   "cell_type": "markdown",
   "metadata": {},
   "source": [
    "**We get a boost in performance for ages < 60 because of balancing**"
   ]
  },
  {
   "cell_type": "markdown",
   "metadata": {},
   "source": [
    "# Logistic Regression"
   ]
  },
  {
   "cell_type": "markdown",
   "metadata": {},
   "source": [
    "#### Without sample balancing on the entire out-of-sample set\n"
   ]
  },
  {
   "cell_type": "code",
   "execution_count": 159,
   "metadata": {},
   "outputs": [
    {
     "name": "stdout",
     "output_type": "stream",
     "text": [
      "ROC value for unbalanced data:  0.9245689655172413\n"
     ]
    }
   ],
   "source": [
    "clf_unbalanced = LogisticRegression(random_state=SEED)\n",
    "clf_unbalanced.fit(X_train, y_train, sample_weight=None)\n",
    "\n",
    "rf_probs = clf_unbalanced.predict_proba(X_oos)[:, 1]\n",
    "roc_value = roc_auc_score(y_oos, rf_probs)\n",
    "print(\"ROC value for unbalanced data: \", roc_value)\n",
    "\n"
   ]
  },
  {
   "cell_type": "markdown",
   "metadata": {},
   "source": [
    "#### Now training using continuous sample-weights as a function of age"
   ]
  },
  {
   "cell_type": "code",
   "execution_count": 162,
   "metadata": {},
   "outputs": [
    {
     "name": "stdout",
     "output_type": "stream",
     "text": [
      "ROC value for balanced data:  0.9267241379310345\n"
     ]
    }
   ],
   "source": [
    "clf_balanced = LogisticRegression(random_state=SEED)\n",
    "clf_balanced.fit(X_train, y_train, sample_weight=wts_tr)\n",
    "\n",
    "rf_probs_bal = clf_balanced.predict_proba(X_oos)[:, 1]\n",
    "\n",
    "roc_value_bal = roc_auc_score(y_oos, rf_probs_bal)\n",
    "print(\"ROC value for balanced data: \", roc_value_bal)\n"
   ]
  },
  {
   "cell_type": "markdown",
   "metadata": {},
   "source": [
    "### Evaluating on ages below 60\n"
   ]
  },
  {
   "cell_type": "code",
   "execution_count": 163,
   "metadata": {},
   "outputs": [
    {
     "name": "stdout",
     "output_type": "stream",
     "text": [
      "Unbalanced ROC_value:  0.9261363636363638\n",
      "Balanced ROC_value:  0.9242424242424243\n"
     ]
    }
   ],
   "source": [
    "## X_below & y_below defined at start of notebook\n",
    "\n",
    "rf_probs = clf_unbalanced.predict_proba(X_below)[:, 1]\n",
    "roc_value = roc_auc_score(y_below, rf_probs)\n",
    "print(\"Unbalanced ROC_value: \", roc_value)\n",
    "\n",
    "rf_probs_bal = clf_balanced.predict_proba(X_below)[:, 1]\n",
    "roc_value_bal = roc_auc_score(y_below, rf_probs_bal)\n",
    "print(\"Balanced ROC_value: \", roc_value_bal)\n"
   ]
  },
  {
   "cell_type": "markdown",
   "metadata": {},
   "source": [
    "The balanced model does slightly worse, but the difference is *within* 0.2 %."
   ]
  },
  {
   "cell_type": "markdown",
   "metadata": {},
   "source": [
    "# 4-Layer Neural Net"
   ]
  },
  {
   "cell_type": "code",
   "execution_count": 145,
   "metadata": {},
   "outputs": [],
   "source": [
    "def make_model():\n",
    "    model = Sequential()\n",
    "    model.add(Dense(64, input_dim=13, activation='relu'))\n",
    "    model.add(Dropout(.25))\n",
    "    model.add(Dense(16, activation='relu'))\n",
    "    model.add(Dense(8, activation='relu'))\n",
    "    model.add(Dense(1, activation='sigmoid'))\n",
    "\n",
    "    model.compile(loss='binary_crossentropy', optimizer='adam', metrics=['accuracy'])\n",
    "    return model\n",
    "\n",
    "es = EarlyStopping(\n",
    "    monitor='val_loss', min_delta=0, patience=25, verbose=1,\n",
    "    mode='auto', baseline=None, restore_best_weights=True\n",
    ")\n",
    "lr = ReduceLROnPlateau(monitor='val_loss', factor=0.5, patience=5, verbose=1, \n",
    "                       mode='auto', min_delta=0.0001, cooldown=0, min_lr=0)\n",
    "    \n",
    "callbacks = [es, lr]"
   ]
  },
  {
   "cell_type": "code",
   "execution_count": 146,
   "metadata": {},
   "outputs": [
    {
     "name": "stdout",
     "output_type": "stream",
     "text": [
      "Model: \"sequential_40\"\n",
      "_________________________________________________________________\n",
      "Layer (type)                 Output Shape              Param #   \n",
      "=================================================================\n",
      "dense_160 (Dense)            (None, 64)                896       \n",
      "_________________________________________________________________\n",
      "dropout_45 (Dropout)         (None, 64)                0         \n",
      "_________________________________________________________________\n",
      "dense_161 (Dense)            (None, 16)                1040      \n",
      "_________________________________________________________________\n",
      "dense_162 (Dense)            (None, 8)                 136       \n",
      "_________________________________________________________________\n",
      "dense_163 (Dense)            (None, 1)                 9         \n",
      "=================================================================\n",
      "Total params: 2,081\n",
      "Trainable params: 2,081\n",
      "Non-trainable params: 0\n",
      "_________________________________________________________________\n",
      "Train on 242 samples, validate on 30 samples\n",
      "Epoch 1/100\n",
      "242/242 [==============================] - 2s 9ms/step - loss: 0.6793 - accuracy: 0.6116 - val_loss: 0.6108 - val_accuracy: 0.6000\n",
      "Epoch 2/100\n",
      "242/242 [==============================] - 0s 368us/step - loss: 0.5979 - accuracy: 0.7066 - val_loss: 0.5593 - val_accuracy: 0.7667\n",
      "Epoch 3/100\n",
      "242/242 [==============================] - 0s 330us/step - loss: 0.5466 - accuracy: 0.7851 - val_loss: 0.5126 - val_accuracy: 0.8000\n",
      "Epoch 4/100\n",
      "242/242 [==============================] - 0s 311us/step - loss: 0.5133 - accuracy: 0.7603 - val_loss: 0.4790 - val_accuracy: 0.8000\n",
      "Epoch 5/100\n",
      "242/242 [==============================] - 0s 315us/step - loss: 0.4770 - accuracy: 0.7851 - val_loss: 0.4519 - val_accuracy: 0.7667\n",
      "Epoch 6/100\n",
      "242/242 [==============================] - 0s 299us/step - loss: 0.4441 - accuracy: 0.8099 - val_loss: 0.4367 - val_accuracy: 0.8000\n",
      "Epoch 7/100\n",
      "242/242 [==============================] - 0s 303us/step - loss: 0.4101 - accuracy: 0.8223 - val_loss: 0.4146 - val_accuracy: 0.8333\n",
      "Epoch 8/100\n",
      "242/242 [==============================] - 0s 310us/step - loss: 0.4014 - accuracy: 0.8388 - val_loss: 0.4001 - val_accuracy: 0.8333\n",
      "Epoch 9/100\n",
      "242/242 [==============================] - 0s 310us/step - loss: 0.3882 - accuracy: 0.8347 - val_loss: 0.3842 - val_accuracy: 0.8667\n",
      "Epoch 10/100\n",
      "242/242 [==============================] - 0s 322us/step - loss: 0.3676 - accuracy: 0.8223 - val_loss: 0.3899 - val_accuracy: 0.8333\n",
      "Epoch 11/100\n",
      "242/242 [==============================] - 0s 305us/step - loss: 0.3708 - accuracy: 0.8430 - val_loss: 0.3885 - val_accuracy: 0.8333\n",
      "Epoch 12/100\n",
      "242/242 [==============================] - 0s 325us/step - loss: 0.3779 - accuracy: 0.8388 - val_loss: 0.3789 - val_accuracy: 0.8333\n",
      "Epoch 13/100\n",
      "242/242 [==============================] - 0s 315us/step - loss: 0.3638 - accuracy: 0.8554 - val_loss: 0.3743 - val_accuracy: 0.8333\n",
      "Epoch 14/100\n",
      "242/242 [==============================] - 0s 359us/step - loss: 0.3411 - accuracy: 0.8471 - val_loss: 0.3719 - val_accuracy: 0.8333\n",
      "Epoch 15/100\n",
      "242/242 [==============================] - 0s 391us/step - loss: 0.3272 - accuracy: 0.8595 - val_loss: 0.3702 - val_accuracy: 0.8667\n",
      "Epoch 16/100\n",
      "242/242 [==============================] - 0s 347us/step - loss: 0.3407 - accuracy: 0.8678 - val_loss: 0.3669 - val_accuracy: 0.8667\n",
      "Epoch 17/100\n",
      "242/242 [==============================] - 0s 453us/step - loss: 0.3373 - accuracy: 0.8719 - val_loss: 0.3634 - val_accuracy: 0.8667\n",
      "Epoch 18/100\n",
      "242/242 [==============================] - 0s 290us/step - loss: 0.3045 - accuracy: 0.8678 - val_loss: 0.3618 - val_accuracy: 0.8667\n",
      "Epoch 19/100\n",
      "242/242 [==============================] - 0s 350us/step - loss: 0.3207 - accuracy: 0.8719 - val_loss: 0.3623 - val_accuracy: 0.8667\n",
      "Epoch 20/100\n",
      "242/242 [==============================] - 0s 325us/step - loss: 0.3010 - accuracy: 0.8884 - val_loss: 0.3632 - val_accuracy: 0.8667\n",
      "Epoch 21/100\n",
      "242/242 [==============================] - 0s 312us/step - loss: 0.3096 - accuracy: 0.8884 - val_loss: 0.3642 - val_accuracy: 0.8667\n",
      "Epoch 22/100\n",
      "242/242 [==============================] - 0s 312us/step - loss: 0.2928 - accuracy: 0.8967 - val_loss: 0.3468 - val_accuracy: 0.8667\n",
      "Epoch 23/100\n",
      "242/242 [==============================] - 0s 302us/step - loss: 0.3164 - accuracy: 0.8678 - val_loss: 0.3423 - val_accuracy: 0.8667\n",
      "Epoch 24/100\n",
      "242/242 [==============================] - 0s 293us/step - loss: 0.2880 - accuracy: 0.8802 - val_loss: 0.3455 - val_accuracy: 0.8333\n",
      "Epoch 25/100\n",
      "242/242 [==============================] - 0s 353us/step - loss: 0.2974 - accuracy: 0.8636 - val_loss: 0.3470 - val_accuracy: 0.8000\n",
      "Epoch 26/100\n",
      "242/242 [==============================] - 0s 308us/step - loss: 0.3168 - accuracy: 0.8719 - val_loss: 0.3442 - val_accuracy: 0.8333\n",
      "Epoch 27/100\n",
      "242/242 [==============================] - 0s 278us/step - loss: 0.2908 - accuracy: 0.8760 - val_loss: 0.3479 - val_accuracy: 0.8333\n",
      "Epoch 28/100\n",
      "242/242 [==============================] - 0s 264us/step - loss: 0.2838 - accuracy: 0.8967 - val_loss: 0.3451 - val_accuracy: 0.8333\n",
      "\n",
      "Epoch 00028: ReduceLROnPlateau reducing learning rate to 0.0005000000237487257.\n",
      "Epoch 29/100\n",
      "242/242 [==============================] - 0s 216us/step - loss: 0.2761 - accuracy: 0.9008 - val_loss: 0.3435 - val_accuracy: 0.8333\n",
      "Epoch 30/100\n",
      "242/242 [==============================] - 0s 254us/step - loss: 0.2689 - accuracy: 0.8760 - val_loss: 0.3441 - val_accuracy: 0.8333\n",
      "Epoch 31/100\n",
      "242/242 [==============================] - 0s 255us/step - loss: 0.2699 - accuracy: 0.8926 - val_loss: 0.3517 - val_accuracy: 0.8333\n",
      "Epoch 32/100\n",
      "242/242 [==============================] - 0s 231us/step - loss: 0.2699 - accuracy: 0.8884 - val_loss: 0.3451 - val_accuracy: 0.8333\n",
      "Epoch 33/100\n",
      "242/242 [==============================] - 0s 305us/step - loss: 0.2719 - accuracy: 0.8802 - val_loss: 0.3295 - val_accuracy: 0.8333\n",
      "Epoch 34/100\n",
      "242/242 [==============================] - 0s 299us/step - loss: 0.2775 - accuracy: 0.8843 - val_loss: 0.3265 - val_accuracy: 0.8333\n",
      "Epoch 35/100\n",
      "242/242 [==============================] - 0s 300us/step - loss: 0.2832 - accuracy: 0.8802 - val_loss: 0.3283 - val_accuracy: 0.8333\n",
      "Epoch 36/100\n",
      "242/242 [==============================] - 0s 239us/step - loss: 0.2763 - accuracy: 0.8926 - val_loss: 0.3265 - val_accuracy: 0.8333\n",
      "Epoch 37/100\n",
      "242/242 [==============================] - 0s 269us/step - loss: 0.2578 - accuracy: 0.8967 - val_loss: 0.3306 - val_accuracy: 0.8333\n",
      "Epoch 38/100\n",
      "242/242 [==============================] - 0s 320us/step - loss: 0.2652 - accuracy: 0.8926 - val_loss: 0.3255 - val_accuracy: 0.8333\n",
      "Epoch 39/100\n",
      "242/242 [==============================] - 0s 256us/step - loss: 0.2454 - accuracy: 0.9008 - val_loss: 0.3226 - val_accuracy: 0.8333\n",
      "Epoch 40/100\n",
      "242/242 [==============================] - 0s 334us/step - loss: 0.2870 - accuracy: 0.8967 - val_loss: 0.3255 - val_accuracy: 0.8000\n",
      "Epoch 41/100\n",
      "242/242 [==============================] - 0s 251us/step - loss: 0.2649 - accuracy: 0.8843 - val_loss: 0.3255 - val_accuracy: 0.8333\n",
      "Epoch 42/100\n",
      "242/242 [==============================] - 0s 252us/step - loss: 0.2587 - accuracy: 0.9008 - val_loss: 0.3191 - val_accuracy: 0.8333\n",
      "Epoch 43/100\n",
      "242/242 [==============================] - 0s 244us/step - loss: 0.2602 - accuracy: 0.9215 - val_loss: 0.3187 - val_accuracy: 0.8333\n",
      "Epoch 44/100\n",
      "242/242 [==============================] - 0s 294us/step - loss: 0.2464 - accuracy: 0.9174 - val_loss: 0.3233 - val_accuracy: 0.8333\n",
      "Epoch 45/100\n",
      "242/242 [==============================] - 0s 236us/step - loss: 0.2525 - accuracy: 0.9008 - val_loss: 0.3248 - val_accuracy: 0.8000\n",
      "Epoch 46/100\n",
      "242/242 [==============================] - 0s 302us/step - loss: 0.2504 - accuracy: 0.8967 - val_loss: 0.3244 - val_accuracy: 0.8333\n",
      "Epoch 47/100\n",
      "242/242 [==============================] - 0s 344us/step - loss: 0.2547 - accuracy: 0.9050 - val_loss: 0.3242 - val_accuracy: 0.8333\n",
      "Epoch 48/100\n",
      "242/242 [==============================] - 0s 271us/step - loss: 0.2380 - accuracy: 0.9050 - val_loss: 0.3242 - val_accuracy: 0.8333\n",
      "\n",
      "Epoch 00048: ReduceLROnPlateau reducing learning rate to 0.0002500000118743628.\n"
     ]
    },
    {
     "name": "stdout",
     "output_type": "stream",
     "text": [
      "Epoch 49/100\n",
      "242/242 [==============================] - 0s 352us/step - loss: 0.2419 - accuracy: 0.9174 - val_loss: 0.3303 - val_accuracy: 0.8333\n",
      "Epoch 50/100\n",
      "242/242 [==============================] - 0s 346us/step - loss: 0.2470 - accuracy: 0.9132 - val_loss: 0.3307 - val_accuracy: 0.8333\n",
      "Epoch 51/100\n",
      "242/242 [==============================] - 0s 300us/step - loss: 0.2454 - accuracy: 0.8967 - val_loss: 0.3305 - val_accuracy: 0.8333\n",
      "Epoch 52/100\n",
      "242/242 [==============================] - 0s 306us/step - loss: 0.2272 - accuracy: 0.9050 - val_loss: 0.3305 - val_accuracy: 0.8333\n",
      "Epoch 53/100\n",
      "242/242 [==============================] - 0s 293us/step - loss: 0.2407 - accuracy: 0.9091 - val_loss: 0.3313 - val_accuracy: 0.8333\n",
      "\n",
      "Epoch 00053: ReduceLROnPlateau reducing learning rate to 0.0001250000059371814.\n",
      "Epoch 54/100\n",
      "242/242 [==============================] - 0s 220us/step - loss: 0.2363 - accuracy: 0.9132 - val_loss: 0.3320 - val_accuracy: 0.8000\n",
      "Epoch 55/100\n",
      "242/242 [==============================] - 0s 208us/step - loss: 0.2403 - accuracy: 0.9215 - val_loss: 0.3300 - val_accuracy: 0.8000\n",
      "Epoch 56/100\n",
      "242/242 [==============================] - 0s 205us/step - loss: 0.2299 - accuracy: 0.9091 - val_loss: 0.3296 - val_accuracy: 0.8000\n",
      "Epoch 57/100\n",
      "242/242 [==============================] - 0s 225us/step - loss: 0.2439 - accuracy: 0.9091 - val_loss: 0.3286 - val_accuracy: 0.8000\n",
      "Epoch 58/100\n",
      "242/242 [==============================] - 0s 270us/step - loss: 0.2254 - accuracy: 0.9132 - val_loss: 0.3293 - val_accuracy: 0.8000\n",
      "\n",
      "Epoch 00058: ReduceLROnPlateau reducing learning rate to 6.25000029685907e-05.\n",
      "Epoch 59/100\n",
      "242/242 [==============================] - 0s 306us/step - loss: 0.2267 - accuracy: 0.9174 - val_loss: 0.3292 - val_accuracy: 0.8000\n",
      "Epoch 60/100\n",
      "242/242 [==============================] - 0s 295us/step - loss: 0.2570 - accuracy: 0.9091 - val_loss: 0.3291 - val_accuracy: 0.8000\n",
      "Epoch 61/100\n",
      "242/242 [==============================] - 0s 298us/step - loss: 0.2420 - accuracy: 0.9050 - val_loss: 0.3297 - val_accuracy: 0.8000\n",
      "Epoch 62/100\n",
      "242/242 [==============================] - 0s 284us/step - loss: 0.2294 - accuracy: 0.9174 - val_loss: 0.3291 - val_accuracy: 0.8000\n",
      "Epoch 63/100\n",
      "242/242 [==============================] - 0s 249us/step - loss: 0.2214 - accuracy: 0.9256 - val_loss: 0.3288 - val_accuracy: 0.8000\n",
      "\n",
      "Epoch 00063: ReduceLROnPlateau reducing learning rate to 3.125000148429535e-05.\n",
      "Epoch 64/100\n",
      "242/242 [==============================] - 0s 250us/step - loss: 0.2365 - accuracy: 0.9215 - val_loss: 0.3283 - val_accuracy: 0.8000\n",
      "Epoch 65/100\n",
      "242/242 [==============================] - 0s 255us/step - loss: 0.2512 - accuracy: 0.9008 - val_loss: 0.3289 - val_accuracy: 0.8000\n",
      "Epoch 66/100\n",
      "242/242 [==============================] - 0s 256us/step - loss: 0.2450 - accuracy: 0.8967 - val_loss: 0.3289 - val_accuracy: 0.8000\n",
      "Epoch 67/100\n",
      "242/242 [==============================] - 0s 297us/step - loss: 0.2407 - accuracy: 0.9174 - val_loss: 0.3289 - val_accuracy: 0.8000\n",
      "Epoch 68/100\n",
      "242/242 [==============================] - 0s 233us/step - loss: 0.2511 - accuracy: 0.8967 - val_loss: 0.3286 - val_accuracy: 0.8000\n",
      "Restoring model weights from the end of the best epoch\n",
      "\n",
      "Epoch 00068: ReduceLROnPlateau reducing learning rate to 1.5625000742147677e-05.\n",
      "Epoch 00068: early stopping\n"
     ]
    }
   ],
   "source": [
    "nn_unbalanced = make_model()\n",
    "nn_unbalanced.summary()\n",
    "history = nn_unbalanced.fit(X_train, y_train, validation_data = (X_val, y_val), epochs=100, batch_size=16, verbose=1, \n",
    "                           callbacks=callbacks)\n",
    "\n"
   ]
  },
  {
   "cell_type": "code",
   "execution_count": 147,
   "metadata": {},
   "outputs": [
    {
     "data": {
      "image/png": "[encoded data removed]",
      "text/plain": [
       "<Figure size 432x288 with 1 Axes>"
      ]
     },
     "metadata": {
      "needs_background": "light"
     },
     "output_type": "display_data"
    }
   ],
   "source": [
    "plt.title('Loss curves')\n",
    "plt.plot(history.history['loss'], label='training loss')\n",
    "plt.plot(history.history['val_loss'], label='validation loss')\n",
    "plt.legend()\n",
    "plt.show()\n"
   ]
  },
  {
   "cell_type": "code",
   "execution_count": 148,
   "metadata": {},
   "outputs": [
    {
     "name": "stdout",
     "output_type": "stream",
     "text": [
      "Unbalanced ROC_value:  0.9310344827586207\n"
     ]
    }
   ],
   "source": [
    "rf_probs = nn_unbalanced.predict(X_oos)\n",
    "roc_value = roc_auc_score(y_oos, rf_probs)\n",
    "print(\"Unbalanced ROC_value: \", roc_value)\n"
   ]
  },
  {
   "cell_type": "markdown",
   "metadata": {},
   "source": [
    "#### Now with a continuously-balanced dataset"
   ]
  },
  {
   "cell_type": "code",
   "execution_count": 149,
   "metadata": {},
   "outputs": [
    {
     "name": "stdout",
     "output_type": "stream",
     "text": [
      "Train on 242 samples, validate on 30 samples\n",
      "Epoch 1/100\n",
      "242/242 [==============================] - 2s 8ms/step - loss: 0.7009 - accuracy: 0.4876 - val_loss: 0.6779 - val_accuracy: 0.7000\n",
      "Epoch 2/100\n",
      "242/242 [==============================] - 0s 248us/step - loss: 0.6570 - accuracy: 0.6488 - val_loss: 0.6541 - val_accuracy: 0.7333\n",
      "Epoch 3/100\n",
      "242/242 [==============================] - 0s 316us/step - loss: 0.6372 - accuracy: 0.6777 - val_loss: 0.6086 - val_accuracy: 0.8000\n",
      "Epoch 4/100\n",
      "242/242 [==============================] - 0s 246us/step - loss: 0.5911 - accuracy: 0.7479 - val_loss: 0.5521 - val_accuracy: 0.8000\n",
      "Epoch 5/100\n",
      "242/242 [==============================] - 0s 300us/step - loss: 0.4999 - accuracy: 0.7603 - val_loss: 0.5009 - val_accuracy: 0.7667\n",
      "Epoch 6/100\n",
      "242/242 [==============================] - 0s 239us/step - loss: 0.4504 - accuracy: 0.7686 - val_loss: 0.4587 - val_accuracy: 0.8000\n",
      "Epoch 7/100\n",
      "242/242 [==============================] - 0s 270us/step - loss: 0.4065 - accuracy: 0.8099 - val_loss: 0.4315 - val_accuracy: 0.8000\n",
      "Epoch 8/100\n",
      "242/242 [==============================] - 0s 214us/step - loss: 0.3792 - accuracy: 0.8099 - val_loss: 0.4082 - val_accuracy: 0.8000\n",
      "Epoch 9/100\n",
      "242/242 [==============================] - 0s 217us/step - loss: 0.3230 - accuracy: 0.8347 - val_loss: 0.3829 - val_accuracy: 0.8000\n",
      "Epoch 10/100\n",
      "242/242 [==============================] - 0s 223us/step - loss: 0.3091 - accuracy: 0.8471 - val_loss: 0.3759 - val_accuracy: 0.8000\n",
      "Epoch 11/100\n",
      "242/242 [==============================] - 0s 220us/step - loss: 0.2880 - accuracy: 0.8306 - val_loss: 0.3691 - val_accuracy: 0.8000\n",
      "Epoch 12/100\n",
      "242/242 [==============================] - 0s 207us/step - loss: 0.2723 - accuracy: 0.8554 - val_loss: 0.3623 - val_accuracy: 0.8000\n",
      "Epoch 13/100\n",
      "242/242 [==============================] - 0s 247us/step - loss: 0.2567 - accuracy: 0.8388 - val_loss: 0.3612 - val_accuracy: 0.8333\n",
      "Epoch 14/100\n",
      "242/242 [==============================] - 0s 204us/step - loss: 0.2928 - accuracy: 0.8223 - val_loss: 0.3587 - val_accuracy: 0.8667\n",
      "Epoch 15/100\n",
      "242/242 [==============================] - 0s 218us/step - loss: 0.2537 - accuracy: 0.8595 - val_loss: 0.3505 - val_accuracy: 0.8000\n",
      "Epoch 16/100\n",
      "242/242 [==============================] - 0s 202us/step - loss: 0.2569 - accuracy: 0.8636 - val_loss: 0.3516 - val_accuracy: 0.8000\n",
      "Epoch 17/100\n",
      "242/242 [==============================] - 0s 206us/step - loss: 0.2335 - accuracy: 0.8719 - val_loss: 0.3547 - val_accuracy: 0.8000\n",
      "Epoch 18/100\n",
      "242/242 [==============================] - 0s 203us/step - loss: 0.2305 - accuracy: 0.8595 - val_loss: 0.3597 - val_accuracy: 0.8000\n",
      "Epoch 19/100\n",
      "242/242 [==============================] - 0s 196us/step - loss: 0.2388 - accuracy: 0.8471 - val_loss: 0.3528 - val_accuracy: 0.8000\n",
      "Epoch 20/100\n",
      "242/242 [==============================] - 0s 193us/step - loss: 0.2248 - accuracy: 0.8678 - val_loss: 0.3517 - val_accuracy: 0.8333\n",
      "\n",
      "Epoch 00020: ReduceLROnPlateau reducing learning rate to 0.0005000000237487257.\n",
      "Epoch 21/100\n",
      "242/242 [==============================] - 0s 315us/step - loss: 0.2323 - accuracy: 0.8760 - val_loss: 0.3536 - val_accuracy: 0.8333\n",
      "Epoch 22/100\n",
      "242/242 [==============================] - 0s 314us/step - loss: 0.2275 - accuracy: 0.8802 - val_loss: 0.3523 - val_accuracy: 0.8333\n",
      "Epoch 23/100\n",
      "242/242 [==============================] - 0s 311us/step - loss: 0.2320 - accuracy: 0.8719 - val_loss: 0.3534 - val_accuracy: 0.8333\n",
      "Epoch 24/100\n",
      "242/242 [==============================] - 0s 245us/step - loss: 0.2152 - accuracy: 0.8719 - val_loss: 0.3532 - val_accuracy: 0.8333\n",
      "Epoch 25/100\n",
      "242/242 [==============================] - 0s 429us/step - loss: 0.2331 - accuracy: 0.8760 - val_loss: 0.3495 - val_accuracy: 0.8333\n",
      "Epoch 26/100\n",
      "242/242 [==============================] - 0s 389us/step - loss: 0.2336 - accuracy: 0.8595 - val_loss: 0.3490 - val_accuracy: 0.8333\n",
      "Epoch 27/100\n",
      "242/242 [==============================] - 0s 400us/step - loss: 0.2200 - accuracy: 0.8678 - val_loss: 0.3485 - val_accuracy: 0.8333\n",
      "Epoch 28/100\n",
      "242/242 [==============================] - 0s 323us/step - loss: 0.2161 - accuracy: 0.8802 - val_loss: 0.3477 - val_accuracy: 0.8333\n",
      "Epoch 29/100\n",
      "242/242 [==============================] - 0s 255us/step - loss: 0.2253 - accuracy: 0.8802 - val_loss: 0.3455 - val_accuracy: 0.8333\n",
      "Epoch 30/100\n",
      "242/242 [==============================] - 0s 254us/step - loss: 0.2084 - accuracy: 0.8926 - val_loss: 0.3417 - val_accuracy: 0.8333\n",
      "Epoch 31/100\n",
      "242/242 [==============================] - 0s 250us/step - loss: 0.2149 - accuracy: 0.8636 - val_loss: 0.3382 - val_accuracy: 0.8333\n",
      "Epoch 32/100\n",
      "242/242 [==============================] - 0s 249us/step - loss: 0.2292 - accuracy: 0.8802 - val_loss: 0.3415 - val_accuracy: 0.8667\n",
      "Epoch 33/100\n",
      "242/242 [==============================] - 0s 254us/step - loss: 0.2047 - accuracy: 0.9008 - val_loss: 0.3410 - val_accuracy: 0.8667\n",
      "Epoch 34/100\n",
      "242/242 [==============================] - 0s 259us/step - loss: 0.2018 - accuracy: 0.8843 - val_loss: 0.3404 - val_accuracy: 0.8667\n",
      "Epoch 35/100\n",
      "242/242 [==============================] - 0s 301us/step - loss: 0.1971 - accuracy: 0.8967 - val_loss: 0.3411 - val_accuracy: 0.8333\n",
      "Epoch 36/100\n",
      "242/242 [==============================] - 0s 299us/step - loss: 0.2224 - accuracy: 0.8595 - val_loss: 0.3304 - val_accuracy: 0.8333\n",
      "Epoch 37/100\n",
      "242/242 [==============================] - 0s 298us/step - loss: 0.2030 - accuracy: 0.8926 - val_loss: 0.3252 - val_accuracy: 0.8333\n",
      "Epoch 38/100\n",
      "242/242 [==============================] - 0s 310us/step - loss: 0.2216 - accuracy: 0.8636 - val_loss: 0.3288 - val_accuracy: 0.8333\n",
      "Epoch 39/100\n",
      "242/242 [==============================] - 0s 331us/step - loss: 0.2155 - accuracy: 0.8678 - val_loss: 0.3323 - val_accuracy: 0.8333\n",
      "Epoch 40/100\n",
      "242/242 [==============================] - 0s 325us/step - loss: 0.2008 - accuracy: 0.8719 - val_loss: 0.3307 - val_accuracy: 0.8333\n",
      "Epoch 41/100\n",
      "242/242 [==============================] - 0s 454us/step - loss: 0.1988 - accuracy: 0.8884 - val_loss: 0.3342 - val_accuracy: 0.8333\n",
      "Epoch 42/100\n",
      "242/242 [==============================] - 0s 427us/step - loss: 0.2146 - accuracy: 0.8678 - val_loss: 0.3343 - val_accuracy: 0.8333\n",
      "\n",
      "Epoch 00042: ReduceLROnPlateau reducing learning rate to 0.0002500000118743628.\n",
      "Epoch 43/100\n",
      "242/242 [==============================] - 0s 313us/step - loss: 0.1982 - accuracy: 0.8760 - val_loss: 0.3344 - val_accuracy: 0.8333\n",
      "Epoch 44/100\n",
      "242/242 [==============================] - 0s 326us/step - loss: 0.1796 - accuracy: 0.8926 - val_loss: 0.3349 - val_accuracy: 0.8333\n",
      "Epoch 45/100\n",
      "242/242 [==============================] - 0s 391us/step - loss: 0.1994 - accuracy: 0.8760 - val_loss: 0.3349 - val_accuracy: 0.8333\n",
      "Epoch 46/100\n",
      "242/242 [==============================] - 0s 431us/step - loss: 0.1900 - accuracy: 0.8967 - val_loss: 0.3359 - val_accuracy: 0.8000\n",
      "Epoch 47/100\n",
      "242/242 [==============================] - 0s 400us/step - loss: 0.1874 - accuracy: 0.8760 - val_loss: 0.3357 - val_accuracy: 0.8000\n",
      "\n",
      "Epoch 00047: ReduceLROnPlateau reducing learning rate to 0.0001250000059371814.\n",
      "Epoch 48/100\n",
      "242/242 [==============================] - 0s 383us/step - loss: 0.1814 - accuracy: 0.8760 - val_loss: 0.3368 - val_accuracy: 0.8000\n",
      "Epoch 49/100\n",
      "242/242 [==============================] - 0s 370us/step - loss: 0.1974 - accuracy: 0.8884 - val_loss: 0.3367 - val_accuracy: 0.8333\n",
      "Epoch 50/100\n",
      "242/242 [==============================] - 0s 322us/step - loss: 0.1918 - accuracy: 0.9050 - val_loss: 0.3363 - val_accuracy: 0.8333\n",
      "Epoch 51/100\n",
      "242/242 [==============================] - 0s 315us/step - loss: 0.2121 - accuracy: 0.8843 - val_loss: 0.3338 - val_accuracy: 0.8333\n",
      "Epoch 52/100\n",
      "242/242 [==============================] - 0s 339us/step - loss: 0.1978 - accuracy: 0.8843 - val_loss: 0.3338 - val_accuracy: 0.8333\n",
      "\n",
      "Epoch 00052: ReduceLROnPlateau reducing learning rate to 6.25000029685907e-05.\n",
      "Epoch 53/100\n",
      "242/242 [==============================] - 0s 329us/step - loss: 0.1912 - accuracy: 0.8719 - val_loss: 0.3333 - val_accuracy: 0.8667\n",
      "Epoch 54/100\n",
      "242/242 [==============================] - 0s 332us/step - loss: 0.1779 - accuracy: 0.9091 - val_loss: 0.3321 - val_accuracy: 0.8333\n"
     ]
    },
    {
     "name": "stdout",
     "output_type": "stream",
     "text": [
      "Epoch 55/100\n",
      "242/242 [==============================] - 0s 336us/step - loss: 0.1930 - accuracy: 0.8884 - val_loss: 0.3328 - val_accuracy: 0.8000\n",
      "Epoch 56/100\n",
      "242/242 [==============================] - 0s 343us/step - loss: 0.1987 - accuracy: 0.8843 - val_loss: 0.3329 - val_accuracy: 0.8000\n",
      "Epoch 57/100\n",
      "242/242 [==============================] - 0s 325us/step - loss: 0.1953 - accuracy: 0.8926 - val_loss: 0.3327 - val_accuracy: 0.8000\n",
      "\n",
      "Epoch 00057: ReduceLROnPlateau reducing learning rate to 3.125000148429535e-05.\n",
      "Epoch 58/100\n",
      "242/242 [==============================] - 0s 369us/step - loss: 0.1795 - accuracy: 0.8967 - val_loss: 0.3326 - val_accuracy: 0.8000\n",
      "Epoch 59/100\n",
      "242/242 [==============================] - 0s 392us/step - loss: 0.1960 - accuracy: 0.8802 - val_loss: 0.3324 - val_accuracy: 0.8000\n",
      "Epoch 60/100\n",
      "242/242 [==============================] - 0s 308us/step - loss: 0.1843 - accuracy: 0.9091 - val_loss: 0.3325 - val_accuracy: 0.8000\n",
      "Epoch 61/100\n",
      "242/242 [==============================] - 0s 342us/step - loss: 0.2145 - accuracy: 0.8719 - val_loss: 0.3327 - val_accuracy: 0.8000\n",
      "Epoch 62/100\n",
      "242/242 [==============================] - 0s 200us/step - loss: 0.2004 - accuracy: 0.8884 - val_loss: 0.3325 - val_accuracy: 0.8000\n",
      "Restoring model weights from the end of the best epoch\n",
      "\n",
      "Epoch 00062: ReduceLROnPlateau reducing learning rate to 1.5625000742147677e-05.\n",
      "Epoch 00062: early stopping\n"
     ]
    }
   ],
   "source": [
    "nn_balanced = make_model()\n",
    "history = nn_balanced.fit(X_train, y_train, validation_data = (X_val, y_val), epochs=100, batch_size=16, verbose=1,\n",
    "                         callbacks=callbacks, sample_weight=wts_tr\n",
    "                         )\n"
   ]
  },
  {
   "cell_type": "code",
   "execution_count": 150,
   "metadata": {},
   "outputs": [
    {
     "data": {
      "image/png": "[encoded data removed]",
      "text/plain": [
       "<Figure size 432x288 with 1 Axes>"
      ]
     },
     "metadata": {
      "needs_background": "light"
     },
     "output_type": "display_data"
    },
    {
     "name": "stdout",
     "output_type": "stream",
     "text": [
      "Balanced ROC_value:  0.9439655172413794\n"
     ]
    }
   ],
   "source": [
    "plt.title('Loss curves')\n",
    "plt.plot(history.history['loss'], label='training loss')\n",
    "plt.plot(history.history['val_loss'], label='validation loss')\n",
    "plt.legend()\n",
    "plt.show()\n",
    "\n",
    "\n",
    "rf_probs_bal = nn_balanced.predict(X_oos)\n",
    "roc_value_bal = roc_auc_score(y_oos, rf_probs_bal)\n",
    "print(\"Balanced ROC_value: \", roc_value_bal)\n"
   ]
  },
  {
   "cell_type": "markdown",
   "metadata": {},
   "source": [
    "### Now evaluating *both* models on ages below 60"
   ]
  },
  {
   "cell_type": "code",
   "execution_count": 151,
   "metadata": {},
   "outputs": [
    {
     "name": "stdout",
     "output_type": "stream",
     "text": [
      "Unbalanced ROC_value:  0.928030303030303\n",
      "Balanced ROC_value:  0.9450757575757576\n"
     ]
    }
   ],
   "source": [
    "## X_below & y_below defined at start of notebook\n",
    "\n",
    "rf_probs = nn_unbalanced.predict(X_below)\n",
    "roc_value = roc_auc_score(y_below, rf_probs)\n",
    "print(\"Unbalanced ROC_value: \", roc_value)\n",
    "\n",
    "rf_probs_bal = nn_balanced.predict(X_below)\n",
    "roc_value_bal = roc_auc_score(y_below, rf_probs_bal)\n",
    "print(\"Balanced ROC_value: \", roc_value_bal)\n"
   ]
  },
  {
   "cell_type": "markdown",
   "metadata": {},
   "source": [
    "The unbalanced model's performance *decreases* for ages < 60, but the balanced model's performance **improves** for that age group."
   ]
  }
 ],
 "metadata": {
  "kernelspec": {
   "display_name": "Python 3",
   "language": "python",
   "name": "python3"
  },
  "language_info": {
   "codemirror_mode": {
    "name": "ipython",
    "version": 3
   },
   "file_extension": ".py",
   "mimetype": "text/x-python",
   "name": "python",
   "nbconvert_exporter": "python",
   "pygments_lexer": "ipython3",
   "version": "3.7.0"
  }
 },
 "nbformat": 4,
 "nbformat_minor": 4
}
