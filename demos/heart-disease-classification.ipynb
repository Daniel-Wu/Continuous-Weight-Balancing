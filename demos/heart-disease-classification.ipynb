{
 "cells": [
  {
   "cell_type": "markdown",
   "metadata": {
    "papermill": {
     "duration": 0.091532,
     "end_time": "2020-11-21T06:21:03.845129",
     "exception": false,
     "start_time": "2020-11-21T06:21:03.753597",
     "status": "completed"
    },
    "tags": []
   },
   "source": [
    "# Using EDA and Machine Learning to Predict Heart Disease"
   ]
  },
  {
   "cell_type": "markdown",
   "metadata": {
    "papermill": {
     "duration": 0.091289,
     "end_time": "2020-11-21T06:21:04.026493",
     "exception": false,
     "start_time": "2020-11-21T06:21:03.935204",
     "status": "completed"
    },
    "tags": []
   },
   "source": [
    "Task:\n",
    "    \n",
    "    Given various parameters about a patient, can we predict whether or not they have heart disease?"
   ]
  },
  {
   "cell_type": "markdown",
   "metadata": {
    "papermill": {
     "duration": 0.089828,
     "end_time": "2020-11-21T06:21:04.206502",
     "exception": false,
     "start_time": "2020-11-21T06:21:04.116674",
     "status": "completed"
    },
    "tags": []
   },
   "source": [
    "**In this notebook we are going to perform Exploratory Data Analysis and use various Machine Learning Models to predict whether the patient has heart disease or not depending on the values of various features. I will be using Bokeh and a little bit of Seaborn to plot the graphs.**\n",
    "\n",
    "**Please Upvote if you like the notebook and do provide your valuable feedback.**"
   ]
  },
  {
   "cell_type": "markdown",
   "metadata": {
    "papermill": {
     "duration": 0.091568,
     "end_time": "2020-11-21T06:21:04.387635",
     "exception": false,
     "start_time": "2020-11-21T06:21:04.296067",
     "status": "completed"
    },
    "tags": []
   },
   "source": [
    "#### Loading the libraries"
   ]
  },
  {
   "cell_type": "code",
   "execution_count": 1,
   "metadata": {
    "_cell_guid": "b1076dfc-b9ad-4769-8c92-a6c4dae69d19",
    "_uuid": "8f2839f25d086af736a60e9eeb907d3b93b6e0e5",
    "execution": {
     "iopub.execute_input": "2020-11-21T06:21:04.575844Z",
     "iopub.status.busy": "2020-11-21T06:21:04.574846Z",
     "iopub.status.idle": "2020-11-21T06:21:04.578131Z",
     "shell.execute_reply": "2020-11-21T06:21:04.577345Z"
    },
    "papermill": {
     "duration": 0.102515,
     "end_time": "2020-11-21T06:21:04.578269",
     "exception": false,
     "start_time": "2020-11-21T06:21:04.475754",
     "status": "completed"
    },
    "tags": []
   },
   "outputs": [],
   "source": [
    "import numpy as np \n",
    "import pandas as pd"
   ]
  },
  {
   "cell_type": "markdown",
   "metadata": {
    "papermill": {
     "duration": 0.092055,
     "end_time": "2020-11-21T06:21:04.765116",
     "exception": false,
     "start_time": "2020-11-21T06:21:04.673061",
     "status": "completed"
    },
    "tags": []
   },
   "source": [
    "#### Loading the dataset"
   ]
  },
  {
   "cell_type": "code",
   "execution_count": 2,
   "metadata": {
    "_cell_guid": "79c7e3d0-c299-4dcb-8224-4455121ee9b0",
    "_uuid": "d629ff2d2480ee46fbb7e2d37f6b5fab8052498a",
    "execution": {
     "iopub.execute_input": "2020-11-21T06:21:04.962152Z",
     "iopub.status.busy": "2020-11-21T06:21:04.960922Z",
     "iopub.status.idle": "2020-11-21T06:21:04.973766Z",
     "shell.execute_reply": "2020-11-21T06:21:04.972910Z"
    },
    "papermill": {
     "duration": 0.116068,
     "end_time": "2020-11-21T06:21:04.973915",
     "exception": false,
     "start_time": "2020-11-21T06:21:04.857847",
     "status": "completed"
    },
    "tags": []
   },
   "outputs": [],
   "source": [
    "df = pd.read_csv('/kaggle/input/heart-disease-uci/heart.csv')"
   ]
  },
  {
   "cell_type": "code",
   "execution_count": 3,
   "metadata": {
    "execution": {
     "iopub.execute_input": "2020-11-21T06:21:05.175771Z",
     "iopub.status.busy": "2020-11-21T06:21:05.168360Z",
     "iopub.status.idle": "2020-11-21T06:21:05.194703Z",
     "shell.execute_reply": "2020-11-21T06:21:05.193882Z"
    },
    "papermill": {
     "duration": 0.129849,
     "end_time": "2020-11-21T06:21:05.194835",
     "exception": false,
     "start_time": "2020-11-21T06:21:05.064986",
     "status": "completed"
    },
    "tags": []
   },
   "outputs": [
    {
     "data": {
      "text/html": [
       "<div>\n",
       "<style scoped>\n",
       "    .dataframe tbody tr th:only-of-type {\n",
       "        vertical-align: middle;\n",
       "    }\n",
       "\n",
       "    .dataframe tbody tr th {\n",
       "        vertical-align: top;\n",
       "    }\n",
       "\n",
       "    .dataframe thead th {\n",
       "        text-align: right;\n",
       "    }\n",
       "</style>\n",
       "<table border=\"1\" class=\"dataframe\">\n",
       "  <thead>\n",
       "    <tr style=\"text-align: right;\">\n",
       "      <th></th>\n",
       "      <th>age</th>\n",
       "      <th>sex</th>\n",
       "      <th>cp</th>\n",
       "      <th>trestbps</th>\n",
       "      <th>chol</th>\n",
       "      <th>fbs</th>\n",
       "      <th>restecg</th>\n",
       "      <th>thalach</th>\n",
       "      <th>exang</th>\n",
       "      <th>oldpeak</th>\n",
       "      <th>slope</th>\n",
       "      <th>ca</th>\n",
       "      <th>thal</th>\n",
       "      <th>target</th>\n",
       "    </tr>\n",
       "  </thead>\n",
       "  <tbody>\n",
       "    <tr>\n",
       "      <th>0</th>\n",
       "      <td>63</td>\n",
       "      <td>1</td>\n",
       "      <td>3</td>\n",
       "      <td>145</td>\n",
       "      <td>233</td>\n",
       "      <td>1</td>\n",
       "      <td>0</td>\n",
       "      <td>150</td>\n",
       "      <td>0</td>\n",
       "      <td>2.3</td>\n",
       "      <td>0</td>\n",
       "      <td>0</td>\n",
       "      <td>1</td>\n",
       "      <td>1</td>\n",
       "    </tr>\n",
       "    <tr>\n",
       "      <th>1</th>\n",
       "      <td>37</td>\n",
       "      <td>1</td>\n",
       "      <td>2</td>\n",
       "      <td>130</td>\n",
       "      <td>250</td>\n",
       "      <td>0</td>\n",
       "      <td>1</td>\n",
       "      <td>187</td>\n",
       "      <td>0</td>\n",
       "      <td>3.5</td>\n",
       "      <td>0</td>\n",
       "      <td>0</td>\n",
       "      <td>2</td>\n",
       "      <td>1</td>\n",
       "    </tr>\n",
       "    <tr>\n",
       "      <th>2</th>\n",
       "      <td>41</td>\n",
       "      <td>0</td>\n",
       "      <td>1</td>\n",
       "      <td>130</td>\n",
       "      <td>204</td>\n",
       "      <td>0</td>\n",
       "      <td>0</td>\n",
       "      <td>172</td>\n",
       "      <td>0</td>\n",
       "      <td>1.4</td>\n",
       "      <td>2</td>\n",
       "      <td>0</td>\n",
       "      <td>2</td>\n",
       "      <td>1</td>\n",
       "    </tr>\n",
       "    <tr>\n",
       "      <th>3</th>\n",
       "      <td>56</td>\n",
       "      <td>1</td>\n",
       "      <td>1</td>\n",
       "      <td>120</td>\n",
       "      <td>236</td>\n",
       "      <td>0</td>\n",
       "      <td>1</td>\n",
       "      <td>178</td>\n",
       "      <td>0</td>\n",
       "      <td>0.8</td>\n",
       "      <td>2</td>\n",
       "      <td>0</td>\n",
       "      <td>2</td>\n",
       "      <td>1</td>\n",
       "    </tr>\n",
       "    <tr>\n",
       "      <th>4</th>\n",
       "      <td>57</td>\n",
       "      <td>0</td>\n",
       "      <td>0</td>\n",
       "      <td>120</td>\n",
       "      <td>354</td>\n",
       "      <td>0</td>\n",
       "      <td>1</td>\n",
       "      <td>163</td>\n",
       "      <td>1</td>\n",
       "      <td>0.6</td>\n",
       "      <td>2</td>\n",
       "      <td>0</td>\n",
       "      <td>2</td>\n",
       "      <td>1</td>\n",
       "    </tr>\n",
       "  </tbody>\n",
       "</table>\n",
       "</div>"
      ],
      "text/plain": [
       "   age  sex  cp  trestbps  chol  fbs  restecg  thalach  exang  oldpeak  slope  \\\n",
       "0   63    1   3       145   233    1        0      150      0      2.3      0   \n",
       "1   37    1   2       130   250    0        1      187      0      3.5      0   \n",
       "2   41    0   1       130   204    0        0      172      0      1.4      2   \n",
       "3   56    1   1       120   236    0        1      178      0      0.8      2   \n",
       "4   57    0   0       120   354    0        1      163      1      0.6      2   \n",
       "\n",
       "   ca  thal  target  \n",
       "0   0     1       1  \n",
       "1   0     2       1  \n",
       "2   0     2       1  \n",
       "3   0     2       1  \n",
       "4   0     2       1  "
      ]
     },
     "execution_count": 3,
     "metadata": {},
     "output_type": "execute_result"
    }
   ],
   "source": [
    "df.head(5)"
   ]
  },
  {
   "cell_type": "code",
   "execution_count": 4,
   "metadata": {
    "execution": {
     "iopub.execute_input": "2020-11-21T06:21:05.392554Z",
     "iopub.status.busy": "2020-11-21T06:21:05.391062Z",
     "iopub.status.idle": "2020-11-21T06:21:05.396644Z",
     "shell.execute_reply": "2020-11-21T06:21:05.395745Z"
    },
    "papermill": {
     "duration": 0.109217,
     "end_time": "2020-11-21T06:21:05.396792",
     "exception": false,
     "start_time": "2020-11-21T06:21:05.287575",
     "status": "completed"
    },
    "tags": []
   },
   "outputs": [
    {
     "data": {
      "text/plain": [
       "Index(['age', 'sex', 'cp', 'trestbps', 'chol', 'fbs', 'restecg', 'thalach',\n",
       "       'exang', 'oldpeak', 'slope', 'ca', 'thal', 'target'],\n",
       "      dtype='object')"
      ]
     },
     "execution_count": 4,
     "metadata": {},
     "output_type": "execute_result"
    }
   ],
   "source": [
    "df.columns"
   ]
  },
  {
   "cell_type": "markdown",
   "metadata": {
    "papermill": {
     "duration": 0.092964,
     "end_time": "2020-11-21T06:21:05.586289",
     "exception": false,
     "start_time": "2020-11-21T06:21:05.493325",
     "status": "completed"
    },
    "tags": []
   },
   "source": [
    "## Features"
   ]
  },
  {
   "cell_type": "markdown",
   "metadata": {
    "papermill": {
     "duration": 0.101298,
     "end_time": "2020-11-21T06:21:05.781698",
     "exception": false,
     "start_time": "2020-11-21T06:21:05.680400",
     "status": "completed"
    },
    "tags": []
   },
   "source": [
    "Let's have a look at what each of these columns means:\n",
    "\n",
    "1. **age** -> Age of the person.\n",
    "2. **sex** -> Sex of the person.  (1 = male; 0 = female)\n",
    "3. **cp** -> Chest Pain Type. It can take values of 0, 1, 2, 3.\n",
    "4. **trestbps** -> Resting Blood Presssure (Measured in mm Hg on admission to the hospital). It can take continuous values from 94 to 200.  \n",
    "5. **chol** -> Serum Cholestrol in mg/dl. It also takes continuous values.\n",
    "6. **fbs** -> Fasting Blood Sugar. It can take value of either 1 or 0.\n",
    "7. **restecg** -> Resting Electrocardiographic Results. It can take value of 0, 1 or 2.\n",
    "8. **thalach** -> Maximum Heart Rate achieved. It can take continuous value from 71 to 202.\n",
    "9. **exang** -> Exercise Induced Angina. It can take value either of 0 or 1.\n",
    "10. **oldpeak** -> ST depression induced by exercise relative to rest. It takes continuous decimal values.\n",
    "11. **slope** -> the slope of the peak exercise ST segment. It can take value of either 0, 1 or 2.\n",
    "12. **ca** -> Number of major vessels colored by flourosopy. It can take value of either 0, 1, 2, 3 or 4. \n",
    "13. **thal** -> 3 = normal; 6 = fixed defect; 7 = reversable defect\n",
    "14. **target** -> Indicates the presence or absence of heart disease. (= the predicted attribute)"
   ]
  },
  {
   "cell_type": "markdown",
   "metadata": {
    "papermill": {
     "duration": 0.098198,
     "end_time": "2020-11-21T06:21:05.981227",
     "exception": false,
     "start_time": "2020-11-21T06:21:05.883029",
     "status": "completed"
    },
    "tags": []
   },
   "source": [
    "For performing EDA, I will be using [Bokeh](https://bokeh.org)."
   ]
  },
  {
   "cell_type": "code",
   "execution_count": 5,
   "metadata": {
    "execution": {
     "iopub.execute_input": "2020-11-21T06:21:06.176356Z",
     "iopub.status.busy": "2020-11-21T06:21:06.175450Z",
     "iopub.status.idle": "2020-11-21T06:21:06.897647Z",
     "shell.execute_reply": "2020-11-21T06:21:06.898270Z"
    },
    "papermill": {
     "duration": 0.823282,
     "end_time": "2020-11-21T06:21:06.898457",
     "exception": false,
     "start_time": "2020-11-21T06:21:06.075175",
     "status": "completed"
    },
    "tags": []
   },
   "outputs": [],
   "source": [
    "from bokeh.io import output_notebook\n",
    "from bokeh.io import show\n",
    "from bokeh.plotting import figure\n",
    "from bokeh.transform import cumsum\n",
    "from bokeh.palettes import Spectral6\n",
    "from bokeh.models import ColumnDataSource\n",
    "from bokeh.layouts import gridplot\n",
    "from math import pi"
   ]
  },
  {
   "cell_type": "code",
   "execution_count": 6,
   "metadata": {
    "execution": {
     "iopub.execute_input": "2020-11-21T06:21:07.106587Z",
     "iopub.status.busy": "2020-11-21T06:21:07.104596Z",
     "iopub.status.idle": "2020-11-21T06:21:07.115546Z",
     "shell.execute_reply": "2020-11-21T06:21:07.114753Z"
    },
    "papermill": {
     "duration": 0.119499,
     "end_time": "2020-11-21T06:21:07.115684",
     "exception": false,
     "start_time": "2020-11-21T06:21:06.996185",
     "status": "completed"
    },
    "tags": []
   },
   "outputs": [
    {
     "data": {
      "text/html": [
       "\n",
       "    <div class=\"bk-root\">\n",
       "        <a href=\"https://bokeh.org\" target=\"_blank\" class=\"bk-logo bk-logo-small bk-logo-notebook\"></a>\n",
       "        <span id=\"1001\">Loading BokehJS ...</span>\n",
       "    </div>"
      ]
     },
     "metadata": {},
     "output_type": "display_data"
    },
    {
     "data": {
      "application/javascript": [
       "\n",
       "(function(root) {\n",
       "  function now() {\n",
       "    return new Date();\n",
       "  }\n",
       "\n",
       "  var force = true;\n",
       "\n",
       "  if (typeof root._bokeh_onload_callbacks === \"undefined\" || force === true) {\n",
       "    root._bokeh_onload_callbacks = [];\n",
       "    root._bokeh_is_loading = undefined;\n",
       "  }\n",
       "\n",
       "  var JS_MIME_TYPE = 'application/javascript';\n",
       "  var HTML_MIME_TYPE = 'text/html';\n",
       "  var EXEC_MIME_TYPE = 'application/vnd.bokehjs_exec.v0+json';\n",
       "  var CLASS_NAME = 'output_bokeh rendered_html';\n",
       "\n",
       "  /**\n",
       "   * Render data to the DOM node\n",
       "   */\n",
       "  function render(props, node) {\n",
       "    var script = document.createElement(\"script\");\n",
       "    node.appendChild(script);\n",
       "  }\n",
       "\n",
       "  /**\n",
       "   * Handle when an output is cleared or removed\n",
       "   */\n",
       "  function handleClearOutput(event, handle) {\n",
       "    var cell = handle.cell;\n",
       "\n",
       "    var id = cell.output_area._bokeh_element_id;\n",
       "    var server_id = cell.output_area._bokeh_server_id;\n",
       "    // Clean up Bokeh references\n",
       "    if (id != null && id in Bokeh.index) {\n",
       "      Bokeh.index[id].model.document.clear();\n",
       "      delete Bokeh.index[id];\n",
       "    }\n",
       "\n",
       "    if (server_id !== undefined) {\n",
       "      // Clean up Bokeh references\n",
       "      var cmd = \"from bokeh.io.state import curstate; print(curstate().uuid_to_server['\" + server_id + \"'].get_sessions()[0].document.roots[0]._id)\";\n",
       "      cell.notebook.kernel.execute(cmd, {\n",
       "        iopub: {\n",
       "          output: function(msg) {\n",
       "            var id = msg.content.text.trim();\n",
       "            if (id in Bokeh.index) {\n",
       "              Bokeh.index[id].model.document.clear();\n",
       "              delete Bokeh.index[id];\n",
       "            }\n",
       "          }\n",
       "        }\n",
       "      });\n",
       "      // Destroy server and session\n",
       "      var cmd = \"import bokeh.io.notebook as ion; ion.destroy_server('\" + server_id + \"')\";\n",
       "      cell.notebook.kernel.execute(cmd);\n",
       "    }\n",
       "  }\n",
       "\n",
       "  /**\n",
       "   * Handle when a new output is added\n",
       "   */\n",
       "  function handleAddOutput(event, handle) {\n",
       "    var output_area = handle.output_area;\n",
       "    var output = handle.output;\n",
       "\n",
       "    // limit handleAddOutput to display_data with EXEC_MIME_TYPE content only\n",
       "    if ((output.output_type != \"display_data\") || (!output.data.hasOwnProperty(EXEC_MIME_TYPE))) {\n",
       "      return\n",
       "    }\n",
       "\n",
       "    var toinsert = output_area.element.find(\".\" + CLASS_NAME.split(' ')[0]);\n",
       "\n",
       "    if (output.metadata[EXEC_MIME_TYPE][\"id\"] !== undefined) {\n",
       "      toinsert[toinsert.length - 1].firstChild.textContent = output.data[JS_MIME_TYPE];\n",
       "      // store reference to embed id on output_area\n",
       "      output_area._bokeh_element_id = output.metadata[EXEC_MIME_TYPE][\"id\"];\n",
       "    }\n",
       "    if (output.metadata[EXEC_MIME_TYPE][\"server_id\"] !== undefined) {\n",
       "      var bk_div = document.createElement(\"div\");\n",
       "      bk_div.innerHTML = output.data[HTML_MIME_TYPE];\n",
       "      var script_attrs = bk_div.children[0].attributes;\n",
       "      for (var i = 0; i < script_attrs.length; i++) {\n",
       "        toinsert[toinsert.length - 1].firstChild.setAttribute(script_attrs[i].name, script_attrs[i].value);\n",
       "        toinsert[toinsert.length - 1].firstChild.textContent = bk_div.children[0].textContent\n",
       "      }\n",
       "      // store reference to server id on output_area\n",
       "      output_area._bokeh_server_id = output.metadata[EXEC_MIME_TYPE][\"server_id\"];\n",
       "    }\n",
       "  }\n",
       "\n",
       "  function register_renderer(events, OutputArea) {\n",
       "\n",
       "    function append_mime(data, metadata, element) {\n",
       "      // create a DOM node to render to\n",
       "      var toinsert = this.create_output_subarea(\n",
       "        metadata,\n",
       "        CLASS_NAME,\n",
       "        EXEC_MIME_TYPE\n",
       "      );\n",
       "      this.keyboard_manager.register_events(toinsert);\n",
       "      // Render to node\n",
       "      var props = {data: data, metadata: metadata[EXEC_MIME_TYPE]};\n",
       "      render(props, toinsert[toinsert.length - 1]);\n",
       "      element.append(toinsert);\n",
       "      return toinsert\n",
       "    }\n",
       "\n",
       "    /* Handle when an output is cleared or removed */\n",
       "    events.on('clear_output.CodeCell', handleClearOutput);\n",
       "    events.on('delete.Cell', handleClearOutput);\n",
       "\n",
       "    /* Handle when a new output is added */\n",
       "    events.on('output_added.OutputArea', handleAddOutput);\n",
       "\n",
       "    /**\n",
       "     * Register the mime type and append_mime function with output_area\n",
       "     */\n",
       "    OutputArea.prototype.register_mime_type(EXEC_MIME_TYPE, append_mime, {\n",
       "      /* Is output safe? */\n",
       "      safe: true,\n",
       "      /* Index of renderer in `output_area.display_order` */\n",
       "      index: 0\n",
       "    });\n",
       "  }\n",
       "\n",
       "  // register the mime type if in Jupyter Notebook environment and previously unregistered\n",
       "  if (root.Jupyter !== undefined) {\n",
       "    var events = require('base/js/events');\n",
       "    var OutputArea = require('notebook/js/outputarea').OutputArea;\n",
       "\n",
       "    if (OutputArea.prototype.mime_types().indexOf(EXEC_MIME_TYPE) == -1) {\n",
       "      register_renderer(events, OutputArea);\n",
       "    }\n",
       "  }\n",
       "\n",
       "  \n",
       "  if (typeof (root._bokeh_timeout) === \"undefined\" || force === true) {\n",
       "    root._bokeh_timeout = Date.now() + 5000;\n",
       "    root._bokeh_failed_load = false;\n",
       "  }\n",
       "\n",
       "  var NB_LOAD_WARNING = {'data': {'text/html':\n",
       "     \"<div style='background-color: #fdd'>\\n\"+\n",
       "     \"<p>\\n\"+\n",
       "     \"BokehJS does not appear to have successfully loaded. If loading BokehJS from CDN, this \\n\"+\n",
       "     \"may be due to a slow or bad network connection. Possible fixes:\\n\"+\n",
       "     \"</p>\\n\"+\n",
       "     \"<ul>\\n\"+\n",
       "     \"<li>re-rerun `output_notebook()` to attempt to load from CDN again, or</li>\\n\"+\n",
       "     \"<li>use INLINE resources instead, as so:</li>\\n\"+\n",
       "     \"</ul>\\n\"+\n",
       "     \"<code>\\n\"+\n",
       "     \"from bokeh.resources import INLINE\\n\"+\n",
       "     \"output_notebook(resources=INLINE)\\n\"+\n",
       "     \"</code>\\n\"+\n",
       "     \"</div>\"}};\n",
       "\n",
       "  function display_loaded() {\n",
       "    var el = document.getElementById(\"1001\");\n",
       "    if (el != null) {\n",
       "      el.textContent = \"BokehJS is loading...\";\n",
       "    }\n",
       "    if (root.Bokeh !== undefined) {\n",
       "      if (el != null) {\n",
       "        el.textContent = \"BokehJS \" + root.Bokeh.version + \" successfully loaded.\";\n",
       "      }\n",
       "    } else if (Date.now() < root._bokeh_timeout) {\n",
       "      setTimeout(display_loaded, 100)\n",
       "    }\n",
       "  }\n",
       "\n",
       "\n",
       "  function run_callbacks() {\n",
       "    try {\n",
       "      root._bokeh_onload_callbacks.forEach(function(callback) {\n",
       "        if (callback != null)\n",
       "          callback();\n",
       "      });\n",
       "    } finally {\n",
       "      delete root._bokeh_onload_callbacks\n",
       "    }\n",
       "    console.debug(\"Bokeh: all callbacks have finished\");\n",
       "  }\n",
       "\n",
       "  function load_libs(css_urls, js_urls, callback) {\n",
       "    if (css_urls == null) css_urls = [];\n",
       "    if (js_urls == null) js_urls = [];\n",
       "\n",
       "    root._bokeh_onload_callbacks.push(callback);\n",
       "    if (root._bokeh_is_loading > 0) {\n",
       "      console.debug(\"Bokeh: BokehJS is being loaded, scheduling callback at\", now());\n",
       "      return null;\n",
       "    }\n",
       "    if (js_urls == null || js_urls.length === 0) {\n",
       "      run_callbacks();\n",
       "      return null;\n",
       "    }\n",
       "    console.debug(\"Bokeh: BokehJS not loaded, scheduling load and callback at\", now());\n",
       "    root._bokeh_is_loading = css_urls.length + js_urls.length;\n",
       "\n",
       "    function on_load() {\n",
       "      root._bokeh_is_loading--;\n",
       "      if (root._bokeh_is_loading === 0) {\n",
       "        console.debug(\"Bokeh: all BokehJS libraries/stylesheets loaded\");\n",
       "        run_callbacks()\n",
       "      }\n",
       "    }\n",
       "\n",
       "    function on_error() {\n",
       "      console.error(\"failed to load \" + url);\n",
       "    }\n",
       "\n",
       "    for (var i = 0; i < css_urls.length; i++) {\n",
       "      var url = css_urls[i];\n",
       "      const element = document.createElement(\"link\");\n",
       "      element.onload = on_load;\n",
       "      element.onerror = on_error;\n",
       "      element.rel = \"stylesheet\";\n",
       "      element.type = \"text/css\";\n",
       "      element.href = url;\n",
       "      console.debug(\"Bokeh: injecting link tag for BokehJS stylesheet: \", url);\n",
       "      document.body.appendChild(element);\n",
       "    }\n",
       "\n",
       "    const hashes = {\"https://cdn.bokeh.org/bokeh/release/bokeh-2.2.3.min.js\": \"T2yuo9Oe71Cz/I4X9Ac5+gpEa5a8PpJCDlqKYO0CfAuEszu1JrXLl8YugMqYe3sM\", \"https://cdn.bokeh.org/bokeh/release/bokeh-widgets-2.2.3.min.js\": \"98GDGJ0kOMCUMUePhksaQ/GYgB3+NH9h996V88sh3aOiUNX3N+fLXAtry6xctSZ6\", \"https://cdn.bokeh.org/bokeh/release/bokeh-tables-2.2.3.min.js\": \"89bArO+nlbP3sgakeHjCo1JYxYR5wufVgA3IbUvDY+K7w4zyxJqssu7wVnfeKCq8\"};\n",
       "\n",
       "    for (var i = 0; i < js_urls.length; i++) {\n",
       "      var url = js_urls[i];\n",
       "      var element = document.createElement('script');\n",
       "      element.onload = on_load;\n",
       "      element.onerror = on_error;\n",
       "      element.async = false;\n",
       "      element.src = url;\n",
       "      if (url in hashes) {\n",
       "        element.crossOrigin = \"anonymous\";\n",
       "        element.integrity = \"sha384-\" + hashes[url];\n",
       "      }\n",
       "      console.debug(\"Bokeh: injecting script tag for BokehJS library: \", url);\n",
       "      document.head.appendChild(element);\n",
       "    }\n",
       "  };\n",
       "\n",
       "  function inject_raw_css(css) {\n",
       "    const element = document.createElement(\"style\");\n",
       "    element.appendChild(document.createTextNode(css));\n",
       "    document.body.appendChild(element);\n",
       "  }\n",
       "\n",
       "  \n",
       "  var js_urls = [\"https://cdn.bokeh.org/bokeh/release/bokeh-2.2.3.min.js\", \"https://cdn.bokeh.org/bokeh/release/bokeh-widgets-2.2.3.min.js\", \"https://cdn.bokeh.org/bokeh/release/bokeh-tables-2.2.3.min.js\"];\n",
       "  var css_urls = [];\n",
       "  \n",
       "\n",
       "  var inline_js = [\n",
       "    function(Bokeh) {\n",
       "      Bokeh.set_log_level(\"info\");\n",
       "    },\n",
       "    function(Bokeh) {\n",
       "    \n",
       "    \n",
       "    }\n",
       "  ];\n",
       "\n",
       "  function run_inline_js() {\n",
       "    \n",
       "    if (root.Bokeh !== undefined || force === true) {\n",
       "      \n",
       "    for (var i = 0; i < inline_js.length; i++) {\n",
       "      inline_js[i].call(root, root.Bokeh);\n",
       "    }\n",
       "    if (force === true) {\n",
       "        display_loaded();\n",
       "      }} else if (Date.now() < root._bokeh_timeout) {\n",
       "      setTimeout(run_inline_js, 100);\n",
       "    } else if (!root._bokeh_failed_load) {\n",
       "      console.log(\"Bokeh: BokehJS failed to load within specified timeout.\");\n",
       "      root._bokeh_failed_load = true;\n",
       "    } else if (force !== true) {\n",
       "      var cell = $(document.getElementById(\"1001\")).parents('.cell').data().cell;\n",
       "      cell.output_area.append_execute_result(NB_LOAD_WARNING)\n",
       "    }\n",
       "\n",
       "  }\n",
       "\n",
       "  if (root._bokeh_is_loading === 0) {\n",
       "    console.debug(\"Bokeh: BokehJS loaded, going straight to plotting\");\n",
       "    run_inline_js();\n",
       "  } else {\n",
       "    load_libs(css_urls, js_urls, function() {\n",
       "      console.debug(\"Bokeh: BokehJS plotting callback run at\", now());\n",
       "      run_inline_js();\n",
       "    });\n",
       "  }\n",
       "}(window));"
      ],
      "application/vnd.bokehjs_load.v0+json": "\n(function(root) {\n  function now() {\n    return new Date();\n  }\n\n  var force = true;\n\n  if (typeof root._bokeh_onload_callbacks === \"undefined\" || force === true) {\n    root._bokeh_onload_callbacks = [];\n    root._bokeh_is_loading = undefined;\n  }\n\n  \n\n  \n  if (typeof (root._bokeh_timeout) === \"undefined\" || force === true) {\n    root._bokeh_timeout = Date.now() + 5000;\n    root._bokeh_failed_load = false;\n  }\n\n  var NB_LOAD_WARNING = {'data': {'text/html':\n     \"<div style='background-color: #fdd'>\\n\"+\n     \"<p>\\n\"+\n     \"BokehJS does not appear to have successfully loaded. If loading BokehJS from CDN, this \\n\"+\n     \"may be due to a slow or bad network connection. Possible fixes:\\n\"+\n     \"</p>\\n\"+\n     \"<ul>\\n\"+\n     \"<li>re-rerun `output_notebook()` to attempt to load from CDN again, or</li>\\n\"+\n     \"<li>use INLINE resources instead, as so:</li>\\n\"+\n     \"</ul>\\n\"+\n     \"<code>\\n\"+\n     \"from bokeh.resources import INLINE\\n\"+\n     \"output_notebook(resources=INLINE)\\n\"+\n     \"</code>\\n\"+\n     \"</div>\"}};\n\n  function display_loaded() {\n    var el = document.getElementById(\"1001\");\n    if (el != null) {\n      el.textContent = \"BokehJS is loading...\";\n    }\n    if (root.Bokeh !== undefined) {\n      if (el != null) {\n        el.textContent = \"BokehJS \" + root.Bokeh.version + \" successfully loaded.\";\n      }\n    } else if (Date.now() < root._bokeh_timeout) {\n      setTimeout(display_loaded, 100)\n    }\n  }\n\n\n  function run_callbacks() {\n    try {\n      root._bokeh_onload_callbacks.forEach(function(callback) {\n        if (callback != null)\n          callback();\n      });\n    } finally {\n      delete root._bokeh_onload_callbacks\n    }\n    console.debug(\"Bokeh: all callbacks have finished\");\n  }\n\n  function load_libs(css_urls, js_urls, callback) {\n    if (css_urls == null) css_urls = [];\n    if (js_urls == null) js_urls = [];\n\n    root._bokeh_onload_callbacks.push(callback);\n    if (root._bokeh_is_loading > 0) {\n      console.debug(\"Bokeh: BokehJS is being loaded, scheduling callback at\", now());\n      return null;\n    }\n    if (js_urls == null || js_urls.length === 0) {\n      run_callbacks();\n      return null;\n    }\n    console.debug(\"Bokeh: BokehJS not loaded, scheduling load and callback at\", now());\n    root._bokeh_is_loading = css_urls.length + js_urls.length;\n\n    function on_load() {\n      root._bokeh_is_loading--;\n      if (root._bokeh_is_loading === 0) {\n        console.debug(\"Bokeh: all BokehJS libraries/stylesheets loaded\");\n        run_callbacks()\n      }\n    }\n\n    function on_error() {\n      console.error(\"failed to load \" + url);\n    }\n\n    for (var i = 0; i < css_urls.length; i++) {\n      var url = css_urls[i];\n      const element = document.createElement(\"link\");\n      element.onload = on_load;\n      element.onerror = on_error;\n      element.rel = \"stylesheet\";\n      element.type = \"text/css\";\n      element.href = url;\n      console.debug(\"Bokeh: injecting link tag for BokehJS stylesheet: \", url);\n      document.body.appendChild(element);\n    }\n\n    const hashes = {\"https://cdn.bokeh.org/bokeh/release/bokeh-2.2.3.min.js\": \"T2yuo9Oe71Cz/I4X9Ac5+gpEa5a8PpJCDlqKYO0CfAuEszu1JrXLl8YugMqYe3sM\", \"https://cdn.bokeh.org/bokeh/release/bokeh-widgets-2.2.3.min.js\": \"98GDGJ0kOMCUMUePhksaQ/GYgB3+NH9h996V88sh3aOiUNX3N+fLXAtry6xctSZ6\", \"https://cdn.bokeh.org/bokeh/release/bokeh-tables-2.2.3.min.js\": \"89bArO+nlbP3sgakeHjCo1JYxYR5wufVgA3IbUvDY+K7w4zyxJqssu7wVnfeKCq8\"};\n\n    for (var i = 0; i < js_urls.length; i++) {\n      var url = js_urls[i];\n      var element = document.createElement('script');\n      element.onload = on_load;\n      element.onerror = on_error;\n      element.async = false;\n      element.src = url;\n      if (url in hashes) {\n        element.crossOrigin = \"anonymous\";\n        element.integrity = \"sha384-\" + hashes[url];\n      }\n      console.debug(\"Bokeh: injecting script tag for BokehJS library: \", url);\n      document.head.appendChild(element);\n    }\n  };\n\n  function inject_raw_css(css) {\n    const element = document.createElement(\"style\");\n    element.appendChild(document.createTextNode(css));\n    document.body.appendChild(element);\n  }\n\n  \n  var js_urls = [\"https://cdn.bokeh.org/bokeh/release/bokeh-2.2.3.min.js\", \"https://cdn.bokeh.org/bokeh/release/bokeh-widgets-2.2.3.min.js\", \"https://cdn.bokeh.org/bokeh/release/bokeh-tables-2.2.3.min.js\"];\n  var css_urls = [];\n  \n\n  var inline_js = [\n    function(Bokeh) {\n      Bokeh.set_log_level(\"info\");\n    },\n    function(Bokeh) {\n    \n    \n    }\n  ];\n\n  function run_inline_js() {\n    \n    if (root.Bokeh !== undefined || force === true) {\n      \n    for (var i = 0; i < inline_js.length; i++) {\n      inline_js[i].call(root, root.Bokeh);\n    }\n    if (force === true) {\n        display_loaded();\n      }} else if (Date.now() < root._bokeh_timeout) {\n      setTimeout(run_inline_js, 100);\n    } else if (!root._bokeh_failed_load) {\n      console.log(\"Bokeh: BokehJS failed to load within specified timeout.\");\n      root._bokeh_failed_load = true;\n    } else if (force !== true) {\n      var cell = $(document.getElementById(\"1001\")).parents('.cell').data().cell;\n      cell.output_area.append_execute_result(NB_LOAD_WARNING)\n    }\n\n  }\n\n  if (root._bokeh_is_loading === 0) {\n    console.debug(\"Bokeh: BokehJS loaded, going straight to plotting\");\n    run_inline_js();\n  } else {\n    load_libs(css_urls, js_urls, function() {\n      console.debug(\"Bokeh: BokehJS plotting callback run at\", now());\n      run_inline_js();\n    });\n  }\n}(window));"
     },
     "metadata": {},
     "output_type": "display_data"
    }
   ],
   "source": [
    "output_notebook()"
   ]
  },
  {
   "cell_type": "markdown",
   "metadata": {
    "papermill": {
     "duration": 0.096736,
     "end_time": "2020-11-21T06:21:07.308109",
     "exception": false,
     "start_time": "2020-11-21T06:21:07.211373",
     "status": "completed"
    },
    "tags": []
   },
   "source": [
    "# 1. Is Dataset Balanced ?"
   ]
  },
  {
   "cell_type": "markdown",
   "metadata": {
    "papermill": {
     "duration": 0.103478,
     "end_time": "2020-11-21T06:21:07.518717",
     "exception": false,
     "start_time": "2020-11-21T06:21:07.415239",
     "status": "completed"
    },
    "tags": []
   },
   "source": [
    "The first step before we start performing EDA, preprocessing the data, building the ML model is to check whether the variable to predict i.e 'target' is balanced or not. By checking this we can get to know which evaluation metrics will be better suited for this particular dataset."
   ]
  },
  {
   "cell_type": "code",
   "execution_count": 7,
   "metadata": {
    "execution": {
     "iopub.execute_input": "2020-11-21T06:21:07.725765Z",
     "iopub.status.busy": "2020-11-21T06:21:07.724706Z",
     "iopub.status.idle": "2020-11-21T06:21:07.730414Z",
     "shell.execute_reply": "2020-11-21T06:21:07.729574Z"
    },
    "papermill": {
     "duration": 0.114112,
     "end_time": "2020-11-21T06:21:07.730585",
     "exception": false,
     "start_time": "2020-11-21T06:21:07.616473",
     "status": "completed"
    },
    "tags": []
   },
   "outputs": [
    {
     "data": {
      "text/plain": [
       "1    165\n",
       "0    138\n",
       "Name: target, dtype: int64"
      ]
     },
     "execution_count": 7,
     "metadata": {},
     "output_type": "execute_result"
    }
   ],
   "source": [
    "df['target'].value_counts()"
   ]
  },
  {
   "cell_type": "code",
   "execution_count": 8,
   "metadata": {
    "execution": {
     "iopub.execute_input": "2020-11-21T06:21:07.931505Z",
     "iopub.status.busy": "2020-11-21T06:21:07.930319Z",
     "iopub.status.idle": "2020-11-21T06:21:07.936031Z",
     "shell.execute_reply": "2020-11-21T06:21:07.935206Z"
    },
    "papermill": {
     "duration": 0.108349,
     "end_time": "2020-11-21T06:21:07.936173",
     "exception": false,
     "start_time": "2020-11-21T06:21:07.827824",
     "status": "completed"
    },
    "tags": []
   },
   "outputs": [
    {
     "data": {
      "text/plain": [
       "138"
      ]
     },
     "execution_count": 8,
     "metadata": {},
     "output_type": "execute_result"
    }
   ],
   "source": [
    "df['target'].value_counts()[0]"
   ]
  },
  {
   "cell_type": "code",
   "execution_count": 9,
   "metadata": {
    "execution": {
     "iopub.execute_input": "2020-11-21T06:21:08.144667Z",
     "iopub.status.busy": "2020-11-21T06:21:08.143728Z",
     "iopub.status.idle": "2020-11-21T06:21:08.149716Z",
     "shell.execute_reply": "2020-11-21T06:21:08.148609Z"
    },
    "papermill": {
     "duration": 0.116748,
     "end_time": "2020-11-21T06:21:08.149897",
     "exception": false,
     "start_time": "2020-11-21T06:21:08.033149",
     "status": "completed"
    },
    "tags": []
   },
   "outputs": [
    {
     "name": "stderr",
     "output_type": "stream",
     "text": [
      "BokehUserWarning: ColumnDataSource's columns must be of the same length. Current lengths: ('Target', 2), ('color', 6), ('counts', 2)\n"
     ]
    }
   ],
   "source": [
    "unique = [\"0\", '1']\n",
    "top = [df['target'].value_counts()[0], df['target'].value_counts()[1]]\n",
    "source = ColumnDataSource(data = dict(Target = unique, counts = top, color = Spectral6))"
   ]
  },
  {
   "cell_type": "code",
   "execution_count": 10,
   "metadata": {
    "execution": {
     "iopub.execute_input": "2020-11-21T06:21:08.423500Z",
     "iopub.status.busy": "2020-11-21T06:21:08.422577Z",
     "iopub.status.idle": "2020-11-21T06:21:08.428272Z",
     "shell.execute_reply": "2020-11-21T06:21:08.427487Z"
    },
    "papermill": {
     "duration": 0.123493,
     "end_time": "2020-11-21T06:21:08.428413",
     "exception": false,
     "start_time": "2020-11-21T06:21:08.304920",
     "status": "completed"
    },
    "tags": []
   },
   "outputs": [
    {
     "data": {
      "text/html": [
       "<div style=\"display: table;\"><div style=\"display: table-row;\"><div style=\"display: table-cell;\"><b title=\"bokeh.models.renderers.GlyphRenderer\">GlyphRenderer</b>(</div><div style=\"display: table-cell;\">id&nbsp;=&nbsp;'1027', <span id=\"1030\" style=\"cursor: pointer;\">&hellip;)</span></div></div><div class=\"1029\" style=\"display: none;\"><div style=\"display: table-cell;\"></div><div style=\"display: table-cell;\">data_source&nbsp;=&nbsp;ColumnDataSource(id='1002', ...),</div></div><div class=\"1029\" style=\"display: none;\"><div style=\"display: table-cell;\"></div><div style=\"display: table-cell;\">glyph&nbsp;=&nbsp;VBar(id='1025', ...),</div></div><div class=\"1029\" style=\"display: none;\"><div style=\"display: table-cell;\"></div><div style=\"display: table-cell;\">hover_glyph&nbsp;=&nbsp;None,</div></div><div class=\"1029\" style=\"display: none;\"><div style=\"display: table-cell;\"></div><div style=\"display: table-cell;\">js_event_callbacks&nbsp;=&nbsp;{},</div></div><div class=\"1029\" style=\"display: none;\"><div style=\"display: table-cell;\"></div><div style=\"display: table-cell;\">js_property_callbacks&nbsp;=&nbsp;{},</div></div><div class=\"1029\" style=\"display: none;\"><div style=\"display: table-cell;\"></div><div style=\"display: table-cell;\">level&nbsp;=&nbsp;'glyph',</div></div><div class=\"1029\" style=\"display: none;\"><div style=\"display: table-cell;\"></div><div style=\"display: table-cell;\">muted&nbsp;=&nbsp;False,</div></div><div class=\"1029\" style=\"display: none;\"><div style=\"display: table-cell;\"></div><div style=\"display: table-cell;\">muted_glyph&nbsp;=&nbsp;None,</div></div><div class=\"1029\" style=\"display: none;\"><div style=\"display: table-cell;\"></div><div style=\"display: table-cell;\">name&nbsp;=&nbsp;None,</div></div><div class=\"1029\" style=\"display: none;\"><div style=\"display: table-cell;\"></div><div style=\"display: table-cell;\">nonselection_glyph&nbsp;=&nbsp;VBar(id='1026', ...),</div></div><div class=\"1029\" style=\"display: none;\"><div style=\"display: table-cell;\"></div><div style=\"display: table-cell;\">selection_glyph&nbsp;=&nbsp;None,</div></div><div class=\"1029\" style=\"display: none;\"><div style=\"display: table-cell;\"></div><div style=\"display: table-cell;\">subscribed_events&nbsp;=&nbsp;[],</div></div><div class=\"1029\" style=\"display: none;\"><div style=\"display: table-cell;\"></div><div style=\"display: table-cell;\">tags&nbsp;=&nbsp;[],</div></div><div class=\"1029\" style=\"display: none;\"><div style=\"display: table-cell;\"></div><div style=\"display: table-cell;\">view&nbsp;=&nbsp;CDSView(id='1028', ...),</div></div><div class=\"1029\" style=\"display: none;\"><div style=\"display: table-cell;\"></div><div style=\"display: table-cell;\">visible&nbsp;=&nbsp;True,</div></div><div class=\"1029\" style=\"display: none;\"><div style=\"display: table-cell;\"></div><div style=\"display: table-cell;\">x_range_name&nbsp;=&nbsp;'default',</div></div><div class=\"1029\" style=\"display: none;\"><div style=\"display: table-cell;\"></div><div style=\"display: table-cell;\">y_range_name&nbsp;=&nbsp;'default')</div></div></div>\n",
       "<script>\n",
       "(function() {\n",
       "  var expanded = false;\n",
       "  var ellipsis = document.getElementById(\"1030\");\n",
       "  ellipsis.addEventListener(\"click\", function() {\n",
       "    var rows = document.getElementsByClassName(\"1029\");\n",
       "    for (var i = 0; i < rows.length; i++) {\n",
       "      var el = rows[i];\n",
       "      el.style.display = expanded ? \"none\" : \"table-row\";\n",
       "    }\n",
       "    ellipsis.innerHTML = expanded ? \"&hellip;)\" : \"&lsaquo;&lsaquo;&lsaquo;\";\n",
       "    expanded = !expanded;\n",
       "  });\n",
       "})();\n",
       "</script>\n"
      ],
      "text/plain": [
       "GlyphRenderer(id='1027', ...)"
      ]
     },
     "execution_count": 10,
     "metadata": {},
     "output_type": "execute_result"
    }
   ],
   "source": [
    "p = figure(\n",
    "    x_range = unique,\n",
    "    plot_height = 500,\n",
    "    plot_width = 500,\n",
    "    x_axis_label = 'Target',\n",
    "    y_axis_label = 'Count(Target)',\n",
    "    title = 'Count of People Having Heart Disease and Not Having Heart Disease',\n",
    "    tools = \"hover\", tooltips=\"@Target: @counts\"\n",
    ")\n",
    "\n",
    "p.vbar(\n",
    "    x = 'Target',\n",
    "    top = 'counts',\n",
    "    bottom = 0,\n",
    "    width = 0.9,\n",
    "    source = source,\n",
    "    color = 'color'\n",
    ")"
   ]
  },
  {
   "cell_type": "code",
   "execution_count": 11,
   "metadata": {
    "execution": {
     "iopub.execute_input": "2020-11-21T06:21:08.650488Z",
     "iopub.status.busy": "2020-11-21T06:21:08.649445Z",
     "iopub.status.idle": "2020-11-21T06:21:08.684481Z",
     "shell.execute_reply": "2020-11-21T06:21:08.683696Z"
    },
    "papermill": {
     "duration": 0.15066,
     "end_time": "2020-11-21T06:21:08.684851",
     "exception": false,
     "start_time": "2020-11-21T06:21:08.534191",
     "status": "completed"
    },
    "tags": []
   },
   "outputs": [],
   "source": [
    "target = {\n",
    "            'No Heart Disease' : df['target'].value_counts()[0], \n",
    "          'Have Heart Disease' : df['target'].value_counts()[1]\n",
    "         }\n",
    "\n",
    "data = pd.Series(target).reset_index(name = 'value').rename(columns = {'index':'target'})\n",
    "data['angle'] = data['value']/data['value'].sum() * 2 * pi\n",
    "data['color'] = ['skyblue', 'salmon']"
   ]
  },
  {
   "cell_type": "code",
   "execution_count": 12,
   "metadata": {
    "execution": {
     "iopub.execute_input": "2020-11-21T06:21:08.921221Z",
     "iopub.status.busy": "2020-11-21T06:21:08.920105Z",
     "iopub.status.idle": "2020-11-21T06:21:08.925033Z",
     "shell.execute_reply": "2020-11-21T06:21:08.924137Z"
    },
    "papermill": {
     "duration": 0.138723,
     "end_time": "2020-11-21T06:21:08.925178",
     "exception": false,
     "start_time": "2020-11-21T06:21:08.786455",
     "status": "completed"
    },
    "tags": []
   },
   "outputs": [],
   "source": [
    "p1 = figure(\n",
    "            plot_height = 500, \n",
    "            plot_width = 500, \n",
    "            title = \"Proportion of People Having Heart Disease and not Having Heart Disease\", \n",
    "            toolbar_location = None,\n",
    "            tools = \"hover\", \n",
    "            tooltips = \"@target: @value\", \n",
    "            x_range = (-0.5, 1.0)\n",
    "            )\n",
    "\n",
    "p1.wedge(\n",
    "        x = 0, y = 1, radius = 0.4,\n",
    "        start_angle = cumsum('angle', include_zero=True), \n",
    "        end_angle = cumsum('angle'),\n",
    "        line_color = \"white\", \n",
    "        fill_color = 'color', \n",
    "        legend_field = 'target', \n",
    "        source = data\n",
    "        )\n",
    "\n",
    "p1.legend.location = \"top_right\"\n",
    "\n",
    "p1.legend.label_text_font_size = '5pt'"
   ]
  },
  {
   "cell_type": "code",
   "execution_count": 13,
   "metadata": {
    "execution": {
     "iopub.execute_input": "2020-11-21T06:21:09.155173Z",
     "iopub.status.busy": "2020-11-21T06:21:09.144990Z",
     "iopub.status.idle": "2020-11-21T06:21:09.207737Z",
     "shell.execute_reply": "2020-11-21T06:21:09.206728Z"
    },
    "papermill": {
     "duration": 0.179778,
     "end_time": "2020-11-21T06:21:09.207896",
     "exception": false,
     "start_time": "2020-11-21T06:21:09.028118",
     "status": "completed"
    },
    "tags": []
   },
   "outputs": [
    {
     "data": {
      "text/html": [
       "\n",
       "\n",
       "\n",
       "\n",
       "\n",
       "\n",
       "  <div class=\"bk-root\" id=\"a11224a0-d128-47e5-aec8-8615a31ae54c\" data-root-id=\"1089\"></div>\n"
      ]
     },
     "metadata": {},
     "output_type": "display_data"
    },
    {
     "data": {
      "application/javascript": [
       "(function(root) {\n",
       "  function embed_document(root) {\n",
       "    \n",
       "  var docs_json = {\"72c2461c-62e5-4e67-ada0-721e15799a0c\":{\"roots\":{\"references\":[{\"attributes\":{\"children\":[{\"id\":\"1088\"},{\"id\":\"1086\"}]},\"id\":\"1089\",\"type\":\"Column\"},{\"attributes\":{\"axis\":{\"id\":\"1017\"},\"dimension\":1,\"ticker\":null},\"id\":\"1020\",\"type\":\"Grid\"},{\"attributes\":{},\"id\":\"1040\",\"type\":\"LinearScale\"},{\"attributes\":{\"fill_color\":{\"field\":\"color\"},\"line_color\":{\"field\":\"color\"},\"top\":{\"field\":\"counts\"},\"width\":{\"value\":0.9},\"x\":{\"field\":\"Target\"}},\"id\":\"1025\",\"type\":\"VBar\"},{\"attributes\":{},\"id\":\"1076\",\"type\":\"Selection\"},{\"attributes\":{\"factors\":[\"0\",\"1\"]},\"id\":\"1006\",\"type\":\"FactorRange\"},{\"attributes\":{\"data_source\":{\"id\":\"1002\"},\"glyph\":{\"id\":\"1025\"},\"hover_glyph\":null,\"muted_glyph\":null,\"nonselection_glyph\":{\"id\":\"1026\"},\"selection_glyph\":null,\"view\":{\"id\":\"1028\"}},\"id\":\"1027\",\"type\":\"GlyphRenderer\"},{\"attributes\":{\"active_drag\":\"auto\",\"active_inspect\":\"auto\",\"active_multi\":null,\"active_scroll\":\"auto\",\"active_tap\":\"auto\",\"tools\":[{\"id\":\"1021\"}]},\"id\":\"1022\",\"type\":\"Toolbar\"},{\"attributes\":{},\"id\":\"1038\",\"type\":\"LinearScale\"},{\"attributes\":{},\"id\":\"1012\",\"type\":\"LinearScale\"},{\"attributes\":{},\"id\":\"1036\",\"type\":\"DataRange1d\"},{\"attributes\":{\"source\":{\"id\":\"1002\"}},\"id\":\"1028\",\"type\":\"CDSView\"},{\"attributes\":{},\"id\":\"1018\",\"type\":\"BasicTicker\"},{\"attributes\":{\"axis_label\":\"Count(Target)\",\"formatter\":{\"id\":\"1073\"},\"ticker\":{\"id\":\"1018\"}},\"id\":\"1017\",\"type\":\"LinearAxis\"},{\"attributes\":{\"text\":\"Proportion of People Having Heart Disease and not Having Heart Disease\"},\"id\":\"1032\",\"type\":\"Title\"},{\"attributes\":{},\"id\":\"1010\",\"type\":\"CategoricalScale\"},{\"attributes\":{\"fill_alpha\":{\"value\":0.1},\"fill_color\":{\"field\":\"color\"},\"line_alpha\":{\"value\":0.1},\"line_color\":{\"field\":\"color\"},\"top\":{\"field\":\"counts\"},\"width\":{\"value\":0.9},\"x\":{\"field\":\"Target\"}},\"id\":\"1026\",\"type\":\"VBar\"},{\"attributes\":{},\"id\":\"1073\",\"type\":\"BasicTickFormatter\"},{\"attributes\":{},\"id\":\"1062\",\"type\":\"BasicTickFormatter\"},{\"attributes\":{\"label\":{\"field\":\"target\"},\"renderers\":[{\"id\":\"1059\"}]},\"id\":\"1069\",\"type\":\"LegendItem\"},{\"attributes\":{\"toolbar\":{\"id\":\"1087\"},\"toolbar_location\":\"above\"},\"id\":\"1088\",\"type\":\"ToolbarBox\"},{\"attributes\":{},\"id\":\"1075\",\"type\":\"UnionRenderers\"},{\"attributes\":{\"formatter\":{\"id\":\"1062\"},\"ticker\":{\"id\":\"1043\"}},\"id\":\"1042\",\"type\":\"LinearAxis\"},{\"attributes\":{},\"id\":\"1008\",\"type\":\"DataRange1d\"},{\"attributes\":{},\"id\":\"1015\",\"type\":\"CategoricalTicker\"},{\"attributes\":{},\"id\":\"1047\",\"type\":\"BasicTicker\"},{\"attributes\":{},\"id\":\"1043\",\"type\":\"BasicTicker\"},{\"attributes\":{\"callback\":null,\"tooltips\":\"@Target: @counts\"},\"id\":\"1021\",\"type\":\"HoverTool\"},{\"attributes\":{\"toolbars\":[{\"id\":\"1022\"},{\"id\":\"1051\"}],\"tools\":[{\"id\":\"1021\"},{\"id\":\"1050\"}]},\"id\":\"1087\",\"type\":\"ProxyToolbar\"},{\"attributes\":{\"axis\":{\"id\":\"1042\"},\"ticker\":null},\"id\":\"1045\",\"type\":\"Grid\"},{\"attributes\":{\"data\":{\"angle\":{\"__ndarray__\":\"L3oQGqjkBkAB4HeOTl8LQA==\",\"dtype\":\"float64\",\"order\":\"little\",\"shape\":[2]},\"color\":[\"skyblue\",\"salmon\"],\"index\":[0,1],\"target\":[\"No Heart Disease\",\"Have Heart Disease\"],\"value\":[138,165]},\"selected\":{\"id\":\"1067\"},\"selection_policy\":{\"id\":\"1066\"}},\"id\":\"1055\",\"type\":\"ColumnDataSource\"},{\"attributes\":{\"below\":[{\"id\":\"1014\"}],\"center\":[{\"id\":\"1016\"},{\"id\":\"1020\"}],\"left\":[{\"id\":\"1017\"}],\"plot_height\":500,\"plot_width\":500,\"renderers\":[{\"id\":\"1027\"}],\"title\":{\"id\":\"1004\"},\"toolbar\":{\"id\":\"1022\"},\"toolbar_location\":null,\"x_range\":{\"id\":\"1006\"},\"x_scale\":{\"id\":\"1010\"},\"y_range\":{\"id\":\"1008\"},\"y_scale\":{\"id\":\"1012\"}},\"id\":\"1003\",\"subtype\":\"Figure\",\"type\":\"Plot\"},{\"attributes\":{\"field\":\"angle\"},\"id\":\"1054\",\"type\":\"CumSum\"},{\"attributes\":{\"children\":[[{\"id\":\"1003\"},0,0],[{\"id\":\"1031\"},1,0]]},\"id\":\"1086\",\"type\":\"GridBox\"},{\"attributes\":{\"text\":\"Count of People Having Heart Disease and Not Having Heart Disease\"},\"id\":\"1004\",\"type\":\"Title\"},{\"attributes\":{\"axis\":{\"id\":\"1046\"},\"dimension\":1,\"ticker\":null},\"id\":\"1049\",\"type\":\"Grid\"},{\"attributes\":{\"formatter\":{\"id\":\"1064\"},\"ticker\":{\"id\":\"1047\"}},\"id\":\"1046\",\"type\":\"LinearAxis\"},{\"attributes\":{\"data\":{\"Target\":[\"0\",\"1\"],\"color\":[\"#3288bd\",\"#99d594\",\"#e6f598\",\"#fee08b\",\"#fc8d59\",\"#d53e4f\"],\"counts\":[138,165]},\"selected\":{\"id\":\"1076\"},\"selection_policy\":{\"id\":\"1075\"}},\"id\":\"1002\",\"type\":\"ColumnDataSource\"},{\"attributes\":{\"field\":\"angle\",\"include_zero\":true},\"id\":\"1053\",\"type\":\"CumSum\"},{\"attributes\":{\"end_angle\":{\"expr\":{\"id\":\"1054\"},\"units\":\"rad\"},\"fill_color\":{\"field\":\"color\"},\"line_color\":{\"value\":\"white\"},\"radius\":{\"units\":\"data\",\"value\":0.4},\"start_angle\":{\"expr\":{\"id\":\"1053\"},\"units\":\"rad\"},\"x\":{\"value\":0},\"y\":{\"value\":1}},\"id\":\"1057\",\"type\":\"Wedge\"},{\"attributes\":{\"axis\":{\"id\":\"1014\"},\"ticker\":null},\"id\":\"1016\",\"type\":\"Grid\"},{\"attributes\":{\"end_angle\":{\"expr\":{\"id\":\"1054\"},\"units\":\"rad\"},\"fill_alpha\":{\"value\":0.1},\"fill_color\":{\"field\":\"color\"},\"line_alpha\":{\"value\":0.1},\"line_color\":{\"value\":\"white\"},\"radius\":{\"units\":\"data\",\"value\":0.4},\"start_angle\":{\"expr\":{\"id\":\"1053\"},\"units\":\"rad\"},\"x\":{\"value\":0},\"y\":{\"value\":1}},\"id\":\"1058\",\"type\":\"Wedge\"},{\"attributes\":{},\"id\":\"1071\",\"type\":\"CategoricalTickFormatter\"},{\"attributes\":{\"callback\":null,\"tooltips\":\"@target: @value\"},\"id\":\"1050\",\"type\":\"HoverTool\"},{\"attributes\":{},\"id\":\"1066\",\"type\":\"UnionRenderers\"},{\"attributes\":{\"below\":[{\"id\":\"1042\"}],\"center\":[{\"id\":\"1045\"},{\"id\":\"1049\"},{\"id\":\"1068\"}],\"left\":[{\"id\":\"1046\"}],\"plot_height\":500,\"plot_width\":500,\"renderers\":[{\"id\":\"1059\"}],\"title\":{\"id\":\"1032\"},\"toolbar\":{\"id\":\"1051\"},\"toolbar_location\":null,\"x_range\":{\"id\":\"1034\"},\"x_scale\":{\"id\":\"1038\"},\"y_range\":{\"id\":\"1036\"},\"y_scale\":{\"id\":\"1040\"}},\"id\":\"1031\",\"subtype\":\"Figure\",\"type\":\"Plot\"},{\"attributes\":{\"start\":-0.5},\"id\":\"1034\",\"type\":\"Range1d\"},{\"attributes\":{\"active_drag\":\"auto\",\"active_inspect\":\"auto\",\"active_multi\":null,\"active_scroll\":\"auto\",\"active_tap\":\"auto\",\"tools\":[{\"id\":\"1050\"}]},\"id\":\"1051\",\"type\":\"Toolbar\"},{\"attributes\":{\"source\":{\"id\":\"1055\"}},\"id\":\"1060\",\"type\":\"CDSView\"},{\"attributes\":{},\"id\":\"1067\",\"type\":\"Selection\"},{\"attributes\":{\"axis_label\":\"Target\",\"formatter\":{\"id\":\"1071\"},\"ticker\":{\"id\":\"1015\"}},\"id\":\"1014\",\"type\":\"CategoricalAxis\"},{\"attributes\":{},\"id\":\"1064\",\"type\":\"BasicTickFormatter\"},{\"attributes\":{\"data_source\":{\"id\":\"1055\"},\"glyph\":{\"id\":\"1057\"},\"hover_glyph\":null,\"muted_glyph\":null,\"nonselection_glyph\":{\"id\":\"1058\"},\"selection_glyph\":null,\"view\":{\"id\":\"1060\"}},\"id\":\"1059\",\"type\":\"GlyphRenderer\"},{\"attributes\":{\"items\":[{\"id\":\"1069\"}],\"label_text_font_size\":\"5pt\"},\"id\":\"1068\",\"type\":\"Legend\"}],\"root_ids\":[\"1089\"]},\"title\":\"Bokeh Application\",\"version\":\"2.2.3\"}};\n",
       "  var render_items = [{\"docid\":\"72c2461c-62e5-4e67-ada0-721e15799a0c\",\"root_ids\":[\"1089\"],\"roots\":{\"1089\":\"a11224a0-d128-47e5-aec8-8615a31ae54c\"}}];\n",
       "  root.Bokeh.embed.embed_items_notebook(docs_json, render_items);\n",
       "\n",
       "  }\n",
       "  if (root.Bokeh !== undefined) {\n",
       "    embed_document(root);\n",
       "  } else {\n",
       "    var attempts = 0;\n",
       "    var timer = setInterval(function(root) {\n",
       "      if (root.Bokeh !== undefined) {\n",
       "        clearInterval(timer);\n",
       "        embed_document(root);\n",
       "      } else {\n",
       "        attempts++;\n",
       "        if (attempts > 100) {\n",
       "          clearInterval(timer);\n",
       "          console.log(\"Bokeh: ERROR: Unable to run BokehJS code because BokehJS library is missing\");\n",
       "        }\n",
       "      }\n",
       "    }, 10, root)\n",
       "  }\n",
       "})(window);"
      ],
      "application/vnd.bokehjs_exec.v0+json": ""
     },
     "metadata": {
      "application/vnd.bokehjs_exec.v0+json": {
       "id": "1089"
      }
     },
     "output_type": "display_data"
    }
   ],
   "source": [
    "show(gridplot([[p], [p1]]))"
   ]
  },
  {
   "cell_type": "code",
   "execution_count": 14,
   "metadata": {
    "execution": {
     "iopub.execute_input": "2020-11-21T06:21:09.449025Z",
     "iopub.status.busy": "2020-11-21T06:21:09.442466Z",
     "iopub.status.idle": "2020-11-21T06:21:09.456733Z",
     "shell.execute_reply": "2020-11-21T06:21:09.456037Z"
    },
    "papermill": {
     "duration": 0.138251,
     "end_time": "2020-11-21T06:21:09.456868",
     "exception": false,
     "start_time": "2020-11-21T06:21:09.318617",
     "status": "completed"
    },
    "tags": []
   },
   "outputs": [
    {
     "name": "stdout",
     "output_type": "stream",
     "text": [
      "Percentage of people having Heart Disease 54.0\n",
      "Percentage of people not having Heart Disease 46.0\n"
     ]
    }
   ],
   "source": [
    "print(\"Percentage of people having Heart Disease\", round(df['target'].value_counts()[1] / (df['target'].value_counts()[0] + df['target'].value_counts()[1]), 2) * 100)\n",
    "print(\"Percentage of people not having Heart Disease\", round(df['target'].value_counts()[0] / (df['target'].value_counts()[0] + df['target'].value_counts()[1]), 2) * 100)"
   ]
  },
  {
   "cell_type": "markdown",
   "metadata": {
    "papermill": {
     "duration": 0.103381,
     "end_time": "2020-11-21T06:21:09.667831",
     "exception": false,
     "start_time": "2020-11-21T06:21:09.564450",
     "status": "completed"
    },
    "tags": []
   },
   "source": [
    "We can see that the dataset is balanced as there is no major difference between the proportion of people having heart disease and those not having heart disease."
   ]
  },
  {
   "cell_type": "markdown",
   "metadata": {
    "papermill": {
     "duration": 0.106523,
     "end_time": "2020-11-21T06:21:09.891016",
     "exception": false,
     "start_time": "2020-11-21T06:21:09.784493",
     "status": "completed"
    },
    "tags": []
   },
   "source": [
    "Next we need to check whether there are null values present in the dataset."
   ]
  },
  {
   "cell_type": "code",
   "execution_count": 15,
   "metadata": {
    "execution": {
     "iopub.execute_input": "2020-11-21T06:21:10.108076Z",
     "iopub.status.busy": "2020-11-21T06:21:10.106842Z",
     "iopub.status.idle": "2020-11-21T06:21:10.112345Z",
     "shell.execute_reply": "2020-11-21T06:21:10.112950Z"
    },
    "papermill": {
     "duration": 0.117126,
     "end_time": "2020-11-21T06:21:10.113131",
     "exception": false,
     "start_time": "2020-11-21T06:21:09.996005",
     "status": "completed"
    },
    "tags": []
   },
   "outputs": [
    {
     "data": {
      "text/plain": [
       "age         0\n",
       "sex         0\n",
       "cp          0\n",
       "trestbps    0\n",
       "chol        0\n",
       "fbs         0\n",
       "restecg     0\n",
       "thalach     0\n",
       "exang       0\n",
       "oldpeak     0\n",
       "slope       0\n",
       "ca          0\n",
       "thal        0\n",
       "target      0\n",
       "dtype: int64"
      ]
     },
     "execution_count": 15,
     "metadata": {},
     "output_type": "execute_result"
    }
   ],
   "source": [
    "df.isnull().sum()"
   ]
  },
  {
   "cell_type": "markdown",
   "metadata": {
    "papermill": {
     "duration": 0.103485,
     "end_time": "2020-11-21T06:21:10.320467",
     "exception": false,
     "start_time": "2020-11-21T06:21:10.216982",
     "status": "completed"
    },
    "tags": []
   },
   "source": [
    "So we don't have any null values present which saves us a lot of time :)"
   ]
  },
  {
   "cell_type": "markdown",
   "metadata": {
    "papermill": {
     "duration": 0.119406,
     "end_time": "2020-11-21T06:21:10.547600",
     "exception": false,
     "start_time": "2020-11-21T06:21:10.428194",
     "status": "completed"
    },
    "tags": []
   },
   "source": [
    "# 2. Exploratory Data Analysis(EDA)"
   ]
  },
  {
   "cell_type": "markdown",
   "metadata": {
    "papermill": {
     "duration": 0.112443,
     "end_time": "2020-11-21T06:21:10.773410",
     "exception": false,
     "start_time": "2020-11-21T06:21:10.660967",
     "status": "completed"
    },
    "tags": []
   },
   "source": [
    "First let's classify these columns as Catergorical or Continuous. For Categorical variables we will print out the unique categories for that particular column."
   ]
  },
  {
   "cell_type": "code",
   "execution_count": 16,
   "metadata": {
    "execution": {
     "iopub.execute_input": "2020-11-21T06:21:11.011092Z",
     "iopub.status.busy": "2020-11-21T06:21:11.008809Z",
     "iopub.status.idle": "2020-11-21T06:21:11.030311Z",
     "shell.execute_reply": "2020-11-21T06:21:11.026977Z"
    },
    "papermill": {
     "duration": 0.148144,
     "end_time": "2020-11-21T06:21:11.030897",
     "exception": false,
     "start_time": "2020-11-21T06:21:10.882753",
     "status": "completed"
    },
    "tags": []
   },
   "outputs": [
    {
     "name": "stdout",
     "output_type": "stream",
     "text": [
      "sex : [1 0]\n",
      "\n",
      "cp : [3 2 1 0]\n",
      "\n",
      "fbs : [1 0]\n",
      "\n",
      "restecg : [0 1 2]\n",
      "\n",
      "exang : [0 1]\n",
      "\n",
      "slope : [0 2 1]\n",
      "\n",
      "ca : [0 2 1 3 4]\n",
      "\n",
      "thal : [1 2 3 0]\n",
      "\n",
      "target : [1 0]\n",
      "\n",
      "Categorical Variables are:  ['sex', 'cp', 'fbs', 'restecg', 'exang', 'slope', 'ca', 'thal', 'target']\n",
      "Continuous Variables are:  ['age', 'trestbps', 'chol', 'thalach', 'oldpeak']\n"
     ]
    }
   ],
   "source": [
    "categorical_var = []\n",
    "continuous_var = []\n",
    "\n",
    "for column in df.columns:\n",
    "    if len(df[column].unique()) <= 10:\n",
    "        print(f\"{column} : {df[column].unique()}\")\n",
    "        categorical_var.append(column)\n",
    "        print()\n",
    "    else:\n",
    "        continuous_var.append(column)\n",
    "        \n",
    "print(\"Categorical Variables are: \", categorical_var)\n",
    "print(\"Continuous Variables are: \", continuous_var)"
   ]
  },
  {
   "cell_type": "markdown",
   "metadata": {
    "papermill": {
     "duration": 0.106211,
     "end_time": "2020-11-21T06:21:11.275671",
     "exception": false,
     "start_time": "2020-11-21T06:21:11.169460",
     "status": "completed"
    },
    "tags": []
   },
   "source": [
    "**Now we will explore the relation of these categorical variables with the target.**"
   ]
  },
  {
   "cell_type": "code",
   "execution_count": 17,
   "metadata": {
    "execution": {
     "iopub.execute_input": "2020-11-21T06:21:11.554375Z",
     "iopub.status.busy": "2020-11-21T06:21:11.549915Z",
     "iopub.status.idle": "2020-11-21T06:21:11.567266Z",
     "shell.execute_reply": "2020-11-21T06:21:11.564060Z"
    },
    "papermill": {
     "duration": 0.168372,
     "end_time": "2020-11-21T06:21:11.567482",
     "exception": false,
     "start_time": "2020-11-21T06:21:11.399110",
     "status": "completed"
    },
    "tags": []
   },
   "outputs": [],
   "source": [
    "def count_of_each_category(column_name):\n",
    "    \"\"\"\n",
    "    A function which will plot the count of each category for a particular column using bokeh.\n",
    "    \"\"\"\n",
    "    values = {}\n",
    "    for i in df[column_name].value_counts().index:\n",
    "        values[i] = df[column_name].value_counts()[i]\n",
    "    column = list(values.keys())\n",
    "    top = list(values.values())\n",
    "    source = ColumnDataSource(data = dict(Classes = column, counts = top, color = Spectral6))\n",
    "\n",
    "    p2 = figure(\n",
    "        plot_height = 400,\n",
    "        plot_width = 400,\n",
    "        x_axis_label = column_name,\n",
    "        y_axis_label = 'Count(Classes)',\n",
    "        tools=\"hover\", tooltips=\"@Classes: @counts\"\n",
    "    )\n",
    "\n",
    "    p2.vbar(\n",
    "        x = 'Classes',\n",
    "        top = 'counts',\n",
    "        bottom = 0,\n",
    "        width = 0.9,\n",
    "        source = source,\n",
    "        color = 'color'\n",
    "    )\n",
    "    \n",
    "    return p2\n",
    "    "
   ]
  },
  {
   "cell_type": "markdown",
   "metadata": {
    "papermill": {
     "duration": 0.115979,
     "end_time": "2020-11-21T06:21:11.825660",
     "exception": false,
     "start_time": "2020-11-21T06:21:11.709681",
     "status": "completed"
    },
    "tags": []
   },
   "source": [
    "### Sex vs Target"
   ]
  },
  {
   "cell_type": "code",
   "execution_count": 18,
   "metadata": {
    "execution": {
     "iopub.execute_input": "2020-11-21T06:21:12.181545Z",
     "iopub.status.busy": "2020-11-21T06:21:12.180070Z",
     "iopub.status.idle": "2020-11-21T06:21:12.246055Z",
     "shell.execute_reply": "2020-11-21T06:21:12.244072Z"
    },
    "papermill": {
     "duration": 0.267557,
     "end_time": "2020-11-21T06:21:12.246297",
     "exception": false,
     "start_time": "2020-11-21T06:21:11.978740",
     "status": "completed"
    },
    "tags": []
   },
   "outputs": [
    {
     "name": "stderr",
     "output_type": "stream",
     "text": [
      "BokehUserWarning: ColumnDataSource's columns must be of the same length. Current lengths: ('Classes', 2), ('color', 6), ('counts', 2)\n"
     ]
    },
    {
     "data": {
      "text/html": [
       "\n",
       "\n",
       "\n",
       "\n",
       "\n",
       "\n",
       "  <div class=\"bk-root\" id=\"2fcea3d1-9be8-48a8-b453-fef74403c1d1\" data-root-id=\"1175\"></div>\n"
      ]
     },
     "metadata": {},
     "output_type": "display_data"
    },
    {
     "data": {
      "application/javascript": [
       "(function(root) {\n",
       "  function embed_document(root) {\n",
       "    \n",
       "  var docs_json = {\"00ed79d4-ef3b-43b8-b9ba-0ac587c03dc8\":{\"roots\":{\"references\":[{\"attributes\":{\"below\":[{\"id\":\"1184\"}],\"center\":[{\"id\":\"1187\"},{\"id\":\"1191\"}],\"left\":[{\"id\":\"1188\"}],\"plot_height\":400,\"plot_width\":400,\"renderers\":[{\"id\":\"1198\"}],\"title\":{\"id\":\"1215\"},\"toolbar\":{\"id\":\"1193\"},\"x_range\":{\"id\":\"1176\"},\"x_scale\":{\"id\":\"1180\"},\"y_range\":{\"id\":\"1178\"},\"y_scale\":{\"id\":\"1182\"}},\"id\":\"1175\",\"subtype\":\"Figure\",\"type\":\"Plot\"},{\"attributes\":{},\"id\":\"1218\",\"type\":\"BasicTickFormatter\"},{\"attributes\":{},\"id\":\"1185\",\"type\":\"BasicTicker\"},{\"attributes\":{},\"id\":\"1221\",\"type\":\"Selection\"},{\"attributes\":{\"source\":{\"id\":\"1174\"}},\"id\":\"1199\",\"type\":\"CDSView\"},{\"attributes\":{},\"id\":\"1180\",\"type\":\"LinearScale\"},{\"attributes\":{},\"id\":\"1216\",\"type\":\"BasicTickFormatter\"},{\"attributes\":{},\"id\":\"1178\",\"type\":\"DataRange1d\"},{\"attributes\":{\"axis_label\":\"Count(Classes)\",\"formatter\":{\"id\":\"1218\"},\"ticker\":{\"id\":\"1189\"}},\"id\":\"1188\",\"type\":\"LinearAxis\"},{\"attributes\":{},\"id\":\"1220\",\"type\":\"UnionRenderers\"},{\"attributes\":{\"fill_alpha\":{\"value\":0.1},\"fill_color\":{\"field\":\"color\"},\"line_alpha\":{\"value\":0.1},\"line_color\":{\"field\":\"color\"},\"top\":{\"field\":\"counts\"},\"width\":{\"value\":0.9},\"x\":{\"field\":\"Classes\"}},\"id\":\"1197\",\"type\":\"VBar\"},{\"attributes\":{\"active_drag\":\"auto\",\"active_inspect\":\"auto\",\"active_multi\":null,\"active_scroll\":\"auto\",\"active_tap\":\"auto\",\"tools\":[{\"id\":\"1192\"}]},\"id\":\"1193\",\"type\":\"Toolbar\"},{\"attributes\":{},\"id\":\"1176\",\"type\":\"DataRange1d\"},{\"attributes\":{\"axis\":{\"id\":\"1184\"},\"ticker\":null},\"id\":\"1187\",\"type\":\"Grid\"},{\"attributes\":{\"fill_color\":{\"field\":\"color\"},\"line_color\":{\"field\":\"color\"},\"top\":{\"field\":\"counts\"},\"width\":{\"value\":0.9},\"x\":{\"field\":\"Classes\"}},\"id\":\"1196\",\"type\":\"VBar\"},{\"attributes\":{\"callback\":null,\"tooltips\":\"@Classes: @counts\"},\"id\":\"1192\",\"type\":\"HoverTool\"},{\"attributes\":{},\"id\":\"1182\",\"type\":\"LinearScale\"},{\"attributes\":{},\"id\":\"1189\",\"type\":\"BasicTicker\"},{\"attributes\":{\"data\":{\"Classes\":[1,0],\"color\":[\"#3288bd\",\"#99d594\",\"#e6f598\",\"#fee08b\",\"#fc8d59\",\"#d53e4f\"],\"counts\":[207,96]},\"selected\":{\"id\":\"1221\"},\"selection_policy\":{\"id\":\"1220\"}},\"id\":\"1174\",\"type\":\"ColumnDataSource\"},{\"attributes\":{\"data_source\":{\"id\":\"1174\"},\"glyph\":{\"id\":\"1196\"},\"hover_glyph\":null,\"muted_glyph\":null,\"nonselection_glyph\":{\"id\":\"1197\"},\"selection_glyph\":null,\"view\":{\"id\":\"1199\"}},\"id\":\"1198\",\"type\":\"GlyphRenderer\"},{\"attributes\":{\"text\":\"\"},\"id\":\"1215\",\"type\":\"Title\"},{\"attributes\":{\"axis_label\":\"sex\",\"formatter\":{\"id\":\"1216\"},\"ticker\":{\"id\":\"1185\"}},\"id\":\"1184\",\"type\":\"LinearAxis\"},{\"attributes\":{\"axis\":{\"id\":\"1188\"},\"dimension\":1,\"ticker\":null},\"id\":\"1191\",\"type\":\"Grid\"}],\"root_ids\":[\"1175\"]},\"title\":\"Bokeh Application\",\"version\":\"2.2.3\"}};\n",
       "  var render_items = [{\"docid\":\"00ed79d4-ef3b-43b8-b9ba-0ac587c03dc8\",\"root_ids\":[\"1175\"],\"roots\":{\"1175\":\"2fcea3d1-9be8-48a8-b453-fef74403c1d1\"}}];\n",
       "  root.Bokeh.embed.embed_items_notebook(docs_json, render_items);\n",
       "\n",
       "  }\n",
       "  if (root.Bokeh !== undefined) {\n",
       "    embed_document(root);\n",
       "  } else {\n",
       "    var attempts = 0;\n",
       "    var timer = setInterval(function(root) {\n",
       "      if (root.Bokeh !== undefined) {\n",
       "        clearInterval(timer);\n",
       "        embed_document(root);\n",
       "      } else {\n",
       "        attempts++;\n",
       "        if (attempts > 100) {\n",
       "          clearInterval(timer);\n",
       "          console.log(\"Bokeh: ERROR: Unable to run BokehJS code because BokehJS library is missing\");\n",
       "        }\n",
       "      }\n",
       "    }, 10, root)\n",
       "  }\n",
       "})(window);"
      ],
      "application/vnd.bokehjs_exec.v0+json": ""
     },
     "metadata": {
      "application/vnd.bokehjs_exec.v0+json": {
       "id": "1175"
      }
     },
     "output_type": "display_data"
    }
   ],
   "source": [
    "p2 = count_of_each_category('sex')\n",
    "show(p2)"
   ]
  },
  {
   "cell_type": "code",
   "execution_count": 19,
   "metadata": {
    "execution": {
     "iopub.execute_input": "2020-11-21T06:21:12.700697Z",
     "iopub.status.busy": "2020-11-21T06:21:12.694267Z",
     "iopub.status.idle": "2020-11-21T06:21:12.809289Z",
     "shell.execute_reply": "2020-11-21T06:21:12.808340Z"
    },
    "papermill": {
     "duration": 0.352817,
     "end_time": "2020-11-21T06:21:12.809502",
     "exception": false,
     "start_time": "2020-11-21T06:21:12.456685",
     "status": "completed"
    },
    "tags": []
   },
   "outputs": [
    {
     "data": {
      "text/html": [
       "\n",
       "\n",
       "\n",
       "\n",
       "\n",
       "\n",
       "  <div class=\"bk-root\" id=\"d73f3b7e-12a7-45e7-a4ec-0fbba878d94e\" data-root-id=\"1262\"></div>\n"
      ]
     },
     "metadata": {},
     "output_type": "display_data"
    },
    {
     "data": {
      "application/javascript": [
       "(function(root) {\n",
       "  function embed_document(root) {\n",
       "    \n",
       "  var docs_json = {\"57f9e6f8-33d1-47ed-bbf1-faceedd1ec19\":{\"roots\":{\"references\":[{\"attributes\":{\"below\":[{\"id\":\"1273\"}],\"center\":[{\"id\":\"1276\"},{\"id\":\"1280\"},{\"id\":\"1313\"}],\"left\":[{\"id\":\"1277\"}],\"plot_height\":400,\"plot_width\":400,\"renderers\":[{\"id\":\"1303\"},{\"id\":\"1319\"}],\"title\":{\"id\":\"1263\"},\"toolbar\":{\"id\":\"1288\"},\"x_range\":{\"id\":\"1265\"},\"x_scale\":{\"id\":\"1269\"},\"y_range\":{\"id\":\"1267\"},\"y_scale\":{\"id\":\"1271\"}},\"id\":\"1262\",\"subtype\":\"Figure\",\"type\":\"Plot\"},{\"attributes\":{},\"id\":\"1285\",\"type\":\"ResetTool\"},{\"attributes\":{},\"id\":\"1271\",\"type\":\"LinearScale\"},{\"attributes\":{\"source\":{\"id\":\"1315\"}},\"id\":\"1320\",\"type\":\"CDSView\"},{\"attributes\":{\"bottom\":{\"expr\":{\"id\":\"1295\"}},\"fill_alpha\":{\"value\":0.1},\"fill_color\":{\"value\":\"#e84d60\"},\"line_alpha\":{\"value\":0.1},\"line_color\":{\"value\":\"#e84d60\"},\"top\":{\"expr\":{\"id\":\"1296\"}},\"width\":{\"value\":0.9},\"x\":{\"field\":\"Classes\"}},\"id\":\"1302\",\"type\":\"VBar\"},{\"attributes\":{},\"id\":\"1286\",\"type\":\"HelpTool\"},{\"attributes\":{\"label\":{\"value\":\"No Heart Disease\"},\"renderers\":[{\"id\":\"1319\"}]},\"id\":\"1331\",\"type\":\"LegendItem\"},{\"attributes\":{},\"id\":\"1269\",\"type\":\"LinearScale\"},{\"attributes\":{\"bottom\":{\"expr\":{\"id\":\"1297\"}},\"fill_alpha\":{\"value\":0.1},\"fill_color\":{\"value\":\"#718dbf\"},\"line_alpha\":{\"value\":0.1},\"line_color\":{\"value\":\"#718dbf\"},\"top\":{\"expr\":{\"id\":\"1298\"}},\"width\":{\"value\":0.9},\"x\":{\"field\":\"Classes\"}},\"id\":\"1318\",\"type\":\"VBar\"},{\"attributes\":{},\"id\":\"1267\",\"type\":\"DataRange1d\"},{\"attributes\":{\"items\":[{\"id\":\"1314\"},{\"id\":\"1331\"}],\"label_text_font_size\":\"7pt\",\"location\":\"top_left\"},\"id\":\"1313\",\"type\":\"Legend\"},{\"attributes\":{},\"id\":\"1306\",\"type\":\"BasicTickFormatter\"},{\"attributes\":{\"formatter\":{\"id\":\"1306\"},\"ticker\":{\"id\":\"1274\"}},\"id\":\"1273\",\"type\":\"LinearAxis\"},{\"attributes\":{\"data_source\":{\"id\":\"1315\"},\"glyph\":{\"id\":\"1317\"},\"hover_glyph\":null,\"muted_glyph\":null,\"name\":\"No Heart Disease\",\"nonselection_glyph\":{\"id\":\"1318\"},\"selection_glyph\":null,\"view\":{\"id\":\"1320\"}},\"id\":\"1319\",\"type\":\"GlyphRenderer\"},{\"attributes\":{\"text\":\"Sex vs Target\"},\"id\":\"1263\",\"type\":\"Title\"},{\"attributes\":{},\"id\":\"1278\",\"type\":\"BasicTicker\"},{\"attributes\":{},\"id\":\"1274\",\"type\":\"BasicTicker\"},{\"attributes\":{\"data\":{\"Classes\":[0,1],\"Have Heart Disease\":[72,93],\"No Heart Disease\":[24,114]},\"selected\":{\"id\":\"1329\"},\"selection_policy\":{\"id\":\"1328\"}},\"id\":\"1315\",\"type\":\"ColumnDataSource\"},{\"attributes\":{\"axis\":{\"id\":\"1273\"},\"ticker\":null},\"id\":\"1276\",\"type\":\"Grid\"},{\"attributes\":{\"bottom\":{\"expr\":{\"id\":\"1297\"}},\"fill_color\":{\"value\":\"#718dbf\"},\"line_color\":{\"value\":\"#718dbf\"},\"top\":{\"expr\":{\"id\":\"1298\"}},\"width\":{\"value\":0.9},\"x\":{\"field\":\"Classes\"}},\"id\":\"1317\",\"type\":\"VBar\"},{\"attributes\":{},\"id\":\"1328\",\"type\":\"UnionRenderers\"},{\"attributes\":{\"axis\":{\"id\":\"1277\"},\"dimension\":1,\"ticker\":null},\"id\":\"1280\",\"type\":\"Grid\"},{\"attributes\":{\"label\":{\"value\":\"Have Heart Disease\"},\"renderers\":[{\"id\":\"1303\"}]},\"id\":\"1314\",\"type\":\"LegendItem\"},{\"attributes\":{\"fields\":[\"Have Heart Disease\"]},\"id\":\"1296\",\"type\":\"Stack\"},{\"attributes\":{},\"id\":\"1329\",\"type\":\"Selection\"},{\"attributes\":{\"formatter\":{\"id\":\"1308\"},\"ticker\":{\"id\":\"1278\"}},\"id\":\"1277\",\"type\":\"LinearAxis\"},{\"attributes\":{},\"id\":\"1311\",\"type\":\"Selection\"},{\"attributes\":{},\"id\":\"1265\",\"type\":\"DataRange1d\"},{\"attributes\":{\"bottom_units\":\"screen\",\"fill_alpha\":0.5,\"fill_color\":\"lightgrey\",\"left_units\":\"screen\",\"level\":\"overlay\",\"line_alpha\":1.0,\"line_color\":\"black\",\"line_dash\":[4,4],\"line_width\":2,\"right_units\":\"screen\",\"top_units\":\"screen\"},\"id\":\"1287\",\"type\":\"BoxAnnotation\"},{\"attributes\":{\"active_drag\":\"auto\",\"active_inspect\":\"auto\",\"active_multi\":null,\"active_scroll\":\"auto\",\"active_tap\":\"auto\",\"tools\":[{\"id\":\"1281\"},{\"id\":\"1282\"},{\"id\":\"1283\"},{\"id\":\"1284\"},{\"id\":\"1285\"},{\"id\":\"1286\"}]},\"id\":\"1288\",\"type\":\"Toolbar\"},{\"attributes\":{\"fields\":[]},\"id\":\"1295\",\"type\":\"Stack\"},{\"attributes\":{},\"id\":\"1310\",\"type\":\"UnionRenderers\"},{\"attributes\":{},\"id\":\"1308\",\"type\":\"BasicTickFormatter\"},{\"attributes\":{\"fields\":[\"Have Heart Disease\"]},\"id\":\"1297\",\"type\":\"Stack\"},{\"attributes\":{},\"id\":\"1281\",\"type\":\"PanTool\"},{\"attributes\":{\"fields\":[\"Have Heart Disease\",\"No Heart Disease\"]},\"id\":\"1298\",\"type\":\"Stack\"},{\"attributes\":{\"bottom\":{\"expr\":{\"id\":\"1295\"}},\"fill_color\":{\"value\":\"#e84d60\"},\"line_color\":{\"value\":\"#e84d60\"},\"top\":{\"expr\":{\"id\":\"1296\"}},\"width\":{\"value\":0.9},\"x\":{\"field\":\"Classes\"}},\"id\":\"1301\",\"type\":\"VBar\"},{\"attributes\":{},\"id\":\"1282\",\"type\":\"WheelZoomTool\"},{\"attributes\":{\"data_source\":{\"id\":\"1299\"},\"glyph\":{\"id\":\"1301\"},\"hover_glyph\":null,\"muted_glyph\":null,\"name\":\"Have Heart Disease\",\"nonselection_glyph\":{\"id\":\"1302\"},\"selection_glyph\":null,\"view\":{\"id\":\"1304\"}},\"id\":\"1303\",\"type\":\"GlyphRenderer\"},{\"attributes\":{\"overlay\":{\"id\":\"1287\"}},\"id\":\"1283\",\"type\":\"BoxZoomTool\"},{\"attributes\":{\"data\":{\"Classes\":[0,1],\"Have Heart Disease\":[72,93],\"No Heart Disease\":[24,114]},\"selected\":{\"id\":\"1311\"},\"selection_policy\":{\"id\":\"1310\"}},\"id\":\"1299\",\"type\":\"ColumnDataSource\"},{\"attributes\":{},\"id\":\"1284\",\"type\":\"SaveTool\"},{\"attributes\":{\"source\":{\"id\":\"1299\"}},\"id\":\"1304\",\"type\":\"CDSView\"}],\"root_ids\":[\"1262\"]},\"title\":\"Bokeh Application\",\"version\":\"2.2.3\"}};\n",
       "  var render_items = [{\"docid\":\"57f9e6f8-33d1-47ed-bbf1-faceedd1ec19\",\"root_ids\":[\"1262\"],\"roots\":{\"1262\":\"d73f3b7e-12a7-45e7-a4ec-0fbba878d94e\"}}];\n",
       "  root.Bokeh.embed.embed_items_notebook(docs_json, render_items);\n",
       "\n",
       "  }\n",
       "  if (root.Bokeh !== undefined) {\n",
       "    embed_document(root);\n",
       "  } else {\n",
       "    var attempts = 0;\n",
       "    var timer = setInterval(function(root) {\n",
       "      if (root.Bokeh !== undefined) {\n",
       "        clearInterval(timer);\n",
       "        embed_document(root);\n",
       "      } else {\n",
       "        attempts++;\n",
       "        if (attempts > 100) {\n",
       "          clearInterval(timer);\n",
       "          console.log(\"Bokeh: ERROR: Unable to run BokehJS code because BokehJS library is missing\");\n",
       "        }\n",
       "      }\n",
       "    }, 10, root)\n",
       "  }\n",
       "})(window);"
      ],
      "application/vnd.bokehjs_exec.v0+json": ""
     },
     "metadata": {
      "application/vnd.bokehjs_exec.v0+json": {
       "id": "1262"
      }
     },
     "output_type": "display_data"
    }
   ],
   "source": [
    "# For analyzing how much proportion of male or female have heart disease. \n",
    "\n",
    "sex_vs_target = df.groupby(['sex', 'target'])['sex'].count().to_list()\n",
    "\n",
    "unique = [0, 1]\n",
    "condition = ['Have Heart Disease', 'No Heart Disease']\n",
    "colors = [\"#e84d60\", \"#718dbf\"]\n",
    "data = {\n",
    "        'Classes' : unique,\n",
    "        'Have Heart Disease' : [sex_vs_target[1], sex_vs_target[3]],\n",
    "        'No Heart Disease'   : [sex_vs_target[0], sex_vs_target[2]]\n",
    "        }\n",
    "\n",
    "p3 = figure(plot_height = 400, plot_width = 400, title = \"Sex vs Target\",\n",
    "           )\n",
    "\n",
    "p3.vbar_stack(condition, x ='Classes', width = 0.9, color = colors, source = data,\n",
    "             legend_label = condition)\n",
    "\n",
    "p3.legend.location = \"top_left\"\n",
    "\n",
    "p3.legend.label_text_font_size = '7pt'\n",
    "show(p3)"
   ]
  },
  {
   "cell_type": "markdown",
   "metadata": {
    "papermill": {
     "duration": 0.217474,
     "end_time": "2020-11-21T06:21:13.252049",
     "exception": false,
     "start_time": "2020-11-21T06:21:13.034575",
     "status": "completed"
    },
    "tags": []
   },
   "source": [
    "We might think that more number of men have heart disease but if we observe closely, we can see that more proportion of female have heart disease as compared to men."
   ]
  },
  {
   "cell_type": "markdown",
   "metadata": {
    "papermill": {
     "duration": 0.174629,
     "end_time": "2020-11-21T06:21:13.626275",
     "exception": false,
     "start_time": "2020-11-21T06:21:13.451646",
     "status": "completed"
    },
    "tags": []
   },
   "source": [
    "### Chest Pain vs Target"
   ]
  },
  {
   "cell_type": "markdown",
   "metadata": {
    "papermill": {
     "duration": 0.154563,
     "end_time": "2020-11-21T06:21:13.965370",
     "exception": false,
     "start_time": "2020-11-21T06:21:13.810807",
     "status": "completed"
    },
    "tags": []
   },
   "source": [
    "Different Chest Pain Types:\n",
    "\n",
    "0: Typical angina: chest pain related decrease blood supply to the heart\n",
    "\n",
    "1: Atypical angina: chest pain not related to heart\n",
    "\n",
    "2: Non-anginal pain: typically esophageal spasms (non heart related)\n",
    "\n",
    "3: Asymptomatic: chest pain not showing signs of disease\n"
   ]
  },
  {
   "cell_type": "code",
   "execution_count": 20,
   "metadata": {
    "execution": {
     "iopub.execute_input": "2020-11-21T06:21:14.367863Z",
     "iopub.status.busy": "2020-11-21T06:21:14.354252Z",
     "iopub.status.idle": "2020-11-21T06:21:14.442056Z",
     "shell.execute_reply": "2020-11-21T06:21:14.441177Z"
    },
    "papermill": {
     "duration": 0.276442,
     "end_time": "2020-11-21T06:21:14.442200",
     "exception": false,
     "start_time": "2020-11-21T06:21:14.165758",
     "status": "completed"
    },
    "tags": []
   },
   "outputs": [
    {
     "name": "stderr",
     "output_type": "stream",
     "text": [
      "BokehUserWarning: ColumnDataSource's columns must be of the same length. Current lengths: ('Classes', 4), ('color', 6), ('counts', 4)\n"
     ]
    },
    {
     "data": {
      "text/html": [
       "\n",
       "\n",
       "\n",
       "\n",
       "\n",
       "\n",
       "  <div class=\"bk-root\" id=\"fc49ca96-f511-4a44-bbcf-7c11a702fafd\" data-root-id=\"1415\"></div>\n"
      ]
     },
     "metadata": {},
     "output_type": "display_data"
    },
    {
     "data": {
      "application/javascript": [
       "(function(root) {\n",
       "  function embed_document(root) {\n",
       "    \n",
       "  var docs_json = {\"78df11b7-d222-4443-98dd-294491022608\":{\"roots\":{\"references\":[{\"attributes\":{\"below\":[{\"id\":\"1424\"}],\"center\":[{\"id\":\"1427\"},{\"id\":\"1431\"}],\"left\":[{\"id\":\"1428\"}],\"plot_height\":400,\"plot_width\":400,\"renderers\":[{\"id\":\"1438\"}],\"title\":{\"id\":\"1473\"},\"toolbar\":{\"id\":\"1433\"},\"x_range\":{\"id\":\"1416\"},\"x_scale\":{\"id\":\"1420\"},\"y_range\":{\"id\":\"1418\"},\"y_scale\":{\"id\":\"1422\"}},\"id\":\"1415\",\"subtype\":\"Figure\",\"type\":\"Plot\"},{\"attributes\":{\"axis\":{\"id\":\"1428\"},\"dimension\":1,\"ticker\":null},\"id\":\"1431\",\"type\":\"Grid\"},{\"attributes\":{\"fill_alpha\":{\"value\":0.1},\"fill_color\":{\"field\":\"color\"},\"line_alpha\":{\"value\":0.1},\"line_color\":{\"field\":\"color\"},\"top\":{\"field\":\"counts\"},\"width\":{\"value\":0.9},\"x\":{\"field\":\"Classes\"}},\"id\":\"1437\",\"type\":\"VBar\"},{\"attributes\":{},\"id\":\"1425\",\"type\":\"BasicTicker\"},{\"attributes\":{\"axis_label\":\"Count(Classes)\",\"formatter\":{\"id\":\"1476\"},\"ticker\":{\"id\":\"1429\"}},\"id\":\"1428\",\"type\":\"LinearAxis\"},{\"attributes\":{\"text\":\"\"},\"id\":\"1473\",\"type\":\"Title\"},{\"attributes\":{\"data\":{\"Classes\":[0,2,1,3],\"color\":[\"#3288bd\",\"#99d594\",\"#e6f598\",\"#fee08b\",\"#fc8d59\",\"#d53e4f\"],\"counts\":[143,87,50,23]},\"selected\":{\"id\":\"1479\"},\"selection_policy\":{\"id\":\"1478\"}},\"id\":\"1414\",\"type\":\"ColumnDataSource\"},{\"attributes\":{},\"id\":\"1418\",\"type\":\"DataRange1d\"},{\"attributes\":{\"axis\":{\"id\":\"1424\"},\"ticker\":null},\"id\":\"1427\",\"type\":\"Grid\"},{\"attributes\":{},\"id\":\"1422\",\"type\":\"LinearScale\"},{\"attributes\":{\"source\":{\"id\":\"1414\"}},\"id\":\"1439\",\"type\":\"CDSView\"},{\"attributes\":{},\"id\":\"1420\",\"type\":\"LinearScale\"},{\"attributes\":{},\"id\":\"1479\",\"type\":\"Selection\"},{\"attributes\":{\"axis_label\":\"cp\",\"formatter\":{\"id\":\"1474\"},\"ticker\":{\"id\":\"1425\"}},\"id\":\"1424\",\"type\":\"LinearAxis\"},{\"attributes\":{\"active_drag\":\"auto\",\"active_inspect\":\"auto\",\"active_multi\":null,\"active_scroll\":\"auto\",\"active_tap\":\"auto\",\"tools\":[{\"id\":\"1432\"}]},\"id\":\"1433\",\"type\":\"Toolbar\"},{\"attributes\":{},\"id\":\"1478\",\"type\":\"UnionRenderers\"},{\"attributes\":{},\"id\":\"1416\",\"type\":\"DataRange1d\"},{\"attributes\":{},\"id\":\"1476\",\"type\":\"BasicTickFormatter\"},{\"attributes\":{\"callback\":null,\"tooltips\":\"@Classes: @counts\"},\"id\":\"1432\",\"type\":\"HoverTool\"},{\"attributes\":{},\"id\":\"1429\",\"type\":\"BasicTicker\"},{\"attributes\":{\"fill_color\":{\"field\":\"color\"},\"line_color\":{\"field\":\"color\"},\"top\":{\"field\":\"counts\"},\"width\":{\"value\":0.9},\"x\":{\"field\":\"Classes\"}},\"id\":\"1436\",\"type\":\"VBar\"},{\"attributes\":{},\"id\":\"1474\",\"type\":\"BasicTickFormatter\"},{\"attributes\":{\"data_source\":{\"id\":\"1414\"},\"glyph\":{\"id\":\"1436\"},\"hover_glyph\":null,\"muted_glyph\":null,\"nonselection_glyph\":{\"id\":\"1437\"},\"selection_glyph\":null,\"view\":{\"id\":\"1439\"}},\"id\":\"1438\",\"type\":\"GlyphRenderer\"}],\"root_ids\":[\"1415\"]},\"title\":\"Bokeh Application\",\"version\":\"2.2.3\"}};\n",
       "  var render_items = [{\"docid\":\"78df11b7-d222-4443-98dd-294491022608\",\"root_ids\":[\"1415\"],\"roots\":{\"1415\":\"fc49ca96-f511-4a44-bbcf-7c11a702fafd\"}}];\n",
       "  root.Bokeh.embed.embed_items_notebook(docs_json, render_items);\n",
       "\n",
       "  }\n",
       "  if (root.Bokeh !== undefined) {\n",
       "    embed_document(root);\n",
       "  } else {\n",
       "    var attempts = 0;\n",
       "    var timer = setInterval(function(root) {\n",
       "      if (root.Bokeh !== undefined) {\n",
       "        clearInterval(timer);\n",
       "        embed_document(root);\n",
       "      } else {\n",
       "        attempts++;\n",
       "        if (attempts > 100) {\n",
       "          clearInterval(timer);\n",
       "          console.log(\"Bokeh: ERROR: Unable to run BokehJS code because BokehJS library is missing\");\n",
       "        }\n",
       "      }\n",
       "    }, 10, root)\n",
       "  }\n",
       "})(window);"
      ],
      "application/vnd.bokehjs_exec.v0+json": ""
     },
     "metadata": {
      "application/vnd.bokehjs_exec.v0+json": {
       "id": "1415"
      }
     },
     "output_type": "display_data"
    }
   ],
   "source": [
    "p4 = count_of_each_category('cp')\n",
    "show(p4)"
   ]
  },
  {
   "cell_type": "code",
   "execution_count": 21,
   "metadata": {
    "execution": {
     "iopub.execute_input": "2020-11-21T06:21:14.899591Z",
     "iopub.status.busy": "2020-11-21T06:21:14.898312Z",
     "iopub.status.idle": "2020-11-21T06:21:15.064926Z",
     "shell.execute_reply": "2020-11-21T06:21:15.064036Z"
    },
    "papermill": {
     "duration": 0.40953,
     "end_time": "2020-11-21T06:21:15.065074",
     "exception": false,
     "start_time": "2020-11-21T06:21:14.655544",
     "status": "completed"
    },
    "tags": []
   },
   "outputs": [
    {
     "data": {
      "text/html": [
       "\n",
       "\n",
       "\n",
       "\n",
       "\n",
       "\n",
       "  <div class=\"bk-root\" id=\"330b15a0-cac0-4c12-8048-3d0c40b0ec91\" data-root-id=\"1520\"></div>\n"
      ]
     },
     "metadata": {},
     "output_type": "display_data"
    },
    {
     "data": {
      "application/javascript": [
       "(function(root) {\n",
       "  function embed_document(root) {\n",
       "    \n",
       "  var docs_json = {\"cdf48fd6-555d-41bc-b5f0-c0fa18af6364\":{\"roots\":{\"references\":[{\"attributes\":{\"below\":[{\"id\":\"1531\"}],\"center\":[{\"id\":\"1534\"},{\"id\":\"1538\"},{\"id\":\"1571\"}],\"left\":[{\"id\":\"1535\"}],\"plot_height\":400,\"plot_width\":400,\"renderers\":[{\"id\":\"1561\"},{\"id\":\"1577\"}],\"title\":{\"id\":\"1521\"},\"toolbar\":{\"id\":\"1546\"},\"x_range\":{\"id\":\"1523\"},\"x_scale\":{\"id\":\"1527\"},\"y_range\":{\"id\":\"1525\"},\"y_scale\":{\"id\":\"1529\"}},\"id\":\"1520\",\"subtype\":\"Figure\",\"type\":\"Plot\"},{\"attributes\":{},\"id\":\"1536\",\"type\":\"BasicTicker\"},{\"attributes\":{\"data_source\":{\"id\":\"1573\"},\"glyph\":{\"id\":\"1575\"},\"hover_glyph\":null,\"muted_glyph\":null,\"name\":\"No Heart Disease\",\"nonselection_glyph\":{\"id\":\"1576\"},\"selection_glyph\":null,\"view\":{\"id\":\"1578\"}},\"id\":\"1577\",\"type\":\"GlyphRenderer\"},{\"attributes\":{\"axis\":{\"id\":\"1531\"},\"ticker\":null},\"id\":\"1534\",\"type\":\"Grid\"},{\"attributes\":{\"data\":{\"Classes\":[0,1,2,3],\"Have Heart Disease\":[39,41,69,16],\"No Heart Disease\":[104,9,18,7]},\"selected\":{\"id\":\"1569\"},\"selection_policy\":{\"id\":\"1568\"}},\"id\":\"1557\",\"type\":\"ColumnDataSource\"},{\"attributes\":{\"source\":{\"id\":\"1573\"}},\"id\":\"1578\",\"type\":\"CDSView\"},{\"attributes\":{\"label\":{\"value\":\"No Heart Disease\"},\"renderers\":[{\"id\":\"1577\"}]},\"id\":\"1589\",\"type\":\"LegendItem\"},{\"attributes\":{\"active_drag\":\"auto\",\"active_inspect\":\"auto\",\"active_multi\":null,\"active_scroll\":\"auto\",\"active_tap\":\"auto\",\"tools\":[{\"id\":\"1539\"},{\"id\":\"1540\"},{\"id\":\"1541\"},{\"id\":\"1542\"},{\"id\":\"1543\"},{\"id\":\"1544\"}]},\"id\":\"1546\",\"type\":\"Toolbar\"},{\"attributes\":{\"axis\":{\"id\":\"1535\"},\"dimension\":1,\"ticker\":null},\"id\":\"1538\",\"type\":\"Grid\"},{\"attributes\":{\"formatter\":{\"id\":\"1566\"},\"ticker\":{\"id\":\"1536\"}},\"id\":\"1535\",\"type\":\"LinearAxis\"},{\"attributes\":{\"bottom_units\":\"screen\",\"fill_alpha\":0.5,\"fill_color\":\"lightgrey\",\"left_units\":\"screen\",\"level\":\"overlay\",\"line_alpha\":1.0,\"line_color\":\"black\",\"line_dash\":[4,4],\"line_width\":2,\"right_units\":\"screen\",\"top_units\":\"screen\"},\"id\":\"1545\",\"type\":\"BoxAnnotation\"},{\"attributes\":{},\"id\":\"1586\",\"type\":\"UnionRenderers\"},{\"attributes\":{\"data_source\":{\"id\":\"1557\"},\"glyph\":{\"id\":\"1559\"},\"hover_glyph\":null,\"muted_glyph\":null,\"name\":\"Have Heart Disease\",\"nonselection_glyph\":{\"id\":\"1560\"},\"selection_glyph\":null,\"view\":{\"id\":\"1562\"}},\"id\":\"1561\",\"type\":\"GlyphRenderer\"},{\"attributes\":{\"text\":\"Chest Pain vs Target\"},\"id\":\"1521\",\"type\":\"Title\"},{\"attributes\":{},\"id\":\"1587\",\"type\":\"Selection\"},{\"attributes\":{\"bottom\":{\"expr\":{\"id\":\"1555\"}},\"fill_color\":{\"value\":\"#718dbf\"},\"line_color\":{\"value\":\"#718dbf\"},\"top\":{\"expr\":{\"id\":\"1556\"}},\"width\":{\"value\":0.9},\"x\":{\"field\":\"Classes\"}},\"id\":\"1575\",\"type\":\"VBar\"},{\"attributes\":{\"source\":{\"id\":\"1557\"}},\"id\":\"1562\",\"type\":\"CDSView\"},{\"attributes\":{\"fields\":[\"Have Heart Disease\"]},\"id\":\"1555\",\"type\":\"Stack\"},{\"attributes\":{\"bottom\":{\"expr\":{\"id\":\"1553\"}},\"fill_alpha\":{\"value\":0.1},\"fill_color\":{\"value\":\"#e84d60\"},\"line_alpha\":{\"value\":0.1},\"line_color\":{\"value\":\"#e84d60\"},\"top\":{\"expr\":{\"id\":\"1554\"}},\"width\":{\"value\":0.9},\"x\":{\"field\":\"Classes\"}},\"id\":\"1560\",\"type\":\"VBar\"},{\"attributes\":{\"fields\":[\"Have Heart Disease\"]},\"id\":\"1554\",\"type\":\"Stack\"},{\"attributes\":{\"items\":[{\"id\":\"1572\"},{\"id\":\"1589\"}],\"label_text_font_size\":\"7pt\"},\"id\":\"1571\",\"type\":\"Legend\"},{\"attributes\":{},\"id\":\"1564\",\"type\":\"BasicTickFormatter\"},{\"attributes\":{},\"id\":\"1539\",\"type\":\"PanTool\"},{\"attributes\":{},\"id\":\"1523\",\"type\":\"DataRange1d\"},{\"attributes\":{},\"id\":\"1566\",\"type\":\"BasicTickFormatter\"},{\"attributes\":{},\"id\":\"1540\",\"type\":\"WheelZoomTool\"},{\"attributes\":{},\"id\":\"1527\",\"type\":\"LinearScale\"},{\"attributes\":{},\"id\":\"1568\",\"type\":\"UnionRenderers\"},{\"attributes\":{},\"id\":\"1525\",\"type\":\"DataRange1d\"},{\"attributes\":{},\"id\":\"1532\",\"type\":\"BasicTicker\"},{\"attributes\":{\"overlay\":{\"id\":\"1545\"}},\"id\":\"1541\",\"type\":\"BoxZoomTool\"},{\"attributes\":{},\"id\":\"1569\",\"type\":\"Selection\"},{\"attributes\":{},\"id\":\"1542\",\"type\":\"SaveTool\"},{\"attributes\":{\"fields\":[]},\"id\":\"1553\",\"type\":\"Stack\"},{\"attributes\":{\"data\":{\"Classes\":[0,1,2,3],\"Have Heart Disease\":[39,41,69,16],\"No Heart Disease\":[104,9,18,7]},\"selected\":{\"id\":\"1587\"},\"selection_policy\":{\"id\":\"1586\"}},\"id\":\"1573\",\"type\":\"ColumnDataSource\"},{\"attributes\":{},\"id\":\"1543\",\"type\":\"ResetTool\"},{\"attributes\":{\"label\":{\"value\":\"Have Heart Disease\"},\"renderers\":[{\"id\":\"1561\"}]},\"id\":\"1572\",\"type\":\"LegendItem\"},{\"attributes\":{\"bottom\":{\"expr\":{\"id\":\"1555\"}},\"fill_alpha\":{\"value\":0.1},\"fill_color\":{\"value\":\"#718dbf\"},\"line_alpha\":{\"value\":0.1},\"line_color\":{\"value\":\"#718dbf\"},\"top\":{\"expr\":{\"id\":\"1556\"}},\"width\":{\"value\":0.9},\"x\":{\"field\":\"Classes\"}},\"id\":\"1576\",\"type\":\"VBar\"},{\"attributes\":{\"fields\":[\"Have Heart Disease\",\"No Heart Disease\"]},\"id\":\"1556\",\"type\":\"Stack\"},{\"attributes\":{},\"id\":\"1544\",\"type\":\"HelpTool\"},{\"attributes\":{},\"id\":\"1529\",\"type\":\"LinearScale\"},{\"attributes\":{\"bottom\":{\"expr\":{\"id\":\"1553\"}},\"fill_color\":{\"value\":\"#e84d60\"},\"line_color\":{\"value\":\"#e84d60\"},\"top\":{\"expr\":{\"id\":\"1554\"}},\"width\":{\"value\":0.9},\"x\":{\"field\":\"Classes\"}},\"id\":\"1559\",\"type\":\"VBar\"},{\"attributes\":{\"formatter\":{\"id\":\"1564\"},\"ticker\":{\"id\":\"1532\"}},\"id\":\"1531\",\"type\":\"LinearAxis\"}],\"root_ids\":[\"1520\"]},\"title\":\"Bokeh Application\",\"version\":\"2.2.3\"}};\n",
       "  var render_items = [{\"docid\":\"cdf48fd6-555d-41bc-b5f0-c0fa18af6364\",\"root_ids\":[\"1520\"],\"roots\":{\"1520\":\"330b15a0-cac0-4c12-8048-3d0c40b0ec91\"}}];\n",
       "  root.Bokeh.embed.embed_items_notebook(docs_json, render_items);\n",
       "\n",
       "  }\n",
       "  if (root.Bokeh !== undefined) {\n",
       "    embed_document(root);\n",
       "  } else {\n",
       "    var attempts = 0;\n",
       "    var timer = setInterval(function(root) {\n",
       "      if (root.Bokeh !== undefined) {\n",
       "        clearInterval(timer);\n",
       "        embed_document(root);\n",
       "      } else {\n",
       "        attempts++;\n",
       "        if (attempts > 100) {\n",
       "          clearInterval(timer);\n",
       "          console.log(\"Bokeh: ERROR: Unable to run BokehJS code because BokehJS library is missing\");\n",
       "        }\n",
       "      }\n",
       "    }, 10, root)\n",
       "  }\n",
       "})(window);"
      ],
      "application/vnd.bokehjs_exec.v0+json": ""
     },
     "metadata": {
      "application/vnd.bokehjs_exec.v0+json": {
       "id": "1520"
      }
     },
     "output_type": "display_data"
    }
   ],
   "source": [
    "# For analyzing what proportion of different chest pain types patient have heart disease. \n",
    "\n",
    "cp_vs_target = df.groupby(['cp', 'target'])['cp'].count().to_list()\n",
    "\n",
    "unique = [0, 1, 2, 3]\n",
    "condition = ['Have Heart Disease', 'No Heart Disease']\n",
    "colors = [\"#e84d60\", \"#718dbf\"]\n",
    "data = {\n",
    "        'Classes' : unique,\n",
    "        'Have Heart Disease' : [cp_vs_target[1], cp_vs_target[3], cp_vs_target[5],cp_vs_target[7]],\n",
    "        'No Heart Disease'   : [cp_vs_target[0], cp_vs_target[2], cp_vs_target[4], cp_vs_target[6]]\n",
    "        }\n",
    "\n",
    "p5 = figure(plot_height = 400, plot_width = 400, title = \"Chest Pain vs Target\")\n",
    "\n",
    "p5.vbar_stack(condition, x ='Classes', width = 0.9, color = colors, source = data, legend_label = condition)\n",
    "\n",
    "p5.legend.location = \"top_right\"\n",
    "\n",
    "p5.legend.label_text_font_size = '7pt'\n",
    "show(p5)"
   ]
  },
  {
   "cell_type": "markdown",
   "metadata": {
    "papermill": {
     "duration": 0.189073,
     "end_time": "2020-11-21T06:21:15.442064",
     "exception": false,
     "start_time": "2020-11-21T06:21:15.252991",
     "status": "completed"
    },
    "tags": []
   },
   "source": [
    "It's really shocking to know that majority of the asymptomatic (Type 3) cases and Non-anginal pain patients (Type 2) ended up having heart disease."
   ]
  },
  {
   "cell_type": "markdown",
   "metadata": {
    "papermill": {
     "duration": 0.153373,
     "end_time": "2020-11-21T06:21:15.817013",
     "exception": false,
     "start_time": "2020-11-21T06:21:15.663640",
     "status": "completed"
    },
    "tags": []
   },
   "source": [
    "### Fasting Blood Sugar vs Target "
   ]
  },
  {
   "cell_type": "markdown",
   "metadata": {
    "papermill": {
     "duration": 0.171466,
     "end_time": "2020-11-21T06:21:16.242155",
     "exception": false,
     "start_time": "2020-11-21T06:21:16.070689",
     "status": "completed"
    },
    "tags": []
   },
   "source": [
    "FBS > 120 mg/dl (1 = true; 0 = false). \n",
    "\n",
    "Those whose Fasting Blood Sugar is greater than 120 indicates that the patient is diabetic."
   ]
  },
  {
   "cell_type": "code",
   "execution_count": 22,
   "metadata": {
    "execution": {
     "iopub.execute_input": "2020-11-21T06:21:16.591887Z",
     "iopub.status.busy": "2020-11-21T06:21:16.585802Z",
     "iopub.status.idle": "2020-11-21T06:21:16.662678Z",
     "shell.execute_reply": "2020-11-21T06:21:16.661154Z"
    },
    "papermill": {
     "duration": 0.259662,
     "end_time": "2020-11-21T06:21:16.662940",
     "exception": false,
     "start_time": "2020-11-21T06:21:16.403278",
     "status": "completed"
    },
    "tags": []
   },
   "outputs": [
    {
     "name": "stderr",
     "output_type": "stream",
     "text": [
      "BokehUserWarning: ColumnDataSource's columns must be of the same length. Current lengths: ('Classes', 2), ('color', 6), ('counts', 2)\n"
     ]
    },
    {
     "data": {
      "text/html": [
       "\n",
       "\n",
       "\n",
       "\n",
       "\n",
       "\n",
       "  <div class=\"bk-root\" id=\"667a5a30-6aaa-4079-95ba-79a78d492585\" data-root-id=\"1691\"></div>\n"
      ]
     },
     "metadata": {},
     "output_type": "display_data"
    },
    {
     "data": {
      "application/javascript": [
       "(function(root) {\n",
       "  function embed_document(root) {\n",
       "    \n",
       "  var docs_json = {\"2550ad76-d286-421a-840c-01b991f33c6d\":{\"roots\":{\"references\":[{\"attributes\":{\"below\":[{\"id\":\"1700\"}],\"center\":[{\"id\":\"1703\"},{\"id\":\"1707\"}],\"left\":[{\"id\":\"1704\"}],\"plot_height\":400,\"plot_width\":400,\"renderers\":[{\"id\":\"1714\"}],\"title\":{\"id\":\"1767\"},\"toolbar\":{\"id\":\"1709\"},\"x_range\":{\"id\":\"1692\"},\"x_scale\":{\"id\":\"1696\"},\"y_range\":{\"id\":\"1694\"},\"y_scale\":{\"id\":\"1698\"}},\"id\":\"1691\",\"subtype\":\"Figure\",\"type\":\"Plot\"},{\"attributes\":{},\"id\":\"1694\",\"type\":\"DataRange1d\"},{\"attributes\":{},\"id\":\"1705\",\"type\":\"BasicTicker\"},{\"attributes\":{\"data_source\":{\"id\":\"1690\"},\"glyph\":{\"id\":\"1712\"},\"hover_glyph\":null,\"muted_glyph\":null,\"nonselection_glyph\":{\"id\":\"1713\"},\"selection_glyph\":null,\"view\":{\"id\":\"1715\"}},\"id\":\"1714\",\"type\":\"GlyphRenderer\"},{\"attributes\":{\"axis_label\":\"fbs\",\"formatter\":{\"id\":\"1768\"},\"ticker\":{\"id\":\"1701\"}},\"id\":\"1700\",\"type\":\"LinearAxis\"},{\"attributes\":{\"data\":{\"Classes\":[0,1],\"color\":[\"#3288bd\",\"#99d594\",\"#e6f598\",\"#fee08b\",\"#fc8d59\",\"#d53e4f\"],\"counts\":[258,45]},\"selected\":{\"id\":\"1773\"},\"selection_policy\":{\"id\":\"1772\"}},\"id\":\"1690\",\"type\":\"ColumnDataSource\"},{\"attributes\":{\"axis\":{\"id\":\"1700\"},\"ticker\":null},\"id\":\"1703\",\"type\":\"Grid\"},{\"attributes\":{\"fill_color\":{\"field\":\"color\"},\"line_color\":{\"field\":\"color\"},\"top\":{\"field\":\"counts\"},\"width\":{\"value\":0.9},\"x\":{\"field\":\"Classes\"}},\"id\":\"1712\",\"type\":\"VBar\"},{\"attributes\":{},\"id\":\"1698\",\"type\":\"LinearScale\"},{\"attributes\":{},\"id\":\"1696\",\"type\":\"LinearScale\"},{\"attributes\":{\"axis_label\":\"Count(Classes)\",\"formatter\":{\"id\":\"1770\"},\"ticker\":{\"id\":\"1705\"}},\"id\":\"1704\",\"type\":\"LinearAxis\"},{\"attributes\":{},\"id\":\"1773\",\"type\":\"Selection\"},{\"attributes\":{},\"id\":\"1770\",\"type\":\"BasicTickFormatter\"},{\"attributes\":{\"axis\":{\"id\":\"1704\"},\"dimension\":1,\"ticker\":null},\"id\":\"1707\",\"type\":\"Grid\"},{\"attributes\":{},\"id\":\"1768\",\"type\":\"BasicTickFormatter\"},{\"attributes\":{\"source\":{\"id\":\"1690\"}},\"id\":\"1715\",\"type\":\"CDSView\"},{\"attributes\":{},\"id\":\"1701\",\"type\":\"BasicTicker\"},{\"attributes\":{},\"id\":\"1772\",\"type\":\"UnionRenderers\"},{\"attributes\":{\"callback\":null,\"tooltips\":\"@Classes: @counts\"},\"id\":\"1708\",\"type\":\"HoverTool\"},{\"attributes\":{\"active_drag\":\"auto\",\"active_inspect\":\"auto\",\"active_multi\":null,\"active_scroll\":\"auto\",\"active_tap\":\"auto\",\"tools\":[{\"id\":\"1708\"}]},\"id\":\"1709\",\"type\":\"Toolbar\"},{\"attributes\":{\"text\":\"\"},\"id\":\"1767\",\"type\":\"Title\"},{\"attributes\":{\"fill_alpha\":{\"value\":0.1},\"fill_color\":{\"field\":\"color\"},\"line_alpha\":{\"value\":0.1},\"line_color\":{\"field\":\"color\"},\"top\":{\"field\":\"counts\"},\"width\":{\"value\":0.9},\"x\":{\"field\":\"Classes\"}},\"id\":\"1713\",\"type\":\"VBar\"},{\"attributes\":{},\"id\":\"1692\",\"type\":\"DataRange1d\"}],\"root_ids\":[\"1691\"]},\"title\":\"Bokeh Application\",\"version\":\"2.2.3\"}};\n",
       "  var render_items = [{\"docid\":\"2550ad76-d286-421a-840c-01b991f33c6d\",\"root_ids\":[\"1691\"],\"roots\":{\"1691\":\"667a5a30-6aaa-4079-95ba-79a78d492585\"}}];\n",
       "  root.Bokeh.embed.embed_items_notebook(docs_json, render_items);\n",
       "\n",
       "  }\n",
       "  if (root.Bokeh !== undefined) {\n",
       "    embed_document(root);\n",
       "  } else {\n",
       "    var attempts = 0;\n",
       "    var timer = setInterval(function(root) {\n",
       "      if (root.Bokeh !== undefined) {\n",
       "        clearInterval(timer);\n",
       "        embed_document(root);\n",
       "      } else {\n",
       "        attempts++;\n",
       "        if (attempts > 100) {\n",
       "          clearInterval(timer);\n",
       "          console.log(\"Bokeh: ERROR: Unable to run BokehJS code because BokehJS library is missing\");\n",
       "        }\n",
       "      }\n",
       "    }, 10, root)\n",
       "  }\n",
       "})(window);"
      ],
      "application/vnd.bokehjs_exec.v0+json": ""
     },
     "metadata": {
      "application/vnd.bokehjs_exec.v0+json": {
       "id": "1691"
      }
     },
     "output_type": "display_data"
    }
   ],
   "source": [
    "p6 = count_of_each_category('fbs')\n",
    "show(p6)"
   ]
  },
  {
   "cell_type": "code",
   "execution_count": 23,
   "metadata": {
    "execution": {
     "iopub.execute_input": "2020-11-21T06:21:17.012598Z",
     "iopub.status.busy": "2020-11-21T06:21:17.011559Z",
     "iopub.status.idle": "2020-11-21T06:21:17.139091Z",
     "shell.execute_reply": "2020-11-21T06:21:17.137739Z"
    },
    "papermill": {
     "duration": 0.292007,
     "end_time": "2020-11-21T06:21:17.139280",
     "exception": false,
     "start_time": "2020-11-21T06:21:16.847273",
     "status": "completed"
    },
    "tags": []
   },
   "outputs": [
    {
     "data": {
      "text/html": [
       "\n",
       "\n",
       "\n",
       "\n",
       "\n",
       "\n",
       "  <div class=\"bk-root\" id=\"1c1d8648-010b-476d-bb24-fa66663d945c\" data-root-id=\"1814\"></div>\n"
      ]
     },
     "metadata": {},
     "output_type": "display_data"
    },
    {
     "data": {
      "application/javascript": [
       "(function(root) {\n",
       "  function embed_document(root) {\n",
       "    \n",
       "  var docs_json = {\"f873ffea-4d8f-47ab-9b09-f9432d70f5f2\":{\"roots\":{\"references\":[{\"attributes\":{\"below\":[{\"id\":\"1825\"}],\"center\":[{\"id\":\"1828\"},{\"id\":\"1832\"},{\"id\":\"1865\"}],\"left\":[{\"id\":\"1829\"}],\"plot_height\":400,\"plot_width\":400,\"renderers\":[{\"id\":\"1855\"},{\"id\":\"1871\"}],\"title\":{\"id\":\"1815\"},\"toolbar\":{\"id\":\"1840\"},\"x_range\":{\"id\":\"1817\"},\"x_scale\":{\"id\":\"1821\"},\"y_range\":{\"id\":\"1819\"},\"y_scale\":{\"id\":\"1823\"}},\"id\":\"1814\",\"subtype\":\"Figure\",\"type\":\"Plot\"},{\"attributes\":{},\"id\":\"1821\",\"type\":\"LinearScale\"},{\"attributes\":{},\"id\":\"1862\",\"type\":\"UnionRenderers\"},{\"attributes\":{\"source\":{\"id\":\"1867\"}},\"id\":\"1872\",\"type\":\"CDSView\"},{\"attributes\":{},\"id\":\"1830\",\"type\":\"BasicTicker\"},{\"attributes\":{},\"id\":\"1880\",\"type\":\"UnionRenderers\"},{\"attributes\":{\"axis\":{\"id\":\"1825\"},\"ticker\":null},\"id\":\"1828\",\"type\":\"Grid\"},{\"attributes\":{},\"id\":\"1881\",\"type\":\"Selection\"},{\"attributes\":{\"bottom\":{\"expr\":{\"id\":\"1849\"}},\"fill_alpha\":{\"value\":0.1},\"fill_color\":{\"value\":\"#718dbf\"},\"line_alpha\":{\"value\":0.1},\"line_color\":{\"value\":\"#718dbf\"},\"top\":{\"expr\":{\"id\":\"1850\"}},\"width\":{\"value\":0.9},\"x\":{\"field\":\"Classes\"}},\"id\":\"1870\",\"type\":\"VBar\"},{\"attributes\":{\"axis\":{\"id\":\"1829\"},\"dimension\":1,\"ticker\":null},\"id\":\"1832\",\"type\":\"Grid\"},{\"attributes\":{\"data_source\":{\"id\":\"1867\"},\"glyph\":{\"id\":\"1869\"},\"hover_glyph\":null,\"muted_glyph\":null,\"name\":\"No Heart Disease\",\"nonselection_glyph\":{\"id\":\"1870\"},\"selection_glyph\":null,\"view\":{\"id\":\"1872\"}},\"id\":\"1871\",\"type\":\"GlyphRenderer\"},{\"attributes\":{\"formatter\":{\"id\":\"1860\"},\"ticker\":{\"id\":\"1830\"}},\"id\":\"1829\",\"type\":\"LinearAxis\"},{\"attributes\":{},\"id\":\"1826\",\"type\":\"BasicTicker\"},{\"attributes\":{},\"id\":\"1863\",\"type\":\"Selection\"},{\"attributes\":{},\"id\":\"1819\",\"type\":\"DataRange1d\"},{\"attributes\":{\"label\":{\"value\":\"No Heart Disease\"},\"renderers\":[{\"id\":\"1871\"}]},\"id\":\"1883\",\"type\":\"LegendItem\"},{\"attributes\":{\"label\":{\"value\":\"Have Heart Disease\"},\"renderers\":[{\"id\":\"1855\"}]},\"id\":\"1866\",\"type\":\"LegendItem\"},{\"attributes\":{\"fields\":[\"Have Heart Disease\"]},\"id\":\"1848\",\"type\":\"Stack\"},{\"attributes\":{\"fields\":[\"Have Heart Disease\",\"No Heart Disease\"]},\"id\":\"1850\",\"type\":\"Stack\"},{\"attributes\":{\"bottom_units\":\"screen\",\"fill_alpha\":0.5,\"fill_color\":\"lightgrey\",\"left_units\":\"screen\",\"level\":\"overlay\",\"line_alpha\":1.0,\"line_color\":\"black\",\"line_dash\":[4,4],\"line_width\":2,\"right_units\":\"screen\",\"top_units\":\"screen\"},\"id\":\"1839\",\"type\":\"BoxAnnotation\"},{\"attributes\":{\"active_drag\":\"auto\",\"active_inspect\":\"auto\",\"active_multi\":null,\"active_scroll\":\"auto\",\"active_tap\":\"auto\",\"tools\":[{\"id\":\"1833\"},{\"id\":\"1834\"},{\"id\":\"1835\"},{\"id\":\"1836\"},{\"id\":\"1837\"},{\"id\":\"1838\"}]},\"id\":\"1840\",\"type\":\"Toolbar\"},{\"attributes\":{\"data\":{\"Classes\":[0,1],\"Have Heart Disease\":[142,23],\"No Heart Disease\":[116,22]},\"selected\":{\"id\":\"1881\"},\"selection_policy\":{\"id\":\"1880\"}},\"id\":\"1867\",\"type\":\"ColumnDataSource\"},{\"attributes\":{\"items\":[{\"id\":\"1866\"},{\"id\":\"1883\"}],\"label_text_font_size\":\"7pt\"},\"id\":\"1865\",\"type\":\"Legend\"},{\"attributes\":{\"bottom\":{\"expr\":{\"id\":\"1847\"}},\"fill_color\":{\"value\":\"#e84d60\"},\"line_color\":{\"value\":\"#e84d60\"},\"top\":{\"expr\":{\"id\":\"1848\"}},\"width\":{\"value\":0.9},\"x\":{\"field\":\"Classes\"}},\"id\":\"1853\",\"type\":\"VBar\"},{\"attributes\":{},\"id\":\"1833\",\"type\":\"PanTool\"},{\"attributes\":{\"data_source\":{\"id\":\"1851\"},\"glyph\":{\"id\":\"1853\"},\"hover_glyph\":null,\"muted_glyph\":null,\"name\":\"Have Heart Disease\",\"nonselection_glyph\":{\"id\":\"1854\"},\"selection_glyph\":null,\"view\":{\"id\":\"1856\"}},\"id\":\"1855\",\"type\":\"GlyphRenderer\"},{\"attributes\":{},\"id\":\"1860\",\"type\":\"BasicTickFormatter\"},{\"attributes\":{\"formatter\":{\"id\":\"1858\"},\"ticker\":{\"id\":\"1826\"}},\"id\":\"1825\",\"type\":\"LinearAxis\"},{\"attributes\":{},\"id\":\"1834\",\"type\":\"WheelZoomTool\"},{\"attributes\":{\"overlay\":{\"id\":\"1839\"}},\"id\":\"1835\",\"type\":\"BoxZoomTool\"},{\"attributes\":{},\"id\":\"1823\",\"type\":\"LinearScale\"},{\"attributes\":{\"bottom\":{\"expr\":{\"id\":\"1849\"}},\"fill_color\":{\"value\":\"#718dbf\"},\"line_color\":{\"value\":\"#718dbf\"},\"top\":{\"expr\":{\"id\":\"1850\"}},\"width\":{\"value\":0.9},\"x\":{\"field\":\"Classes\"}},\"id\":\"1869\",\"type\":\"VBar\"},{\"attributes\":{},\"id\":\"1836\",\"type\":\"SaveTool\"},{\"attributes\":{\"source\":{\"id\":\"1851\"}},\"id\":\"1856\",\"type\":\"CDSView\"},{\"attributes\":{\"bottom\":{\"expr\":{\"id\":\"1847\"}},\"fill_alpha\":{\"value\":0.1},\"fill_color\":{\"value\":\"#e84d60\"},\"line_alpha\":{\"value\":0.1},\"line_color\":{\"value\":\"#e84d60\"},\"top\":{\"expr\":{\"id\":\"1848\"}},\"width\":{\"value\":0.9},\"x\":{\"field\":\"Classes\"}},\"id\":\"1854\",\"type\":\"VBar\"},{\"attributes\":{},\"id\":\"1837\",\"type\":\"ResetTool\"},{\"attributes\":{\"fields\":[]},\"id\":\"1847\",\"type\":\"Stack\"},{\"attributes\":{},\"id\":\"1817\",\"type\":\"DataRange1d\"},{\"attributes\":{\"data\":{\"Classes\":[0,1],\"Have Heart Disease\":[142,23],\"No Heart Disease\":[116,22]},\"selected\":{\"id\":\"1863\"},\"selection_policy\":{\"id\":\"1862\"}},\"id\":\"1851\",\"type\":\"ColumnDataSource\"},{\"attributes\":{},\"id\":\"1858\",\"type\":\"BasicTickFormatter\"},{\"attributes\":{},\"id\":\"1838\",\"type\":\"HelpTool\"},{\"attributes\":{\"fields\":[\"Have Heart Disease\"]},\"id\":\"1849\",\"type\":\"Stack\"},{\"attributes\":{\"text\":\"Fasting Blood Sugar vs Target\"},\"id\":\"1815\",\"type\":\"Title\"}],\"root_ids\":[\"1814\"]},\"title\":\"Bokeh Application\",\"version\":\"2.2.3\"}};\n",
       "  var render_items = [{\"docid\":\"f873ffea-4d8f-47ab-9b09-f9432d70f5f2\",\"root_ids\":[\"1814\"],\"roots\":{\"1814\":\"1c1d8648-010b-476d-bb24-fa66663d945c\"}}];\n",
       "  root.Bokeh.embed.embed_items_notebook(docs_json, render_items);\n",
       "\n",
       "  }\n",
       "  if (root.Bokeh !== undefined) {\n",
       "    embed_document(root);\n",
       "  } else {\n",
       "    var attempts = 0;\n",
       "    var timer = setInterval(function(root) {\n",
       "      if (root.Bokeh !== undefined) {\n",
       "        clearInterval(timer);\n",
       "        embed_document(root);\n",
       "      } else {\n",
       "        attempts++;\n",
       "        if (attempts > 100) {\n",
       "          clearInterval(timer);\n",
       "          console.log(\"Bokeh: ERROR: Unable to run BokehJS code because BokehJS library is missing\");\n",
       "        }\n",
       "      }\n",
       "    }, 10, root)\n",
       "  }\n",
       "})(window);"
      ],
      "application/vnd.bokehjs_exec.v0+json": ""
     },
     "metadata": {
      "application/vnd.bokehjs_exec.v0+json": {
       "id": "1814"
      }
     },
     "output_type": "display_data"
    }
   ],
   "source": [
    "# For analyzing how much proportion of diabetic and non-diabetic patients have heart disease. \n",
    "\n",
    "fbs_vs_target = df.groupby(['fbs', 'target'])['fbs'].count().to_list()\n",
    "\n",
    "unique = [0, 1]\n",
    "condition = ['Have Heart Disease', 'No Heart Disease']\n",
    "colors = [\"#e84d60\", \"#718dbf\"]\n",
    "data = {\n",
    "        'Classes' : unique,\n",
    "        'Have Heart Disease' : [fbs_vs_target[1], fbs_vs_target[3]],\n",
    "        'No Heart Disease'   : [fbs_vs_target[0], fbs_vs_target[2]]\n",
    "        }\n",
    "\n",
    "p7 = figure(plot_height = 400, plot_width = 400, title = \"Fasting Blood Sugar vs Target\")\n",
    "\n",
    "p7.vbar_stack(condition, x ='Classes', width = 0.9, color = colors, source = data, legend_label = condition)\n",
    "\n",
    "p7.legend.location = \"top_right\"\n",
    "\n",
    "p7.legend.label_text_font_size = '7pt'\n",
    "show(p7)"
   ]
  },
  {
   "cell_type": "markdown",
   "metadata": {
    "papermill": {
     "duration": 0.134703,
     "end_time": "2020-11-21T06:21:17.436047",
     "exception": false,
     "start_time": "2020-11-21T06:21:17.301344",
     "status": "completed"
    },
    "tags": []
   },
   "source": [
    "### Restecg vs Target"
   ]
  },
  {
   "cell_type": "markdown",
   "metadata": {
    "papermill": {
     "duration": 0.130228,
     "end_time": "2020-11-21T06:21:17.718320",
     "exception": false,
     "start_time": "2020-11-21T06:21:17.588092",
     "status": "completed"
    },
    "tags": []
   },
   "source": [
    "0: Nothing to note\n",
    "\n",
    "1: ST-T Wave abnormality can range from mild symptoms to severe problems signals non-normal heart beat\n",
    "\n",
    "2: Possible or definite left ventricular hypertrophy. Enlarged heart's main pumping chamber\n"
   ]
  },
  {
   "cell_type": "code",
   "execution_count": 24,
   "metadata": {
    "execution": {
     "iopub.execute_input": "2020-11-21T06:21:18.001352Z",
     "iopub.status.busy": "2020-11-21T06:21:17.995591Z",
     "iopub.status.idle": "2020-11-21T06:21:18.060636Z",
     "shell.execute_reply": "2020-11-21T06:21:18.059935Z"
    },
    "papermill": {
     "duration": 0.21053,
     "end_time": "2020-11-21T06:21:18.060803",
     "exception": false,
     "start_time": "2020-11-21T06:21:17.850273",
     "status": "completed"
    },
    "tags": []
   },
   "outputs": [
    {
     "name": "stderr",
     "output_type": "stream",
     "text": [
      "BokehUserWarning: ColumnDataSource's columns must be of the same length. Current lengths: ('Classes', 3), ('color', 6), ('counts', 3)\n"
     ]
    },
    {
     "data": {
      "text/html": [
       "\n",
       "\n",
       "\n",
       "\n",
       "\n",
       "\n",
       "  <div class=\"bk-root\" id=\"2b5542bf-d34e-4786-b87b-50da78a47c7f\" data-root-id=\"2003\"></div>\n"
      ]
     },
     "metadata": {},
     "output_type": "display_data"
    },
    {
     "data": {
      "application/javascript": [
       "(function(root) {\n",
       "  function embed_document(root) {\n",
       "    \n",
       "  var docs_json = {\"45c74fe9-1a4f-4571-9bd3-559be4bce650\":{\"roots\":{\"references\":[{\"attributes\":{\"below\":[{\"id\":\"2012\"}],\"center\":[{\"id\":\"2015\"},{\"id\":\"2019\"}],\"left\":[{\"id\":\"2016\"}],\"plot_height\":400,\"plot_width\":400,\"renderers\":[{\"id\":\"2026\"}],\"title\":{\"id\":\"2097\"},\"toolbar\":{\"id\":\"2021\"},\"x_range\":{\"id\":\"2004\"},\"x_scale\":{\"id\":\"2008\"},\"y_range\":{\"id\":\"2006\"},\"y_scale\":{\"id\":\"2010\"}},\"id\":\"2003\",\"subtype\":\"Figure\",\"type\":\"Plot\"},{\"attributes\":{\"data_source\":{\"id\":\"2002\"},\"glyph\":{\"id\":\"2024\"},\"hover_glyph\":null,\"muted_glyph\":null,\"nonselection_glyph\":{\"id\":\"2025\"},\"selection_glyph\":null,\"view\":{\"id\":\"2027\"}},\"id\":\"2026\",\"type\":\"GlyphRenderer\"},{\"attributes\":{\"text\":\"\"},\"id\":\"2097\",\"type\":\"Title\"},{\"attributes\":{\"active_drag\":\"auto\",\"active_inspect\":\"auto\",\"active_multi\":null,\"active_scroll\":\"auto\",\"active_tap\":\"auto\",\"tools\":[{\"id\":\"2020\"}]},\"id\":\"2021\",\"type\":\"Toolbar\"},{\"attributes\":{},\"id\":\"2006\",\"type\":\"DataRange1d\"},{\"attributes\":{\"data\":{\"Classes\":[1,0,2],\"color\":[\"#3288bd\",\"#99d594\",\"#e6f598\",\"#fee08b\",\"#fc8d59\",\"#d53e4f\"],\"counts\":[152,147,4]},\"selected\":{\"id\":\"2103\"},\"selection_policy\":{\"id\":\"2102\"}},\"id\":\"2002\",\"type\":\"ColumnDataSource\"},{\"attributes\":{},\"id\":\"2017\",\"type\":\"BasicTicker\"},{\"attributes\":{\"fill_alpha\":{\"value\":0.1},\"fill_color\":{\"field\":\"color\"},\"line_alpha\":{\"value\":0.1},\"line_color\":{\"field\":\"color\"},\"top\":{\"field\":\"counts\"},\"width\":{\"value\":0.9},\"x\":{\"field\":\"Classes\"}},\"id\":\"2025\",\"type\":\"VBar\"},{\"attributes\":{},\"id\":\"2102\",\"type\":\"UnionRenderers\"},{\"attributes\":{\"axis_label\":\"Count(Classes)\",\"formatter\":{\"id\":\"2100\"},\"ticker\":{\"id\":\"2017\"}},\"id\":\"2016\",\"type\":\"LinearAxis\"},{\"attributes\":{\"axis\":{\"id\":\"2016\"},\"dimension\":1,\"ticker\":null},\"id\":\"2019\",\"type\":\"Grid\"},{\"attributes\":{},\"id\":\"2010\",\"type\":\"LinearScale\"},{\"attributes\":{},\"id\":\"2100\",\"type\":\"BasicTickFormatter\"},{\"attributes\":{},\"id\":\"2098\",\"type\":\"BasicTickFormatter\"},{\"attributes\":{\"axis\":{\"id\":\"2012\"},\"ticker\":null},\"id\":\"2015\",\"type\":\"Grid\"},{\"attributes\":{\"axis_label\":\"restecg\",\"formatter\":{\"id\":\"2098\"},\"ticker\":{\"id\":\"2013\"}},\"id\":\"2012\",\"type\":\"LinearAxis\"},{\"attributes\":{\"fill_color\":{\"field\":\"color\"},\"line_color\":{\"field\":\"color\"},\"top\":{\"field\":\"counts\"},\"width\":{\"value\":0.9},\"x\":{\"field\":\"Classes\"}},\"id\":\"2024\",\"type\":\"VBar\"},{\"attributes\":{},\"id\":\"2008\",\"type\":\"LinearScale\"},{\"attributes\":{\"callback\":null,\"tooltips\":\"@Classes: @counts\"},\"id\":\"2020\",\"type\":\"HoverTool\"},{\"attributes\":{},\"id\":\"2103\",\"type\":\"Selection\"},{\"attributes\":{},\"id\":\"2004\",\"type\":\"DataRange1d\"},{\"attributes\":{\"source\":{\"id\":\"2002\"}},\"id\":\"2027\",\"type\":\"CDSView\"},{\"attributes\":{},\"id\":\"2013\",\"type\":\"BasicTicker\"}],\"root_ids\":[\"2003\"]},\"title\":\"Bokeh Application\",\"version\":\"2.2.3\"}};\n",
       "  var render_items = [{\"docid\":\"45c74fe9-1a4f-4571-9bd3-559be4bce650\",\"root_ids\":[\"2003\"],\"roots\":{\"2003\":\"2b5542bf-d34e-4786-b87b-50da78a47c7f\"}}];\n",
       "  root.Bokeh.embed.embed_items_notebook(docs_json, render_items);\n",
       "\n",
       "  }\n",
       "  if (root.Bokeh !== undefined) {\n",
       "    embed_document(root);\n",
       "  } else {\n",
       "    var attempts = 0;\n",
       "    var timer = setInterval(function(root) {\n",
       "      if (root.Bokeh !== undefined) {\n",
       "        clearInterval(timer);\n",
       "        embed_document(root);\n",
       "      } else {\n",
       "        attempts++;\n",
       "        if (attempts > 100) {\n",
       "          clearInterval(timer);\n",
       "          console.log(\"Bokeh: ERROR: Unable to run BokehJS code because BokehJS library is missing\");\n",
       "        }\n",
       "      }\n",
       "    }, 10, root)\n",
       "  }\n",
       "})(window);"
      ],
      "application/vnd.bokehjs_exec.v0+json": ""
     },
     "metadata": {
      "application/vnd.bokehjs_exec.v0+json": {
       "id": "2003"
      }
     },
     "output_type": "display_data"
    }
   ],
   "source": [
    "p8 = count_of_each_category('restecg')\n",
    "show(p8)"
   ]
  },
  {
   "cell_type": "code",
   "execution_count": 25,
   "metadata": {
    "execution": {
     "iopub.execute_input": "2020-11-21T06:21:18.327579Z",
     "iopub.status.busy": "2020-11-21T06:21:18.326756Z",
     "iopub.status.idle": "2020-11-21T06:21:18.432611Z",
     "shell.execute_reply": "2020-11-21T06:21:18.431755Z"
    },
    "papermill": {
     "duration": 0.249356,
     "end_time": "2020-11-21T06:21:18.432776",
     "exception": false,
     "start_time": "2020-11-21T06:21:18.183420",
     "status": "completed"
    },
    "tags": []
   },
   "outputs": [
    {
     "data": {
      "text/html": [
       "\n",
       "\n",
       "\n",
       "\n",
       "\n",
       "\n",
       "  <div class=\"bk-root\" id=\"896afa3a-4d9f-4b5c-8e5e-10fb21ab3d85\" data-root-id=\"2144\"></div>\n"
      ]
     },
     "metadata": {},
     "output_type": "display_data"
    },
    {
     "data": {
      "application/javascript": [
       "(function(root) {\n",
       "  function embed_document(root) {\n",
       "    \n",
       "  var docs_json = {\"591f034e-7be9-40e8-a93c-03f7deeb6e45\":{\"roots\":{\"references\":[{\"attributes\":{\"below\":[{\"id\":\"2155\"}],\"center\":[{\"id\":\"2158\"},{\"id\":\"2162\"},{\"id\":\"2195\"}],\"left\":[{\"id\":\"2159\"}],\"plot_height\":400,\"plot_width\":400,\"renderers\":[{\"id\":\"2185\"},{\"id\":\"2201\"}],\"title\":{\"id\":\"2145\"},\"toolbar\":{\"id\":\"2170\"},\"x_range\":{\"id\":\"2147\"},\"x_scale\":{\"id\":\"2151\"},\"y_range\":{\"id\":\"2149\"},\"y_scale\":{\"id\":\"2153\"}},\"id\":\"2144\",\"subtype\":\"Figure\",\"type\":\"Plot\"},{\"attributes\":{\"axis\":{\"id\":\"2159\"},\"dimension\":1,\"ticker\":null},\"id\":\"2162\",\"type\":\"Grid\"},{\"attributes\":{\"formatter\":{\"id\":\"2190\"},\"ticker\":{\"id\":\"2160\"}},\"id\":\"2159\",\"type\":\"LinearAxis\"},{\"attributes\":{},\"id\":\"2210\",\"type\":\"UnionRenderers\"},{\"attributes\":{\"source\":{\"id\":\"2197\"}},\"id\":\"2202\",\"type\":\"CDSView\"},{\"attributes\":{},\"id\":\"2211\",\"type\":\"Selection\"},{\"attributes\":{\"bottom\":{\"expr\":{\"id\":\"2179\"}},\"fill_alpha\":{\"value\":0.1},\"fill_color\":{\"value\":\"#718dbf\"},\"line_alpha\":{\"value\":0.1},\"line_color\":{\"value\":\"#718dbf\"},\"top\":{\"expr\":{\"id\":\"2180\"}},\"width\":{\"value\":0.9},\"x\":{\"field\":\"Classes\"}},\"id\":\"2200\",\"type\":\"VBar\"},{\"attributes\":{\"data_source\":{\"id\":\"2197\"},\"glyph\":{\"id\":\"2199\"},\"hover_glyph\":null,\"muted_glyph\":null,\"name\":\"No Heart Disease\",\"nonselection_glyph\":{\"id\":\"2200\"},\"selection_glyph\":null,\"view\":{\"id\":\"2202\"}},\"id\":\"2201\",\"type\":\"GlyphRenderer\"},{\"attributes\":{\"fields\":[\"Have Heart Disease\"]},\"id\":\"2178\",\"type\":\"Stack\"},{\"attributes\":{\"data\":{\"Classes\":[0,1,2],\"Have Heart Disease\":[68,96,1],\"No Heart Disease\":[79,56,3]},\"selected\":{\"id\":\"2193\"},\"selection_policy\":{\"id\":\"2192\"}},\"id\":\"2181\",\"type\":\"ColumnDataSource\"},{\"attributes\":{\"bottom_units\":\"screen\",\"fill_alpha\":0.5,\"fill_color\":\"lightgrey\",\"left_units\":\"screen\",\"level\":\"overlay\",\"line_alpha\":1.0,\"line_color\":\"black\",\"line_dash\":[4,4],\"line_width\":2,\"right_units\":\"screen\",\"top_units\":\"screen\"},\"id\":\"2169\",\"type\":\"BoxAnnotation\"},{\"attributes\":{},\"id\":\"2147\",\"type\":\"DataRange1d\"},{\"attributes\":{\"fields\":[\"Have Heart Disease\"]},\"id\":\"2179\",\"type\":\"Stack\"},{\"attributes\":{},\"id\":\"2163\",\"type\":\"PanTool\"},{\"attributes\":{},\"id\":\"2151\",\"type\":\"LinearScale\"},{\"attributes\":{},\"id\":\"2164\",\"type\":\"WheelZoomTool\"},{\"attributes\":{\"bottom\":{\"expr\":{\"id\":\"2177\"}},\"fill_color\":{\"value\":\"#e84d60\"},\"line_color\":{\"value\":\"#e84d60\"},\"top\":{\"expr\":{\"id\":\"2178\"}},\"width\":{\"value\":0.9},\"x\":{\"field\":\"Classes\"}},\"id\":\"2183\",\"type\":\"VBar\"},{\"attributes\":{\"data\":{\"Classes\":[0,1,2],\"Have Heart Disease\":[68,96,1],\"No Heart Disease\":[79,56,3]},\"selected\":{\"id\":\"2211\"},\"selection_policy\":{\"id\":\"2210\"}},\"id\":\"2197\",\"type\":\"ColumnDataSource\"},{\"attributes\":{\"overlay\":{\"id\":\"2169\"}},\"id\":\"2165\",\"type\":\"BoxZoomTool\"},{\"attributes\":{},\"id\":\"2149\",\"type\":\"DataRange1d\"},{\"attributes\":{},\"id\":\"2166\",\"type\":\"SaveTool\"},{\"attributes\":{\"text\":\"Restecg vs Target\"},\"id\":\"2145\",\"type\":\"Title\"},{\"attributes\":{},\"id\":\"2167\",\"type\":\"ResetTool\"},{\"attributes\":{\"data_source\":{\"id\":\"2181\"},\"glyph\":{\"id\":\"2183\"},\"hover_glyph\":null,\"muted_glyph\":null,\"name\":\"Have Heart Disease\",\"nonselection_glyph\":{\"id\":\"2184\"},\"selection_glyph\":null,\"view\":{\"id\":\"2186\"}},\"id\":\"2185\",\"type\":\"GlyphRenderer\"},{\"attributes\":{\"fields\":[]},\"id\":\"2177\",\"type\":\"Stack\"},{\"attributes\":{\"bottom\":{\"expr\":{\"id\":\"2179\"}},\"fill_color\":{\"value\":\"#718dbf\"},\"line_color\":{\"value\":\"#718dbf\"},\"top\":{\"expr\":{\"id\":\"2180\"}},\"width\":{\"value\":0.9},\"x\":{\"field\":\"Classes\"}},\"id\":\"2199\",\"type\":\"VBar\"},{\"attributes\":{},\"id\":\"2168\",\"type\":\"HelpTool\"},{\"attributes\":{\"label\":{\"value\":\"No Heart Disease\"},\"renderers\":[{\"id\":\"2201\"}]},\"id\":\"2213\",\"type\":\"LegendItem\"},{\"attributes\":{\"source\":{\"id\":\"2181\"}},\"id\":\"2186\",\"type\":\"CDSView\"},{\"attributes\":{\"fields\":[\"Have Heart Disease\",\"No Heart Disease\"]},\"id\":\"2180\",\"type\":\"Stack\"},{\"attributes\":{\"active_drag\":\"auto\",\"active_inspect\":\"auto\",\"active_multi\":null,\"active_scroll\":\"auto\",\"active_tap\":\"auto\",\"tools\":[{\"id\":\"2163\"},{\"id\":\"2164\"},{\"id\":\"2165\"},{\"id\":\"2166\"},{\"id\":\"2167\"},{\"id\":\"2168\"}]},\"id\":\"2170\",\"type\":\"Toolbar\"},{\"attributes\":{},\"id\":\"2153\",\"type\":\"LinearScale\"},{\"attributes\":{\"bottom\":{\"expr\":{\"id\":\"2177\"}},\"fill_alpha\":{\"value\":0.1},\"fill_color\":{\"value\":\"#e84d60\"},\"line_alpha\":{\"value\":0.1},\"line_color\":{\"value\":\"#e84d60\"},\"top\":{\"expr\":{\"id\":\"2178\"}},\"width\":{\"value\":0.9},\"x\":{\"field\":\"Classes\"}},\"id\":\"2184\",\"type\":\"VBar\"},{\"attributes\":{\"formatter\":{\"id\":\"2188\"},\"ticker\":{\"id\":\"2156\"}},\"id\":\"2155\",\"type\":\"LinearAxis\"},{\"attributes\":{},\"id\":\"2188\",\"type\":\"BasicTickFormatter\"},{\"attributes\":{\"items\":[{\"id\":\"2196\"},{\"id\":\"2213\"}],\"label_text_font_size\":\"7pt\"},\"id\":\"2195\",\"type\":\"Legend\"},{\"attributes\":{},\"id\":\"2160\",\"type\":\"BasicTicker\"},{\"attributes\":{},\"id\":\"2156\",\"type\":\"BasicTicker\"},{\"attributes\":{},\"id\":\"2190\",\"type\":\"BasicTickFormatter\"},{\"attributes\":{},\"id\":\"2192\",\"type\":\"UnionRenderers\"},{\"attributes\":{\"label\":{\"value\":\"Have Heart Disease\"},\"renderers\":[{\"id\":\"2185\"}]},\"id\":\"2196\",\"type\":\"LegendItem\"},{\"attributes\":{\"axis\":{\"id\":\"2155\"},\"ticker\":null},\"id\":\"2158\",\"type\":\"Grid\"},{\"attributes\":{},\"id\":\"2193\",\"type\":\"Selection\"}],\"root_ids\":[\"2144\"]},\"title\":\"Bokeh Application\",\"version\":\"2.2.3\"}};\n",
       "  var render_items = [{\"docid\":\"591f034e-7be9-40e8-a93c-03f7deeb6e45\",\"root_ids\":[\"2144\"],\"roots\":{\"2144\":\"896afa3a-4d9f-4b5c-8e5e-10fb21ab3d85\"}}];\n",
       "  root.Bokeh.embed.embed_items_notebook(docs_json, render_items);\n",
       "\n",
       "  }\n",
       "  if (root.Bokeh !== undefined) {\n",
       "    embed_document(root);\n",
       "  } else {\n",
       "    var attempts = 0;\n",
       "    var timer = setInterval(function(root) {\n",
       "      if (root.Bokeh !== undefined) {\n",
       "        clearInterval(timer);\n",
       "        embed_document(root);\n",
       "      } else {\n",
       "        attempts++;\n",
       "        if (attempts > 100) {\n",
       "          clearInterval(timer);\n",
       "          console.log(\"Bokeh: ERROR: Unable to run BokehJS code because BokehJS library is missing\");\n",
       "        }\n",
       "      }\n",
       "    }, 10, root)\n",
       "  }\n",
       "})(window);"
      ],
      "application/vnd.bokehjs_exec.v0+json": ""
     },
     "metadata": {
      "application/vnd.bokehjs_exec.v0+json": {
       "id": "2144"
      }
     },
     "output_type": "display_data"
    }
   ],
   "source": [
    "restecg_vs_target = df.groupby(['restecg', 'target'])['restecg'].count().to_list()\n",
    "\n",
    "unique = [0, 1, 2]\n",
    "condition = ['Have Heart Disease', 'No Heart Disease']\n",
    "colors = [\"#e84d60\", \"#718dbf\"]\n",
    "data = {\n",
    "        'Classes' : unique,\n",
    "        'Have Heart Disease' : [restecg_vs_target[1], restecg_vs_target[3], restecg_vs_target[5]],\n",
    "        'No Heart Disease'   : [restecg_vs_target[0], restecg_vs_target[2], restecg_vs_target[4]]\n",
    "        }\n",
    "\n",
    "p9 = figure(plot_height = 400, plot_width = 400, title = \"Restecg vs Target\")\n",
    "\n",
    "p9.vbar_stack(condition, x ='Classes', width = 0.9, color = colors, source = data, legend_label = condition)\n",
    "\n",
    "p9.legend.location = \"top_right\"\n",
    "\n",
    "p9.legend.label_text_font_size = '7pt'\n",
    "show(p9)"
   ]
  },
  {
   "cell_type": "markdown",
   "metadata": {
    "papermill": {
     "duration": 0.119026,
     "end_time": "2020-11-21T06:21:18.680313",
     "exception": false,
     "start_time": "2020-11-21T06:21:18.561287",
     "status": "completed"
    },
    "tags": []
   },
   "source": [
    "A large proportion of people having restecg of type 1 actually have heart disease. We must take care of ST-T Wave abnormality as it can range from mild symptoms to severe problems."
   ]
  },
  {
   "cell_type": "markdown",
   "metadata": {
    "papermill": {
     "duration": 0.114477,
     "end_time": "2020-11-21T06:21:18.908633",
     "exception": false,
     "start_time": "2020-11-21T06:21:18.794156",
     "status": "completed"
    },
    "tags": []
   },
   "source": [
    "### Exercise Induced Angina vs Target"
   ]
  },
  {
   "cell_type": "markdown",
   "metadata": {
    "papermill": {
     "duration": 0.118113,
     "end_time": "2020-11-21T06:21:19.145722",
     "exception": false,
     "start_time": "2020-11-21T06:21:19.027609",
     "status": "completed"
    },
    "tags": []
   },
   "source": [
    "exang means exercise induced angina (1 = yes; 0 = no). Angina is a type of chest pain caused by reduced blood flow to the heart"
   ]
  },
  {
   "cell_type": "code",
   "execution_count": 26,
   "metadata": {
    "execution": {
     "iopub.execute_input": "2020-11-21T06:21:19.421565Z",
     "iopub.status.busy": "2020-11-21T06:21:19.405912Z",
     "iopub.status.idle": "2020-11-21T06:21:19.459352Z",
     "shell.execute_reply": "2020-11-21T06:21:19.458369Z"
    },
    "papermill": {
     "duration": 0.193328,
     "end_time": "2020-11-21T06:21:19.459526",
     "exception": false,
     "start_time": "2020-11-21T06:21:19.266198",
     "status": "completed"
    },
    "tags": []
   },
   "outputs": [
    {
     "name": "stderr",
     "output_type": "stream",
     "text": [
      "BokehUserWarning: ColumnDataSource's columns must be of the same length. Current lengths: ('Classes', 2), ('color', 6), ('counts', 2)\n"
     ]
    },
    {
     "data": {
      "text/html": [
       "\n",
       "\n",
       "\n",
       "\n",
       "\n",
       "\n",
       "  <div class=\"bk-root\" id=\"37c97349-f221-4c4f-a4e3-3e6ef5afd99e\" data-root-id=\"2351\"></div>\n"
      ]
     },
     "metadata": {},
     "output_type": "display_data"
    },
    {
     "data": {
      "application/javascript": [
       "(function(root) {\n",
       "  function embed_document(root) {\n",
       "    \n",
       "  var docs_json = {\"c981900c-7dc3-4303-9bd8-dfd7a26a82b3\":{\"roots\":{\"references\":[{\"attributes\":{\"below\":[{\"id\":\"2360\"}],\"center\":[{\"id\":\"2363\"},{\"id\":\"2367\"}],\"left\":[{\"id\":\"2364\"}],\"plot_height\":400,\"plot_width\":400,\"renderers\":[{\"id\":\"2374\"}],\"title\":{\"id\":\"2463\"},\"toolbar\":{\"id\":\"2369\"},\"x_range\":{\"id\":\"2352\"},\"x_scale\":{\"id\":\"2356\"},\"y_range\":{\"id\":\"2354\"},\"y_scale\":{\"id\":\"2358\"}},\"id\":\"2351\",\"subtype\":\"Figure\",\"type\":\"Plot\"},{\"attributes\":{},\"id\":\"2354\",\"type\":\"DataRange1d\"},{\"attributes\":{},\"id\":\"2466\",\"type\":\"BasicTickFormatter\"},{\"attributes\":{\"text\":\"\"},\"id\":\"2463\",\"type\":\"Title\"},{\"attributes\":{},\"id\":\"2356\",\"type\":\"LinearScale\"},{\"attributes\":{\"callback\":null,\"tooltips\":\"@Classes: @counts\"},\"id\":\"2368\",\"type\":\"HoverTool\"},{\"attributes\":{\"active_drag\":\"auto\",\"active_inspect\":\"auto\",\"active_multi\":null,\"active_scroll\":\"auto\",\"active_tap\":\"auto\",\"tools\":[{\"id\":\"2368\"}]},\"id\":\"2369\",\"type\":\"Toolbar\"},{\"attributes\":{\"axis\":{\"id\":\"2360\"},\"ticker\":null},\"id\":\"2363\",\"type\":\"Grid\"},{\"attributes\":{\"axis_label\":\"Count(Classes)\",\"formatter\":{\"id\":\"2466\"},\"ticker\":{\"id\":\"2365\"}},\"id\":\"2364\",\"type\":\"LinearAxis\"},{\"attributes\":{},\"id\":\"2361\",\"type\":\"BasicTicker\"},{\"attributes\":{\"fill_alpha\":{\"value\":0.1},\"fill_color\":{\"field\":\"color\"},\"line_alpha\":{\"value\":0.1},\"line_color\":{\"field\":\"color\"},\"top\":{\"field\":\"counts\"},\"width\":{\"value\":0.9},\"x\":{\"field\":\"Classes\"}},\"id\":\"2373\",\"type\":\"VBar\"},{\"attributes\":{\"data\":{\"Classes\":[0,1],\"color\":[\"#3288bd\",\"#99d594\",\"#e6f598\",\"#fee08b\",\"#fc8d59\",\"#d53e4f\"],\"counts\":[204,99]},\"selected\":{\"id\":\"2469\"},\"selection_policy\":{\"id\":\"2468\"}},\"id\":\"2350\",\"type\":\"ColumnDataSource\"},{\"attributes\":{},\"id\":\"2365\",\"type\":\"BasicTicker\"},{\"attributes\":{\"source\":{\"id\":\"2350\"}},\"id\":\"2375\",\"type\":\"CDSView\"},{\"attributes\":{\"axis\":{\"id\":\"2364\"},\"dimension\":1,\"ticker\":null},\"id\":\"2367\",\"type\":\"Grid\"},{\"attributes\":{\"fill_color\":{\"field\":\"color\"},\"line_color\":{\"field\":\"color\"},\"top\":{\"field\":\"counts\"},\"width\":{\"value\":0.9},\"x\":{\"field\":\"Classes\"}},\"id\":\"2372\",\"type\":\"VBar\"},{\"attributes\":{},\"id\":\"2352\",\"type\":\"DataRange1d\"},{\"attributes\":{},\"id\":\"2468\",\"type\":\"UnionRenderers\"},{\"attributes\":{\"data_source\":{\"id\":\"2350\"},\"glyph\":{\"id\":\"2372\"},\"hover_glyph\":null,\"muted_glyph\":null,\"nonselection_glyph\":{\"id\":\"2373\"},\"selection_glyph\":null,\"view\":{\"id\":\"2375\"}},\"id\":\"2374\",\"type\":\"GlyphRenderer\"},{\"attributes\":{},\"id\":\"2464\",\"type\":\"BasicTickFormatter\"},{\"attributes\":{},\"id\":\"2469\",\"type\":\"Selection\"},{\"attributes\":{},\"id\":\"2358\",\"type\":\"LinearScale\"},{\"attributes\":{\"axis_label\":\"exang\",\"formatter\":{\"id\":\"2464\"},\"ticker\":{\"id\":\"2361\"}},\"id\":\"2360\",\"type\":\"LinearAxis\"}],\"root_ids\":[\"2351\"]},\"title\":\"Bokeh Application\",\"version\":\"2.2.3\"}};\n",
       "  var render_items = [{\"docid\":\"c981900c-7dc3-4303-9bd8-dfd7a26a82b3\",\"root_ids\":[\"2351\"],\"roots\":{\"2351\":\"37c97349-f221-4c4f-a4e3-3e6ef5afd99e\"}}];\n",
       "  root.Bokeh.embed.embed_items_notebook(docs_json, render_items);\n",
       "\n",
       "  }\n",
       "  if (root.Bokeh !== undefined) {\n",
       "    embed_document(root);\n",
       "  } else {\n",
       "    var attempts = 0;\n",
       "    var timer = setInterval(function(root) {\n",
       "      if (root.Bokeh !== undefined) {\n",
       "        clearInterval(timer);\n",
       "        embed_document(root);\n",
       "      } else {\n",
       "        attempts++;\n",
       "        if (attempts > 100) {\n",
       "          clearInterval(timer);\n",
       "          console.log(\"Bokeh: ERROR: Unable to run BokehJS code because BokehJS library is missing\");\n",
       "        }\n",
       "      }\n",
       "    }, 10, root)\n",
       "  }\n",
       "})(window);"
      ],
      "application/vnd.bokehjs_exec.v0+json": ""
     },
     "metadata": {
      "application/vnd.bokehjs_exec.v0+json": {
       "id": "2351"
      }
     },
     "output_type": "display_data"
    }
   ],
   "source": [
    "p10 = count_of_each_category('exang')\n",
    "show(p10)"
   ]
  },
  {
   "cell_type": "code",
   "execution_count": 27,
   "metadata": {
    "execution": {
     "iopub.execute_input": "2020-11-21T06:21:19.764838Z",
     "iopub.status.busy": "2020-11-21T06:21:19.728497Z",
     "iopub.status.idle": "2020-11-21T06:21:19.806094Z",
     "shell.execute_reply": "2020-11-21T06:21:19.805208Z"
    },
    "papermill": {
     "duration": 0.231751,
     "end_time": "2020-11-21T06:21:19.806237",
     "exception": false,
     "start_time": "2020-11-21T06:21:19.574486",
     "status": "completed"
    },
    "tags": []
   },
   "outputs": [
    {
     "data": {
      "text/html": [
       "\n",
       "\n",
       "\n",
       "\n",
       "\n",
       "\n",
       "  <div class=\"bk-root\" id=\"c7a72cd3-04f2-48fd-86cd-0f03efa054d2\" data-root-id=\"2510\"></div>\n"
      ]
     },
     "metadata": {},
     "output_type": "display_data"
    },
    {
     "data": {
      "application/javascript": [
       "(function(root) {\n",
       "  function embed_document(root) {\n",
       "    \n",
       "  var docs_json = {\"6b1dbcbb-278a-46b2-84b2-ee79e7cf9544\":{\"roots\":{\"references\":[{\"attributes\":{\"below\":[{\"id\":\"2521\"}],\"center\":[{\"id\":\"2524\"},{\"id\":\"2528\"},{\"id\":\"2561\"}],\"left\":[{\"id\":\"2525\"}],\"plot_height\":400,\"plot_width\":400,\"renderers\":[{\"id\":\"2551\"},{\"id\":\"2567\"}],\"title\":{\"id\":\"2511\"},\"toolbar\":{\"id\":\"2536\"},\"x_range\":{\"id\":\"2513\"},\"x_scale\":{\"id\":\"2517\"},\"y_range\":{\"id\":\"2515\"},\"y_scale\":{\"id\":\"2519\"}},\"id\":\"2510\",\"subtype\":\"Figure\",\"type\":\"Plot\"},{\"attributes\":{\"items\":[{\"id\":\"2562\"},{\"id\":\"2579\"}],\"label_text_font_size\":\"7pt\"},\"id\":\"2561\",\"type\":\"Legend\"},{\"attributes\":{},\"id\":\"2515\",\"type\":\"DataRange1d\"},{\"attributes\":{\"overlay\":{\"id\":\"2535\"}},\"id\":\"2531\",\"type\":\"BoxZoomTool\"},{\"attributes\":{},\"id\":\"2532\",\"type\":\"SaveTool\"},{\"attributes\":{\"text\":\"Exang vs Target\"},\"id\":\"2511\",\"type\":\"Title\"},{\"attributes\":{\"data_source\":{\"id\":\"2547\"},\"glyph\":{\"id\":\"2549\"},\"hover_glyph\":null,\"muted_glyph\":null,\"name\":\"Have Heart Disease\",\"nonselection_glyph\":{\"id\":\"2550\"},\"selection_glyph\":null,\"view\":{\"id\":\"2552\"}},\"id\":\"2551\",\"type\":\"GlyphRenderer\"},{\"attributes\":{},\"id\":\"2533\",\"type\":\"ResetTool\"},{\"attributes\":{\"fields\":[]},\"id\":\"2543\",\"type\":\"Stack\"},{\"attributes\":{\"bottom\":{\"expr\":{\"id\":\"2545\"}},\"fill_color\":{\"value\":\"#718dbf\"},\"line_color\":{\"value\":\"#718dbf\"},\"top\":{\"expr\":{\"id\":\"2546\"}},\"width\":{\"value\":0.9},\"x\":{\"field\":\"Classes\"}},\"id\":\"2565\",\"type\":\"VBar\"},{\"attributes\":{\"source\":{\"id\":\"2547\"}},\"id\":\"2552\",\"type\":\"CDSView\"},{\"attributes\":{},\"id\":\"2534\",\"type\":\"HelpTool\"},{\"attributes\":{\"fields\":[\"Have Heart Disease\",\"No Heart Disease\"]},\"id\":\"2546\",\"type\":\"Stack\"},{\"attributes\":{},\"id\":\"2519\",\"type\":\"LinearScale\"},{\"attributes\":{\"bottom\":{\"expr\":{\"id\":\"2543\"}},\"fill_alpha\":{\"value\":0.1},\"fill_color\":{\"value\":\"#e84d60\"},\"line_alpha\":{\"value\":0.1},\"line_color\":{\"value\":\"#e84d60\"},\"top\":{\"expr\":{\"id\":\"2544\"}},\"width\":{\"value\":0.9},\"x\":{\"field\":\"Classes\"}},\"id\":\"2550\",\"type\":\"VBar\"},{\"attributes\":{\"formatter\":{\"id\":\"2554\"},\"ticker\":{\"id\":\"2522\"}},\"id\":\"2521\",\"type\":\"LinearAxis\"},{\"attributes\":{},\"id\":\"2554\",\"type\":\"BasicTickFormatter\"},{\"attributes\":{},\"id\":\"2526\",\"type\":\"BasicTicker\"},{\"attributes\":{\"source\":{\"id\":\"2563\"}},\"id\":\"2568\",\"type\":\"CDSView\"},{\"attributes\":{},\"id\":\"2522\",\"type\":\"BasicTicker\"},{\"attributes\":{},\"id\":\"2556\",\"type\":\"BasicTickFormatter\"},{\"attributes\":{},\"id\":\"2559\",\"type\":\"Selection\"},{\"attributes\":{\"bottom\":{\"expr\":{\"id\":\"2545\"}},\"fill_alpha\":{\"value\":0.1},\"fill_color\":{\"value\":\"#718dbf\"},\"line_alpha\":{\"value\":0.1},\"line_color\":{\"value\":\"#718dbf\"},\"top\":{\"expr\":{\"id\":\"2546\"}},\"width\":{\"value\":0.9},\"x\":{\"field\":\"Classes\"}},\"id\":\"2566\",\"type\":\"VBar\"},{\"attributes\":{\"axis\":{\"id\":\"2521\"},\"ticker\":null},\"id\":\"2524\",\"type\":\"Grid\"},{\"attributes\":{},\"id\":\"2558\",\"type\":\"UnionRenderers\"},{\"attributes\":{\"axis\":{\"id\":\"2525\"},\"dimension\":1,\"ticker\":null},\"id\":\"2528\",\"type\":\"Grid\"},{\"attributes\":{\"data_source\":{\"id\":\"2563\"},\"glyph\":{\"id\":\"2565\"},\"hover_glyph\":null,\"muted_glyph\":null,\"name\":\"No Heart Disease\",\"nonselection_glyph\":{\"id\":\"2566\"},\"selection_glyph\":null,\"view\":{\"id\":\"2568\"}},\"id\":\"2567\",\"type\":\"GlyphRenderer\"},{\"attributes\":{\"formatter\":{\"id\":\"2556\"},\"ticker\":{\"id\":\"2526\"}},\"id\":\"2525\",\"type\":\"LinearAxis\"},{\"attributes\":{},\"id\":\"2576\",\"type\":\"UnionRenderers\"},{\"attributes\":{},\"id\":\"2577\",\"type\":\"Selection\"},{\"attributes\":{\"fields\":[\"Have Heart Disease\"]},\"id\":\"2544\",\"type\":\"Stack\"},{\"attributes\":{\"label\":{\"value\":\"No Heart Disease\"},\"renderers\":[{\"id\":\"2567\"}]},\"id\":\"2579\",\"type\":\"LegendItem\"},{\"attributes\":{\"label\":{\"value\":\"Have Heart Disease\"},\"renderers\":[{\"id\":\"2551\"}]},\"id\":\"2562\",\"type\":\"LegendItem\"},{\"attributes\":{\"fields\":[\"Have Heart Disease\"]},\"id\":\"2545\",\"type\":\"Stack\"},{\"attributes\":{\"bottom_units\":\"screen\",\"fill_alpha\":0.5,\"fill_color\":\"lightgrey\",\"left_units\":\"screen\",\"level\":\"overlay\",\"line_alpha\":1.0,\"line_color\":\"black\",\"line_dash\":[4,4],\"line_width\":2,\"right_units\":\"screen\",\"top_units\":\"screen\"},\"id\":\"2535\",\"type\":\"BoxAnnotation\"},{\"attributes\":{},\"id\":\"2513\",\"type\":\"DataRange1d\"},{\"attributes\":{\"data\":{\"Classes\":[0,1],\"Have Heart Disease\":[68,96],\"No Heart Disease\":[79,56]},\"selected\":{\"id\":\"2577\"},\"selection_policy\":{\"id\":\"2576\"}},\"id\":\"2563\",\"type\":\"ColumnDataSource\"},{\"attributes\":{\"data\":{\"Classes\":[0,1],\"Have Heart Disease\":[68,96],\"No Heart Disease\":[79,56]},\"selected\":{\"id\":\"2559\"},\"selection_policy\":{\"id\":\"2558\"}},\"id\":\"2547\",\"type\":\"ColumnDataSource\"},{\"attributes\":{\"active_drag\":\"auto\",\"active_inspect\":\"auto\",\"active_multi\":null,\"active_scroll\":\"auto\",\"active_tap\":\"auto\",\"tools\":[{\"id\":\"2529\"},{\"id\":\"2530\"},{\"id\":\"2531\"},{\"id\":\"2532\"},{\"id\":\"2533\"},{\"id\":\"2534\"}]},\"id\":\"2536\",\"type\":\"Toolbar\"},{\"attributes\":{},\"id\":\"2529\",\"type\":\"PanTool\"},{\"attributes\":{},\"id\":\"2517\",\"type\":\"LinearScale\"},{\"attributes\":{},\"id\":\"2530\",\"type\":\"WheelZoomTool\"},{\"attributes\":{\"bottom\":{\"expr\":{\"id\":\"2543\"}},\"fill_color\":{\"value\":\"#e84d60\"},\"line_color\":{\"value\":\"#e84d60\"},\"top\":{\"expr\":{\"id\":\"2544\"}},\"width\":{\"value\":0.9},\"x\":{\"field\":\"Classes\"}},\"id\":\"2549\",\"type\":\"VBar\"}],\"root_ids\":[\"2510\"]},\"title\":\"Bokeh Application\",\"version\":\"2.2.3\"}};\n",
       "  var render_items = [{\"docid\":\"6b1dbcbb-278a-46b2-84b2-ee79e7cf9544\",\"root_ids\":[\"2510\"],\"roots\":{\"2510\":\"c7a72cd3-04f2-48fd-86cd-0f03efa054d2\"}}];\n",
       "  root.Bokeh.embed.embed_items_notebook(docs_json, render_items);\n",
       "\n",
       "  }\n",
       "  if (root.Bokeh !== undefined) {\n",
       "    embed_document(root);\n",
       "  } else {\n",
       "    var attempts = 0;\n",
       "    var timer = setInterval(function(root) {\n",
       "      if (root.Bokeh !== undefined) {\n",
       "        clearInterval(timer);\n",
       "        embed_document(root);\n",
       "      } else {\n",
       "        attempts++;\n",
       "        if (attempts > 100) {\n",
       "          clearInterval(timer);\n",
       "          console.log(\"Bokeh: ERROR: Unable to run BokehJS code because BokehJS library is missing\");\n",
       "        }\n",
       "      }\n",
       "    }, 10, root)\n",
       "  }\n",
       "})(window);"
      ],
      "application/vnd.bokehjs_exec.v0+json": ""
     },
     "metadata": {
      "application/vnd.bokehjs_exec.v0+json": {
       "id": "2510"
      }
     },
     "output_type": "display_data"
    }
   ],
   "source": [
    "exang_vs_target = df.groupby(['exang', 'target'])['exang'].count().to_list()\n",
    "\n",
    "unique = [0, 1]\n",
    "condition = ['Have Heart Disease', 'No Heart Disease']\n",
    "colors = [\"#e84d60\", \"#718dbf\"]\n",
    "data = {\n",
    "        'Classes' : unique,\n",
    "        'Have Heart Disease' : [restecg_vs_target[1], restecg_vs_target[3]],\n",
    "        'No Heart Disease'   : [restecg_vs_target[0], restecg_vs_target[2]]\n",
    "        }\n",
    "\n",
    "p11 = figure(plot_height = 400, plot_width = 400, title = \"Exang vs Target\")\n",
    "\n",
    "p11.vbar_stack(condition, x ='Classes', width = 0.9, color = colors, source = data, legend_label = condition)\n",
    "\n",
    "p11.legend.location = \"top_right\"\n",
    "\n",
    "p11.legend.label_text_font_size = '7pt'\n",
    "show(p11)"
   ]
  },
  {
   "cell_type": "markdown",
   "metadata": {
    "papermill": {
     "duration": 0.117583,
     "end_time": "2020-11-21T06:21:20.039676",
     "exception": false,
     "start_time": "2020-11-21T06:21:19.922093",
     "status": "completed"
    },
    "tags": []
   },
   "source": [
    "### Slope vs Target"
   ]
  },
  {
   "cell_type": "markdown",
   "metadata": {
    "papermill": {
     "duration": 0.117074,
     "end_time": "2020-11-21T06:21:20.272407",
     "exception": false,
     "start_time": "2020-11-21T06:21:20.155333",
     "status": "completed"
    },
    "tags": []
   },
   "source": [
    "slope - the slope of the peak exercise ST segment\n",
    "\n",
    "0: Upsloping: better heart rate with excercise (uncommon)\n",
    "\n",
    "1: Flatsloping: minimal change (typical healthy heart)\n",
    "\n",
    "2: Downslopins: signs of unhealthy heart"
   ]
  },
  {
   "cell_type": "code",
   "execution_count": 28,
   "metadata": {
    "execution": {
     "iopub.execute_input": "2020-11-21T06:21:20.512100Z",
     "iopub.status.busy": "2020-11-21T06:21:20.511229Z",
     "iopub.status.idle": "2020-11-21T06:21:20.590989Z",
     "shell.execute_reply": "2020-11-21T06:21:20.590119Z"
    },
    "papermill": {
     "duration": 0.200762,
     "end_time": "2020-11-21T06:21:20.591123",
     "exception": false,
     "start_time": "2020-11-21T06:21:20.390361",
     "status": "completed"
    },
    "tags": []
   },
   "outputs": [
    {
     "name": "stderr",
     "output_type": "stream",
     "text": [
      "BokehUserWarning: ColumnDataSource's columns must be of the same length. Current lengths: ('Classes', 3), ('color', 6), ('counts', 3)\n"
     ]
    },
    {
     "data": {
      "text/html": [
       "\n",
       "\n",
       "\n",
       "\n",
       "\n",
       "\n",
       "  <div class=\"bk-root\" id=\"bd3558c1-0598-4020-b446-6633ac70bf9b\" data-root-id=\"2735\"></div>\n"
      ]
     },
     "metadata": {},
     "output_type": "display_data"
    },
    {
     "data": {
      "application/javascript": [
       "(function(root) {\n",
       "  function embed_document(root) {\n",
       "    \n",
       "  var docs_json = {\"0730d94c-941a-495c-9854-e1a7da10e2cd\":{\"roots\":{\"references\":[{\"attributes\":{\"below\":[{\"id\":\"2744\"}],\"center\":[{\"id\":\"2747\"},{\"id\":\"2751\"}],\"left\":[{\"id\":\"2748\"}],\"plot_height\":400,\"plot_width\":400,\"renderers\":[{\"id\":\"2758\"}],\"title\":{\"id\":\"2865\"},\"toolbar\":{\"id\":\"2753\"},\"x_range\":{\"id\":\"2736\"},\"x_scale\":{\"id\":\"2740\"},\"y_range\":{\"id\":\"2738\"},\"y_scale\":{\"id\":\"2742\"}},\"id\":\"2735\",\"subtype\":\"Figure\",\"type\":\"Plot\"},{\"attributes\":{},\"id\":\"2749\",\"type\":\"BasicTicker\"},{\"attributes\":{\"fill_color\":{\"field\":\"color\"},\"line_color\":{\"field\":\"color\"},\"top\":{\"field\":\"counts\"},\"width\":{\"value\":0.9},\"x\":{\"field\":\"Classes\"}},\"id\":\"2756\",\"type\":\"VBar\"},{\"attributes\":{\"axis\":{\"id\":\"2748\"},\"dimension\":1,\"ticker\":null},\"id\":\"2751\",\"type\":\"Grid\"},{\"attributes\":{\"data\":{\"Classes\":[2,1,0],\"color\":[\"#3288bd\",\"#99d594\",\"#e6f598\",\"#fee08b\",\"#fc8d59\",\"#d53e4f\"],\"counts\":[142,140,21]},\"selected\":{\"id\":\"2871\"},\"selection_policy\":{\"id\":\"2870\"}},\"id\":\"2734\",\"type\":\"ColumnDataSource\"},{\"attributes\":{},\"id\":\"2736\",\"type\":\"DataRange1d\"},{\"attributes\":{},\"id\":\"2866\",\"type\":\"BasicTickFormatter\"},{\"attributes\":{\"axis\":{\"id\":\"2744\"},\"ticker\":null},\"id\":\"2747\",\"type\":\"Grid\"},{\"attributes\":{},\"id\":\"2870\",\"type\":\"UnionRenderers\"},{\"attributes\":{\"axis_label\":\"Count(Classes)\",\"formatter\":{\"id\":\"2868\"},\"ticker\":{\"id\":\"2749\"}},\"id\":\"2748\",\"type\":\"LinearAxis\"},{\"attributes\":{},\"id\":\"2871\",\"type\":\"Selection\"},{\"attributes\":{\"active_drag\":\"auto\",\"active_inspect\":\"auto\",\"active_multi\":null,\"active_scroll\":\"auto\",\"active_tap\":\"auto\",\"tools\":[{\"id\":\"2752\"}]},\"id\":\"2753\",\"type\":\"Toolbar\"},{\"attributes\":{},\"id\":\"2738\",\"type\":\"DataRange1d\"},{\"attributes\":{\"fill_alpha\":{\"value\":0.1},\"fill_color\":{\"field\":\"color\"},\"line_alpha\":{\"value\":0.1},\"line_color\":{\"field\":\"color\"},\"top\":{\"field\":\"counts\"},\"width\":{\"value\":0.9},\"x\":{\"field\":\"Classes\"}},\"id\":\"2757\",\"type\":\"VBar\"},{\"attributes\":{\"source\":{\"id\":\"2734\"}},\"id\":\"2759\",\"type\":\"CDSView\"},{\"attributes\":{},\"id\":\"2740\",\"type\":\"LinearScale\"},{\"attributes\":{},\"id\":\"2745\",\"type\":\"BasicTicker\"},{\"attributes\":{\"data_source\":{\"id\":\"2734\"},\"glyph\":{\"id\":\"2756\"},\"hover_glyph\":null,\"muted_glyph\":null,\"nonselection_glyph\":{\"id\":\"2757\"},\"selection_glyph\":null,\"view\":{\"id\":\"2759\"}},\"id\":\"2758\",\"type\":\"GlyphRenderer\"},{\"attributes\":{\"callback\":null,\"tooltips\":\"@Classes: @counts\"},\"id\":\"2752\",\"type\":\"HoverTool\"},{\"attributes\":{\"axis_label\":\"slope\",\"formatter\":{\"id\":\"2866\"},\"ticker\":{\"id\":\"2745\"}},\"id\":\"2744\",\"type\":\"LinearAxis\"},{\"attributes\":{\"text\":\"\"},\"id\":\"2865\",\"type\":\"Title\"},{\"attributes\":{},\"id\":\"2868\",\"type\":\"BasicTickFormatter\"},{\"attributes\":{},\"id\":\"2742\",\"type\":\"LinearScale\"}],\"root_ids\":[\"2735\"]},\"title\":\"Bokeh Application\",\"version\":\"2.2.3\"}};\n",
       "  var render_items = [{\"docid\":\"0730d94c-941a-495c-9854-e1a7da10e2cd\",\"root_ids\":[\"2735\"],\"roots\":{\"2735\":\"bd3558c1-0598-4020-b446-6633ac70bf9b\"}}];\n",
       "  root.Bokeh.embed.embed_items_notebook(docs_json, render_items);\n",
       "\n",
       "  }\n",
       "  if (root.Bokeh !== undefined) {\n",
       "    embed_document(root);\n",
       "  } else {\n",
       "    var attempts = 0;\n",
       "    var timer = setInterval(function(root) {\n",
       "      if (root.Bokeh !== undefined) {\n",
       "        clearInterval(timer);\n",
       "        embed_document(root);\n",
       "      } else {\n",
       "        attempts++;\n",
       "        if (attempts > 100) {\n",
       "          clearInterval(timer);\n",
       "          console.log(\"Bokeh: ERROR: Unable to run BokehJS code because BokehJS library is missing\");\n",
       "        }\n",
       "      }\n",
       "    }, 10, root)\n",
       "  }\n",
       "})(window);"
      ],
      "application/vnd.bokehjs_exec.v0+json": ""
     },
     "metadata": {
      "application/vnd.bokehjs_exec.v0+json": {
       "id": "2735"
      }
     },
     "output_type": "display_data"
    }
   ],
   "source": [
    "p12 = count_of_each_category('slope')\n",
    "show(p12)"
   ]
  },
  {
   "cell_type": "code",
   "execution_count": 29,
   "metadata": {
    "execution": {
     "iopub.execute_input": "2020-11-21T06:21:20.845631Z",
     "iopub.status.busy": "2020-11-21T06:21:20.844386Z",
     "iopub.status.idle": "2020-11-21T06:21:20.953433Z",
     "shell.execute_reply": "2020-11-21T06:21:20.952798Z"
    },
    "papermill": {
     "duration": 0.243981,
     "end_time": "2020-11-21T06:21:20.953597",
     "exception": false,
     "start_time": "2020-11-21T06:21:20.709616",
     "status": "completed"
    },
    "tags": []
   },
   "outputs": [
    {
     "data": {
      "text/html": [
       "\n",
       "\n",
       "\n",
       "\n",
       "\n",
       "\n",
       "  <div class=\"bk-root\" id=\"c897da7e-5388-4ed3-986a-0d2fc43ddf8b\" data-root-id=\"2912\"></div>\n"
      ]
     },
     "metadata": {},
     "output_type": "display_data"
    },
    {
     "data": {
      "application/javascript": [
       "(function(root) {\n",
       "  function embed_document(root) {\n",
       "    \n",
       "  var docs_json = {\"e5a2ff6d-03cb-4121-b354-c946c595a879\":{\"roots\":{\"references\":[{\"attributes\":{\"below\":[{\"id\":\"2923\"}],\"center\":[{\"id\":\"2926\"},{\"id\":\"2930\"},{\"id\":\"2963\"}],\"left\":[{\"id\":\"2927\"}],\"plot_height\":400,\"plot_width\":400,\"renderers\":[{\"id\":\"2953\"},{\"id\":\"2969\"}],\"title\":{\"id\":\"2913\"},\"toolbar\":{\"id\":\"2938\"},\"x_range\":{\"id\":\"2915\"},\"x_scale\":{\"id\":\"2919\"},\"y_range\":{\"id\":\"2917\"},\"y_scale\":{\"id\":\"2921\"}},\"id\":\"2912\",\"subtype\":\"Figure\",\"type\":\"Plot\"},{\"attributes\":{\"label\":{\"value\":\"Have Heart Disease\"},\"renderers\":[{\"id\":\"2953\"}]},\"id\":\"2964\",\"type\":\"LegendItem\"},{\"attributes\":{},\"id\":\"2928\",\"type\":\"BasicTicker\"},{\"attributes\":{\"label\":{\"value\":\"No Heart Disease\"},\"renderers\":[{\"id\":\"2969\"}]},\"id\":\"2981\",\"type\":\"LegendItem\"},{\"attributes\":{\"fields\":[\"Have Heart Disease\"]},\"id\":\"2947\",\"type\":\"Stack\"},{\"attributes\":{\"axis\":{\"id\":\"2927\"},\"dimension\":1,\"ticker\":null},\"id\":\"2930\",\"type\":\"Grid\"},{\"attributes\":{},\"id\":\"2978\",\"type\":\"UnionRenderers\"},{\"attributes\":{\"formatter\":{\"id\":\"2958\"},\"ticker\":{\"id\":\"2928\"}},\"id\":\"2927\",\"type\":\"LinearAxis\"},{\"attributes\":{\"source\":{\"id\":\"2965\"}},\"id\":\"2970\",\"type\":\"CDSView\"},{\"attributes\":{},\"id\":\"2979\",\"type\":\"Selection\"},{\"attributes\":{\"bottom\":{\"expr\":{\"id\":\"2947\"}},\"fill_alpha\":{\"value\":0.1},\"fill_color\":{\"value\":\"#718dbf\"},\"line_alpha\":{\"value\":0.1},\"line_color\":{\"value\":\"#718dbf\"},\"top\":{\"expr\":{\"id\":\"2948\"}},\"width\":{\"value\":0.9},\"x\":{\"field\":\"Classes\"}},\"id\":\"2968\",\"type\":\"VBar\"},{\"attributes\":{},\"id\":\"2958\",\"type\":\"BasicTickFormatter\"},{\"attributes\":{\"data\":{\"Classes\":[0,1,2],\"Have Heart Disease\":[9,49,107],\"No Heart Disease\":[12,91,35]},\"selected\":{\"id\":\"2979\"},\"selection_policy\":{\"id\":\"2978\"}},\"id\":\"2965\",\"type\":\"ColumnDataSource\"},{\"attributes\":{\"bottom_units\":\"screen\",\"fill_alpha\":0.5,\"fill_color\":\"lightgrey\",\"left_units\":\"screen\",\"level\":\"overlay\",\"line_alpha\":1.0,\"line_color\":\"black\",\"line_dash\":[4,4],\"line_width\":2,\"right_units\":\"screen\",\"top_units\":\"screen\"},\"id\":\"2937\",\"type\":\"BoxAnnotation\"},{\"attributes\":{},\"id\":\"2915\",\"type\":\"DataRange1d\"},{\"attributes\":{\"active_drag\":\"auto\",\"active_inspect\":\"auto\",\"active_multi\":null,\"active_scroll\":\"auto\",\"active_tap\":\"auto\",\"tools\":[{\"id\":\"2931\"},{\"id\":\"2932\"},{\"id\":\"2933\"},{\"id\":\"2934\"},{\"id\":\"2935\"},{\"id\":\"2936\"}]},\"id\":\"2938\",\"type\":\"Toolbar\"},{\"attributes\":{},\"id\":\"2961\",\"type\":\"Selection\"},{\"attributes\":{\"items\":[{\"id\":\"2964\"},{\"id\":\"2981\"}],\"label_text_font_size\":\"5pt\",\"location\":\"top_left\"},\"id\":\"2963\",\"type\":\"Legend\"},{\"attributes\":{\"fields\":[\"Have Heart Disease\",\"No Heart Disease\"]},\"id\":\"2948\",\"type\":\"Stack\"},{\"attributes\":{},\"id\":\"2919\",\"type\":\"LinearScale\"},{\"attributes\":{\"bottom\":{\"expr\":{\"id\":\"2945\"}},\"fill_color\":{\"value\":\"#e84d60\"},\"line_color\":{\"value\":\"#e84d60\"},\"top\":{\"expr\":{\"id\":\"2946\"}},\"width\":{\"value\":0.9},\"x\":{\"field\":\"Classes\"}},\"id\":\"2951\",\"type\":\"VBar\"},{\"attributes\":{},\"id\":\"2931\",\"type\":\"PanTool\"},{\"attributes\":{\"data\":{\"Classes\":[0,1,2],\"Have Heart Disease\":[9,49,107],\"No Heart Disease\":[12,91,35]},\"selected\":{\"id\":\"2961\"},\"selection_policy\":{\"id\":\"2960\"}},\"id\":\"2949\",\"type\":\"ColumnDataSource\"},{\"attributes\":{},\"id\":\"2932\",\"type\":\"WheelZoomTool\"},{\"attributes\":{},\"id\":\"2917\",\"type\":\"DataRange1d\"},{\"attributes\":{\"overlay\":{\"id\":\"2937\"}},\"id\":\"2933\",\"type\":\"BoxZoomTool\"},{\"attributes\":{},\"id\":\"2934\",\"type\":\"SaveTool\"},{\"attributes\":{\"text\":\"Slope vs Target\"},\"id\":\"2913\",\"type\":\"Title\"},{\"attributes\":{\"data_source\":{\"id\":\"2949\"},\"glyph\":{\"id\":\"2951\"},\"hover_glyph\":null,\"muted_glyph\":null,\"name\":\"Have Heart Disease\",\"nonselection_glyph\":{\"id\":\"2952\"},\"selection_glyph\":null,\"view\":{\"id\":\"2954\"}},\"id\":\"2953\",\"type\":\"GlyphRenderer\"},{\"attributes\":{},\"id\":\"2935\",\"type\":\"ResetTool\"},{\"attributes\":{\"fields\":[]},\"id\":\"2945\",\"type\":\"Stack\"},{\"attributes\":{\"bottom\":{\"expr\":{\"id\":\"2947\"}},\"fill_color\":{\"value\":\"#718dbf\"},\"line_color\":{\"value\":\"#718dbf\"},\"top\":{\"expr\":{\"id\":\"2948\"}},\"width\":{\"value\":0.9},\"x\":{\"field\":\"Classes\"}},\"id\":\"2967\",\"type\":\"VBar\"},{\"attributes\":{\"source\":{\"id\":\"2949\"}},\"id\":\"2954\",\"type\":\"CDSView\"},{\"attributes\":{},\"id\":\"2960\",\"type\":\"UnionRenderers\"},{\"attributes\":{\"bottom\":{\"expr\":{\"id\":\"2945\"}},\"fill_alpha\":{\"value\":0.1},\"fill_color\":{\"value\":\"#e84d60\"},\"line_alpha\":{\"value\":0.1},\"line_color\":{\"value\":\"#e84d60\"},\"top\":{\"expr\":{\"id\":\"2946\"}},\"width\":{\"value\":0.9},\"x\":{\"field\":\"Classes\"}},\"id\":\"2952\",\"type\":\"VBar\"},{\"attributes\":{\"formatter\":{\"id\":\"2956\"},\"ticker\":{\"id\":\"2924\"}},\"id\":\"2923\",\"type\":\"LinearAxis\"},{\"attributes\":{},\"id\":\"2936\",\"type\":\"HelpTool\"},{\"attributes\":{\"fields\":[\"Have Heart Disease\"]},\"id\":\"2946\",\"type\":\"Stack\"},{\"attributes\":{},\"id\":\"2921\",\"type\":\"LinearScale\"},{\"attributes\":{\"axis\":{\"id\":\"2923\"},\"ticker\":null},\"id\":\"2926\",\"type\":\"Grid\"},{\"attributes\":{},\"id\":\"2956\",\"type\":\"BasicTickFormatter\"},{\"attributes\":{\"data_source\":{\"id\":\"2965\"},\"glyph\":{\"id\":\"2967\"},\"hover_glyph\":null,\"muted_glyph\":null,\"name\":\"No Heart Disease\",\"nonselection_glyph\":{\"id\":\"2968\"},\"selection_glyph\":null,\"view\":{\"id\":\"2970\"}},\"id\":\"2969\",\"type\":\"GlyphRenderer\"},{\"attributes\":{},\"id\":\"2924\",\"type\":\"BasicTicker\"}],\"root_ids\":[\"2912\"]},\"title\":\"Bokeh Application\",\"version\":\"2.2.3\"}};\n",
       "  var render_items = [{\"docid\":\"e5a2ff6d-03cb-4121-b354-c946c595a879\",\"root_ids\":[\"2912\"],\"roots\":{\"2912\":\"c897da7e-5388-4ed3-986a-0d2fc43ddf8b\"}}];\n",
       "  root.Bokeh.embed.embed_items_notebook(docs_json, render_items);\n",
       "\n",
       "  }\n",
       "  if (root.Bokeh !== undefined) {\n",
       "    embed_document(root);\n",
       "  } else {\n",
       "    var attempts = 0;\n",
       "    var timer = setInterval(function(root) {\n",
       "      if (root.Bokeh !== undefined) {\n",
       "        clearInterval(timer);\n",
       "        embed_document(root);\n",
       "      } else {\n",
       "        attempts++;\n",
       "        if (attempts > 100) {\n",
       "          clearInterval(timer);\n",
       "          console.log(\"Bokeh: ERROR: Unable to run BokehJS code because BokehJS library is missing\");\n",
       "        }\n",
       "      }\n",
       "    }, 10, root)\n",
       "  }\n",
       "})(window);"
      ],
      "application/vnd.bokehjs_exec.v0+json": ""
     },
     "metadata": {
      "application/vnd.bokehjs_exec.v0+json": {
       "id": "2912"
      }
     },
     "output_type": "display_data"
    }
   ],
   "source": [
    "slope_vs_target = df.groupby(['slope', 'target'])['slope'].count().to_list()\n",
    "\n",
    "unique = [0, 1, 2]\n",
    "condition = ['Have Heart Disease', 'No Heart Disease']\n",
    "colors = [\"#e84d60\", \"#718dbf\"]\n",
    "data = {\n",
    "        'Classes' : unique,\n",
    "        'Have Heart Disease' : [slope_vs_target[1], slope_vs_target[3], slope_vs_target[5]],\n",
    "        'No Heart Disease'   : [slope_vs_target[0], slope_vs_target[2], slope_vs_target[4]]\n",
    "        }\n",
    "\n",
    "p13 = figure(plot_height = 400, plot_width = 400, title = \"Slope vs Target\")\n",
    "\n",
    "p13.vbar_stack(condition, x ='Classes', width = 0.9, color = colors, source = data, legend_label = condition)\n",
    "\n",
    "p13.legend.location = \"top_left\"\n",
    "\n",
    "p13.legend.label_text_font_size = '5pt'\n",
    "show(p13)"
   ]
  },
  {
   "cell_type": "markdown",
   "metadata": {
    "papermill": {
     "duration": 0.119709,
     "end_time": "2020-11-21T06:21:21.195739",
     "exception": false,
     "start_time": "2020-11-21T06:21:21.076030",
     "status": "completed"
    },
    "tags": []
   },
   "source": [
    "As type 2 means Downslopins which is a sign of unhealthy heart, most patients with type 2 slope had Heart Disease."
   ]
  },
  {
   "cell_type": "markdown",
   "metadata": {
    "papermill": {
     "duration": 0.118134,
     "end_time": "2020-11-21T06:21:21.432619",
     "exception": false,
     "start_time": "2020-11-21T06:21:21.314485",
     "status": "completed"
    },
    "tags": []
   },
   "source": [
    "### Ca vs Target"
   ]
  },
  {
   "cell_type": "markdown",
   "metadata": {
    "papermill": {
     "duration": 0.122708,
     "end_time": "2020-11-21T06:21:21.680045",
     "exception": false,
     "start_time": "2020-11-21T06:21:21.557337",
     "status": "completed"
    },
    "tags": []
   },
   "source": [
    "ca - number of major vessels (0-3) colored by flourosopy\n",
    "\n",
    "colored vessel means the doctor can see the blood passing through\n",
    "\n",
    "the more blood movement the better (no clots)"
   ]
  },
  {
   "cell_type": "code",
   "execution_count": 30,
   "metadata": {
    "execution": {
     "iopub.execute_input": "2020-11-21T06:21:21.924428Z",
     "iopub.status.busy": "2020-11-21T06:21:21.923571Z",
     "iopub.status.idle": "2020-11-21T06:21:22.007381Z",
     "shell.execute_reply": "2020-11-21T06:21:22.008199Z"
    },
    "papermill": {
     "duration": 0.209467,
     "end_time": "2020-11-21T06:21:22.008394",
     "exception": false,
     "start_time": "2020-11-21T06:21:21.798927",
     "status": "completed"
    },
    "tags": []
   },
   "outputs": [
    {
     "name": "stderr",
     "output_type": "stream",
     "text": [
      "BokehUserWarning: ColumnDataSource's columns must be of the same length. Current lengths: ('Classes', 5), ('color', 6), ('counts', 5)\n"
     ]
    },
    {
     "data": {
      "text/html": [
       "\n",
       "\n",
       "\n",
       "\n",
       "\n",
       "\n",
       "  <div class=\"bk-root\" id=\"e707e81b-e008-4b62-948e-9d16fda20764\" data-root-id=\"3155\"></div>\n"
      ]
     },
     "metadata": {},
     "output_type": "display_data"
    },
    {
     "data": {
      "application/javascript": [
       "(function(root) {\n",
       "  function embed_document(root) {\n",
       "    \n",
       "  var docs_json = {\"d4af53ed-55db-4101-9635-7af49bce5bc9\":{\"roots\":{\"references\":[{\"attributes\":{\"below\":[{\"id\":\"3164\"}],\"center\":[{\"id\":\"3167\"},{\"id\":\"3171\"}],\"left\":[{\"id\":\"3168\"}],\"plot_height\":400,\"plot_width\":400,\"renderers\":[{\"id\":\"3178\"}],\"title\":{\"id\":\"3303\"},\"toolbar\":{\"id\":\"3173\"},\"x_range\":{\"id\":\"3156\"},\"x_scale\":{\"id\":\"3160\"},\"y_range\":{\"id\":\"3158\"},\"y_scale\":{\"id\":\"3162\"}},\"id\":\"3155\",\"subtype\":\"Figure\",\"type\":\"Plot\"},{\"attributes\":{\"axis\":{\"id\":\"3168\"},\"dimension\":1,\"ticker\":null},\"id\":\"3171\",\"type\":\"Grid\"},{\"attributes\":{},\"id\":\"3306\",\"type\":\"BasicTickFormatter\"},{\"attributes\":{},\"id\":\"3156\",\"type\":\"DataRange1d\"},{\"attributes\":{\"fill_alpha\":{\"value\":0.1},\"fill_color\":{\"field\":\"color\"},\"line_alpha\":{\"value\":0.1},\"line_color\":{\"field\":\"color\"},\"top\":{\"field\":\"counts\"},\"width\":{\"value\":0.9},\"x\":{\"field\":\"Classes\"}},\"id\":\"3177\",\"type\":\"VBar\"},{\"attributes\":{},\"id\":\"3304\",\"type\":\"BasicTickFormatter\"},{\"attributes\":{\"active_drag\":\"auto\",\"active_inspect\":\"auto\",\"active_multi\":null,\"active_scroll\":\"auto\",\"active_tap\":\"auto\",\"tools\":[{\"id\":\"3172\"}]},\"id\":\"3173\",\"type\":\"Toolbar\"},{\"attributes\":{\"fill_color\":{\"field\":\"color\"},\"line_color\":{\"field\":\"color\"},\"top\":{\"field\":\"counts\"},\"width\":{\"value\":0.9},\"x\":{\"field\":\"Classes\"}},\"id\":\"3176\",\"type\":\"VBar\"},{\"attributes\":{},\"id\":\"3308\",\"type\":\"UnionRenderers\"},{\"attributes\":{\"axis\":{\"id\":\"3164\"},\"ticker\":null},\"id\":\"3167\",\"type\":\"Grid\"},{\"attributes\":{\"axis_label\":\"Count(Classes)\",\"formatter\":{\"id\":\"3306\"},\"ticker\":{\"id\":\"3169\"}},\"id\":\"3168\",\"type\":\"LinearAxis\"},{\"attributes\":{},\"id\":\"3309\",\"type\":\"Selection\"},{\"attributes\":{\"callback\":null,\"tooltips\":\"@Classes: @counts\"},\"id\":\"3172\",\"type\":\"HoverTool\"},{\"attributes\":{\"data\":{\"Classes\":[0,1,2,3,4],\"color\":[\"#3288bd\",\"#99d594\",\"#e6f598\",\"#fee08b\",\"#fc8d59\",\"#d53e4f\"],\"counts\":[175,65,38,20,5]},\"selected\":{\"id\":\"3309\"},\"selection_policy\":{\"id\":\"3308\"}},\"id\":\"3154\",\"type\":\"ColumnDataSource\"},{\"attributes\":{},\"id\":\"3165\",\"type\":\"BasicTicker\"},{\"attributes\":{},\"id\":\"3162\",\"type\":\"LinearScale\"},{\"attributes\":{\"axis_label\":\"ca\",\"formatter\":{\"id\":\"3304\"},\"ticker\":{\"id\":\"3165\"}},\"id\":\"3164\",\"type\":\"LinearAxis\"},{\"attributes\":{},\"id\":\"3158\",\"type\":\"DataRange1d\"},{\"attributes\":{\"data_source\":{\"id\":\"3154\"},\"glyph\":{\"id\":\"3176\"},\"hover_glyph\":null,\"muted_glyph\":null,\"nonselection_glyph\":{\"id\":\"3177\"},\"selection_glyph\":null,\"view\":{\"id\":\"3179\"}},\"id\":\"3178\",\"type\":\"GlyphRenderer\"},{\"attributes\":{},\"id\":\"3160\",\"type\":\"LinearScale\"},{\"attributes\":{},\"id\":\"3169\",\"type\":\"BasicTicker\"},{\"attributes\":{\"source\":{\"id\":\"3154\"}},\"id\":\"3179\",\"type\":\"CDSView\"},{\"attributes\":{\"text\":\"\"},\"id\":\"3303\",\"type\":\"Title\"}],\"root_ids\":[\"3155\"]},\"title\":\"Bokeh Application\",\"version\":\"2.2.3\"}};\n",
       "  var render_items = [{\"docid\":\"d4af53ed-55db-4101-9635-7af49bce5bc9\",\"root_ids\":[\"3155\"],\"roots\":{\"3155\":\"e707e81b-e008-4b62-948e-9d16fda20764\"}}];\n",
       "  root.Bokeh.embed.embed_items_notebook(docs_json, render_items);\n",
       "\n",
       "  }\n",
       "  if (root.Bokeh !== undefined) {\n",
       "    embed_document(root);\n",
       "  } else {\n",
       "    var attempts = 0;\n",
       "    var timer = setInterval(function(root) {\n",
       "      if (root.Bokeh !== undefined) {\n",
       "        clearInterval(timer);\n",
       "        embed_document(root);\n",
       "      } else {\n",
       "        attempts++;\n",
       "        if (attempts > 100) {\n",
       "          clearInterval(timer);\n",
       "          console.log(\"Bokeh: ERROR: Unable to run BokehJS code because BokehJS library is missing\");\n",
       "        }\n",
       "      }\n",
       "    }, 10, root)\n",
       "  }\n",
       "})(window);"
      ],
      "application/vnd.bokehjs_exec.v0+json": ""
     },
     "metadata": {
      "application/vnd.bokehjs_exec.v0+json": {
       "id": "3155"
      }
     },
     "output_type": "display_data"
    }
   ],
   "source": [
    "p14 = count_of_each_category('ca')\n",
    "show(p14)"
   ]
  },
  {
   "cell_type": "code",
   "execution_count": 31,
   "metadata": {
    "execution": {
     "iopub.execute_input": "2020-11-21T06:21:22.300418Z",
     "iopub.status.busy": "2020-11-21T06:21:22.295348Z",
     "iopub.status.idle": "2020-11-21T06:21:22.373851Z",
     "shell.execute_reply": "2020-11-21T06:21:22.373053Z"
    },
    "papermill": {
     "duration": 0.244515,
     "end_time": "2020-11-21T06:21:22.373980",
     "exception": false,
     "start_time": "2020-11-21T06:21:22.129465",
     "status": "completed"
    },
    "tags": []
   },
   "outputs": [
    {
     "data": {
      "text/html": [
       "\n",
       "\n",
       "\n",
       "\n",
       "\n",
       "\n",
       "  <div class=\"bk-root\" id=\"a13575a6-b587-4796-b792-e432c22b05f6\" data-root-id=\"3350\"></div>\n"
      ]
     },
     "metadata": {},
     "output_type": "display_data"
    },
    {
     "data": {
      "application/javascript": [
       "(function(root) {\n",
       "  function embed_document(root) {\n",
       "    \n",
       "  var docs_json = {\"07636e24-011f-44c4-9ea3-99897970ced6\":{\"roots\":{\"references\":[{\"attributes\":{\"below\":[{\"id\":\"3361\"}],\"center\":[{\"id\":\"3364\"},{\"id\":\"3368\"},{\"id\":\"3401\"}],\"left\":[{\"id\":\"3365\"}],\"plot_height\":400,\"plot_width\":400,\"renderers\":[{\"id\":\"3391\"},{\"id\":\"3407\"}],\"title\":{\"id\":\"3351\"},\"toolbar\":{\"id\":\"3376\"},\"x_range\":{\"id\":\"3353\"},\"x_scale\":{\"id\":\"3357\"},\"y_range\":{\"id\":\"3355\"},\"y_scale\":{\"id\":\"3359\"}},\"id\":\"3350\",\"subtype\":\"Figure\",\"type\":\"Plot\"},{\"attributes\":{\"active_drag\":\"auto\",\"active_inspect\":\"auto\",\"active_multi\":null,\"active_scroll\":\"auto\",\"active_tap\":\"auto\",\"tools\":[{\"id\":\"3369\"},{\"id\":\"3370\"},{\"id\":\"3371\"},{\"id\":\"3372\"},{\"id\":\"3373\"},{\"id\":\"3374\"}]},\"id\":\"3376\",\"type\":\"Toolbar\"},{\"attributes\":{},\"id\":\"3396\",\"type\":\"BasicTickFormatter\"},{\"attributes\":{},\"id\":\"3357\",\"type\":\"LinearScale\"},{\"attributes\":{},\"id\":\"3369\",\"type\":\"PanTool\"},{\"attributes\":{\"bottom\":{\"expr\":{\"id\":\"3383\"}},\"fill_color\":{\"value\":\"#e84d60\"},\"line_color\":{\"value\":\"#e84d60\"},\"top\":{\"expr\":{\"id\":\"3384\"}},\"width\":{\"value\":0.9},\"x\":{\"field\":\"Classes\"}},\"id\":\"3389\",\"type\":\"VBar\"},{\"attributes\":{},\"id\":\"3370\",\"type\":\"WheelZoomTool\"},{\"attributes\":{\"items\":[{\"id\":\"3402\"},{\"id\":\"3419\"}],\"label_text_font_size\":\"7pt\"},\"id\":\"3401\",\"type\":\"Legend\"},{\"attributes\":{},\"id\":\"3355\",\"type\":\"DataRange1d\"},{\"attributes\":{\"overlay\":{\"id\":\"3375\"}},\"id\":\"3371\",\"type\":\"BoxZoomTool\"},{\"attributes\":{\"bottom_units\":\"screen\",\"fill_alpha\":0.5,\"fill_color\":\"lightgrey\",\"left_units\":\"screen\",\"level\":\"overlay\",\"line_alpha\":1.0,\"line_color\":\"black\",\"line_dash\":[4,4],\"line_width\":2,\"right_units\":\"screen\",\"top_units\":\"screen\"},\"id\":\"3375\",\"type\":\"BoxAnnotation\"},{\"attributes\":{\"data\":{\"Classes\":[0,1,2,3,4],\"Have Heart Disease\":[130,21,7,3,4],\"No Heart Disease\":[45,44,31,17,1]},\"selected\":{\"id\":\"3399\"},\"selection_policy\":{\"id\":\"3398\"}},\"id\":\"3387\",\"type\":\"ColumnDataSource\"},{\"attributes\":{},\"id\":\"3372\",\"type\":\"SaveTool\"},{\"attributes\":{\"fields\":[]},\"id\":\"3383\",\"type\":\"Stack\"},{\"attributes\":{\"data_source\":{\"id\":\"3387\"},\"glyph\":{\"id\":\"3389\"},\"hover_glyph\":null,\"muted_glyph\":null,\"name\":\"Have Heart Disease\",\"nonselection_glyph\":{\"id\":\"3390\"},\"selection_glyph\":null,\"view\":{\"id\":\"3392\"}},\"id\":\"3391\",\"type\":\"GlyphRenderer\"},{\"attributes\":{},\"id\":\"3373\",\"type\":\"ResetTool\"},{\"attributes\":{},\"id\":\"3398\",\"type\":\"UnionRenderers\"},{\"attributes\":{\"bottom\":{\"expr\":{\"id\":\"3385\"}},\"fill_color\":{\"value\":\"#718dbf\"},\"line_color\":{\"value\":\"#718dbf\"},\"top\":{\"expr\":{\"id\":\"3386\"}},\"width\":{\"value\":0.9},\"x\":{\"field\":\"Classes\"}},\"id\":\"3405\",\"type\":\"VBar\"},{\"attributes\":{\"source\":{\"id\":\"3387\"}},\"id\":\"3392\",\"type\":\"CDSView\"},{\"attributes\":{},\"id\":\"3374\",\"type\":\"HelpTool\"},{\"attributes\":{\"fields\":[\"Have Heart Disease\"]},\"id\":\"3385\",\"type\":\"Stack\"},{\"attributes\":{},\"id\":\"3359\",\"type\":\"LinearScale\"},{\"attributes\":{\"bottom\":{\"expr\":{\"id\":\"3383\"}},\"fill_alpha\":{\"value\":0.1},\"fill_color\":{\"value\":\"#e84d60\"},\"line_alpha\":{\"value\":0.1},\"line_color\":{\"value\":\"#e84d60\"},\"top\":{\"expr\":{\"id\":\"3384\"}},\"width\":{\"value\":0.9},\"x\":{\"field\":\"Classes\"}},\"id\":\"3390\",\"type\":\"VBar\"},{\"attributes\":{\"formatter\":{\"id\":\"3394\"},\"ticker\":{\"id\":\"3362\"}},\"id\":\"3361\",\"type\":\"LinearAxis\"},{\"attributes\":{},\"id\":\"3394\",\"type\":\"BasicTickFormatter\"},{\"attributes\":{},\"id\":\"3366\",\"type\":\"BasicTicker\"},{\"attributes\":{\"label\":{\"value\":\"Have Heart Disease\"},\"renderers\":[{\"id\":\"3391\"}]},\"id\":\"3402\",\"type\":\"LegendItem\"},{\"attributes\":{},\"id\":\"3362\",\"type\":\"BasicTicker\"},{\"attributes\":{\"data_source\":{\"id\":\"3403\"},\"glyph\":{\"id\":\"3405\"},\"hover_glyph\":null,\"muted_glyph\":null,\"name\":\"No Heart Disease\",\"nonselection_glyph\":{\"id\":\"3406\"},\"selection_glyph\":null,\"view\":{\"id\":\"3408\"}},\"id\":\"3407\",\"type\":\"GlyphRenderer\"},{\"attributes\":{\"axis\":{\"id\":\"3361\"},\"ticker\":null},\"id\":\"3364\",\"type\":\"Grid\"},{\"attributes\":{\"source\":{\"id\":\"3403\"}},\"id\":\"3408\",\"type\":\"CDSView\"},{\"attributes\":{\"bottom\":{\"expr\":{\"id\":\"3385\"}},\"fill_alpha\":{\"value\":0.1},\"fill_color\":{\"value\":\"#718dbf\"},\"line_alpha\":{\"value\":0.1},\"line_color\":{\"value\":\"#718dbf\"},\"top\":{\"expr\":{\"id\":\"3386\"}},\"width\":{\"value\":0.9},\"x\":{\"field\":\"Classes\"}},\"id\":\"3406\",\"type\":\"VBar\"},{\"attributes\":{\"axis\":{\"id\":\"3365\"},\"dimension\":1,\"ticker\":null},\"id\":\"3368\",\"type\":\"Grid\"},{\"attributes\":{\"formatter\":{\"id\":\"3396\"},\"ticker\":{\"id\":\"3366\"}},\"id\":\"3365\",\"type\":\"LinearAxis\"},{\"attributes\":{},\"id\":\"3416\",\"type\":\"UnionRenderers\"},{\"attributes\":{\"label\":{\"value\":\"No Heart Disease\"},\"renderers\":[{\"id\":\"3407\"}]},\"id\":\"3419\",\"type\":\"LegendItem\"},{\"attributes\":{},\"id\":\"3417\",\"type\":\"Selection\"},{\"attributes\":{\"data\":{\"Classes\":[0,1,2,3,4],\"Have Heart Disease\":[130,21,7,3,4],\"No Heart Disease\":[45,44,31,17,1]},\"selected\":{\"id\":\"3417\"},\"selection_policy\":{\"id\":\"3416\"}},\"id\":\"3403\",\"type\":\"ColumnDataSource\"},{\"attributes\":{\"fields\":[\"Have Heart Disease\"]},\"id\":\"3384\",\"type\":\"Stack\"},{\"attributes\":{},\"id\":\"3399\",\"type\":\"Selection\"},{\"attributes\":{\"text\":\"Ca vs Target\"},\"id\":\"3351\",\"type\":\"Title\"},{\"attributes\":{\"fields\":[\"Have Heart Disease\",\"No Heart Disease\"]},\"id\":\"3386\",\"type\":\"Stack\"},{\"attributes\":{},\"id\":\"3353\",\"type\":\"DataRange1d\"}],\"root_ids\":[\"3350\"]},\"title\":\"Bokeh Application\",\"version\":\"2.2.3\"}};\n",
       "  var render_items = [{\"docid\":\"07636e24-011f-44c4-9ea3-99897970ced6\",\"root_ids\":[\"3350\"],\"roots\":{\"3350\":\"a13575a6-b587-4796-b792-e432c22b05f6\"}}];\n",
       "  root.Bokeh.embed.embed_items_notebook(docs_json, render_items);\n",
       "\n",
       "  }\n",
       "  if (root.Bokeh !== undefined) {\n",
       "    embed_document(root);\n",
       "  } else {\n",
       "    var attempts = 0;\n",
       "    var timer = setInterval(function(root) {\n",
       "      if (root.Bokeh !== undefined) {\n",
       "        clearInterval(timer);\n",
       "        embed_document(root);\n",
       "      } else {\n",
       "        attempts++;\n",
       "        if (attempts > 100) {\n",
       "          clearInterval(timer);\n",
       "          console.log(\"Bokeh: ERROR: Unable to run BokehJS code because BokehJS library is missing\");\n",
       "        }\n",
       "      }\n",
       "    }, 10, root)\n",
       "  }\n",
       "})(window);"
      ],
      "application/vnd.bokehjs_exec.v0+json": ""
     },
     "metadata": {
      "application/vnd.bokehjs_exec.v0+json": {
       "id": "3350"
      }
     },
     "output_type": "display_data"
    }
   ],
   "source": [
    "ca_vs_target = df.groupby(['ca', 'target'])['ca'].count().to_list()\n",
    "\n",
    "unique = [0, 1, 2, 3, 4]\n",
    "condition = ['Have Heart Disease', 'No Heart Disease']\n",
    "colors = [\"#e84d60\", \"#718dbf\"]\n",
    "data = {\n",
    "        'Classes' : unique,\n",
    "        'Have Heart Disease' : [ca_vs_target[1], ca_vs_target[3], ca_vs_target[5], ca_vs_target[7], ca_vs_target[9]],\n",
    "        'No Heart Disease'   : [ca_vs_target[0], ca_vs_target[2], ca_vs_target[4], ca_vs_target[6], ca_vs_target[8]]\n",
    "        }\n",
    "\n",
    "p15 = figure(plot_height = 400, plot_width = 400, title = \"Ca vs Target\")\n",
    "\n",
    "p15.vbar_stack(condition, x ='Classes', width = 0.9, color = colors, source = data, legend_label = condition)\n",
    "p15.legend.location = \"top_right\"\n",
    "\n",
    "p15.legend.label_text_font_size = '7pt'\n",
    "show(p15)"
   ]
  },
  {
   "cell_type": "markdown",
   "metadata": {
    "papermill": {
     "duration": 0.125309,
     "end_time": "2020-11-21T06:21:22.622690",
     "exception": false,
     "start_time": "2020-11-21T06:21:22.497381",
     "status": "completed"
    },
    "tags": []
   },
   "source": [
    "We can see a large proportion of patients having 'ca' value of type 0 and type 4 had Heart Disease."
   ]
  },
  {
   "cell_type": "markdown",
   "metadata": {
    "papermill": {
     "duration": 0.123819,
     "end_time": "2020-11-21T06:21:22.875021",
     "exception": false,
     "start_time": "2020-11-21T06:21:22.751202",
     "status": "completed"
    },
    "tags": []
   },
   "source": [
    "**Now we will see the relation of the Continuous Variables with the target.**"
   ]
  },
  {
   "cell_type": "code",
   "execution_count": 32,
   "metadata": {
    "execution": {
     "iopub.execute_input": "2020-11-21T06:21:23.134565Z",
     "iopub.status.busy": "2020-11-21T06:21:23.133663Z",
     "iopub.status.idle": "2020-11-21T06:21:23.142553Z",
     "shell.execute_reply": "2020-11-21T06:21:23.141487Z"
    },
    "papermill": {
     "duration": 0.143912,
     "end_time": "2020-11-21T06:21:23.142711",
     "exception": false,
     "start_time": "2020-11-21T06:21:22.998799",
     "status": "completed"
    },
    "tags": []
   },
   "outputs": [],
   "source": [
    "def plot_cont_var(column_name):\n",
    "    \"\"\"\n",
    "    A function which makes histogram for continuous variables.\n",
    "    \"\"\"\n",
    "    hist1, edges1 = np.histogram(df[df[\"target\"] == 0][column_name], density = True, bins = 40)\n",
    "    hist2, edges2 = np.histogram(df[df[\"target\"] == 1][column_name], density = True, bins = 40)\n",
    "\n",
    "    p = figure(\n",
    "        plot_height = 500,\n",
    "        plot_width = 500,\n",
    "        x_axis_label = column_name,\n",
    "        title = column_name.capitalize() + ' vs Target'\n",
    "    )\n",
    "\n",
    "    p.quad(\n",
    "        bottom = 0,\n",
    "        top = hist1,\n",
    "        left = edges1[:-1],\n",
    "        right = edges1[1:],\n",
    "        line_color = 'white',\n",
    "        color = 'blue', # Blue represents patients not having heart disease.\n",
    "        alpha = 0.6\n",
    "    )\n",
    "\n",
    "    p.quad(\n",
    "        bottom = 0,\n",
    "        top = hist2,\n",
    "        left = edges2[:-1],\n",
    "        right = edges2[1:],\n",
    "        line_color = 'white',\n",
    "        color = 'red', # Red represents patients having heart disease.\n",
    "        alpha = 0.6\n",
    "    )\n",
    "\n",
    "\n",
    "\n",
    "    return p\n",
    "\n"
   ]
  },
  {
   "cell_type": "markdown",
   "metadata": {
    "papermill": {
     "duration": 0.122148,
     "end_time": "2020-11-21T06:21:23.390129",
     "exception": false,
     "start_time": "2020-11-21T06:21:23.267981",
     "status": "completed"
    },
    "tags": []
   },
   "source": [
    "### Age vs Target"
   ]
  },
  {
   "cell_type": "code",
   "execution_count": 33,
   "metadata": {
    "execution": {
     "iopub.execute_input": "2020-11-21T06:21:23.667702Z",
     "iopub.status.busy": "2020-11-21T06:21:23.666547Z",
     "iopub.status.idle": "2020-11-21T06:21:23.794502Z",
     "shell.execute_reply": "2020-11-21T06:21:23.795135Z"
    },
    "papermill": {
     "duration": 0.28128,
     "end_time": "2020-11-21T06:21:23.795287",
     "exception": false,
     "start_time": "2020-11-21T06:21:23.514007",
     "status": "completed"
    },
    "tags": []
   },
   "outputs": [
    {
     "data": {
      "text/html": [
       "\n",
       "\n",
       "\n",
       "\n",
       "\n",
       "\n",
       "  <div class=\"bk-root\" id=\"dd726450-13fd-4a14-bc57-b0440a1c5c30\" data-root-id=\"3610\"></div>\n"
      ]
     },
     "metadata": {},
     "output_type": "display_data"
    },
    {
     "data": {
      "application/javascript": [
       "(function(root) {\n",
       "  function embed_document(root) {\n",
       "    \n",
       "  var docs_json = {\"6e7e192c-a763-4600-a382-d546623111ac\":{\"roots\":{\"references\":[{\"attributes\":{\"below\":[{\"id\":\"3621\"}],\"center\":[{\"id\":\"3624\"},{\"id\":\"3628\"}],\"left\":[{\"id\":\"3625\"}],\"plot_height\":500,\"plot_width\":500,\"renderers\":[{\"id\":\"3646\"},{\"id\":\"3651\"}],\"title\":{\"id\":\"3611\"},\"toolbar\":{\"id\":\"3636\"},\"x_range\":{\"id\":\"3613\"},\"x_scale\":{\"id\":\"3617\"},\"y_range\":{\"id\":\"3615\"},\"y_scale\":{\"id\":\"3619\"}},\"id\":\"3610\",\"subtype\":\"Figure\",\"type\":\"Plot\"},{\"attributes\":{\"axis\":{\"id\":\"3625\"},\"dimension\":1,\"ticker\":null},\"id\":\"3628\",\"type\":\"Grid\"},{\"attributes\":{},\"id\":\"3630\",\"type\":\"WheelZoomTool\"},{\"attributes\":{},\"id\":\"3796\",\"type\":\"BasicTickFormatter\"},{\"attributes\":{\"active_drag\":\"auto\",\"active_inspect\":\"auto\",\"active_multi\":null,\"active_scroll\":\"auto\",\"active_tap\":\"auto\",\"tools\":[{\"id\":\"3629\"},{\"id\":\"3630\"},{\"id\":\"3631\"},{\"id\":\"3632\"},{\"id\":\"3633\"},{\"id\":\"3634\"}]},\"id\":\"3636\",\"type\":\"Toolbar\"},{\"attributes\":{},\"id\":\"3634\",\"type\":\"HelpTool\"},{\"attributes\":{},\"id\":\"3799\",\"type\":\"Selection\"},{\"attributes\":{\"source\":{\"id\":\"3643\"}},\"id\":\"3647\",\"type\":\"CDSView\"},{\"attributes\":{},\"id\":\"3613\",\"type\":\"DataRange1d\"},{\"attributes\":{\"bottom\":{\"value\":0},\"fill_alpha\":{\"value\":0.6},\"fill_color\":{\"value\":\"blue\"},\"left\":{\"field\":\"left\"},\"line_alpha\":{\"value\":0.6},\"line_color\":{\"value\":\"white\"},\"right\":{\"field\":\"right\"},\"top\":{\"field\":\"top\"}},\"id\":\"3644\",\"type\":\"Quad\"},{\"attributes\":{},\"id\":\"3632\",\"type\":\"SaveTool\"},{\"attributes\":{},\"id\":\"3626\",\"type\":\"BasicTicker\"},{\"attributes\":{},\"id\":\"3800\",\"type\":\"UnionRenderers\"},{\"attributes\":{\"formatter\":{\"id\":\"3796\"},\"ticker\":{\"id\":\"3626\"}},\"id\":\"3625\",\"type\":\"LinearAxis\"},{\"attributes\":{},\"id\":\"3633\",\"type\":\"ResetTool\"},{\"attributes\":{\"data_source\":{\"id\":\"3648\"},\"glyph\":{\"id\":\"3649\"},\"hover_glyph\":null,\"muted_glyph\":null,\"nonselection_glyph\":{\"id\":\"3650\"},\"selection_glyph\":null,\"view\":{\"id\":\"3652\"}},\"id\":\"3651\",\"type\":\"GlyphRenderer\"},{\"attributes\":{},\"id\":\"3801\",\"type\":\"Selection\"},{\"attributes\":{\"data\":{\"left\":{\"__ndarray__\":\"AAAAAACAQUBmZmZmZgZCQM3MzMzMjEJAMzMzMzMTQ0CamZmZmZlDQAAAAAAAIERAZmZmZmamREDNzMzMzCxFQDMzMzMzs0VAmpmZmZk5RkAAAAAAAMBGQGZmZmZmRkdAzczMzMzMR0AzMzMzM1NIQJqZmZmZ2UhAAAAAAABgSUBmZmZmZuZJQM3MzMzMbEpANDMzMzPzSkCamZmZmXlLQAAAAAAAAExAZmZmZmaGTEDNzMzMzAxNQDQzMzMzk01AmpmZmZkZTkAAAAAAAKBOQGZmZmZmJk9AzczMzMysT0CamZmZmRlQQM3MzMzMXFBAAAAAAACgUEA0MzMzM+NQQGZmZmZmJlFAmpmZmZlpUUDNzMzMzKxRQAAAAAAA8FFANDMzMzMzUkBmZmZmZnZSQJqZmZmZuVJAzczMzMz8UkA=\",\"dtype\":\"float64\",\"order\":\"little\",\"shape\":[40]},\"right\":{\"__ndarray__\":\"ZmZmZmYGQkDNzMzMzIxCQDMzMzMzE0NAmpmZmZmZQ0AAAAAAACBEQGZmZmZmpkRAzczMzMwsRUAzMzMzM7NFQJqZmZmZOUZAAAAAAADARkBmZmZmZkZHQM3MzMzMzEdAMzMzMzNTSECamZmZmdlIQAAAAAAAYElAZmZmZmbmSUDNzMzMzGxKQDQzMzMz80pAmpmZmZl5S0AAAAAAAABMQGZmZmZmhkxAzczMzMwMTUA0MzMzM5NNQJqZmZmZGU5AAAAAAACgTkBmZmZmZiZPQM3MzMzMrE9AmpmZmZkZUEDNzMzMzFxQQAAAAAAAoFBANDMzMzPjUEBmZmZmZiZRQJqZmZmZaVFAzczMzMysUUAAAAAAAPBRQDQzMzMzM1JAZmZmZmZ2UkCamZmZmblSQM3MzMzM/FJAAAAAAABAU0A=\",\"dtype\":\"float64\",\"order\":\"little\",\"shape\":[40]},\"top\":{\"__ndarray__\":\"zj7VoYxEjD8AAAAAAAAAAM4+1aGMRHw/mD7VoYxEfD/OPtWhjESMP84+1aGMRHw/mD7VoYxEfD8a7195aTOVP/LuX3lpM5U/zj7VoYxEjD8a7195aTOVP5g+1aGMRIw/Gu9feWkzlT+YPtWhjESMPxrvX3lpM5U/Gu9feWkzlT+YPtWhjEScP5g+1aGMRIw/Gu9feWkzpT9BRyXl16qhP84+1aGMRLw/8u5feWkztT9s5g82Hs2vP84+1aGMRKw/9JaaDfu7qD/0lpoN+7uoP/LuX3lpM6U/mD7VoYxEnD/OPtWhjEScPxrvX3lpM5U/ye5feWkzpT86P9WhjESMP2I+1aGMRHw/Gu9feWkzlT8AAAAAAAAAAAAAAAAAAAAAAAAAAAAAAAAAAAAAAAAAAAAAAAAAAAAAzj7VoYxEfD8=\",\"dtype\":\"float64\",\"order\":\"little\",\"shape\":[40]}},\"selected\":{\"id\":\"3799\"},\"selection_policy\":{\"id\":\"3798\"}},\"id\":\"3643\",\"type\":\"ColumnDataSource\"},{\"attributes\":{\"data\":{\"left\":{\"__ndarray__\":\"AAAAAAAAPUDNzMzMzCw+QJqZmZmZWT9AMzMzMzNDQECamZmZmdlAQAAAAAAAcEFAZmZmZmYGQkDNzMzMzJxCQDMzMzMzM0NAmpmZmZnJQ0AAAAAAAGBEQGZmZmZm9kRAzczMzMyMRUAzMzMzMyNGQJqZmZmZuUZAAAAAAABQR0BmZmZmZuZHQM3MzMzMfEhANDMzMzMTSUCamZmZmalJQAAAAAAAQEpAZmZmZmbWSkDNzMzMzGxLQDQzMzMzA0xAmpmZmZmZTEAAAAAAADBNQGZmZmZmxk1AzczMzMxcTkAzMzMzM/NOQJqZmZmZiU9AAAAAAAAQUEA0MzMzM1tQQGZmZmZmplBAmpmZmZnxUEDNzMzMzDxRQAAAAAAAiFFANDMzMzPTUUBmZmZmZh5SQJqZmZmZaVJAzczMzMy0UkA=\",\"dtype\":\"float64\",\"order\":\"little\",\"shape\":[40]},\"right\":{\"__ndarray__\":\"zczMzMwsPkCamZmZmVk/QDMzMzMzQ0BAmpmZmZnZQEAAAAAAAHBBQGZmZmZmBkJAzczMzMycQkAzMzMzMzNDQJqZmZmZyUNAAAAAAABgREBmZmZmZvZEQM3MzMzMjEVAMzMzMzMjRkCamZmZmblGQAAAAAAAUEdAZmZmZmbmR0DNzMzMzHxIQDQzMzMzE0lAmpmZmZmpSUAAAAAAAEBKQGZmZmZm1kpAzczMzMxsS0A0MzMzMwNMQJqZmZmZmUxAAAAAAAAwTUBmZmZmZsZNQM3MzMzMXE5AMzMzMzPzTkCamZmZmYlPQAAAAAAAEFBANDMzMzNbUEBmZmZmZqZQQJqZmZmZ8VBAzczMzMw8UUAAAAAAAIhRQDQzMzMz01FAZmZmZmYeUkCamZmZmWlSQM3MzMzMtFJAAAAAAAAAU0A=\",\"dtype\":\"float64\",\"order\":\"little\",\"shape\":[40]},\"top\":{\"__ndarray__\":\"IkY5C4QgdT8AAAAAAAAAAAAAAAAAAAAAAAAAAAAAAAA0RjkLhCCFPzRGOQuEIIU/EEY5C4QghT80RjkLhCCFPxnp1RDGsI8/NEY5C4QgdT/7bqCMlMSnPxnp1RDGsK8/NEY5C4QgpT8Z6dUQxrCfPzRGOQuEIJU/T+nVEMawjz8QRjkLhCCVP04d0olzfKI/+26gjJTEpz/7bqCMlMSnP0/p1RDGsJ8/lZcHDqVoqj8QRjkLhCClP24d0olzfKI/bh3SiXN8oj/ClwcOpWiaPxnp1RDGsI8/NEY5C4QgdT9OHdKJc3yiP0/p1RDGsJ8/7UU5C4QglT98RjkLhCCVP+Po1RDGsI8/NEY5C4QghT9P6dUQxrCPP+Po1RDGsI8/AAAAAAAAAAAAAAAAAAAAADRGOQuEIHU/NEY5C4QgdT8=\",\"dtype\":\"float64\",\"order\":\"little\",\"shape\":[40]}},\"selected\":{\"id\":\"3801\"},\"selection_policy\":{\"id\":\"3800\"}},\"id\":\"3648\",\"type\":\"ColumnDataSource\"},{\"attributes\":{},\"id\":\"3622\",\"type\":\"BasicTicker\"},{\"attributes\":{\"bottom_units\":\"screen\",\"fill_alpha\":0.5,\"fill_color\":\"lightgrey\",\"left_units\":\"screen\",\"level\":\"overlay\",\"line_alpha\":1.0,\"line_color\":\"black\",\"line_dash\":[4,4],\"line_width\":2,\"right_units\":\"screen\",\"top_units\":\"screen\"},\"id\":\"3635\",\"type\":\"BoxAnnotation\"},{\"attributes\":{\"text\":\"Age vs Target\"},\"id\":\"3611\",\"type\":\"Title\"},{\"attributes\":{\"bottom\":{\"value\":0},\"fill_alpha\":{\"value\":0.1},\"fill_color\":{\"value\":\"blue\"},\"left\":{\"field\":\"left\"},\"line_alpha\":{\"value\":0.1},\"line_color\":{\"value\":\"white\"},\"right\":{\"field\":\"right\"},\"top\":{\"field\":\"top\"}},\"id\":\"3645\",\"type\":\"Quad\"},{\"attributes\":{},\"id\":\"3794\",\"type\":\"BasicTickFormatter\"},{\"attributes\":{\"data_source\":{\"id\":\"3643\"},\"glyph\":{\"id\":\"3644\"},\"hover_glyph\":null,\"muted_glyph\":null,\"nonselection_glyph\":{\"id\":\"3645\"},\"selection_glyph\":null,\"view\":{\"id\":\"3647\"}},\"id\":\"3646\",\"type\":\"GlyphRenderer\"},{\"attributes\":{\"source\":{\"id\":\"3648\"}},\"id\":\"3652\",\"type\":\"CDSView\"},{\"attributes\":{\"bottom\":{\"value\":0},\"fill_alpha\":{\"value\":0.6},\"fill_color\":{\"value\":\"red\"},\"left\":{\"field\":\"left\"},\"line_alpha\":{\"value\":0.6},\"line_color\":{\"value\":\"white\"},\"right\":{\"field\":\"right\"},\"top\":{\"field\":\"top\"}},\"id\":\"3649\",\"type\":\"Quad\"},{\"attributes\":{},\"id\":\"3629\",\"type\":\"PanTool\"},{\"attributes\":{\"bottom\":{\"value\":0},\"fill_alpha\":{\"value\":0.1},\"fill_color\":{\"value\":\"red\"},\"left\":{\"field\":\"left\"},\"line_alpha\":{\"value\":0.1},\"line_color\":{\"value\":\"white\"},\"right\":{\"field\":\"right\"},\"top\":{\"field\":\"top\"}},\"id\":\"3650\",\"type\":\"Quad\"},{\"attributes\":{},\"id\":\"3617\",\"type\":\"LinearScale\"},{\"attributes\":{},\"id\":\"3798\",\"type\":\"UnionRenderers\"},{\"attributes\":{\"axis_label\":\"age\",\"formatter\":{\"id\":\"3794\"},\"ticker\":{\"id\":\"3622\"}},\"id\":\"3621\",\"type\":\"LinearAxis\"},{\"attributes\":{\"overlay\":{\"id\":\"3635\"}},\"id\":\"3631\",\"type\":\"BoxZoomTool\"},{\"attributes\":{},\"id\":\"3615\",\"type\":\"DataRange1d\"},{\"attributes\":{},\"id\":\"3619\",\"type\":\"LinearScale\"},{\"attributes\":{\"axis\":{\"id\":\"3621\"},\"ticker\":null},\"id\":\"3624\",\"type\":\"Grid\"}],\"root_ids\":[\"3610\"]},\"title\":\"Bokeh Application\",\"version\":\"2.2.3\"}};\n",
       "  var render_items = [{\"docid\":\"6e7e192c-a763-4600-a382-d546623111ac\",\"root_ids\":[\"3610\"],\"roots\":{\"3610\":\"dd726450-13fd-4a14-bc57-b0440a1c5c30\"}}];\n",
       "  root.Bokeh.embed.embed_items_notebook(docs_json, render_items);\n",
       "\n",
       "  }\n",
       "  if (root.Bokeh !== undefined) {\n",
       "    embed_document(root);\n",
       "  } else {\n",
       "    var attempts = 0;\n",
       "    var timer = setInterval(function(root) {\n",
       "      if (root.Bokeh !== undefined) {\n",
       "        clearInterval(timer);\n",
       "        embed_document(root);\n",
       "      } else {\n",
       "        attempts++;\n",
       "        if (attempts > 100) {\n",
       "          clearInterval(timer);\n",
       "          console.log(\"Bokeh: ERROR: Unable to run BokehJS code because BokehJS library is missing\");\n",
       "        }\n",
       "      }\n",
       "    }, 10, root)\n",
       "  }\n",
       "})(window);"
      ],
      "application/vnd.bokehjs_exec.v0+json": ""
     },
     "metadata": {
      "application/vnd.bokehjs_exec.v0+json": {
       "id": "3610"
      }
     },
     "output_type": "display_data"
    }
   ],
   "source": [
    "p16 = plot_cont_var('age')\n",
    "show(p16)"
   ]
  },
  {
   "cell_type": "markdown",
   "metadata": {
    "papermill": {
     "duration": 0.128285,
     "end_time": "2020-11-21T06:21:24.061058",
     "exception": false,
     "start_time": "2020-11-21T06:21:23.932773",
     "status": "completed"
    },
    "tags": []
   },
   "source": [
    "There is no particular age at which the person is more prone to having heart disease, which proves that age is just a number."
   ]
  },
  {
   "cell_type": "code",
   "execution_count": 34,
   "metadata": {
    "execution": {
     "iopub.execute_input": "2020-11-21T06:21:24.317252Z",
     "iopub.status.busy": "2020-11-21T06:21:24.316390Z",
     "iopub.status.idle": "2020-11-21T06:21:24.320331Z",
     "shell.execute_reply": "2020-11-21T06:21:24.320881Z"
    },
    "papermill": {
     "duration": 0.135863,
     "end_time": "2020-11-21T06:21:24.321047",
     "exception": false,
     "start_time": "2020-11-21T06:21:24.185184",
     "status": "completed"
    },
    "tags": []
   },
   "outputs": [
    {
     "data": {
      "text/plain": [
       "['age', 'trestbps', 'chol', 'thalach', 'oldpeak']"
      ]
     },
     "execution_count": 34,
     "metadata": {},
     "output_type": "execute_result"
    }
   ],
   "source": [
    "continuous_var"
   ]
  },
  {
   "cell_type": "markdown",
   "metadata": {
    "papermill": {
     "duration": 0.125164,
     "end_time": "2020-11-21T06:21:24.570374",
     "exception": false,
     "start_time": "2020-11-21T06:21:24.445210",
     "status": "completed"
    },
    "tags": []
   },
   "source": [
    "### Resting Blood Pressure vs Target"
   ]
  },
  {
   "cell_type": "markdown",
   "metadata": {
    "papermill": {
     "duration": 0.129326,
     "end_time": "2020-11-21T06:21:24.832128",
     "exception": false,
     "start_time": "2020-11-21T06:21:24.702802",
     "status": "completed"
    },
    "tags": []
   },
   "source": [
    "Resting Blood Pressure (in mm Hg on admission to the hospital) anything above 130-140 is typically cause for concern"
   ]
  },
  {
   "cell_type": "code",
   "execution_count": 35,
   "metadata": {
    "execution": {
     "iopub.execute_input": "2020-11-21T06:21:25.144875Z",
     "iopub.status.busy": "2020-11-21T06:21:25.124183Z",
     "iopub.status.idle": "2020-11-21T06:21:25.205392Z",
     "shell.execute_reply": "2020-11-21T06:21:25.204611Z"
    },
    "papermill": {
     "duration": 0.243332,
     "end_time": "2020-11-21T06:21:25.205553",
     "exception": false,
     "start_time": "2020-11-21T06:21:24.962221",
     "status": "completed"
    },
    "tags": []
   },
   "outputs": [
    {
     "data": {
      "text/html": [
       "\n",
       "\n",
       "\n",
       "\n",
       "\n",
       "\n",
       "  <div class=\"bk-root\" id=\"1c972c25-ff72-4cad-a9ba-0969435c5032\" data-root-id=\"3853\"></div>\n"
      ]
     },
     "metadata": {},
     "output_type": "display_data"
    },
    {
     "data": {
      "application/javascript": [
       "(function(root) {\n",
       "  function embed_document(root) {\n",
       "    \n",
       "  var docs_json = {\"e3cb56f8-0c24-4229-a779-5c233ba32624\":{\"roots\":{\"references\":[{\"attributes\":{\"below\":[{\"id\":\"3864\"}],\"center\":[{\"id\":\"3867\"},{\"id\":\"3871\"}],\"left\":[{\"id\":\"3868\"}],\"plot_height\":500,\"plot_width\":500,\"renderers\":[{\"id\":\"3889\"},{\"id\":\"3894\"}],\"title\":{\"id\":\"3854\"},\"toolbar\":{\"id\":\"3879\"},\"x_range\":{\"id\":\"3856\"},\"x_scale\":{\"id\":\"3860\"},\"y_range\":{\"id\":\"3858\"},\"y_scale\":{\"id\":\"3862\"}},\"id\":\"3853\",\"subtype\":\"Figure\",\"type\":\"Plot\"},{\"attributes\":{\"data\":{\"left\":{\"__ndarray__\":\"AAAAAAAAWUAAAAAAAKBZQAAAAAAAQFpAAAAAAADgWkAAAAAAAIBbQAAAAAAAIFxAAAAAAADAXEAAAAAAAGBdQAAAAAAAAF5AAAAAAACgXkAAAAAAAEBfQAAAAAAA4F9AAAAAAABAYEAAAAAAAJBgQAAAAAAA4GBAAAAAAAAwYUAAAAAAAIBhQAAAAAAA0GFAAAAAAAAgYkAAAAAAAHBiQAAAAAAAwGJAAAAAAAAQY0AAAAAAAGBjQAAAAAAAsGNAAAAAAAAAZEAAAAAAAFBkQAAAAAAAoGRAAAAAAADwZEAAAAAAAEBlQAAAAAAAkGVAAAAAAADgZUAAAAAAADBmQAAAAAAAgGZAAAAAAADQZkAAAAAAACBnQAAAAAAAcGdAAAAAAADAZ0AAAAAAABBoQAAAAAAAYGhAAAAAAACwaEA=\",\"dtype\":\"float64\",\"order\":\"little\",\"shape\":[40]},\"right\":{\"__ndarray__\":\"AAAAAACgWUAAAAAAAEBaQAAAAAAA4FpAAAAAAACAW0AAAAAAACBcQAAAAAAAwFxAAAAAAABgXUAAAAAAAABeQAAAAAAAoF5AAAAAAABAX0AAAAAAAOBfQAAAAAAAQGBAAAAAAACQYEAAAAAAAOBgQAAAAAAAMGFAAAAAAACAYUAAAAAAANBhQAAAAAAAIGJAAAAAAABwYkAAAAAAAMBiQAAAAAAAEGNAAAAAAABgY0AAAAAAALBjQAAAAAAAAGRAAAAAAABQZEAAAAAAAKBkQAAAAAAA8GRAAAAAAABAZUAAAAAAAJBlQAAAAAAA4GVAAAAAAAAwZkAAAAAAAIBmQAAAAAAA0GZAAAAAAAAgZ0AAAAAAAHBnQAAAAAAAwGdAAAAAAAAQaEAAAAAAAGBoQAAAAAAAsGhAAAAAAAAAaUA=\",\"dtype\":\"float64\",\"order\":\"little\",\"shape\":[40]},\"top\":{\"__ndarray__\":\"fAEukrO+dz8AAAAAAAAAAAAAAAAAAAAAfAEukrO+dz9kIQtZyEKmP3wBLpKzvmc/fAEukrO+Zz98AS6Ss753P2QhC1nIQqY/24G5dmCujT+swXMEiraaPx2Boq0Gz5E/rMFzBIq2qj8dgaKtBs+BPx2Boq0Gz4E/HYGirQbPgT98AS6Ss76nP3wBLpKzvnc/24G5dmCujT98AS6Ss75nPwahf3QbU6A/fAEukrO+Zz8AAAAAAAAAAAAAAAAAAAAAHYGirQbPkT98AS6Ss75nP3wBLpKzvmc/AAAAAAAAAAAdgaKtBs+BP3wBLpKzvmc/AAAAAAAAAAB8AS6Ss75nP3wBLpKzvnc/AAAAAAAAAAAAAAAAAAAAAAAAAAAAAAAAfAEukrO+Zz8AAAAAAAAAAAAAAAAAAAAAfAEukrO+Zz8=\",\"dtype\":\"float64\",\"order\":\"little\",\"shape\":[40]}},\"selected\":{\"id\":\"4052\"},\"selection_policy\":{\"id\":\"4051\"}},\"id\":\"3886\",\"type\":\"ColumnDataSource\"},{\"attributes\":{\"bottom\":{\"value\":0},\"fill_alpha\":{\"value\":0.1},\"fill_color\":{\"value\":\"blue\"},\"left\":{\"field\":\"left\"},\"line_alpha\":{\"value\":0.1},\"line_color\":{\"value\":\"white\"},\"right\":{\"field\":\"right\"},\"top\":{\"field\":\"top\"}},\"id\":\"3888\",\"type\":\"Quad\"},{\"attributes\":{\"active_drag\":\"auto\",\"active_inspect\":\"auto\",\"active_multi\":null,\"active_scroll\":\"auto\",\"active_tap\":\"auto\",\"tools\":[{\"id\":\"3872\"},{\"id\":\"3873\"},{\"id\":\"3874\"},{\"id\":\"3875\"},{\"id\":\"3876\"},{\"id\":\"3877\"}]},\"id\":\"3879\",\"type\":\"Toolbar\"},{\"attributes\":{\"bottom_units\":\"screen\",\"fill_alpha\":0.5,\"fill_color\":\"lightgrey\",\"left_units\":\"screen\",\"level\":\"overlay\",\"line_alpha\":1.0,\"line_color\":\"black\",\"line_dash\":[4,4],\"line_width\":2,\"right_units\":\"screen\",\"top_units\":\"screen\"},\"id\":\"3878\",\"type\":\"BoxAnnotation\"},{\"attributes\":{},\"id\":\"3872\",\"type\":\"PanTool\"},{\"attributes\":{\"bottom\":{\"value\":0},\"fill_alpha\":{\"value\":0.6},\"fill_color\":{\"value\":\"red\"},\"left\":{\"field\":\"left\"},\"line_alpha\":{\"value\":0.6},\"line_color\":{\"value\":\"white\"},\"right\":{\"field\":\"right\"},\"top\":{\"field\":\"top\"}},\"id\":\"3892\",\"type\":\"Quad\"},{\"attributes\":{\"text\":\"Trestbps vs Target\"},\"id\":\"3854\",\"type\":\"Title\"},{\"attributes\":{},\"id\":\"3873\",\"type\":\"WheelZoomTool\"},{\"attributes\":{},\"id\":\"3856\",\"type\":\"DataRange1d\"},{\"attributes\":{\"data\":{\"left\":{\"__ndarray__\":\"AAAAAACAV0CamZmZmQlYQDMzMzMzk1hAzczMzMwcWUBmZmZmZqZZQAAAAAAAMFpAmpmZmZm5WkAzMzMzM0NbQM3MzMzMzFtAZmZmZmZWXEAAAAAAAOBcQJqZmZmZaV1AMzMzMzPzXUDNzMzMzHxeQGZmZmZmBl9AAAAAAACQX0DNzMzMzAxgQJqZmZmZUWBAZmZmZmaWYEAzMzMzM9tgQAAAAAAAIGFAzczMzMxkYUCamZmZmalhQGZmZmZm7mFAMzMzMzMzYkAAAAAAAHhiQM3MzMzMvGJAmpmZmZkBY0BmZmZmZkZjQDMzMzMzi2NAAAAAAADQY0DMzMzMzBRkQJqZmZmZWWRAZmZmZmaeZEAzMzMzM+NkQAAAAAAAKGVAzMzMzMxsZUCamZmZmbFlQGZmZmZm9mVAMzMzMzM7ZkA=\",\"dtype\":\"float64\",\"order\":\"little\",\"shape\":[40]},\"right\":{\"__ndarray__\":\"mpmZmZkJWEAzMzMzM5NYQM3MzMzMHFlAZmZmZmamWUAAAAAAADBaQJqZmZmZuVpAMzMzMzNDW0DNzMzMzMxbQGZmZmZmVlxAAAAAAADgXECamZmZmWldQDMzMzMz811AzczMzMx8XkBmZmZmZgZfQAAAAAAAkF9AzczMzMwMYECamZmZmVFgQGZmZmZmlmBAMzMzMzPbYEAAAAAAACBhQM3MzMzMZGFAmpmZmZmpYUBmZmZmZu5hQDMzMzMzM2JAAAAAAAB4YkDNzMzMzLxiQJqZmZmZAWNAZmZmZmZGY0AzMzMzM4tjQAAAAAAA0GNAzMzMzMwUZECamZmZmVlkQGZmZmZmnmRAMzMzMzPjZEAAAAAAAChlQMzMzMzMbGVAmpmZmZmxZUBmZmZmZvZlQDMzMzMzO2ZAAAAAAACAZkA=\",\"dtype\":\"float64\",\"order\":\"little\",\"shape\":[40]},\"top\":{\"__ndarray__\":\"+xz9L6IXdz8AAAAAAAAAAPsc/S+iF3c/3NX9o7lRgT/7HP0vohdnP/sc/S+iF4c/JR39L6IXhz/7HP0voheXP25k/LuK3Yw/vNX9o7lRgT8AAAAAAAAAAG5k/LuK3Yw/1Ox9kvyYsD9uZPy7it2MPzlk/LuK3Yw/vNX9o7lRkT+81f2juVGxP/zV/aO5UYE/+xz9L6IXdz+81f2juVGRPzlk/LuK3Zw/yu78UhyJqD9RHf0vohd3P/sc/S+iF2c/+xz9L6IXZz/7HP0vohdnP9kH/AF/wJ8/AAAAAAAAAAD7HP0vohd3PwAAAAAAAAAApGT8u4rdjD8AAAAAAAAAAAAAAAAAAAAAAAAAAAAAAAAAAAAAAAAAAFEd/S+iF2c/pBz9L6IXZz8AAAAAAAAAAAAAAAAAAAAA+xz9L6IXdz8=\",\"dtype\":\"float64\",\"order\":\"little\",\"shape\":[40]}},\"selected\":{\"id\":\"4054\"},\"selection_policy\":{\"id\":\"4053\"}},\"id\":\"3891\",\"type\":\"ColumnDataSource\"},{\"attributes\":{\"overlay\":{\"id\":\"3878\"}},\"id\":\"3874\",\"type\":\"BoxZoomTool\"},{\"attributes\":{},\"id\":\"3875\",\"type\":\"SaveTool\"},{\"attributes\":{},\"id\":\"3858\",\"type\":\"DataRange1d\"},{\"attributes\":{},\"id\":\"4049\",\"type\":\"BasicTickFormatter\"},{\"attributes\":{},\"id\":\"3876\",\"type\":\"ResetTool\"},{\"attributes\":{},\"id\":\"3860\",\"type\":\"LinearScale\"},{\"attributes\":{},\"id\":\"4054\",\"type\":\"Selection\"},{\"attributes\":{\"source\":{\"id\":\"3886\"}},\"id\":\"3890\",\"type\":\"CDSView\"},{\"attributes\":{\"bottom\":{\"value\":0},\"fill_alpha\":{\"value\":0.1},\"fill_color\":{\"value\":\"red\"},\"left\":{\"field\":\"left\"},\"line_alpha\":{\"value\":0.1},\"line_color\":{\"value\":\"white\"},\"right\":{\"field\":\"right\"},\"top\":{\"field\":\"top\"}},\"id\":\"3893\",\"type\":\"Quad\"},{\"attributes\":{},\"id\":\"3877\",\"type\":\"HelpTool\"},{\"attributes\":{},\"id\":\"3862\",\"type\":\"LinearScale\"},{\"attributes\":{\"axis_label\":\"trestbps\",\"formatter\":{\"id\":\"4047\"},\"ticker\":{\"id\":\"3865\"}},\"id\":\"3864\",\"type\":\"LinearAxis\"},{\"attributes\":{\"axis\":{\"id\":\"3868\"},\"dimension\":1,\"ticker\":null},\"id\":\"3871\",\"type\":\"Grid\"},{\"attributes\":{},\"id\":\"4053\",\"type\":\"UnionRenderers\"},{\"attributes\":{},\"id\":\"3865\",\"type\":\"BasicTicker\"},{\"attributes\":{\"axis\":{\"id\":\"3864\"},\"ticker\":null},\"id\":\"3867\",\"type\":\"Grid\"},{\"attributes\":{\"source\":{\"id\":\"3891\"}},\"id\":\"3895\",\"type\":\"CDSView\"},{\"attributes\":{},\"id\":\"4052\",\"type\":\"Selection\"},{\"attributes\":{},\"id\":\"3869\",\"type\":\"BasicTicker\"},{\"attributes\":{},\"id\":\"4051\",\"type\":\"UnionRenderers\"},{\"attributes\":{\"formatter\":{\"id\":\"4049\"},\"ticker\":{\"id\":\"3869\"}},\"id\":\"3868\",\"type\":\"LinearAxis\"},{\"attributes\":{\"bottom\":{\"value\":0},\"fill_alpha\":{\"value\":0.6},\"fill_color\":{\"value\":\"blue\"},\"left\":{\"field\":\"left\"},\"line_alpha\":{\"value\":0.6},\"line_color\":{\"value\":\"white\"},\"right\":{\"field\":\"right\"},\"top\":{\"field\":\"top\"}},\"id\":\"3887\",\"type\":\"Quad\"},{\"attributes\":{},\"id\":\"4047\",\"type\":\"BasicTickFormatter\"},{\"attributes\":{\"data_source\":{\"id\":\"3886\"},\"glyph\":{\"id\":\"3887\"},\"hover_glyph\":null,\"muted_glyph\":null,\"nonselection_glyph\":{\"id\":\"3888\"},\"selection_glyph\":null,\"view\":{\"id\":\"3890\"}},\"id\":\"3889\",\"type\":\"GlyphRenderer\"},{\"attributes\":{\"data_source\":{\"id\":\"3891\"},\"glyph\":{\"id\":\"3892\"},\"hover_glyph\":null,\"muted_glyph\":null,\"nonselection_glyph\":{\"id\":\"3893\"},\"selection_glyph\":null,\"view\":{\"id\":\"3895\"}},\"id\":\"3894\",\"type\":\"GlyphRenderer\"}],\"root_ids\":[\"3853\"]},\"title\":\"Bokeh Application\",\"version\":\"2.2.3\"}};\n",
       "  var render_items = [{\"docid\":\"e3cb56f8-0c24-4229-a779-5c233ba32624\",\"root_ids\":[\"3853\"],\"roots\":{\"3853\":\"1c972c25-ff72-4cad-a9ba-0969435c5032\"}}];\n",
       "  root.Bokeh.embed.embed_items_notebook(docs_json, render_items);\n",
       "\n",
       "  }\n",
       "  if (root.Bokeh !== undefined) {\n",
       "    embed_document(root);\n",
       "  } else {\n",
       "    var attempts = 0;\n",
       "    var timer = setInterval(function(root) {\n",
       "      if (root.Bokeh !== undefined) {\n",
       "        clearInterval(timer);\n",
       "        embed_document(root);\n",
       "      } else {\n",
       "        attempts++;\n",
       "        if (attempts > 100) {\n",
       "          clearInterval(timer);\n",
       "          console.log(\"Bokeh: ERROR: Unable to run BokehJS code because BokehJS library is missing\");\n",
       "        }\n",
       "      }\n",
       "    }, 10, root)\n",
       "  }\n",
       "})(window);"
      ],
      "application/vnd.bokehjs_exec.v0+json": ""
     },
     "metadata": {
      "application/vnd.bokehjs_exec.v0+json": {
       "id": "3853"
      }
     },
     "output_type": "display_data"
    }
   ],
   "source": [
    "p17 = plot_cont_var('trestbps')\n",
    "show(p17)"
   ]
  },
  {
   "cell_type": "markdown",
   "metadata": {
    "papermill": {
     "duration": 0.130549,
     "end_time": "2020-11-21T06:21:25.463293",
     "exception": false,
     "start_time": "2020-11-21T06:21:25.332744",
     "status": "completed"
    },
    "tags": []
   },
   "source": [
    "Those patients having Blood Pressure in the range of 120 to 160 have the highest chance of having heart disease"
   ]
  },
  {
   "cell_type": "markdown",
   "metadata": {
    "papermill": {
     "duration": 0.136574,
     "end_time": "2020-11-21T06:21:25.726546",
     "exception": false,
     "start_time": "2020-11-21T06:21:25.589972",
     "status": "completed"
    },
    "tags": []
   },
   "source": [
    "###  Cholestoral vs Target"
   ]
  },
  {
   "cell_type": "code",
   "execution_count": 36,
   "metadata": {
    "execution": {
     "iopub.execute_input": "2020-11-21T06:21:26.074156Z",
     "iopub.status.busy": "2020-11-21T06:21:26.037876Z",
     "iopub.status.idle": "2020-11-21T06:21:26.130169Z",
     "shell.execute_reply": "2020-11-21T06:21:26.129251Z"
    },
    "papermill": {
     "duration": 0.251747,
     "end_time": "2020-11-21T06:21:26.130366",
     "exception": false,
     "start_time": "2020-11-21T06:21:25.878619",
     "status": "completed"
    },
    "tags": []
   },
   "outputs": [
    {
     "data": {
      "text/html": [
       "\n",
       "\n",
       "\n",
       "\n",
       "\n",
       "\n",
       "  <div class=\"bk-root\" id=\"fbea1777-21c6-4f2b-9da1-844e6a611d82\" data-root-id=\"4106\"></div>\n"
      ]
     },
     "metadata": {},
     "output_type": "display_data"
    },
    {
     "data": {
      "application/javascript": [
       "(function(root) {\n",
       "  function embed_document(root) {\n",
       "    \n",
       "  var docs_json = {\"2f43acd5-207c-4641-b83e-18343d8f493e\":{\"roots\":{\"references\":[{\"attributes\":{\"below\":[{\"id\":\"4117\"}],\"center\":[{\"id\":\"4120\"},{\"id\":\"4124\"}],\"left\":[{\"id\":\"4121\"}],\"plot_height\":500,\"plot_width\":500,\"renderers\":[{\"id\":\"4142\"},{\"id\":\"4147\"}],\"title\":{\"id\":\"4107\"},\"toolbar\":{\"id\":\"4132\"},\"x_range\":{\"id\":\"4109\"},\"x_scale\":{\"id\":\"4113\"},\"y_range\":{\"id\":\"4111\"},\"y_scale\":{\"id\":\"4115\"}},\"id\":\"4106\",\"subtype\":\"Figure\",\"type\":\"Plot\"},{\"attributes\":{},\"id\":\"4128\",\"type\":\"SaveTool\"},{\"attributes\":{\"bottom_units\":\"screen\",\"fill_alpha\":0.5,\"fill_color\":\"lightgrey\",\"left_units\":\"screen\",\"level\":\"overlay\",\"line_alpha\":1.0,\"line_color\":\"black\",\"line_dash\":[4,4],\"line_width\":2,\"right_units\":\"screen\",\"top_units\":\"screen\"},\"id\":\"4131\",\"type\":\"BoxAnnotation\"},{\"attributes\":{\"active_drag\":\"auto\",\"active_inspect\":\"auto\",\"active_multi\":null,\"active_scroll\":\"auto\",\"active_tap\":\"auto\",\"tools\":[{\"id\":\"4125\"},{\"id\":\"4126\"},{\"id\":\"4127\"},{\"id\":\"4128\"},{\"id\":\"4129\"},{\"id\":\"4130\"}]},\"id\":\"4132\",\"type\":\"Toolbar\"},{\"attributes\":{},\"id\":\"4130\",\"type\":\"HelpTool\"},{\"attributes\":{},\"id\":\"4316\",\"type\":\"UnionRenderers\"},{\"attributes\":{\"axis\":{\"id\":\"4121\"},\"dimension\":1,\"ticker\":null},\"id\":\"4124\",\"type\":\"Grid\"},{\"attributes\":{\"bottom\":{\"value\":0},\"fill_alpha\":{\"value\":0.6},\"fill_color\":{\"value\":\"red\"},\"left\":{\"field\":\"left\"},\"line_alpha\":{\"value\":0.6},\"line_color\":{\"value\":\"white\"},\"right\":{\"field\":\"right\"},\"top\":{\"field\":\"top\"}},\"id\":\"4145\",\"type\":\"Quad\"},{\"attributes\":{\"axis_label\":\"chol\",\"formatter\":{\"id\":\"4310\"},\"ticker\":{\"id\":\"4118\"}},\"id\":\"4117\",\"type\":\"LinearAxis\"},{\"attributes\":{\"data\":{\"left\":{\"__ndarray__\":\"AAAAAACAX0BmZmZmZh5hQM3MzMzMfGJAMzMzMzPbY0CamZmZmTllQAAAAAAAmGZAZmZmZmb2Z0DMzMzMzFRpQDMzMzMzs2pAmpmZmZkRbEAAAAAAAHBtQGZmZmZmzm5AZmZmZmYWcECamZmZmcVwQMzMzMzMdHFAAAAAAAAkckAzMzMzM9NyQGZmZmZmgnNAmpmZmZkxdEDMzMzMzOB0QAAAAAAAkHVAMzMzMzM/dkBmZmZmZu52QJqZmZmZnXdAzMzMzMxMeEAAAAAAAPx4QDMzMzMzq3lAZmZmZmZaekCZmZmZmQl7QMzMzMzMuHtAAAAAAABofEAzMzMzMxd9QGZmZmZmxn1AmZmZmZl1fkDMzMzMzCR/QAAAAAAA1H9AmpmZmZlBgEAzMzMzM5mAQMzMzMzM8IBAZmZmZmZIgUA=\",\"dtype\":\"float64\",\"order\":\"little\",\"shape\":[40]},\"right\":{\"__ndarray__\":\"ZmZmZmYeYUDNzMzMzHxiQDMzMzMz22NAmpmZmZk5ZUAAAAAAAJhmQGZmZmZm9mdAzMzMzMxUaUAzMzMzM7NqQJqZmZmZEWxAAAAAAABwbUBmZmZmZs5uQGZmZmZmFnBAmpmZmZnFcEDMzMzMzHRxQAAAAAAAJHJAMzMzMzPTckBmZmZmZoJzQJqZmZmZMXRAzMzMzMzgdEAAAAAAAJB1QDMzMzMzP3ZAZmZmZmbudkCamZmZmZ13QMzMzMzMTHhAAAAAAAD8eEAzMzMzM6t5QGZmZmZmWnpAmZmZmZkJe0DMzMzMzLh7QAAAAAAAaHxAMzMzMzMXfUBmZmZmZsZ9QJmZmZmZdX5AzMzMzMwkf0AAAAAAANR/QJqZmZmZQYBAMzMzMzOZgEDMzMzMzPCAQGZmZmZmSIFAAAAAAACggUA=\",\"dtype\":\"float64\",\"order\":\"little\",\"shape\":[40]},\"top\":{\"__ndarray__\":\"Y9zpQu0iQj9V3OlC7SJCP2Pc6ULtIlI/VdzpQu0iUj+sQRk1H71vP5PKXuRjNFs/KXoYFxxFgz+ltXW/eYmFP5A+u26+AIE/7xdH60pnhD8pehgXHEWDPwiPATwG8Hg/bcpe5GM0ez8rjwE8BvB4P0jc6ULtIlI/Y9zpQu0iYj97U6STqKt2P0jc6ULtImI/fdzpQu0iUj9I3OlC7SJSP2Pc6ULtIkI/Y9zpQu0iQj8AAAAAAAAAAAAAAAAAAAAASNzpQu0iQj8AAAAAAAAAAGPc6ULtIkI/AAAAAAAAAAAAAAAAAAAAAAAAAAAAAAAAAAAAAAAAAAAAAAAAAAAAAAAAAAAAAAAAAAAAAAAAAAAAAAAAAAAAAAAAAAAAAAAAAAAAAAAAAAAAAAAAAAAAAAAAAAAAAAAASNzpQu0iQj8=\",\"dtype\":\"float64\",\"order\":\"little\",\"shape\":[40]}},\"selected\":{\"id\":\"4317\"},\"selection_policy\":{\"id\":\"4316\"}},\"id\":\"4144\",\"type\":\"ColumnDataSource\"},{\"attributes\":{},\"id\":\"4310\",\"type\":\"BasicTickFormatter\"},{\"attributes\":{},\"id\":\"4126\",\"type\":\"WheelZoomTool\"},{\"attributes\":{\"data\":{\"left\":{\"__ndarray__\":\"AAAAAABgYEBmZmZmZj5hQM3MzMzMHGJAMzMzMzP7YkCamZmZmdljQAAAAAAAuGRAZmZmZmaWZUDNzMzMzHRmQDMzMzMzU2dAmpmZmZkxaEAAAAAAABBpQGZmZmZm7mlAzczMzMzMakA0MzMzM6trQJqZmZmZiWxAAAAAAABobUBmZmZmZkZuQM3MzMzMJG9AmpmZmZkBcEDNzMzMzHBwQAAAAAAA4HBANDMzMzNPcUBmZmZmZr5xQJqZmZmZLXJAzczMzMycckAAAAAAAAxzQDQzMzMze3NAZmZmZmbqc0CamZmZmVl0QM3MzMzMyHRAAAAAAAA4dUA0MzMzM6d1QGZmZmZmFnZAmpmZmZmFdkDNzMzMzPR2QAAAAAAAZHdANDMzMzPTd0BnZmZmZkJ4QJqZmZmZsXhAzczMzMwgeUA=\",\"dtype\":\"float64\",\"order\":\"little\",\"shape\":[40]},\"right\":{\"__ndarray__\":\"ZmZmZmY+YUDNzMzMzBxiQDMzMzMz+2JAmpmZmZnZY0AAAAAAALhkQGZmZmZmlmVAzczMzMx0ZkAzMzMzM1NnQJqZmZmZMWhAAAAAAAAQaUBmZmZmZu5pQM3MzMzMzGpANDMzMzOra0CamZmZmYlsQAAAAAAAaG1AZmZmZmZGbkDNzMzMzCRvQJqZmZmZAXBAzczMzMxwcEAAAAAAAOBwQDQzMzMzT3FAZmZmZma+cUCamZmZmS1yQM3MzMzMnHJAAAAAAAAMc0A0MzMzM3tzQGZmZmZm6nNAmpmZmZlZdEDNzMzMzMh0QAAAAAAAOHVANDMzMzOndUBmZmZmZhZ2QJqZmZmZhXZAzczMzMz0dkAAAAAAAGR3QDQzMzMz03dAZ2ZmZmZCeECamZmZmbF4QM3MzMzMIHlAAAAAAACQeUA=\",\"dtype\":\"float64\",\"order\":\"little\",\"shape\":[40]},\"top\":{\"__ndarray__\":\"U8RqoCoVUT8AAAAAAAAAAFPEaqAqFVE/AAAAAAAAAABTxGqgKhVRP1PEaqAqFXE/P8RqoCoVcT9TxGqgKhVhPz/EaqAqFXE/U8RqoCoVcT9TxGqgKhWBPz/EaqAqFXE/TnWFSHVadT9ndYVIdVp1P3smoPC/n4k/Z3WFSHVadT9OdYVIdVqFPz/EaqAqFYE/eyag8L+feT97JqDwv595P0zXupgK5X0/1de6mArlfT8rxGqgKhWBP1PEaqAqFWE/Z3WFSHVadT82dYVIdVp1P3rEaqAqFWE/K8RqoCoVYT9TxGqgKhVxP1PEaqAqFWE/K8RqoCoVUT96xGqgKhVRPwAAAAAAAAAAAAAAAAAAAAAAAAAAAAAAAAAAAAAAAAAAAAAAAAAAAAAAAAAAAAAAAAAAAAAAAAAAU8RqoCoVYT8=\",\"dtype\":\"float64\",\"order\":\"little\",\"shape\":[40]}},\"selected\":{\"id\":\"4315\"},\"selection_policy\":{\"id\":\"4314\"}},\"id\":\"4139\",\"type\":\"ColumnDataSource\"},{\"attributes\":{},\"id\":\"4115\",\"type\":\"LinearScale\"},{\"attributes\":{\"data_source\":{\"id\":\"4144\"},\"glyph\":{\"id\":\"4145\"},\"hover_glyph\":null,\"muted_glyph\":null,\"nonselection_glyph\":{\"id\":\"4146\"},\"selection_glyph\":null,\"view\":{\"id\":\"4148\"}},\"id\":\"4147\",\"type\":\"GlyphRenderer\"},{\"attributes\":{\"overlay\":{\"id\":\"4131\"}},\"id\":\"4127\",\"type\":\"BoxZoomTool\"},{\"attributes\":{},\"id\":\"4312\",\"type\":\"BasicTickFormatter\"},{\"attributes\":{},\"id\":\"4315\",\"type\":\"Selection\"},{\"attributes\":{},\"id\":\"4317\",\"type\":\"Selection\"},{\"attributes\":{\"bottom\":{\"value\":0},\"fill_alpha\":{\"value\":0.1},\"fill_color\":{\"value\":\"blue\"},\"left\":{\"field\":\"left\"},\"line_alpha\":{\"value\":0.1},\"line_color\":{\"value\":\"white\"},\"right\":{\"field\":\"right\"},\"top\":{\"field\":\"top\"}},\"id\":\"4141\",\"type\":\"Quad\"},{\"attributes\":{\"bottom\":{\"value\":0},\"fill_alpha\":{\"value\":0.1},\"fill_color\":{\"value\":\"red\"},\"left\":{\"field\":\"left\"},\"line_alpha\":{\"value\":0.1},\"line_color\":{\"value\":\"white\"},\"right\":{\"field\":\"right\"},\"top\":{\"field\":\"top\"}},\"id\":\"4146\",\"type\":\"Quad\"},{\"attributes\":{},\"id\":\"4111\",\"type\":\"DataRange1d\"},{\"attributes\":{},\"id\":\"4113\",\"type\":\"LinearScale\"},{\"attributes\":{},\"id\":\"4109\",\"type\":\"DataRange1d\"},{\"attributes\":{\"source\":{\"id\":\"4144\"}},\"id\":\"4148\",\"type\":\"CDSView\"},{\"attributes\":{},\"id\":\"4129\",\"type\":\"ResetTool\"},{\"attributes\":{\"data_source\":{\"id\":\"4139\"},\"glyph\":{\"id\":\"4140\"},\"hover_glyph\":null,\"muted_glyph\":null,\"nonselection_glyph\":{\"id\":\"4141\"},\"selection_glyph\":null,\"view\":{\"id\":\"4143\"}},\"id\":\"4142\",\"type\":\"GlyphRenderer\"},{\"attributes\":{\"text\":\"Chol vs Target\"},\"id\":\"4107\",\"type\":\"Title\"},{\"attributes\":{},\"id\":\"4118\",\"type\":\"BasicTicker\"},{\"attributes\":{\"bottom\":{\"value\":0},\"fill_alpha\":{\"value\":0.6},\"fill_color\":{\"value\":\"blue\"},\"left\":{\"field\":\"left\"},\"line_alpha\":{\"value\":0.6},\"line_color\":{\"value\":\"white\"},\"right\":{\"field\":\"right\"},\"top\":{\"field\":\"top\"}},\"id\":\"4140\",\"type\":\"Quad\"},{\"attributes\":{\"formatter\":{\"id\":\"4312\"},\"ticker\":{\"id\":\"4122\"}},\"id\":\"4121\",\"type\":\"LinearAxis\"},{\"attributes\":{},\"id\":\"4314\",\"type\":\"UnionRenderers\"},{\"attributes\":{},\"id\":\"4125\",\"type\":\"PanTool\"},{\"attributes\":{},\"id\":\"4122\",\"type\":\"BasicTicker\"},{\"attributes\":{\"source\":{\"id\":\"4139\"}},\"id\":\"4143\",\"type\":\"CDSView\"},{\"attributes\":{\"axis\":{\"id\":\"4117\"},\"ticker\":null},\"id\":\"4120\",\"type\":\"Grid\"}],\"root_ids\":[\"4106\"]},\"title\":\"Bokeh Application\",\"version\":\"2.2.3\"}};\n",
       "  var render_items = [{\"docid\":\"2f43acd5-207c-4641-b83e-18343d8f493e\",\"root_ids\":[\"4106\"],\"roots\":{\"4106\":\"fbea1777-21c6-4f2b-9da1-844e6a611d82\"}}];\n",
       "  root.Bokeh.embed.embed_items_notebook(docs_json, render_items);\n",
       "\n",
       "  }\n",
       "  if (root.Bokeh !== undefined) {\n",
       "    embed_document(root);\n",
       "  } else {\n",
       "    var attempts = 0;\n",
       "    var timer = setInterval(function(root) {\n",
       "      if (root.Bokeh !== undefined) {\n",
       "        clearInterval(timer);\n",
       "        embed_document(root);\n",
       "      } else {\n",
       "        attempts++;\n",
       "        if (attempts > 100) {\n",
       "          clearInterval(timer);\n",
       "          console.log(\"Bokeh: ERROR: Unable to run BokehJS code because BokehJS library is missing\");\n",
       "        }\n",
       "      }\n",
       "    }, 10, root)\n",
       "  }\n",
       "})(window);"
      ],
      "application/vnd.bokehjs_exec.v0+json": ""
     },
     "metadata": {
      "application/vnd.bokehjs_exec.v0+json": {
       "id": "4106"
      }
     },
     "output_type": "display_data"
    }
   ],
   "source": [
    "p18 = plot_cont_var('chol')\n",
    "show(p18)"
   ]
  },
  {
   "cell_type": "markdown",
   "metadata": {
    "papermill": {
     "duration": 0.129466,
     "end_time": "2020-11-21T06:21:26.390636",
     "exception": false,
     "start_time": "2020-11-21T06:21:26.261170",
     "status": "completed"
    },
    "tags": []
   },
   "source": [
    "We can see that patient having Cholestrol level greater than 200 had heart disease."
   ]
  },
  {
   "cell_type": "markdown",
   "metadata": {
    "papermill": {
     "duration": 0.131467,
     "end_time": "2020-11-21T06:21:26.650783",
     "exception": false,
     "start_time": "2020-11-21T06:21:26.519316",
     "status": "completed"
    },
    "tags": []
   },
   "source": [
    "### Thalach vs Target"
   ]
  },
  {
   "cell_type": "markdown",
   "metadata": {
    "papermill": {
     "duration": 0.128913,
     "end_time": "2020-11-21T06:21:26.923084",
     "exception": false,
     "start_time": "2020-11-21T06:21:26.794171",
     "status": "completed"
    },
    "tags": []
   },
   "source": [
    "maximum heart rate achieved"
   ]
  },
  {
   "cell_type": "code",
   "execution_count": 37,
   "metadata": {
    "execution": {
     "iopub.execute_input": "2020-11-21T06:21:27.196819Z",
     "iopub.status.busy": "2020-11-21T06:21:27.196043Z",
     "iopub.status.idle": "2020-11-21T06:21:27.314540Z",
     "shell.execute_reply": "2020-11-21T06:21:27.313610Z"
    },
    "papermill": {
     "duration": 0.257016,
     "end_time": "2020-11-21T06:21:27.314686",
     "exception": false,
     "start_time": "2020-11-21T06:21:27.057670",
     "status": "completed"
    },
    "tags": []
   },
   "outputs": [
    {
     "data": {
      "text/html": [
       "\n",
       "\n",
       "\n",
       "\n",
       "\n",
       "\n",
       "  <div class=\"bk-root\" id=\"638ef9f7-fe7f-4e24-814d-4516de7a50b1\" data-root-id=\"4369\"></div>\n"
      ]
     },
     "metadata": {},
     "output_type": "display_data"
    },
    {
     "data": {
      "application/javascript": [
       "(function(root) {\n",
       "  function embed_document(root) {\n",
       "    \n",
       "  var docs_json = {\"bdde62be-b395-4143-b360-1b238c37e47b\":{\"roots\":{\"references\":[{\"attributes\":{\"below\":[{\"id\":\"4380\"}],\"center\":[{\"id\":\"4383\"},{\"id\":\"4387\"}],\"left\":[{\"id\":\"4384\"}],\"plot_height\":500,\"plot_width\":500,\"renderers\":[{\"id\":\"4405\"},{\"id\":\"4410\"}],\"title\":{\"id\":\"4370\"},\"toolbar\":{\"id\":\"4395\"},\"x_range\":{\"id\":\"4372\"},\"x_scale\":{\"id\":\"4376\"},\"y_range\":{\"id\":\"4374\"},\"y_scale\":{\"id\":\"4378\"}},\"id\":\"4369\",\"subtype\":\"Figure\",\"type\":\"Plot\"},{\"attributes\":{\"data_source\":{\"id\":\"4402\"},\"glyph\":{\"id\":\"4403\"},\"hover_glyph\":null,\"muted_glyph\":null,\"nonselection_glyph\":{\"id\":\"4404\"},\"selection_glyph\":null,\"view\":{\"id\":\"4406\"}},\"id\":\"4405\",\"type\":\"GlyphRenderer\"},{\"attributes\":{},\"id\":\"4389\",\"type\":\"WheelZoomTool\"},{\"attributes\":{\"text\":\"Thalach vs Target\"},\"id\":\"4370\",\"type\":\"Title\"},{\"attributes\":{},\"id\":\"4392\",\"type\":\"ResetTool\"},{\"attributes\":{\"bottom_units\":\"screen\",\"fill_alpha\":0.5,\"fill_color\":\"lightgrey\",\"left_units\":\"screen\",\"level\":\"overlay\",\"line_alpha\":1.0,\"line_color\":\"black\",\"line_dash\":[4,4],\"line_width\":2,\"right_units\":\"screen\",\"top_units\":\"screen\"},\"id\":\"4394\",\"type\":\"BoxAnnotation\"},{\"attributes\":{\"overlay\":{\"id\":\"4394\"}},\"id\":\"4390\",\"type\":\"BoxZoomTool\"},{\"attributes\":{},\"id\":\"4385\",\"type\":\"BasicTicker\"},{\"attributes\":{\"formatter\":{\"id\":\"4585\"},\"ticker\":{\"id\":\"4385\"}},\"id\":\"4384\",\"type\":\"LinearAxis\"},{\"attributes\":{\"source\":{\"id\":\"4402\"}},\"id\":\"4406\",\"type\":\"CDSView\"},{\"attributes\":{},\"id\":\"4376\",\"type\":\"LinearScale\"},{\"attributes\":{\"axis\":{\"id\":\"4380\"},\"ticker\":null},\"id\":\"4383\",\"type\":\"Grid\"},{\"attributes\":{\"data\":{\"left\":{\"__ndarray__\":\"AAAAAAAAWECamZmZmalYQDMzMzMzU1lAzczMzMz8WUBmZmZmZqZaQAAAAAAAUFtAmpmZmZn5W0AzMzMzM6NcQM3MzMzMTF1AZmZmZmb2XUAAAAAAAKBeQJqZmZmZSV9AMzMzMzPzX0BmZmZmZk5gQDMzMzMzo2BAAAAAAAD4YEDNzMzMzExhQJqZmZmZoWFAZmZmZmb2YUAzMzMzM0tiQAAAAAAAoGJAzczMzMz0YkCamZmZmUljQGZmZmZmnmNAMzMzMzPzY0AAAAAAAEhkQMzMzMzMnGRAmpmZmZnxZEBmZmZmZkZlQDMzMzMzm2VAAAAAAADwZUDMzMzMzERmQJqZmZmZmWZAZmZmZmbuZkAzMzMzM0NnQAAAAAAAmGdAzMzMzMzsZ0CamZmZmUFoQGZmZmZmlmhAMzMzMzPraEA=\",\"dtype\":\"float64\",\"order\":\"little\",\"shape\":[40]},\"right\":{\"__ndarray__\":\"mpmZmZmpWEAzMzMzM1NZQM3MzMzM/FlAZmZmZmamWkAAAAAAAFBbQJqZmZmZ+VtAMzMzMzOjXEDNzMzMzExdQGZmZmZm9l1AAAAAAACgXkCamZmZmUlfQDMzMzMz819AZmZmZmZOYEAzMzMzM6NgQAAAAAAA+GBAzczMzMxMYUCamZmZmaFhQGZmZmZm9mFAMzMzMzNLYkAAAAAAAKBiQM3MzMzM9GJAmpmZmZlJY0BmZmZmZp5jQDMzMzMz82NAAAAAAABIZEDMzMzMzJxkQJqZmZmZ8WRAZmZmZmZGZUAzMzMzM5tlQAAAAAAA8GVAzMzMzMxEZkCamZmZmZlmQGZmZmZm7mZAMzMzMzNDZ0AAAAAAAJhnQMzMzMzM7GdAmpmZmZlBaEBmZmZmZpZoQDMzMzMz62hAAAAAAABAaUA=\",\"dtype\":\"float64\",\"order\":\"little\",\"shape\":[40]},\"top\":{\"__ndarray__\":\"maMaIju8Yj8AAAAAAAAAAAAAAAAAAAAAtaMaIju8Yj8AAAAAAAAAAJmjGiI7vGI/taMaIju8Yj9l9SezWBp8PwAAAAAAAAAAmaMaIju8gj9l9SezWBp8P7WjGiI7vGI/taMaIju8Yj+ZoxoiO7yCPwAAAAAAAAAAZfUns1gafD9l9SezWBp8P7r1J7NYGow/maMaIju8gj9/TKHqSWuHP5mjGiI7vJI/8qDkTtHCmT/GTKHqSWuHP39MoepJa5c/maMaIju8oj/RoxoiO7ySPxH1J7NYGow/QKHkTtHCmT9/TKHqSWuXP2X1J7NYGpw/xkyh6klrhz/0Tte9s2SQP8ZMoepJa4c/maMaIju8gj+ZoxoiO7xyP9GjGiI7vGI/YKMaIju8cj8AAAAAAAAAAAAAAAAAAAAAmaMaIju8Yj8=\",\"dtype\":\"float64\",\"order\":\"little\",\"shape\":[40]}},\"selected\":{\"id\":\"4590\"},\"selection_policy\":{\"id\":\"4589\"}},\"id\":\"4407\",\"type\":\"ColumnDataSource\"},{\"attributes\":{},\"id\":\"4589\",\"type\":\"UnionRenderers\"},{\"attributes\":{\"axis\":{\"id\":\"4384\"},\"dimension\":1,\"ticker\":null},\"id\":\"4387\",\"type\":\"Grid\"},{\"attributes\":{\"bottom\":{\"value\":0},\"fill_alpha\":{\"value\":0.6},\"fill_color\":{\"value\":\"red\"},\"left\":{\"field\":\"left\"},\"line_alpha\":{\"value\":0.6},\"line_color\":{\"value\":\"white\"},\"right\":{\"field\":\"right\"},\"top\":{\"field\":\"top\"}},\"id\":\"4408\",\"type\":\"Quad\"},{\"attributes\":{},\"id\":\"4587\",\"type\":\"UnionRenderers\"},{\"attributes\":{\"axis_label\":\"thalach\",\"formatter\":{\"id\":\"4583\"},\"ticker\":{\"id\":\"4381\"}},\"id\":\"4380\",\"type\":\"LinearAxis\"},{\"attributes\":{},\"id\":\"4381\",\"type\":\"BasicTicker\"},{\"attributes\":{},\"id\":\"4388\",\"type\":\"PanTool\"},{\"attributes\":{},\"id\":\"4590\",\"type\":\"Selection\"},{\"attributes\":{\"bottom\":{\"value\":0},\"fill_alpha\":{\"value\":0.6},\"fill_color\":{\"value\":\"blue\"},\"left\":{\"field\":\"left\"},\"line_alpha\":{\"value\":0.6},\"line_color\":{\"value\":\"white\"},\"right\":{\"field\":\"right\"},\"top\":{\"field\":\"top\"}},\"id\":\"4403\",\"type\":\"Quad\"},{\"attributes\":{\"data_source\":{\"id\":\"4407\"},\"glyph\":{\"id\":\"4408\"},\"hover_glyph\":null,\"muted_glyph\":null,\"nonselection_glyph\":{\"id\":\"4409\"},\"selection_glyph\":null,\"view\":{\"id\":\"4411\"}},\"id\":\"4410\",\"type\":\"GlyphRenderer\"},{\"attributes\":{},\"id\":\"4378\",\"type\":\"LinearScale\"},{\"attributes\":{},\"id\":\"4393\",\"type\":\"HelpTool\"},{\"attributes\":{\"bottom\":{\"value\":0},\"fill_alpha\":{\"value\":0.1},\"fill_color\":{\"value\":\"red\"},\"left\":{\"field\":\"left\"},\"line_alpha\":{\"value\":0.1},\"line_color\":{\"value\":\"white\"},\"right\":{\"field\":\"right\"},\"top\":{\"field\":\"top\"}},\"id\":\"4409\",\"type\":\"Quad\"},{\"attributes\":{},\"id\":\"4374\",\"type\":\"DataRange1d\"},{\"attributes\":{},\"id\":\"4588\",\"type\":\"Selection\"},{\"attributes\":{},\"id\":\"4391\",\"type\":\"SaveTool\"},{\"attributes\":{\"source\":{\"id\":\"4407\"}},\"id\":\"4411\",\"type\":\"CDSView\"},{\"attributes\":{},\"id\":\"4585\",\"type\":\"BasicTickFormatter\"},{\"attributes\":{\"active_drag\":\"auto\",\"active_inspect\":\"auto\",\"active_multi\":null,\"active_scroll\":\"auto\",\"active_tap\":\"auto\",\"tools\":[{\"id\":\"4388\"},{\"id\":\"4389\"},{\"id\":\"4390\"},{\"id\":\"4391\"},{\"id\":\"4392\"},{\"id\":\"4393\"}]},\"id\":\"4395\",\"type\":\"Toolbar\"},{\"attributes\":{},\"id\":\"4583\",\"type\":\"BasicTickFormatter\"},{\"attributes\":{},\"id\":\"4372\",\"type\":\"DataRange1d\"},{\"attributes\":{\"bottom\":{\"value\":0},\"fill_alpha\":{\"value\":0.1},\"fill_color\":{\"value\":\"blue\"},\"left\":{\"field\":\"left\"},\"line_alpha\":{\"value\":0.1},\"line_color\":{\"value\":\"white\"},\"right\":{\"field\":\"right\"},\"top\":{\"field\":\"top\"}},\"id\":\"4404\",\"type\":\"Quad\"},{\"attributes\":{\"data\":{\"left\":{\"__ndarray__\":\"AAAAAADAUUBmZmZmZoZSQM3MzMzMTFNAMzMzMzMTVECamZmZmdlUQAAAAAAAoFVAZmZmZmZmVkDNzMzMzCxXQDMzMzMz81dAmpmZmZm5WEAAAAAAAIBZQGZmZmZmRlpAzczMzMwMW0A0MzMzM9NbQJqZmZmZmVxAAAAAAABgXUBmZmZmZiZeQM3MzMzM7F5ANDMzMzOzX0DNzMzMzDxgQAAAAAAAoGBANDMzMzMDYUBmZmZmZmZhQJqZmZmZyWFAzczMzMwsYkAAAAAAAJBiQDQzMzMz82JAZmZmZmZWY0CamZmZmbljQM3MzMzMHGRAAAAAAACAZEA0MzMzM+NkQGZmZmZmRmVAmpmZmZmpZUDNzMzMzAxmQAAAAAAAcGZANDMzMzPTZkBmZmZmZjZnQJqZmZmZmWdAzczMzMz8Z0A=\",\"dtype\":\"float64\",\"order\":\"little\",\"shape\":[40]},\"right\":{\"__ndarray__\":\"ZmZmZmaGUkDNzMzMzExTQDMzMzMzE1RAmpmZmZnZVEAAAAAAAKBVQGZmZmZmZlZAzczMzMwsV0AzMzMzM/NXQJqZmZmZuVhAAAAAAACAWUBmZmZmZkZaQM3MzMzMDFtANDMzMzPTW0CamZmZmZlcQAAAAAAAYF1AZmZmZmYmXkDNzMzMzOxeQDQzMzMzs19AzczMzMw8YEAAAAAAAKBgQDQzMzMzA2FAZmZmZmZmYUCamZmZmclhQM3MzMzMLGJAAAAAAACQYkA0MzMzM/NiQGZmZmZmVmNAmpmZmZm5Y0DNzMzMzBxkQAAAAAAAgGRANDMzMzPjZEBmZmZmZkZlQJqZmZmZqWVAzczMzMwMZkAAAAAAAHBmQDQzMzMz02ZAZmZmZmY2Z0CamZmZmZlnQM3MzMzM/GdAAAAAAABgaEA=\",\"dtype\":\"float64\",\"order\":\"little\",\"shape\":[40]},\"top\":{\"__ndarray__\":\"oI3zty0mYz8AAAAAAAAAAAAAAAAAAAAAAAAAAAAAAAAAAAAAAAAAAKCN87ctJmM/ho3zty0mYz+gjfO3LSZjP4aN87ctJnM/oI3zty0mYz+gjfO3LSaDP0pU7ZNEuXw/ho3zty0mgz8HcfAlue+HP29U7ZNEuXw/oI3zty0mgz+GjfO3LSZzPzj/8W7zipU/b1Ttk0S5fD+74u7cflSaP26N87ctJoM/0Y3zty0mcz934u7cflSaP7vi7tx+VJo/b1Ttk0S5jD/JcPAlue+HP0Vx8CW574c/JVTtk0S5jD+gjfO3LSaTP+wb9QBowZA/bo3zty0mgz9FcfAlue+HPyVU7ZNEuXw/oI3zty0mcz+gjfO3LSZjP26N87ctJnM/AAAAAAAAAAAAAAAAAAAAAAAAAAAAAAAAoI3zty0mYz8=\",\"dtype\":\"float64\",\"order\":\"little\",\"shape\":[40]}},\"selected\":{\"id\":\"4588\"},\"selection_policy\":{\"id\":\"4587\"}},\"id\":\"4402\",\"type\":\"ColumnDataSource\"}],\"root_ids\":[\"4369\"]},\"title\":\"Bokeh Application\",\"version\":\"2.2.3\"}};\n",
       "  var render_items = [{\"docid\":\"bdde62be-b395-4143-b360-1b238c37e47b\",\"root_ids\":[\"4369\"],\"roots\":{\"4369\":\"638ef9f7-fe7f-4e24-814d-4516de7a50b1\"}}];\n",
       "  root.Bokeh.embed.embed_items_notebook(docs_json, render_items);\n",
       "\n",
       "  }\n",
       "  if (root.Bokeh !== undefined) {\n",
       "    embed_document(root);\n",
       "  } else {\n",
       "    var attempts = 0;\n",
       "    var timer = setInterval(function(root) {\n",
       "      if (root.Bokeh !== undefined) {\n",
       "        clearInterval(timer);\n",
       "        embed_document(root);\n",
       "      } else {\n",
       "        attempts++;\n",
       "        if (attempts > 100) {\n",
       "          clearInterval(timer);\n",
       "          console.log(\"Bokeh: ERROR: Unable to run BokehJS code because BokehJS library is missing\");\n",
       "        }\n",
       "      }\n",
       "    }, 10, root)\n",
       "  }\n",
       "})(window);"
      ],
      "application/vnd.bokehjs_exec.v0+json": ""
     },
     "metadata": {
      "application/vnd.bokehjs_exec.v0+json": {
       "id": "4369"
      }
     },
     "output_type": "display_data"
    }
   ],
   "source": [
    "p19 = plot_cont_var('thalach')\n",
    "show(p19)"
   ]
  },
  {
   "cell_type": "markdown",
   "metadata": {
    "papermill": {
     "duration": 0.132834,
     "end_time": "2020-11-21T06:21:27.578818",
     "exception": false,
     "start_time": "2020-11-21T06:21:27.445984",
     "status": "completed"
    },
    "tags": []
   },
   "source": [
    "The patients having maximum heart rate greater than 150 are at a greater risk of having heart disease."
   ]
  },
  {
   "cell_type": "markdown",
   "metadata": {
    "papermill": {
     "duration": 0.132801,
     "end_time": "2020-11-21T06:21:27.843033",
     "exception": false,
     "start_time": "2020-11-21T06:21:27.710232",
     "status": "completed"
    },
    "tags": []
   },
   "source": [
    "# 3. Correlation Matrix"
   ]
  },
  {
   "cell_type": "code",
   "execution_count": 38,
   "metadata": {
    "execution": {
     "iopub.execute_input": "2020-11-21T06:21:28.112262Z",
     "iopub.status.busy": "2020-11-21T06:21:28.111111Z",
     "iopub.status.idle": "2020-11-21T06:21:29.305707Z",
     "shell.execute_reply": "2020-11-21T06:21:29.304859Z"
    },
    "papermill": {
     "duration": 1.332552,
     "end_time": "2020-11-21T06:21:29.305855",
     "exception": false,
     "start_time": "2020-11-21T06:21:27.973303",
     "status": "completed"
    },
    "tags": []
   },
   "outputs": [],
   "source": [
    "import seaborn as sns\n",
    "import matplotlib.pyplot as plt\n",
    "\n",
    "# I have used seaborn for plotting correlation matrix as its \n",
    "# much faster and much more easier than bokeh "
   ]
  },
  {
   "cell_type": "code",
   "execution_count": 39,
   "metadata": {
    "execution": {
     "iopub.execute_input": "2020-11-21T06:21:29.581260Z",
     "iopub.status.busy": "2020-11-21T06:21:29.580457Z",
     "iopub.status.idle": "2020-11-21T06:21:30.674260Z",
     "shell.execute_reply": "2020-11-21T06:21:30.674922Z"
    },
    "papermill": {
     "duration": 1.23898,
     "end_time": "2020-11-21T06:21:30.675094",
     "exception": false,
     "start_time": "2020-11-21T06:21:29.436114",
     "status": "completed"
    },
    "tags": []
   },
   "outputs": [
    {
     "data": {
      "text/plain": [
       "(14.5, -0.5)"
      ]
     },
     "execution_count": 39,
     "metadata": {},
     "output_type": "execute_result"
    },
    {
     "data": {
      "image/png": "[encoded data removed]",
      "text/plain": [
       "<Figure size 1080x1080 with 2 Axes>"
      ]
     },
     "metadata": {
      "needs_background": "light"
     },
     "output_type": "display_data"
    }
   ],
   "source": [
    "corr_matrix = df.corr()\n",
    "fig, ax = plt.subplots(figsize=(15, 15))\n",
    "ax = sns.heatmap(corr_matrix,\n",
    "                 annot = True,\n",
    "                 linewidths = 0.5,\n",
    "                 fmt = \".2f\",\n",
    "                 cmap = \"YlGnBu\");\n",
    "bottom, top = ax.get_ylim()\n",
    "ax.set_ylim(bottom + 0.5, top - 0.5)"
   ]
  },
  {
   "cell_type": "markdown",
   "metadata": {
    "papermill": {
     "duration": 0.134382,
     "end_time": "2020-11-21T06:21:30.961137",
     "exception": false,
     "start_time": "2020-11-21T06:21:30.826755",
     "status": "completed"
    },
    "tags": []
   },
   "source": [
    "The correlation between the features with target is not that clear in the correlation matrix as there are a large number of features, lets visualize it in another way."
   ]
  },
  {
   "cell_type": "code",
   "execution_count": 40,
   "metadata": {
    "execution": {
     "iopub.execute_input": "2020-11-21T06:21:31.240611Z",
     "iopub.status.busy": "2020-11-21T06:21:31.239803Z",
     "iopub.status.idle": "2020-11-21T06:21:31.503204Z",
     "shell.execute_reply": "2020-11-21T06:21:31.502583Z"
    },
    "papermill": {
     "duration": 0.407307,
     "end_time": "2020-11-21T06:21:31.503333",
     "exception": false,
     "start_time": "2020-11-21T06:21:31.096026",
     "status": "completed"
    },
    "tags": []
   },
   "outputs": [
    {
     "data": {
      "text/plain": [
       "<matplotlib.axes._subplots.AxesSubplot at 0x7fb9d175f910>"
      ]
     },
     "execution_count": 40,
     "metadata": {},
     "output_type": "execute_result"
    },
    {
     "data": {
      "image/png": "[encoded data removed]",
      "text/plain": [
       "<Figure size 864x576 with 1 Axes>"
      ]
     },
     "metadata": {
      "needs_background": "light"
     },
     "output_type": "display_data"
    }
   ],
   "source": [
    "df.drop('target', axis=1).corrwith(df.target).plot(kind = 'bar', grid = True, \n",
    "                                                   figsize = (12, 8), \n",
    "                                                   title = \"Correlation with Target\")"
   ]
  },
  {
   "cell_type": "markdown",
   "metadata": {
    "papermill": {
     "duration": 0.135989,
     "end_time": "2020-11-21T06:21:31.778442",
     "exception": false,
     "start_time": "2020-11-21T06:21:31.642453",
     "status": "completed"
    },
    "tags": []
   },
   "source": [
    "We can see that 'fbs' and 'chol' are least related with 'target' whereas other features are highly correlated with the 'target' variable."
   ]
  },
  {
   "cell_type": "markdown",
   "metadata": {
    "papermill": {
     "duration": 0.13662,
     "end_time": "2020-11-21T06:21:32.056651",
     "exception": false,
     "start_time": "2020-11-21T06:21:31.920031",
     "status": "completed"
    },
    "tags": []
   },
   "source": [
    "# 3. Data Pre-processing"
   ]
  },
  {
   "cell_type": "markdown",
   "metadata": {
    "papermill": {
     "duration": 0.137793,
     "end_time": "2020-11-21T06:21:32.331991",
     "exception": false,
     "start_time": "2020-11-21T06:21:32.194198",
     "status": "completed"
    },
    "tags": []
   },
   "source": [
    "As we can see that there a number of continuous variables, we need to scale the data so that the continuous variables don't get majority of the weight or in other words, become the deciding factor to predict whether the patient has heart disease. We would also need to convert some categorical variable into dummy variables."
   ]
  },
  {
   "cell_type": "code",
   "execution_count": 41,
   "metadata": {
    "execution": {
     "iopub.execute_input": "2020-11-21T06:21:32.627433Z",
     "iopub.status.busy": "2020-11-21T06:21:32.623561Z",
     "iopub.status.idle": "2020-11-21T06:21:32.633753Z",
     "shell.execute_reply": "2020-11-21T06:21:32.633116Z"
    },
    "papermill": {
     "duration": 0.163052,
     "end_time": "2020-11-21T06:21:32.633889",
     "exception": false,
     "start_time": "2020-11-21T06:21:32.470837",
     "status": "completed"
    },
    "tags": []
   },
   "outputs": [],
   "source": [
    "from pandas import get_dummies\n",
    "\n",
    "categorical_var.remove('target') # Removing the 'target' column from the list of categorical variables.\n",
    "dataframe = pd.get_dummies(df, columns = categorical_var)"
   ]
  },
  {
   "cell_type": "code",
   "execution_count": 42,
   "metadata": {
    "execution": {
     "iopub.execute_input": "2020-11-21T06:21:32.939308Z",
     "iopub.status.busy": "2020-11-21T06:21:32.938545Z",
     "iopub.status.idle": "2020-11-21T06:21:32.944200Z",
     "shell.execute_reply": "2020-11-21T06:21:32.943162Z"
    },
    "papermill": {
     "duration": 0.172077,
     "end_time": "2020-11-21T06:21:32.944332",
     "exception": false,
     "start_time": "2020-11-21T06:21:32.772255",
     "status": "completed"
    },
    "tags": []
   },
   "outputs": [
    {
     "data": {
      "text/html": [
       "<div>\n",
       "<style scoped>\n",
       "    .dataframe tbody tr th:only-of-type {\n",
       "        vertical-align: middle;\n",
       "    }\n",
       "\n",
       "    .dataframe tbody tr th {\n",
       "        vertical-align: top;\n",
       "    }\n",
       "\n",
       "    .dataframe thead th {\n",
       "        text-align: right;\n",
       "    }\n",
       "</style>\n",
       "<table border=\"1\" class=\"dataframe\">\n",
       "  <thead>\n",
       "    <tr style=\"text-align: right;\">\n",
       "      <th></th>\n",
       "      <th>age</th>\n",
       "      <th>trestbps</th>\n",
       "      <th>chol</th>\n",
       "      <th>thalach</th>\n",
       "      <th>oldpeak</th>\n",
       "      <th>target</th>\n",
       "      <th>sex_0</th>\n",
       "      <th>sex_1</th>\n",
       "      <th>cp_0</th>\n",
       "      <th>cp_1</th>\n",
       "      <th>...</th>\n",
       "      <th>slope_2</th>\n",
       "      <th>ca_0</th>\n",
       "      <th>ca_1</th>\n",
       "      <th>ca_2</th>\n",
       "      <th>ca_3</th>\n",
       "      <th>ca_4</th>\n",
       "      <th>thal_0</th>\n",
       "      <th>thal_1</th>\n",
       "      <th>thal_2</th>\n",
       "      <th>thal_3</th>\n",
       "    </tr>\n",
       "  </thead>\n",
       "  <tbody>\n",
       "    <tr>\n",
       "      <th>0</th>\n",
       "      <td>63</td>\n",
       "      <td>145</td>\n",
       "      <td>233</td>\n",
       "      <td>150</td>\n",
       "      <td>2.3</td>\n",
       "      <td>1</td>\n",
       "      <td>0</td>\n",
       "      <td>1</td>\n",
       "      <td>0</td>\n",
       "      <td>0</td>\n",
       "      <td>...</td>\n",
       "      <td>0</td>\n",
       "      <td>1</td>\n",
       "      <td>0</td>\n",
       "      <td>0</td>\n",
       "      <td>0</td>\n",
       "      <td>0</td>\n",
       "      <td>0</td>\n",
       "      <td>1</td>\n",
       "      <td>0</td>\n",
       "      <td>0</td>\n",
       "    </tr>\n",
       "    <tr>\n",
       "      <th>1</th>\n",
       "      <td>37</td>\n",
       "      <td>130</td>\n",
       "      <td>250</td>\n",
       "      <td>187</td>\n",
       "      <td>3.5</td>\n",
       "      <td>1</td>\n",
       "      <td>0</td>\n",
       "      <td>1</td>\n",
       "      <td>0</td>\n",
       "      <td>0</td>\n",
       "      <td>...</td>\n",
       "      <td>0</td>\n",
       "      <td>1</td>\n",
       "      <td>0</td>\n",
       "      <td>0</td>\n",
       "      <td>0</td>\n",
       "      <td>0</td>\n",
       "      <td>0</td>\n",
       "      <td>0</td>\n",
       "      <td>1</td>\n",
       "      <td>0</td>\n",
       "    </tr>\n",
       "    <tr>\n",
       "      <th>2</th>\n",
       "      <td>41</td>\n",
       "      <td>130</td>\n",
       "      <td>204</td>\n",
       "      <td>172</td>\n",
       "      <td>1.4</td>\n",
       "      <td>1</td>\n",
       "      <td>1</td>\n",
       "      <td>0</td>\n",
       "      <td>0</td>\n",
       "      <td>1</td>\n",
       "      <td>...</td>\n",
       "      <td>1</td>\n",
       "      <td>1</td>\n",
       "      <td>0</td>\n",
       "      <td>0</td>\n",
       "      <td>0</td>\n",
       "      <td>0</td>\n",
       "      <td>0</td>\n",
       "      <td>0</td>\n",
       "      <td>1</td>\n",
       "      <td>0</td>\n",
       "    </tr>\n",
       "    <tr>\n",
       "      <th>3</th>\n",
       "      <td>56</td>\n",
       "      <td>120</td>\n",
       "      <td>236</td>\n",
       "      <td>178</td>\n",
       "      <td>0.8</td>\n",
       "      <td>1</td>\n",
       "      <td>0</td>\n",
       "      <td>1</td>\n",
       "      <td>0</td>\n",
       "      <td>1</td>\n",
       "      <td>...</td>\n",
       "      <td>1</td>\n",
       "      <td>1</td>\n",
       "      <td>0</td>\n",
       "      <td>0</td>\n",
       "      <td>0</td>\n",
       "      <td>0</td>\n",
       "      <td>0</td>\n",
       "      <td>0</td>\n",
       "      <td>1</td>\n",
       "      <td>0</td>\n",
       "    </tr>\n",
       "    <tr>\n",
       "      <th>4</th>\n",
       "      <td>57</td>\n",
       "      <td>120</td>\n",
       "      <td>354</td>\n",
       "      <td>163</td>\n",
       "      <td>0.6</td>\n",
       "      <td>1</td>\n",
       "      <td>1</td>\n",
       "      <td>0</td>\n",
       "      <td>1</td>\n",
       "      <td>0</td>\n",
       "      <td>...</td>\n",
       "      <td>1</td>\n",
       "      <td>1</td>\n",
       "      <td>0</td>\n",
       "      <td>0</td>\n",
       "      <td>0</td>\n",
       "      <td>0</td>\n",
       "      <td>0</td>\n",
       "      <td>0</td>\n",
       "      <td>1</td>\n",
       "      <td>0</td>\n",
       "    </tr>\n",
       "  </tbody>\n",
       "</table>\n",
       "<p>5 rows × 31 columns</p>\n",
       "</div>"
      ],
      "text/plain": [
       "   age  trestbps  chol  thalach  oldpeak  target  sex_0  sex_1  cp_0  cp_1  \\\n",
       "0   63       145   233      150      2.3       1      0      1     0     0   \n",
       "1   37       130   250      187      3.5       1      0      1     0     0   \n",
       "2   41       130   204      172      1.4       1      1      0     0     1   \n",
       "3   56       120   236      178      0.8       1      0      1     0     1   \n",
       "4   57       120   354      163      0.6       1      1      0     1     0   \n",
       "\n",
       "   ...  slope_2  ca_0  ca_1  ca_2  ca_3  ca_4  thal_0  thal_1  thal_2  thal_3  \n",
       "0  ...        0     1     0     0     0     0       0       1       0       0  \n",
       "1  ...        0     1     0     0     0     0       0       0       1       0  \n",
       "2  ...        1     1     0     0     0     0       0       0       1       0  \n",
       "3  ...        1     1     0     0     0     0       0       0       1       0  \n",
       "4  ...        1     1     0     0     0     0       0       0       1       0  \n",
       "\n",
       "[5 rows x 31 columns]"
      ]
     },
     "execution_count": 42,
     "metadata": {},
     "output_type": "execute_result"
    }
   ],
   "source": [
    "dataframe.head()"
   ]
  },
  {
   "cell_type": "code",
   "execution_count": 43,
   "metadata": {
    "execution": {
     "iopub.execute_input": "2020-11-21T06:21:33.229801Z",
     "iopub.status.busy": "2020-11-21T06:21:33.228953Z",
     "iopub.status.idle": "2020-11-21T06:21:33.233504Z",
     "shell.execute_reply": "2020-11-21T06:21:33.232795Z"
    },
    "papermill": {
     "duration": 0.150189,
     "end_time": "2020-11-21T06:21:33.233657",
     "exception": false,
     "start_time": "2020-11-21T06:21:33.083468",
     "status": "completed"
    },
    "tags": []
   },
   "outputs": [
    {
     "data": {
      "text/plain": [
       "Index(['age', 'trestbps', 'chol', 'thalach', 'oldpeak', 'target', 'sex_0',\n",
       "       'sex_1', 'cp_0', 'cp_1', 'cp_2', 'cp_3', 'fbs_0', 'fbs_1', 'restecg_0',\n",
       "       'restecg_1', 'restecg_2', 'exang_0', 'exang_1', 'slope_0', 'slope_1',\n",
       "       'slope_2', 'ca_0', 'ca_1', 'ca_2', 'ca_3', 'ca_4', 'thal_0', 'thal_1',\n",
       "       'thal_2', 'thal_3'],\n",
       "      dtype='object')"
      ]
     },
     "execution_count": 43,
     "metadata": {},
     "output_type": "execute_result"
    }
   ],
   "source": [
    "dataframe.columns"
   ]
  },
  {
   "cell_type": "markdown",
   "metadata": {
    "papermill": {
     "duration": 0.138127,
     "end_time": "2020-11-21T06:21:33.510735",
     "exception": false,
     "start_time": "2020-11-21T06:21:33.372608",
     "status": "completed"
    },
    "tags": []
   },
   "source": [
    "Before we scale the data, we need to split the data into train and test. We can not apply scaling before splitting because test set is the real world data which the trained model would have never seen. Therefore, we will scale the test data according to the train data"
   ]
  },
  {
   "cell_type": "code",
   "execution_count": 44,
   "metadata": {
    "execution": {
     "iopub.execute_input": "2020-11-21T06:21:33.800629Z",
     "iopub.status.busy": "2020-11-21T06:21:33.799638Z",
     "iopub.status.idle": "2020-11-21T06:21:33.803372Z",
     "shell.execute_reply": "2020-11-21T06:21:33.802612Z"
    },
    "papermill": {
     "duration": 0.150745,
     "end_time": "2020-11-21T06:21:33.803502",
     "exception": false,
     "start_time": "2020-11-21T06:21:33.652757",
     "status": "completed"
    },
    "tags": []
   },
   "outputs": [],
   "source": [
    "X = dataframe.drop('target', axis = 1)\n",
    "y = dataframe['target']"
   ]
  },
  {
   "cell_type": "code",
   "execution_count": 45,
   "metadata": {
    "execution": {
     "iopub.execute_input": "2020-11-21T06:21:34.094785Z",
     "iopub.status.busy": "2020-11-21T06:21:34.093962Z",
     "iopub.status.idle": "2020-11-21T06:21:34.227070Z",
     "shell.execute_reply": "2020-11-21T06:21:34.226248Z"
    },
    "papermill": {
     "duration": 0.28445,
     "end_time": "2020-11-21T06:21:34.227204",
     "exception": false,
     "start_time": "2020-11-21T06:21:33.942754",
     "status": "completed"
    },
    "tags": []
   },
   "outputs": [],
   "source": [
    "from sklearn.model_selection import train_test_split\n",
    "X_train, X_test, y_train, y_test = train_test_split(X, y, test_size = 0.25, random_state = 0)"
   ]
  },
  {
   "cell_type": "code",
   "execution_count": 46,
   "metadata": {
    "execution": {
     "iopub.execute_input": "2020-11-21T06:21:34.512652Z",
     "iopub.status.busy": "2020-11-21T06:21:34.511807Z",
     "iopub.status.idle": "2020-11-21T06:21:34.515827Z",
     "shell.execute_reply": "2020-11-21T06:21:34.515185Z"
    },
    "papermill": {
     "duration": 0.148741,
     "end_time": "2020-11-21T06:21:34.515964",
     "exception": false,
     "start_time": "2020-11-21T06:21:34.367223",
     "status": "completed"
    },
    "tags": []
   },
   "outputs": [],
   "source": [
    "from sklearn.preprocessing import StandardScaler\n",
    "sc = StandardScaler()"
   ]
  },
  {
   "cell_type": "code",
   "execution_count": 47,
   "metadata": {
    "execution": {
     "iopub.execute_input": "2020-11-21T06:21:34.815258Z",
     "iopub.status.busy": "2020-11-21T06:21:34.814362Z",
     "iopub.status.idle": "2020-11-21T06:21:34.824387Z",
     "shell.execute_reply": "2020-11-21T06:21:34.823780Z"
    },
    "papermill": {
     "duration": 0.163873,
     "end_time": "2020-11-21T06:21:34.824547",
     "exception": false,
     "start_time": "2020-11-21T06:21:34.660674",
     "status": "completed"
    },
    "tags": []
   },
   "outputs": [],
   "source": [
    "X_train_std = sc.fit_transform(X_train)\n",
    "X_test = sc.transform(X_test)"
   ]
  },
  {
   "cell_type": "code",
   "execution_count": 48,
   "metadata": {
    "execution": {
     "iopub.execute_input": "2020-11-21T06:21:35.114190Z",
     "iopub.status.busy": "2020-11-21T06:21:35.113193Z",
     "iopub.status.idle": "2020-11-21T06:21:35.118066Z",
     "shell.execute_reply": "2020-11-21T06:21:35.118689Z"
    },
    "papermill": {
     "duration": 0.152917,
     "end_time": "2020-11-21T06:21:35.118847",
     "exception": false,
     "start_time": "2020-11-21T06:21:34.965930",
     "status": "completed"
    },
    "tags": []
   },
   "outputs": [
    {
     "data": {
      "text/plain": [
       "array([[ 0.35256528,  0.02020565, -0.43596979, ..., -0.27537136,\n",
       "        -1.08751658,  1.28044324],\n",
       "       [-0.31068598, -1.1409796 , -0.32539421, ..., -0.27537136,\n",
       "         0.91952621, -0.78097956],\n",
       "       [-0.08960223,  1.06527237, -0.28853568, ..., -0.27537136,\n",
       "        -1.08751658,  1.28044324],\n",
       "       ...,\n",
       "       [ 0.13148153, -0.6765055 , -1.00727693, ..., -0.27537136,\n",
       "        -1.08751658,  1.28044324],\n",
       "       [-0.86339537,  0.36856122,  0.17219589, ..., -0.27537136,\n",
       "         0.91952621, -0.78097956],\n",
       "       [ 0.35256528, -0.6765055 ,  0.66978598, ..., -0.27537136,\n",
       "         0.91952621, -0.78097956]])"
      ]
     },
     "execution_count": 48,
     "metadata": {},
     "output_type": "execute_result"
    }
   ],
   "source": [
    "X_train_std"
   ]
  },
  {
   "cell_type": "code",
   "execution_count": 49,
   "metadata": {
    "execution": {
     "iopub.execute_input": "2020-11-21T06:21:35.405051Z",
     "iopub.status.busy": "2020-11-21T06:21:35.404039Z",
     "iopub.status.idle": "2020-11-21T06:21:35.408678Z",
     "shell.execute_reply": "2020-11-21T06:21:35.407936Z"
    },
    "papermill": {
     "duration": 0.152026,
     "end_time": "2020-11-21T06:21:35.408807",
     "exception": false,
     "start_time": "2020-11-21T06:21:35.256781",
     "status": "completed"
    },
    "tags": []
   },
   "outputs": [
    {
     "data": {
      "text/plain": [
       "array([[ 1.67906782,  0.77497606, -1.35743293, ..., -0.27537136,\n",
       "        -1.08751658,  1.28044324],\n",
       "       [ 1.01581655,  2.22645762, -0.380682  , ..., -0.27537136,\n",
       "        -1.08751658,  1.28044324],\n",
       "       [ 0.46310716,  2.22645762,  0.74350304, ..., -0.27537136,\n",
       "        -1.08751658,  1.28044324],\n",
       "       ...,\n",
       "       [ 0.02093965,  1.64586499,  0.7619323 , ..., -0.27537136,\n",
       "        -1.08751658,  1.28044324],\n",
       "       [ 1.12635843,  1.06527237, -0.41754052, ..., -0.27537136,\n",
       "        -1.08751658,  1.28044324],\n",
       "       [-0.42122786, -1.25709813, -1.33900366, ..., -0.27537136,\n",
       "         0.91952621, -0.78097956]])"
      ]
     },
     "execution_count": 49,
     "metadata": {},
     "output_type": "execute_result"
    }
   ],
   "source": [
    "X_test"
   ]
  },
  {
   "cell_type": "markdown",
   "metadata": {
    "papermill": {
     "duration": 0.140111,
     "end_time": "2020-11-21T06:21:35.692704",
     "exception": false,
     "start_time": "2020-11-21T06:21:35.552593",
     "status": "completed"
    },
    "tags": []
   },
   "source": [
    "We can see that both X_train and X_test has been scaled. Now we can apply Machine Learning Algorithms."
   ]
  },
  {
   "cell_type": "markdown",
   "metadata": {
    "papermill": {
     "duration": 0.143891,
     "end_time": "2020-11-21T06:21:35.978287",
     "exception": false,
     "start_time": "2020-11-21T06:21:35.834396",
     "status": "completed"
    },
    "tags": []
   },
   "source": [
    "# 4. Training Machine Learning Algorithms"
   ]
  },
  {
   "cell_type": "markdown",
   "metadata": {
    "papermill": {
     "duration": 0.141826,
     "end_time": "2020-11-21T06:21:36.260247",
     "exception": false,
     "start_time": "2020-11-21T06:21:36.118421",
     "status": "completed"
    },
    "tags": []
   },
   "source": [
    "Before we train any model, I will create a function which will help to evaluate the model."
   ]
  },
  {
   "cell_type": "code",
   "execution_count": 50,
   "metadata": {
    "execution": {
     "iopub.execute_input": "2020-11-21T06:21:36.547912Z",
     "iopub.status.busy": "2020-11-21T06:21:36.547140Z",
     "iopub.status.idle": "2020-11-21T06:21:36.551332Z",
     "shell.execute_reply": "2020-11-21T06:21:36.550292Z"
    },
    "papermill": {
     "duration": 0.148646,
     "end_time": "2020-11-21T06:21:36.551546",
     "exception": false,
     "start_time": "2020-11-21T06:21:36.402900",
     "status": "completed"
    },
    "tags": []
   },
   "outputs": [],
   "source": [
    "from sklearn.metrics import accuracy_score, f1_score, classification_report, confusion_matrix"
   ]
  },
  {
   "cell_type": "code",
   "execution_count": 51,
   "metadata": {
    "execution": {
     "iopub.execute_input": "2020-11-21T06:21:36.875543Z",
     "iopub.status.busy": "2020-11-21T06:21:36.874633Z",
     "iopub.status.idle": "2020-11-21T06:21:36.878549Z",
     "shell.execute_reply": "2020-11-21T06:21:36.877831Z"
    },
    "papermill": {
     "duration": 0.159776,
     "end_time": "2020-11-21T06:21:36.878687",
     "exception": false,
     "start_time": "2020-11-21T06:21:36.718911",
     "status": "completed"
    },
    "tags": []
   },
   "outputs": [],
   "source": [
    "def evaluation(model, x_train_std, y_train, x_test, y_test, train = True):\n",
    "    if train == True:\n",
    "        pred = model.predict(x_train_std)\n",
    "        classifier_report = pd.DataFrame(classification_report(y_train, pred, output_dict = True))\n",
    "        print(\"Train Result:\\n================================================\")\n",
    "        print(f\"Accuracy Score: {accuracy_score(y_train, pred) * 100:.2f}%\")\n",
    "        print(\"_______________________________________________\")\n",
    "        print(f\"F1 Score: {round(f1_score(y_train, pred), 2)}\")\n",
    "        print(\"_______________________________________________\")\n",
    "        print(f\"CLASSIFICATION REPORT:\\n{classifier_report}\")\n",
    "        print(\"_______________________________________________\")\n",
    "        print(f\"Confusion Matrix: \\n {confusion_matrix(y_train, pred)}\\n\")\n",
    "        \n",
    "    if train == False:\n",
    "        pred = model.predict(x_test)\n",
    "        classifier_report = pd.DataFrame(classification_report(y_test, pred, output_dict = True))\n",
    "        print(\"Test Result:\\n================================================\")\n",
    "        print(f\"Accuracy Score: {accuracy_score(y_test, pred) * 100:.2f}%\")\n",
    "        print(\"_______________________________________________\")\n",
    "        print(f\"F1 Score: {round(f1_score(y_test, pred), 2)}\")\n",
    "        print(\"_______________________________________________\")\n",
    "        print(f\"CLASSIFICATION REPORT:\\n{classifier_report}\")\n",
    "        print(\"_______________________________________________\")\n",
    "        print(f\"Confusion Matrix: \\n {confusion_matrix(y_test, pred)}\\n\")"
   ]
  },
  {
   "cell_type": "markdown",
   "metadata": {
    "papermill": {
     "duration": 0.145436,
     "end_time": "2020-11-21T06:21:37.166102",
     "exception": false,
     "start_time": "2020-11-21T06:21:37.020666",
     "status": "completed"
    },
    "tags": []
   },
   "source": [
    "### Logistic Regression"
   ]
  },
  {
   "cell_type": "code",
   "execution_count": 52,
   "metadata": {
    "execution": {
     "iopub.execute_input": "2020-11-21T06:21:37.475771Z",
     "iopub.status.busy": "2020-11-21T06:21:37.474953Z",
     "iopub.status.idle": "2020-11-21T06:21:37.609133Z",
     "shell.execute_reply": "2020-11-21T06:21:37.609857Z"
    },
    "papermill": {
     "duration": 0.290321,
     "end_time": "2020-11-21T06:21:37.610036",
     "exception": false,
     "start_time": "2020-11-21T06:21:37.319715",
     "status": "completed"
    },
    "tags": []
   },
   "outputs": [
    {
     "name": "stdout",
     "output_type": "stream",
     "text": [
      "Train Result:\n",
      "================================================\n",
      "Accuracy Score: 88.55%\n",
      "_______________________________________________\n",
      "F1 Score: 0.9\n",
      "_______________________________________________\n",
      "CLASSIFICATION REPORT:\n",
      "                    0           1  accuracy   macro avg  weighted avg\n",
      "precision    0.891089    0.880952  0.885463    0.886021      0.885641\n",
      "recall       0.857143    0.909836  0.885463    0.883489      0.885463\n",
      "f1-score     0.873786    0.895161  0.885463    0.884474      0.885274\n",
      "support    105.000000  122.000000  0.885463  227.000000    227.000000\n",
      "_______________________________________________\n",
      "Confusion Matrix: \n",
      " [[ 90  15]\n",
      " [ 11 111]]\n",
      "\n",
      "Test Result:\n",
      "================================================\n",
      "Accuracy Score: 86.84%\n",
      "_______________________________________________\n",
      "F1 Score: 0.89\n",
      "_______________________________________________\n",
      "CLASSIFICATION REPORT:\n",
      "                   0          1  accuracy  macro avg  weighted avg\n",
      "precision   0.896552   0.851064  0.868421   0.873808      0.870815\n",
      "recall      0.787879   0.930233  0.868421   0.859056      0.868421\n",
      "f1-score    0.838710   0.888889  0.868421   0.863799      0.867101\n",
      "support    33.000000  43.000000  0.868421  76.000000     76.000000\n",
      "_______________________________________________\n",
      "Confusion Matrix: \n",
      " [[26  7]\n",
      " [ 3 40]]\n",
      "\n"
     ]
    }
   ],
   "source": [
    "from sklearn.linear_model import LogisticRegression\n",
    "\n",
    "lr = LogisticRegression(solver = 'liblinear')\n",
    "lr.fit(X_train_std, y_train)\n",
    "\n",
    "evaluation(lr, X_train_std, y_train, X_test, y_test, True)\n",
    "evaluation(lr, X_train_std, y_train, X_test, y_test, False)"
   ]
  },
  {
   "cell_type": "markdown",
   "metadata": {
    "papermill": {
     "duration": 0.142056,
     "end_time": "2020-11-21T06:21:37.897006",
     "exception": false,
     "start_time": "2020-11-21T06:21:37.754950",
     "status": "completed"
    },
    "tags": []
   },
   "source": [
    "Through Logistic Regression we were able to achieve Training Accuracy of 88.55 % and Testing Accuracy of 86.84 %."
   ]
  },
  {
   "cell_type": "code",
   "execution_count": 53,
   "metadata": {
    "execution": {
     "iopub.execute_input": "2020-11-21T06:21:38.187644Z",
     "iopub.status.busy": "2020-11-21T06:21:38.186667Z",
     "iopub.status.idle": "2020-11-21T06:21:38.190102Z",
     "shell.execute_reply": "2020-11-21T06:21:38.189426Z"
    },
    "papermill": {
     "duration": 0.153538,
     "end_time": "2020-11-21T06:21:38.190230",
     "exception": false,
     "start_time": "2020-11-21T06:21:38.036692",
     "status": "completed"
    },
    "tags": []
   },
   "outputs": [],
   "source": [
    "train_score_lr = round(accuracy_score(y_train, lr.predict(X_train_std)) * 100, 2)\n",
    "test_score_lr = round(accuracy_score(y_test, lr.predict(X_test)) * 100, 2)"
   ]
  },
  {
   "cell_type": "markdown",
   "metadata": {
    "papermill": {
     "duration": 0.139792,
     "end_time": "2020-11-21T06:21:38.470940",
     "exception": false,
     "start_time": "2020-11-21T06:21:38.331148",
     "status": "completed"
    },
    "tags": []
   },
   "source": [
    "### Random Forest Classifier"
   ]
  },
  {
   "cell_type": "code",
   "execution_count": 54,
   "metadata": {
    "execution": {
     "iopub.execute_input": "2020-11-21T06:21:38.764177Z",
     "iopub.status.busy": "2020-11-21T06:21:38.763347Z",
     "iopub.status.idle": "2020-11-21T06:21:39.963138Z",
     "shell.execute_reply": "2020-11-21T06:21:39.964137Z"
    },
    "papermill": {
     "duration": 1.349486,
     "end_time": "2020-11-21T06:21:39.964469",
     "exception": false,
     "start_time": "2020-11-21T06:21:38.614983",
     "status": "completed"
    },
    "tags": []
   },
   "outputs": [
    {
     "name": "stdout",
     "output_type": "stream",
     "text": [
      "Train Result:\n",
      "================================================\n",
      "Accuracy Score: 100.00%\n",
      "_______________________________________________\n",
      "F1 Score: 1.0\n",
      "_______________________________________________\n",
      "CLASSIFICATION REPORT:\n",
      "               0      1  accuracy  macro avg  weighted avg\n",
      "precision    1.0    1.0       1.0        1.0           1.0\n",
      "recall       1.0    1.0       1.0        1.0           1.0\n",
      "f1-score     1.0    1.0       1.0        1.0           1.0\n",
      "support    105.0  122.0       1.0      227.0         227.0\n",
      "_______________________________________________\n",
      "Confusion Matrix: \n",
      " [[105   0]\n",
      " [  0 122]]\n",
      "\n",
      "Test Result:\n",
      "================================================\n",
      "Accuracy Score: 84.21%\n",
      "_______________________________________________\n",
      "F1 Score: 0.86\n",
      "_______________________________________________\n",
      "CLASSIFICATION REPORT:\n",
      "                   0          1  accuracy  macro avg  weighted avg\n",
      "precision   0.838710   0.844444  0.842105   0.841577      0.841954\n",
      "recall      0.787879   0.883721  0.842105   0.835800      0.842105\n",
      "f1-score    0.812500   0.863636  0.842105   0.838068      0.841432\n",
      "support    33.000000  43.000000  0.842105  76.000000     76.000000\n",
      "_______________________________________________\n",
      "Confusion Matrix: \n",
      " [[26  7]\n",
      " [ 5 38]]\n",
      "\n"
     ]
    }
   ],
   "source": [
    "from sklearn.ensemble import RandomForestClassifier\n",
    "\n",
    "rfc = RandomForestClassifier(n_estimators = 400)\n",
    "rfc.fit(X_train_std, y_train)\n",
    "\n",
    "evaluation(rfc, X_train_std, y_train, X_test, y_test, True)\n",
    "evaluation(rfc, X_train_std, y_train, X_test, y_test, False)"
   ]
  },
  {
   "cell_type": "markdown",
   "metadata": {
    "papermill": {
     "duration": 0.144207,
     "end_time": "2020-11-21T06:21:40.253677",
     "exception": false,
     "start_time": "2020-11-21T06:21:40.109470",
     "status": "completed"
    },
    "tags": []
   },
   "source": [
    "Through Random Forest Classifier we were able to achieve Training Accuracy of 100 % and Testing Accuracy of 84.21 %."
   ]
  },
  {
   "cell_type": "code",
   "execution_count": 55,
   "metadata": {
    "execution": {
     "iopub.execute_input": "2020-11-21T06:21:40.550188Z",
     "iopub.status.busy": "2020-11-21T06:21:40.548974Z",
     "iopub.status.idle": "2020-11-21T06:21:40.650103Z",
     "shell.execute_reply": "2020-11-21T06:21:40.649455Z"
    },
    "papermill": {
     "duration": 0.254297,
     "end_time": "2020-11-21T06:21:40.650238",
     "exception": false,
     "start_time": "2020-11-21T06:21:40.395941",
     "status": "completed"
    },
    "tags": []
   },
   "outputs": [],
   "source": [
    "train_score_rfc = round(accuracy_score(y_train, rfc.predict(X_train_std)) * 100, 2)\n",
    "test_score_rfc = round(accuracy_score(y_test, rfc.predict(X_test)) * 100, 2)"
   ]
  },
  {
   "cell_type": "markdown",
   "metadata": {
    "papermill": {
     "duration": 0.149904,
     "end_time": "2020-11-21T06:21:40.939561",
     "exception": false,
     "start_time": "2020-11-21T06:21:40.789657",
     "status": "completed"
    },
    "tags": []
   },
   "source": [
    "Now we will determine the right number of n_estimators to be used:"
   ]
  },
  {
   "cell_type": "code",
   "execution_count": 56,
   "metadata": {
    "execution": {
     "iopub.execute_input": "2020-11-21T06:21:41.242899Z",
     "iopub.status.busy": "2020-11-21T06:21:41.239021Z",
     "iopub.status.idle": "2020-11-21T06:21:52.273566Z",
     "shell.execute_reply": "2020-11-21T06:21:52.272770Z"
    },
    "papermill": {
     "duration": 11.186419,
     "end_time": "2020-11-21T06:21:52.273701",
     "exception": false,
     "start_time": "2020-11-21T06:21:41.087282",
     "status": "completed"
    },
    "tags": []
   },
   "outputs": [
    {
     "name": "stdout",
     "output_type": "stream",
     "text": [
      "[0.7368421052631579, 0.8552631578947368, 0.8552631578947368, 0.8421052631578947, 0.8552631578947368, 0.8552631578947368, 0.8421052631578947, 0.8421052631578947, 0.8552631578947368, 0.8552631578947368]\n"
     ]
    }
   ],
   "source": [
    "accuracy_scores = []\n",
    "for i in range(1, 1000, 100):\n",
    "    rfc = RandomForestClassifier(n_estimators = i)\n",
    "    rfc.fit(X_train_std, y_train)\n",
    "    accuracy_scores.append(accuracy_score(y_test, rfc.predict(X_test)))\n",
    "print(accuracy_scores)"
   ]
  },
  {
   "cell_type": "markdown",
   "metadata": {
    "papermill": {
     "duration": 0.144496,
     "end_time": "2020-11-21T06:21:52.563094",
     "exception": false,
     "start_time": "2020-11-21T06:21:52.418598",
     "status": "completed"
    },
    "tags": []
   },
   "source": [
    "We can see that having 500 number of trees gives the highest accuracy hence we have used 500 above."
   ]
  },
  {
   "cell_type": "markdown",
   "metadata": {
    "papermill": {
     "duration": 0.1414,
     "end_time": "2020-11-21T06:21:52.848213",
     "exception": false,
     "start_time": "2020-11-21T06:21:52.706813",
     "status": "completed"
    },
    "tags": []
   },
   "source": [
    "### K Nearest Neighbor"
   ]
  },
  {
   "cell_type": "code",
   "execution_count": 57,
   "metadata": {
    "execution": {
     "iopub.execute_input": "2020-11-21T06:21:53.143821Z",
     "iopub.status.busy": "2020-11-21T06:21:53.142953Z",
     "iopub.status.idle": "2020-11-21T06:21:53.146607Z",
     "shell.execute_reply": "2020-11-21T06:21:53.145840Z"
    },
    "papermill": {
     "duration": 0.156185,
     "end_time": "2020-11-21T06:21:53.146739",
     "exception": false,
     "start_time": "2020-11-21T06:21:52.990554",
     "status": "completed"
    },
    "tags": []
   },
   "outputs": [],
   "source": [
    "from sklearn.neighbors import KNeighborsClassifier"
   ]
  },
  {
   "cell_type": "markdown",
   "metadata": {
    "papermill": {
     "duration": 0.141648,
     "end_time": "2020-11-21T06:21:53.432253",
     "exception": false,
     "start_time": "2020-11-21T06:21:53.290605",
     "status": "completed"
    },
    "tags": []
   },
   "source": [
    "Deciding the right number of Neighbors."
   ]
  },
  {
   "cell_type": "code",
   "execution_count": 58,
   "metadata": {
    "execution": {
     "iopub.execute_input": "2020-11-21T06:21:53.732584Z",
     "iopub.status.busy": "2020-11-21T06:21:53.729652Z",
     "iopub.status.idle": "2020-11-21T06:21:53.794365Z",
     "shell.execute_reply": "2020-11-21T06:21:53.793610Z"
    },
    "papermill": {
     "duration": 0.217199,
     "end_time": "2020-11-21T06:21:53.794490",
     "exception": false,
     "start_time": "2020-11-21T06:21:53.577291",
     "status": "completed"
    },
    "tags": []
   },
   "outputs": [
    {
     "name": "stdout",
     "output_type": "stream",
     "text": [
      "[0.8157894736842105, 0.7763157894736842, 0.8421052631578947, 0.8157894736842105, 0.8421052631578947, 0.8289473684210527, 0.8289473684210527, 0.8552631578947368, 0.8289473684210527]\n"
     ]
    }
   ],
   "source": [
    "accuracy_scores = []\n",
    "\n",
    "for i in range(1, 10):\n",
    "    knn = KNeighborsClassifier(n_neighbors = i)\n",
    "    knn.fit(X_train_std, y_train)\n",
    "    accuracy_scores.append(accuracy_score(y_test, knn.predict(X_test)))\n",
    "    \n",
    "print(accuracy_scores)"
   ]
  },
  {
   "cell_type": "markdown",
   "metadata": {
    "papermill": {
     "duration": 0.143634,
     "end_time": "2020-11-21T06:21:54.080124",
     "exception": false,
     "start_time": "2020-11-21T06:21:53.936490",
     "status": "completed"
    },
    "tags": []
   },
   "source": [
    "For now we will take the number of neighbors to be 9. "
   ]
  },
  {
   "cell_type": "code",
   "execution_count": 59,
   "metadata": {
    "execution": {
     "iopub.execute_input": "2020-11-21T06:21:54.376880Z",
     "iopub.status.busy": "2020-11-21T06:21:54.376038Z",
     "iopub.status.idle": "2020-11-21T06:21:54.639898Z",
     "shell.execute_reply": "2020-11-21T06:21:54.638904Z"
    },
    "papermill": {
     "duration": 0.417829,
     "end_time": "2020-11-21T06:21:54.640089",
     "exception": false,
     "start_time": "2020-11-21T06:21:54.222260",
     "status": "completed"
    },
    "tags": []
   },
   "outputs": [
    {
     "name": "stdout",
     "output_type": "stream",
     "text": [
      "Train Result:\n",
      "================================================\n",
      "Accuracy Score: 87.22%\n",
      "_______________________________________________\n",
      "F1 Score: 0.89\n",
      "_______________________________________________\n",
      "CLASSIFICATION REPORT:\n",
      "                    0           1  accuracy   macro avg  weighted avg\n",
      "precision    0.895833    0.854962  0.872247    0.875398      0.873867\n",
      "recall       0.819048    0.918033  0.872247    0.868540      0.872247\n",
      "f1-score     0.855721    0.885375  0.872247    0.870548      0.871659\n",
      "support    105.000000  122.000000  0.872247  227.000000    227.000000\n",
      "_______________________________________________\n",
      "Confusion Matrix: \n",
      " [[ 86  19]\n",
      " [ 10 112]]\n",
      "\n",
      "Test Result:\n",
      "================================================\n",
      "Accuracy Score: 84.21%\n",
      "_______________________________________________\n",
      "F1 Score: 0.87\n",
      "_______________________________________________\n",
      "CLASSIFICATION REPORT:\n",
      "                   0          1  accuracy  macro avg  weighted avg\n",
      "precision   0.862069   0.829787  0.842105   0.845928      0.843804\n",
      "recall      0.757576   0.906977  0.842105   0.832276      0.842105\n",
      "f1-score    0.806452   0.866667  0.842105   0.836559      0.840521\n",
      "support    33.000000  43.000000  0.842105  76.000000     76.000000\n",
      "_______________________________________________\n",
      "Confusion Matrix: \n",
      " [[25  8]\n",
      " [ 4 39]]\n",
      "\n"
     ]
    }
   ],
   "source": [
    "knn = KNeighborsClassifier(n_jobs = 9)\n",
    "knn.fit(X_train_std, y_train)\n",
    "\n",
    "evaluation(knn, X_train_std, y_train, X_test, y_test, True)\n",
    "evaluation(knn, X_train_std, y_train, X_test, y_test, False)"
   ]
  },
  {
   "cell_type": "code",
   "execution_count": 60,
   "metadata": {
    "execution": {
     "iopub.execute_input": "2020-11-21T06:21:54.938642Z",
     "iopub.status.busy": "2020-11-21T06:21:54.937829Z",
     "iopub.status.idle": "2020-11-21T06:21:55.162098Z",
     "shell.execute_reply": "2020-11-21T06:21:55.161305Z"
    },
    "papermill": {
     "duration": 0.374615,
     "end_time": "2020-11-21T06:21:55.162250",
     "exception": false,
     "start_time": "2020-11-21T06:21:54.787635",
     "status": "completed"
    },
    "tags": []
   },
   "outputs": [],
   "source": [
    "train_score_knn = round(accuracy_score(y_train, knn.predict(X_train_std)) * 100, 2)\n",
    "test_score_knn = round(accuracy_score(y_test, knn.predict(X_test)) * 100, 2)"
   ]
  },
  {
   "cell_type": "markdown",
   "metadata": {
    "papermill": {
     "duration": 0.145355,
     "end_time": "2020-11-21T06:21:55.450066",
     "exception": false,
     "start_time": "2020-11-21T06:21:55.304711",
     "status": "completed"
    },
    "tags": []
   },
   "source": [
    "### Support Vector Machine"
   ]
  },
  {
   "cell_type": "code",
   "execution_count": 61,
   "metadata": {
    "execution": {
     "iopub.execute_input": "2020-11-21T06:21:55.743284Z",
     "iopub.status.busy": "2020-11-21T06:21:55.742455Z",
     "iopub.status.idle": "2020-11-21T06:21:55.785206Z",
     "shell.execute_reply": "2020-11-21T06:21:55.784605Z"
    },
    "papermill": {
     "duration": 0.192794,
     "end_time": "2020-11-21T06:21:55.785348",
     "exception": false,
     "start_time": "2020-11-21T06:21:55.592554",
     "status": "completed"
    },
    "tags": []
   },
   "outputs": [
    {
     "name": "stdout",
     "output_type": "stream",
     "text": [
      "Train Result:\n",
      "================================================\n",
      "Accuracy Score: 97.36%\n",
      "_______________________________________________\n",
      "F1 Score: 0.98\n",
      "_______________________________________________\n",
      "CLASSIFICATION REPORT:\n",
      "                    0           1  accuracy   macro avg  weighted avg\n",
      "precision    0.980583    0.967742  0.973568    0.974162      0.973681\n",
      "recall       0.961905    0.983607  0.973568    0.972756      0.973568\n",
      "f1-score     0.971154    0.975610  0.973568    0.973382      0.973549\n",
      "support    105.000000  122.000000  0.973568  227.000000    227.000000\n",
      "_______________________________________________\n",
      "Confusion Matrix: \n",
      " [[101   4]\n",
      " [  2 120]]\n",
      "\n",
      "Test Result:\n",
      "================================================\n",
      "Accuracy Score: 84.21%\n",
      "_______________________________________________\n",
      "F1 Score: 0.86\n",
      "_______________________________________________\n",
      "CLASSIFICATION REPORT:\n",
      "                   0          1  accuracy  macro avg  weighted avg\n",
      "precision   0.800000   0.878049  0.842105   0.839024      0.844159\n",
      "recall      0.848485   0.837209  0.842105   0.842847      0.842105\n",
      "f1-score    0.823529   0.857143  0.842105   0.840336      0.842548\n",
      "support    33.000000  43.000000  0.842105  76.000000     76.000000\n",
      "_______________________________________________\n",
      "Confusion Matrix: \n",
      " [[28  5]\n",
      " [ 7 36]]\n",
      "\n"
     ]
    }
   ],
   "source": [
    "from sklearn.svm import SVC\n",
    "\n",
    "svm = SVC(kernel='rbf', gamma=0.1, C=1.0)\n",
    "svm.fit(X_train_std, y_train)\n",
    "\n",
    "evaluation(svm, X_train_std, y_train, X_test, y_test, True)\n",
    "evaluation(svm, X_train_std, y_train, X_test, y_test, False)"
   ]
  },
  {
   "cell_type": "code",
   "execution_count": 62,
   "metadata": {
    "execution": {
     "iopub.execute_input": "2020-11-21T06:21:56.079712Z",
     "iopub.status.busy": "2020-11-21T06:21:56.078926Z",
     "iopub.status.idle": "2020-11-21T06:21:56.087824Z",
     "shell.execute_reply": "2020-11-21T06:21:56.087106Z"
    },
    "papermill": {
     "duration": 0.158852,
     "end_time": "2020-11-21T06:21:56.087956",
     "exception": false,
     "start_time": "2020-11-21T06:21:55.929104",
     "status": "completed"
    },
    "tags": []
   },
   "outputs": [],
   "source": [
    "train_score_svm = round(accuracy_score(y_train, svm.predict(X_train_std)) * 100, 2)\n",
    "test_score_svm = round(accuracy_score(y_test, svm.predict(X_test)) * 100, 2)"
   ]
  },
  {
   "cell_type": "markdown",
   "metadata": {
    "papermill": {
     "duration": 0.143646,
     "end_time": "2020-11-21T06:21:56.377048",
     "exception": false,
     "start_time": "2020-11-21T06:21:56.233402",
     "status": "completed"
    },
    "tags": []
   },
   "source": [
    "### Summary"
   ]
  },
  {
   "cell_type": "code",
   "execution_count": 63,
   "metadata": {
    "execution": {
     "iopub.execute_input": "2020-11-21T06:21:56.673403Z",
     "iopub.status.busy": "2020-11-21T06:21:56.672627Z",
     "iopub.status.idle": "2020-11-21T06:21:56.676629Z",
     "shell.execute_reply": "2020-11-21T06:21:56.675931Z"
    },
    "papermill": {
     "duration": 0.157,
     "end_time": "2020-11-21T06:21:56.676773",
     "exception": false,
     "start_time": "2020-11-21T06:21:56.519773",
     "status": "completed"
    },
    "tags": []
   },
   "outputs": [],
   "source": [
    "models = {\n",
    "           'Train Accuracy': [train_score_lr, train_score_rfc, train_score_knn, train_score_svm],\n",
    "          'Test Accuracy' : [test_score_lr, test_score_rfc, test_score_knn, test_score_svm]\n",
    "         }\n",
    "\n",
    "models = pd.DataFrame(models, index = ['Logistic Regression', 'Random Forest Classifier', 'K-Nearest Neighbor', 'Support Vector Machine'])"
   ]
  },
  {
   "cell_type": "code",
   "execution_count": 64,
   "metadata": {
    "execution": {
     "iopub.execute_input": "2020-11-21T06:21:56.980092Z",
     "iopub.status.busy": "2020-11-21T06:21:56.979168Z",
     "iopub.status.idle": "2020-11-21T06:21:56.984783Z",
     "shell.execute_reply": "2020-11-21T06:21:56.984135Z"
    },
    "papermill": {
     "duration": 0.164512,
     "end_time": "2020-11-21T06:21:56.984923",
     "exception": false,
     "start_time": "2020-11-21T06:21:56.820411",
     "status": "completed"
    },
    "tags": []
   },
   "outputs": [
    {
     "data": {
      "text/html": [
       "<div>\n",
       "<style scoped>\n",
       "    .dataframe tbody tr th:only-of-type {\n",
       "        vertical-align: middle;\n",
       "    }\n",
       "\n",
       "    .dataframe tbody tr th {\n",
       "        vertical-align: top;\n",
       "    }\n",
       "\n",
       "    .dataframe thead th {\n",
       "        text-align: right;\n",
       "    }\n",
       "</style>\n",
       "<table border=\"1\" class=\"dataframe\">\n",
       "  <thead>\n",
       "    <tr style=\"text-align: right;\">\n",
       "      <th></th>\n",
       "      <th>Train Accuracy</th>\n",
       "      <th>Test Accuracy</th>\n",
       "    </tr>\n",
       "  </thead>\n",
       "  <tbody>\n",
       "    <tr>\n",
       "      <th>Logistic Regression</th>\n",
       "      <td>88.55</td>\n",
       "      <td>86.84</td>\n",
       "    </tr>\n",
       "    <tr>\n",
       "      <th>Random Forest Classifier</th>\n",
       "      <td>100.00</td>\n",
       "      <td>84.21</td>\n",
       "    </tr>\n",
       "    <tr>\n",
       "      <th>K-Nearest Neighbor</th>\n",
       "      <td>87.22</td>\n",
       "      <td>84.21</td>\n",
       "    </tr>\n",
       "    <tr>\n",
       "      <th>Support Vector Machine</th>\n",
       "      <td>97.36</td>\n",
       "      <td>84.21</td>\n",
       "    </tr>\n",
       "  </tbody>\n",
       "</table>\n",
       "</div>"
      ],
      "text/plain": [
       "                          Train Accuracy  Test Accuracy\n",
       "Logistic Regression                88.55          86.84\n",
       "Random Forest Classifier          100.00          84.21\n",
       "K-Nearest Neighbor                 87.22          84.21\n",
       "Support Vector Machine             97.36          84.21"
      ]
     },
     "execution_count": 64,
     "metadata": {},
     "output_type": "execute_result"
    }
   ],
   "source": [
    "models.head()"
   ]
  },
  {
   "cell_type": "markdown",
   "metadata": {
    "papermill": {
     "duration": 0.146022,
     "end_time": "2020-11-21T06:21:57.279721",
     "exception": false,
     "start_time": "2020-11-21T06:21:57.133699",
     "status": "completed"
    },
    "tags": []
   },
   "source": [
    "# 5. Hyperparameter Tuning"
   ]
  },
  {
   "cell_type": "code",
   "execution_count": 65,
   "metadata": {
    "execution": {
     "iopub.execute_input": "2020-11-21T06:21:57.587426Z",
     "iopub.status.busy": "2020-11-21T06:21:57.586349Z",
     "iopub.status.idle": "2020-11-21T06:21:57.590036Z",
     "shell.execute_reply": "2020-11-21T06:21:57.589268Z"
    },
    "papermill": {
     "duration": 0.161609,
     "end_time": "2020-11-21T06:21:57.590168",
     "exception": false,
     "start_time": "2020-11-21T06:21:57.428559",
     "status": "completed"
    },
    "tags": []
   },
   "outputs": [],
   "source": [
    "from sklearn.model_selection import GridSearchCV"
   ]
  },
  {
   "cell_type": "markdown",
   "metadata": {
    "papermill": {
     "duration": 0.142977,
     "end_time": "2020-11-21T06:21:57.878116",
     "exception": false,
     "start_time": "2020-11-21T06:21:57.735139",
     "status": "completed"
    },
    "tags": []
   },
   "source": [
    "### Logistic Regression with Hyperparameter Tuning"
   ]
  },
  {
   "cell_type": "code",
   "execution_count": 66,
   "metadata": {
    "execution": {
     "iopub.execute_input": "2020-11-21T06:21:58.179800Z",
     "iopub.status.busy": "2020-11-21T06:21:58.178677Z",
     "iopub.status.idle": "2020-11-21T06:21:58.182765Z",
     "shell.execute_reply": "2020-11-21T06:21:58.182014Z"
    },
    "papermill": {
     "duration": 0.156035,
     "end_time": "2020-11-21T06:21:58.182894",
     "exception": false,
     "start_time": "2020-11-21T06:21:58.026859",
     "status": "completed"
    },
    "tags": []
   },
   "outputs": [],
   "source": [
    "params = {\n",
    "        \"C\": np.logspace(-4, 4, 20), # For Regularization\n",
    "          \"solver\": [\"liblinear\"]}\n",
    "\n",
    "lr = LogisticRegression()\n",
    "\n",
    "lr_cv = GridSearchCV(lr, params, scoring = \"accuracy\", n_jobs = -1, verbose = 1, cv = 5)"
   ]
  },
  {
   "cell_type": "code",
   "execution_count": 67,
   "metadata": {
    "execution": {
     "iopub.execute_input": "2020-11-21T06:21:58.484481Z",
     "iopub.status.busy": "2020-11-21T06:21:58.483705Z",
     "iopub.status.idle": "2020-11-21T06:22:01.067541Z",
     "shell.execute_reply": "2020-11-21T06:22:01.068163Z"
    },
    "papermill": {
     "duration": 2.738333,
     "end_time": "2020-11-21T06:22:01.068359",
     "exception": false,
     "start_time": "2020-11-21T06:21:58.330026",
     "status": "completed"
    },
    "tags": []
   },
   "outputs": [
    {
     "name": "stdout",
     "output_type": "stream",
     "text": [
      "Fitting 5 folds for each of 20 candidates, totalling 100 fits\n"
     ]
    },
    {
     "name": "stderr",
     "output_type": "stream",
     "text": [
      "[Parallel(n_jobs=-1)]: Using backend LokyBackend with 4 concurrent workers.\n",
      "[Parallel(n_jobs=-1)]: Done  68 tasks      | elapsed:    2.5s\n",
      "[Parallel(n_jobs=-1)]: Done 100 out of 100 | elapsed:    2.5s finished\n"
     ]
    },
    {
     "data": {
      "text/plain": [
       "GridSearchCV(cv=5, estimator=LogisticRegression(), n_jobs=-1,\n",
       "             param_grid={'C': array([1.00000000e-04, 2.63665090e-04, 6.95192796e-04, 1.83298071e-03,\n",
       "       4.83293024e-03, 1.27427499e-02, 3.35981829e-02, 8.85866790e-02,\n",
       "       2.33572147e-01, 6.15848211e-01, 1.62377674e+00, 4.28133240e+00,\n",
       "       1.12883789e+01, 2.97635144e+01, 7.84759970e+01, 2.06913808e+02,\n",
       "       5.45559478e+02, 1.43844989e+03, 3.79269019e+03, 1.00000000e+04]),\n",
       "                         'solver': ['liblinear']},\n",
       "             scoring='accuracy', verbose=1)"
      ]
     },
     "execution_count": 67,
     "metadata": {},
     "output_type": "execute_result"
    }
   ],
   "source": [
    "lr_cv.fit(X_train_std, y_train)"
   ]
  },
  {
   "cell_type": "code",
   "execution_count": 68,
   "metadata": {
    "execution": {
     "iopub.execute_input": "2020-11-21T06:22:01.375986Z",
     "iopub.status.busy": "2020-11-21T06:22:01.375063Z",
     "iopub.status.idle": "2020-11-21T06:22:01.378647Z",
     "shell.execute_reply": "2020-11-21T06:22:01.379287Z"
    },
    "papermill": {
     "duration": 0.160068,
     "end_time": "2020-11-21T06:22:01.379453",
     "exception": false,
     "start_time": "2020-11-21T06:22:01.219385",
     "status": "completed"
    },
    "tags": []
   },
   "outputs": [
    {
     "name": "stdout",
     "output_type": "stream",
     "text": [
      "Best parameters: {'C': 0.004832930238571752, 'solver': 'liblinear'}\n"
     ]
    }
   ],
   "source": [
    "best_params = lr_cv.best_params_\n",
    "print(f\"Best parameters: {best_params}\")"
   ]
  },
  {
   "cell_type": "code",
   "execution_count": 69,
   "metadata": {
    "execution": {
     "iopub.execute_input": "2020-11-21T06:22:01.691477Z",
     "iopub.status.busy": "2020-11-21T06:22:01.690217Z",
     "iopub.status.idle": "2020-11-21T06:22:01.727724Z",
     "shell.execute_reply": "2020-11-21T06:22:01.726946Z"
    },
    "papermill": {
     "duration": 0.197783,
     "end_time": "2020-11-21T06:22:01.727853",
     "exception": false,
     "start_time": "2020-11-21T06:22:01.530070",
     "status": "completed"
    },
    "tags": []
   },
   "outputs": [
    {
     "name": "stdout",
     "output_type": "stream",
     "text": [
      "Train Result:\n",
      "================================================\n",
      "Accuracy Score: 85.02%\n",
      "_______________________________________________\n",
      "F1 Score: 0.86\n",
      "_______________________________________________\n",
      "CLASSIFICATION REPORT:\n",
      "                    0           1  accuracy   macro avg  weighted avg\n",
      "precision    0.838095    0.860656   0.85022    0.849375       0.85022\n",
      "recall       0.838095    0.860656   0.85022    0.849375       0.85022\n",
      "f1-score     0.838095    0.860656   0.85022    0.849375       0.85022\n",
      "support    105.000000  122.000000   0.85022  227.000000     227.00000\n",
      "_______________________________________________\n",
      "Confusion Matrix: \n",
      " [[ 88  17]\n",
      " [ 17 105]]\n",
      "\n",
      "Test Result:\n",
      "================================================\n",
      "Accuracy Score: 84.21%\n",
      "_______________________________________________\n",
      "F1 Score: 0.86\n",
      "_______________________________________________\n",
      "CLASSIFICATION REPORT:\n",
      "                   0          1  accuracy  macro avg  weighted avg\n",
      "precision   0.818182   0.860465  0.842105   0.839323      0.842105\n",
      "recall      0.818182   0.860465  0.842105   0.839323      0.842105\n",
      "f1-score    0.818182   0.860465  0.842105   0.839323      0.842105\n",
      "support    33.000000  43.000000  0.842105  76.000000     76.000000\n",
      "_______________________________________________\n",
      "Confusion Matrix: \n",
      " [[27  6]\n",
      " [ 6 37]]\n",
      "\n"
     ]
    }
   ],
   "source": [
    "lr = LogisticRegression(**best_params)\n",
    "\n",
    "lr.fit(X_train_std, y_train)\n",
    "\n",
    "evaluation(lr, X_train_std, y_train, X_test, y_test, True)\n",
    "evaluation(lr, X_train_std, y_train, X_test, y_test, False)"
   ]
  },
  {
   "cell_type": "code",
   "execution_count": 70,
   "metadata": {
    "execution": {
     "iopub.execute_input": "2020-11-21T06:22:02.031615Z",
     "iopub.status.busy": "2020-11-21T06:22:02.029831Z",
     "iopub.status.idle": "2020-11-21T06:22:02.035579Z",
     "shell.execute_reply": "2020-11-21T06:22:02.034886Z"
    },
    "papermill": {
     "duration": 0.161175,
     "end_time": "2020-11-21T06:22:02.035721",
     "exception": false,
     "start_time": "2020-11-21T06:22:01.874546",
     "status": "completed"
    },
    "tags": []
   },
   "outputs": [],
   "source": [
    "train_score_lr = round(accuracy_score(y_train, lr.predict(X_train_std)) * 100, 2)\n",
    "test_score_lr = round(accuracy_score(y_test, lr.predict(X_test)) * 100, 2)"
   ]
  },
  {
   "cell_type": "markdown",
   "metadata": {
    "papermill": {
     "duration": 0.155279,
     "end_time": "2020-11-21T06:22:02.341179",
     "exception": false,
     "start_time": "2020-11-21T06:22:02.185900",
     "status": "completed"
    },
    "tags": []
   },
   "source": [
    "### K-nearest neighbors with Hyperparameter Tuning"
   ]
  },
  {
   "cell_type": "code",
   "execution_count": 71,
   "metadata": {
    "execution": {
     "iopub.execute_input": "2020-11-21T06:22:02.662618Z",
     "iopub.status.busy": "2020-11-21T06:22:02.661464Z",
     "iopub.status.idle": "2020-11-21T06:22:03.111059Z",
     "shell.execute_reply": "2020-11-21T06:22:03.111635Z"
    },
    "papermill": {
     "duration": 0.6187,
     "end_time": "2020-11-21T06:22:03.111815",
     "exception": false,
     "start_time": "2020-11-21T06:22:02.493115",
     "status": "completed"
    },
    "tags": []
   },
   "outputs": [],
   "source": [
    "train_score = []\n",
    "test_score = []\n",
    "neighbors = range(1, 30)\n",
    "\n",
    "for k in neighbors:\n",
    "    model = KNeighborsClassifier(n_neighbors = k)\n",
    "    model.fit(X_train_std, y_train)\n",
    "    train_score.append(accuracy_score(y_train, model.predict(X_train_std)))"
   ]
  },
  {
   "cell_type": "code",
   "execution_count": 72,
   "metadata": {
    "execution": {
     "iopub.execute_input": "2020-11-21T06:22:03.432176Z",
     "iopub.status.busy": "2020-11-21T06:22:03.430733Z",
     "iopub.status.idle": "2020-11-21T06:22:03.716800Z",
     "shell.execute_reply": "2020-11-21T06:22:03.716016Z"
    },
    "papermill": {
     "duration": 0.452747,
     "end_time": "2020-11-21T06:22:03.716931",
     "exception": false,
     "start_time": "2020-11-21T06:22:03.264184",
     "status": "completed"
    },
    "tags": []
   },
   "outputs": [
    {
     "name": "stdout",
     "output_type": "stream",
     "text": [
      "Maximum KNN score on the train data: 100.00%\n"
     ]
    },
    {
     "data": {
      "image/png": "[encoded data removed]",
      "text/plain": [
       "<Figure size 864x576 with 1 Axes>"
      ]
     },
     "metadata": {
      "needs_background": "light"
     },
     "output_type": "display_data"
    }
   ],
   "source": [
    "plt.figure(figsize=(12, 8))\n",
    "\n",
    "plt.plot(neighbors, train_score, label=\"Train score\")\n",
    "# plt.plot(neighbors, test_score, label=\"Test score\")\n",
    "plt.xticks(np.arange(1, 31, 1))\n",
    "plt.xlabel(\"Number of Neighbors\")\n",
    "plt.ylabel(\"Model Score\")\n",
    "plt.legend()\n",
    "\n",
    "print(f\"Maximum KNN score on the train data: {max(train_score)*100:.2f}%\")"
   ]
  },
  {
   "cell_type": "code",
   "execution_count": 73,
   "metadata": {
    "execution": {
     "iopub.execute_input": "2020-11-21T06:22:04.032628Z",
     "iopub.status.busy": "2020-11-21T06:22:04.031645Z",
     "iopub.status.idle": "2020-11-21T06:22:04.087828Z",
     "shell.execute_reply": "2020-11-21T06:22:04.086657Z"
    },
    "papermill": {
     "duration": 0.219191,
     "end_time": "2020-11-21T06:22:04.088029",
     "exception": false,
     "start_time": "2020-11-21T06:22:03.868838",
     "status": "completed"
    },
    "tags": []
   },
   "outputs": [
    {
     "name": "stdout",
     "output_type": "stream",
     "text": [
      "Train Result:\n",
      "================================================\n",
      "Accuracy Score: 87.22%\n",
      "_______________________________________________\n",
      "F1 Score: 0.89\n",
      "_______________________________________________\n",
      "CLASSIFICATION REPORT:\n",
      "                    0           1  accuracy   macro avg  weighted avg\n",
      "precision    0.913043    0.844444  0.872247    0.878744      0.876175\n",
      "recall       0.800000    0.934426  0.872247    0.867213      0.872247\n",
      "f1-score     0.852792    0.887160  0.872247    0.869976      0.871263\n",
      "support    105.000000  122.000000  0.872247  227.000000    227.000000\n",
      "_______________________________________________\n",
      "Confusion Matrix: \n",
      " [[ 84  21]\n",
      " [  8 114]]\n",
      "\n",
      "Test Result:\n",
      "================================================\n",
      "Accuracy Score: 80.26%\n",
      "_______________________________________________\n",
      "F1 Score: 0.84\n",
      "_______________________________________________\n",
      "CLASSIFICATION REPORT:\n",
      "                   0          1  accuracy  macro avg  weighted avg\n",
      "precision   0.846154   0.780000  0.802632   0.813077      0.808725\n",
      "recall      0.666667   0.906977  0.802632   0.786822      0.802632\n",
      "f1-score    0.745763   0.838710  0.802632   0.792236      0.798351\n",
      "support    33.000000  43.000000  0.802632  76.000000     76.000000\n",
      "_______________________________________________\n",
      "Confusion Matrix: \n",
      " [[22 11]\n",
      " [ 4 39]]\n",
      "\n"
     ]
    }
   ],
   "source": [
    "knn = KNeighborsClassifier(n_neighbors = 27)\n",
    "knn.fit(X_train_std, y_train)\n",
    "\n",
    "evaluation(knn, X_train_std, y_train, X_test, y_test, True)\n",
    "evaluation(knn, X_train_std, y_train, X_test, y_test, False)"
   ]
  }
 ],
 "metadata": {
  "kernelspec": {
   "display_name": "Python 3",
   "language": "python",
   "name": "python3"
  },
  "language_info": {
   "codemirror_mode": {
    "name": "ipython",
    "version": 3
   },
   "file_extension": ".py",
   "mimetype": "text/x-python",
   "name": "python",
   "nbconvert_exporter": "python",
   "pygments_lexer": "ipython3",
   "version": "3.7.6"
  },
  "papermill": {
   "duration": 67.20819,
   "end_time": "2020-11-21T06:22:04.357199",
   "environment_variables": {},
   "exception": null,
   "input_path": "__notebook__.ipynb",
   "output_path": "__notebook__.ipynb",
   "parameters": {},
   "start_time": "2020-11-21T06:20:57.149009",
   "version": "2.1.0"
  }
 },
 "nbformat": 4,
 "nbformat_minor": 4
}
